{
 "cells": [
  {
   "cell_type": "markdown",
   "id": "10f05e17",
   "metadata": {},
   "source": [
    "## Importing Libraries"
   ]
  },
  {
   "cell_type": "code",
   "execution_count": 1,
   "id": "7e165b2b",
   "metadata": {},
   "outputs": [],
   "source": [
    "import time"
   ]
  },
  {
   "cell_type": "code",
   "execution_count": 2,
   "id": "fe034e2c",
   "metadata": {},
   "outputs": [
    {
     "name": "stdout",
     "output_type": "stream",
     "text": [
      "True\n",
      "Cuda is Available\n"
     ]
    }
   ],
   "source": [
    "import torch\n",
    "\n",
    "print(torch.cuda.is_available())\n",
    "\n",
    "if torch.cuda.is_available():\n",
    "    print(\"Cuda is Available\")\n",
    "    device = \"cuda\"\n",
    "else:\n",
    "    print(\"Cuda not found\")\n",
    "    device = \"cpu\""
   ]
  },
  {
   "cell_type": "code",
   "execution_count": 3,
   "id": "bfb1c523",
   "metadata": {},
   "outputs": [
    {
     "name": "stderr",
     "output_type": "stream",
     "text": [
      "/home/dbailley/.conda/envs/llama/lib/python3.12/site-packages/tqdm/auto.py:21: TqdmWarning: IProgress not found. Please update jupyter and ipywidgets. See https://ipywidgets.readthedocs.io/en/stable/user_install.html\n",
      "  from .autonotebook import tqdm as notebook_tqdm\n"
     ]
    }
   ],
   "source": [
    "from llama_index.core import SimpleDirectoryReader, VectorStoreIndex\n",
    "from llama_index.llms.llama_cpp import LlamaCPP\n",
    "from llama_index.llms.llama_cpp.llama_utils import (\n",
    "    messages_to_prompt,\n",
    "    completion_to_prompt,\n",
    ")"
   ]
  },
  {
   "cell_type": "code",
   "execution_count": 4,
   "id": "0a5bff55",
   "metadata": {},
   "outputs": [],
   "source": [
    "import json\n",
    "import os\n",
    "import re\n",
    "import requests as req\n",
    "import urllib.request\n",
    "# from dotenv import load_dotenv\n",
    "from IPython.display import display, Markdown"
   ]
  },
  {
   "cell_type": "code",
   "execution_count": 5,
   "id": "a510213f",
   "metadata": {},
   "outputs": [],
   "source": [
    "import chromadb\n",
    "\n",
    "from llama_index.core import Document, Settings, StorageContext, VectorStoreIndex\n",
    "from llama_index.core.memory import ChatMemoryBuffer\n",
    "from llama_index.core.node_parser import SentenceSplitter\n",
    "# from llama_index.core.response.notebook_utils import display_response\n",
    "from llama_index.core.schema import MetadataMode\n",
    "from llama_index.embeddings.nomic import NomicEmbedding\n",
    "from llama_index.embeddings.huggingface import HuggingFaceEmbedding\n",
    "# from llama_index.embeddings.openai import OpenAIEmbedding\n",
    "# from llama_index.llms.openai import OpenAI\n",
    "from llama_index.vector_stores.chroma import ChromaVectorStore\n",
    "\n",
    "# import openai\n",
    "\n",
    "from utils_18 import extract_from_json, flatten_dict, replace_double_newline, format_flattened_dict, pfizer_ncts"
   ]
  },
  {
   "cell_type": "markdown",
   "id": "e87ef9f1",
   "metadata": {},
   "source": [
    "### Environment"
   ]
  },
  {
   "cell_type": "code",
   "execution_count": 6,
   "id": "87579f3a",
   "metadata": {},
   "outputs": [],
   "source": [
    "# %reload_ext watermark\n",
    "# %watermark -v -p llama_index.core\n",
    "# # Python implementation: CPython\n",
    "# # Python version       : 3.11.7\n",
    "# # IPython version      : 8.20.0\n",
    "# # llama_index.core: 0.10.12"
   ]
  },
  {
   "cell_type": "code",
   "execution_count": 7,
   "id": "2fe35c13",
   "metadata": {},
   "outputs": [
    {
     "name": "stdout",
     "output_type": "stream",
     "text": [
      "chromadb                                 0.4.24\n",
      "llama_cpp_python                         0.2.56\n",
      "llama-index                              0.10.20\n",
      "llama-index-agent-openai                 0.1.5\n",
      "llama-index-cli                          0.1.9\n",
      "llama-index-core                         0.10.21.post1\n",
      "llama-index-embeddings-huggingface       0.1.4\n",
      "llama-index-embeddings-openai            0.1.6\n",
      "llama-index-indices-managed-llama-cloud  0.1.4\n",
      "llama-index-legacy                       0.9.48\n",
      "llama-index-llms-llama-cpp               0.1.3\n",
      "llama-index-llms-openai                  0.1.9\n",
      "llama-index-multi-modal-llms-openai      0.1.4\n",
      "llama-index-program-openai               0.1.4\n",
      "llama-index-question-gen-openai          0.1.3\n",
      "llama-index-readers-file                 0.1.11\n",
      "llama-index-readers-llama-parse          0.1.3\n",
      "llama-index-vector-stores-chroma         0.1.6\n",
      "llama-parse                              0.3.9\n",
      "llamaindex-py-client                     0.1.13\n"
     ]
    }
   ],
   "source": [
    "# Versions:  chromadb and llama-index \n",
    "!pip list | grep chromadb\n",
    "!pip list | grep llama\n",
    "# chromadb                                 0.4.23\n",
    "# llama_cpp_python                         0.2.53\n",
    "# llama-index                              0.10.20\n",
    "# llama-index-agent-openai                 0.1.5\n",
    "# llama-index-cli                          0.1.8\n",
    "# llama-index-core                         0.10.21.post1\n",
    "# llama-index-embeddings-huggingface       0.1.4\n",
    "# llama-index-embeddings-nomic             0.1.6\n",
    "# llama-index-embeddings-openai            0.1.6\n",
    "# llama-index-indices-managed-llama-cloud  0.1.3\n",
    "# llama-index-legacy                       0.9.48\n",
    "# llama-index-llms-huggingface             0.1.3\n",
    "# llama-index-llms-llama-cpp               0.1.3\n",
    "# llama-index-llms-ollama                  0.1.2\n",
    "# llama-index-llms-openai                  0.1.12\n",
    "# llama-index-multi-modal-llms-openai      0.1.4\n",
    "# llama-index-program-openai               0.1.4\n",
    "# llama-index-question-gen-openai          0.1.3\n",
    "# llama-index-readers-file                 0.1.9\n",
    "# llama-index-readers-llama-parse          0.1.3\n",
    "# llama-index-vector-stores-chroma         0.1.6\n",
    "# llama-index-vector-stores-elasticsearch  0.1.5\n",
    "# llama-parse                              0.3.8\n",
    "# llamaindex-py-client                     0.1.13"
   ]
  },
  {
   "cell_type": "markdown",
   "id": "c1b27c92",
   "metadata": {},
   "source": [
    "### Verify API tokens are available"
   ]
  },
  {
   "cell_type": "code",
   "execution_count": 8,
   "id": "c44ccd20",
   "metadata": {
    "ExecuteTime": {
     "end_time": "2024-02-22T15:27:26.245184400Z",
     "start_time": "2024-02-22T15:27:26.230187Z"
    }
   },
   "outputs": [],
   "source": [
    "# load_dotenv() \n",
    "# # nomic_api_key = os.getenv(\"NOMIC_API_KEY\")\n",
    "# # openai_api_key = os.getenv(\"OPENAI_API_KEY\")\n",
    "\n",
    "# OPENAI_API_KEY = openai_api_key"
   ]
  },
  {
   "cell_type": "markdown",
   "id": "ae92d38b",
   "metadata": {},
   "source": [
    "### (Optional) Remove previous JSON files and Chroma DB before starting\n",
    "using macOS/Linux %%bash"
   ]
  },
  {
   "cell_type": "code",
   "execution_count": 9,
   "id": "f6cfd0db",
   "metadata": {},
   "outputs": [],
   "source": [
    "%%bash\n",
    "find ./ -type f -name \"*.json\" -delete"
   ]
  },
  {
   "cell_type": "code",
   "execution_count": 10,
   "id": "d09f62c0",
   "metadata": {},
   "outputs": [],
   "source": [
    "%%bash\n",
    "rm -rf chroma_db"
   ]
  },
  {
   "cell_type": "markdown",
   "id": "10b17b1a",
   "metadata": {},
   "source": [
    "<span style=\"color: blue; font-size: 30px;\">Data Collection"
   ]
  },
  {
   "cell_type": "markdown",
   "id": "7e8f4eb4",
   "metadata": {},
   "source": [
    "##### Fetch data corresponding to Pfizer PLS<br>source:  https://www.pfizer.com/science/clinical-trials/plain-language-study-results-summaries/"
   ]
  },
  {
   "cell_type": "code",
   "execution_count": 11,
   "id": "3b83137c",
   "metadata": {},
   "outputs": [],
   "source": [
    "def get_trial(nct_id):\n",
    "    \"\"\"\n",
    "    Return: the JSON data for a clinical trial given its NCT ID.\n",
    "    \"\"\"\n",
    "    trial = req.get(f\"https://clinicaltrials.gov/api/v2/studies/{nct_id}\")\n",
    "    trial_json = trial.json()\n",
    "    return trial_json"
   ]
  },
  {
   "cell_type": "code",
   "execution_count": 12,
   "id": "caef252e",
   "metadata": {},
   "outputs": [],
   "source": [
    "def get_downloaded_json(list_of_nct_id):\n",
    "    \"\"\"\n",
    "    Downloads and saves JSON file(s) locally for reference.\n",
    "    \"\"\"\n",
    "    downloaded_json = []\n",
    "    for nct_id in list_of_nct_id:\n",
    "        trial = get_trial(nct_id)\n",
    "        downloaded_json.append(trial)\n",
    "        with open(f\"{nct_id}.json\", \"w\") as f:\n",
    "            json.dump(trial, f, indent=4)\n",
    "    return downloaded_json"
   ]
  },
  {
   "cell_type": "markdown",
   "id": "3e05ec90",
   "metadata": {},
   "source": [
    "##### Trials to consider (Pfizer, phase 3, with p-value)"
   ]
  },
  {
   "cell_type": "code",
   "execution_count": 13,
   "id": "41db59df",
   "metadata": {},
   "outputs": [],
   "source": [
    "# list of NCT IDs for the trials\n",
    "list_of_nct_id = pfizer_ncts"
   ]
  },
  {
   "cell_type": "code",
   "execution_count": 14,
   "id": "ba31504d",
   "metadata": {},
   "outputs": [],
   "source": [
    "# list_of_nct_id.sort()"
   ]
  },
  {
   "cell_type": "code",
   "execution_count": 15,
   "id": "83600bed",
   "metadata": {},
   "outputs": [],
   "source": [
    "# list_of_nct_id[175:185]"
   ]
  },
  {
   "cell_type": "code",
   "execution_count": 16,
   "id": "43445600",
   "metadata": {},
   "outputs": [],
   "source": [
    "# list_of_nct_id = list_of_nct_id[175:185]"
   ]
  },
  {
   "cell_type": "code",
   "execution_count": 17,
   "id": "4ea87d94",
   "metadata": {},
   "outputs": [
    {
     "data": {
      "text/plain": [
       "247"
      ]
     },
     "execution_count": 17,
     "metadata": {},
     "output_type": "execute_result"
    }
   ],
   "source": [
    "# fetch the JSON data for the trials\n",
    "downloaded_json = get_downloaded_json(list_of_nct_id)\n",
    "# downloaded_json[0] # check\n",
    "len(downloaded_json) # check"
   ]
  },
  {
   "cell_type": "markdown",
   "id": "bda439dd",
   "metadata": {},
   "source": [
    "<span style=\"color: blue; font-size: 30px;\">Data Exploration and Cleaning"
   ]
  },
  {
   "cell_type": "markdown",
   "id": "8c098cf2",
   "metadata": {},
   "source": [
    "## Data Cleaning\n",
    "For each trial, extract a  subset of the data, save to a list<br>the **extract_from_json()** function is found in imported utils **(this function is WIP and can be improved)**"
   ]
  },
  {
   "cell_type": "code",
   "execution_count": 18,
   "id": "9e526ce2",
   "metadata": {},
   "outputs": [],
   "source": [
    "def list_from_extracted_json(downloaded_json): \n",
    "    \"\"\"\n",
    "    Processes and saves extracted JSON file(s) locally for review\n",
    "    Return: a list of documents.\n",
    "    \"\"\"\n",
    "    documents_list  = []\n",
    "    for json_file in downloaded_json:\n",
    "        extracted_json = extract_from_json(json_file)\n",
    "        nct_id = json_file['protocolSection']['identificationModule']['nctId']\n",
    "        save_path = f\"{nct_id}_extracted.json\"\n",
    "        with open(save_path, \"w\") as f:\n",
    "            json.dump(extracted_json, f, indent=4)\n",
    "        documents_list.append(extracted_json)\n",
    "    return documents_list"
   ]
  },
  {
   "cell_type": "code",
   "execution_count": 19,
   "id": "6e06d1b1",
   "metadata": {},
   "outputs": [
    {
     "data": {
      "text/plain": [
       "247"
      ]
     },
     "execution_count": 19,
     "metadata": {},
     "output_type": "execute_result"
    }
   ],
   "source": [
    "# create a list of documents from the extracted JSON data \n",
    "documents_list = list_from_extracted_json(downloaded_json)\n",
    "len(documents_list) # check"
   ]
  },
  {
   "cell_type": "markdown",
   "id": "3e02a575",
   "metadata": {},
   "source": [
    "### Metadata\n",
    "Note: JSON files clinicaltrials.gov are heterogenous and each may contain different number of fields."
   ]
  },
  {
   "cell_type": "code",
   "execution_count": 20,
   "id": "69a1403d",
   "metadata": {},
   "outputs": [],
   "source": [
    "def max_keys(documents_list):\n",
    "    \"\"\"\n",
    "    Identifies the document with the maximum number of keys in a list of dictionaries.\n",
    "    Return: a list of keys from the document with the maximum number of keys. \n",
    "    \"\"\"\n",
    "    max_index, _ = max(enumerate(documents_list), key=lambda x: len(x[1].keys()))\n",
    "    all_keys = list(documents_list[max_index].keys())\n",
    "    return all_keys"
   ]
  },
  {
   "cell_type": "code",
   "execution_count": 21,
   "id": "c06cfaa4",
   "metadata": {},
   "outputs": [
    {
     "data": {
      "text/plain": [
       "68"
      ]
     },
     "execution_count": 21,
     "metadata": {},
     "output_type": "execute_result"
    }
   ],
   "source": [
    "# get the keys from the document that has the most keys\n",
    "# use \"all_keys\" during creation Llama Documents\n",
    "all_keys = max_keys(documents_list)\n",
    "len(all_keys) # check\n",
    "# all_keys # check"
   ]
  },
  {
   "cell_type": "code",
   "execution_count": 22,
   "id": "ce5a4a88",
   "metadata": {},
   "outputs": [],
   "source": [
    "# all_keys"
   ]
  },
  {
   "cell_type": "code",
   "execution_count": 23,
   "id": "6bdaf308",
   "metadata": {},
   "outputs": [],
   "source": [
    "def adjust_metadata_keys(all_keys, keys_to_include):\n",
    "    \"\"\"\n",
    "    To adjust the metadata keys used.\n",
    "    Return: keys to exclude from list of all_keys not in list of keys_to_include.\n",
    "    \"\"\"\n",
    "    keys_to_exclude = [key for key in all_keys if key not in keys_to_include]\n",
    "    return keys_to_exclude"
   ]
  },
  {
   "cell_type": "markdown",
   "id": "0802b631",
   "metadata": {},
   "source": [
    "##### Select metadata for LLM"
   ]
  },
  {
   "cell_type": "code",
   "execution_count": 24,
   "id": "8db6943e",
   "metadata": {},
   "outputs": [
    {
     "data": {
      "text/plain": [
       "61"
      ]
     },
     "execution_count": 24,
     "metadata": {},
     "output_type": "execute_result"
    }
   ],
   "source": [
    "# WIP — need to explore the how these affect RAG Retrieval\n",
    "llm_keys_to_incude = [\n",
    "    \"National Clinical Identification NCT ID\",\n",
    "    \"Brief title\",\n",
    "    \"Condition\",\n",
    "    \"Conditions keywords\",\n",
    "    \"Lead sponsor\",\n",
    "    \"Arms group 0 intervention names\",\n",
    "    \"Statistical Method\"\n",
    "]\n",
    "\n",
    "# to exclude the keys not used by LLM\n",
    "llm_keys_to_exclude = adjust_metadata_keys(all_keys, llm_keys_to_incude)\n",
    "len(llm_keys_to_exclude) # check"
   ]
  },
  {
   "cell_type": "markdown",
   "id": "6756f79e",
   "metadata": {},
   "source": [
    "##### Select metadata for Embedding"
   ]
  },
  {
   "cell_type": "code",
   "execution_count": 25,
   "id": "1b43a67d",
   "metadata": {},
   "outputs": [
    {
     "data": {
      "text/plain": [
       "61"
      ]
     },
     "execution_count": 25,
     "metadata": {},
     "output_type": "execute_result"
    }
   ],
   "source": [
    "# WIP — need to explore the how these affect RAG Retrieval \n",
    "# for simplicity, this is the same as llm_keys_to_exclude (in this example)\n",
    "embedding_keys_to_incude = [\n",
    "    \"National Clinical Identification NCT ID\",\n",
    "    \"Brief title\",\n",
    "    \"Condition\",\n",
    "    \"Conditions keywords\",\n",
    "    \"Lead sponsor\",\n",
    "    \"Arms group 0 intervention names\",\n",
    "    \"Statistical Method\",\n",
    "]\n",
    "\n",
    "# to exclude the keys not used by embedding\n",
    "embedding_keys_to_exclude = adjust_metadata_keys(all_keys, llm_keys_to_incude)\n",
    "len(embedding_keys_to_exclude) # check"
   ]
  },
  {
   "cell_type": "markdown",
   "id": "78a5d6ba",
   "metadata": {},
   "source": [
    "<span style=\"color: blue; font-size: 30px;\">LlamaIndex"
   ]
  },
  {
   "cell_type": "markdown",
   "id": "c46ae093",
   "metadata": {},
   "source": [
    "##### Select LLM  type"
   ]
  },
  {
   "cell_type": "code",
   "execution_count": 26,
   "id": "a9e38edb",
   "metadata": {},
   "outputs": [],
   "source": [
    "model_url = 'https://huggingface.co/TheBloke/Mistral-7B-Instruct-v0.2-GGUF/resolve/main/mistral-7b-instruct-v0.2.Q5_K_M.gguf'"
   ]
  },
  {
   "cell_type": "code",
   "execution_count": 27,
   "id": "5da2b9b1",
   "metadata": {},
   "outputs": [
    {
     "name": "stderr",
     "output_type": "stream",
     "text": [
      "ggml_init_cublas: GGML_CUDA_FORCE_MMQ:   no\n",
      "ggml_init_cublas: CUDA_USE_TENSOR_CORES: yes\n",
      "ggml_init_cublas: found 1 CUDA devices:\n",
      "  Device 0: Tesla V100-PCIE-16GB, compute capability 7.0, VMM: yes\n",
      "llama_model_loader: loaded meta data with 24 key-value pairs and 291 tensors from /tmp/llama_index/models/mistral-7b-instruct-v0.2.Q5_K_M.gguf (version GGUF V3 (latest))\n",
      "llama_model_loader: Dumping metadata keys/values. Note: KV overrides do not apply in this output.\n",
      "llama_model_loader: - kv   0:                       general.architecture str              = llama\n",
      "llama_model_loader: - kv   1:                               general.name str              = mistralai_mistral-7b-instruct-v0.2\n",
      "llama_model_loader: - kv   2:                       llama.context_length u32              = 32768\n",
      "llama_model_loader: - kv   3:                     llama.embedding_length u32              = 4096\n",
      "llama_model_loader: - kv   4:                          llama.block_count u32              = 32\n",
      "llama_model_loader: - kv   5:                  llama.feed_forward_length u32              = 14336\n",
      "llama_model_loader: - kv   6:                 llama.rope.dimension_count u32              = 128\n",
      "llama_model_loader: - kv   7:                 llama.attention.head_count u32              = 32\n",
      "llama_model_loader: - kv   8:              llama.attention.head_count_kv u32              = 8\n",
      "llama_model_loader: - kv   9:     llama.attention.layer_norm_rms_epsilon f32              = 0.000010\n",
      "llama_model_loader: - kv  10:                       llama.rope.freq_base f32              = 1000000.000000\n",
      "llama_model_loader: - kv  11:                          general.file_type u32              = 17\n",
      "llama_model_loader: - kv  12:                       tokenizer.ggml.model str              = llama\n",
      "llama_model_loader: - kv  13:                      tokenizer.ggml.tokens arr[str,32000]   = [\"<unk>\", \"<s>\", \"</s>\", \"<0x00>\", \"<...\n",
      "llama_model_loader: - kv  14:                      tokenizer.ggml.scores arr[f32,32000]   = [0.000000, 0.000000, 0.000000, 0.0000...\n",
      "llama_model_loader: - kv  15:                  tokenizer.ggml.token_type arr[i32,32000]   = [2, 3, 3, 6, 6, 6, 6, 6, 6, 6, 6, 6, ...\n",
      "llama_model_loader: - kv  16:                tokenizer.ggml.bos_token_id u32              = 1\n",
      "llama_model_loader: - kv  17:                tokenizer.ggml.eos_token_id u32              = 2\n",
      "llama_model_loader: - kv  18:            tokenizer.ggml.unknown_token_id u32              = 0\n",
      "llama_model_loader: - kv  19:            tokenizer.ggml.padding_token_id u32              = 0\n",
      "llama_model_loader: - kv  20:               tokenizer.ggml.add_bos_token bool             = true\n",
      "llama_model_loader: - kv  21:               tokenizer.ggml.add_eos_token bool             = false\n",
      "llama_model_loader: - kv  22:                    tokenizer.chat_template str              = {{ bos_token }}{% for message in mess...\n",
      "llama_model_loader: - kv  23:               general.quantization_version u32              = 2\n",
      "llama_model_loader: - type  f32:   65 tensors\n",
      "llama_model_loader: - type q5_K:  193 tensors\n",
      "llama_model_loader: - type q6_K:   33 tensors\n",
      "llm_load_vocab: special tokens definition check successful ( 259/32000 ).\n",
      "llm_load_print_meta: format           = GGUF V3 (latest)\n",
      "llm_load_print_meta: arch             = llama\n",
      "llm_load_print_meta: vocab type       = SPM\n",
      "llm_load_print_meta: n_vocab          = 32000\n",
      "llm_load_print_meta: n_merges         = 0\n",
      "llm_load_print_meta: n_ctx_train      = 32768\n",
      "llm_load_print_meta: n_embd           = 4096\n",
      "llm_load_print_meta: n_head           = 32\n",
      "llm_load_print_meta: n_head_kv        = 8\n",
      "llm_load_print_meta: n_layer          = 32\n",
      "llm_load_print_meta: n_rot            = 128\n",
      "llm_load_print_meta: n_embd_head_k    = 128\n",
      "llm_load_print_meta: n_embd_head_v    = 128\n",
      "llm_load_print_meta: n_gqa            = 4\n",
      "llm_load_print_meta: n_embd_k_gqa     = 1024\n",
      "llm_load_print_meta: n_embd_v_gqa     = 1024\n",
      "llm_load_print_meta: f_norm_eps       = 0.0e+00\n",
      "llm_load_print_meta: f_norm_rms_eps   = 1.0e-05\n",
      "llm_load_print_meta: f_clamp_kqv      = 0.0e+00\n",
      "llm_load_print_meta: f_max_alibi_bias = 0.0e+00\n",
      "llm_load_print_meta: n_ff             = 14336\n",
      "llm_load_print_meta: n_expert         = 0\n",
      "llm_load_print_meta: n_expert_used    = 0\n",
      "llm_load_print_meta: pooling type     = 0\n",
      "llm_load_print_meta: rope type        = 0\n",
      "llm_load_print_meta: rope scaling     = linear\n",
      "llm_load_print_meta: freq_base_train  = 1000000.0\n",
      "llm_load_print_meta: freq_scale_train = 1\n",
      "llm_load_print_meta: n_yarn_orig_ctx  = 32768\n",
      "llm_load_print_meta: rope_finetuned   = unknown\n",
      "llm_load_print_meta: ssm_d_conv       = 0\n",
      "llm_load_print_meta: ssm_d_inner      = 0\n",
      "llm_load_print_meta: ssm_d_state      = 0\n",
      "llm_load_print_meta: ssm_dt_rank      = 0\n",
      "llm_load_print_meta: model type       = 7B\n",
      "llm_load_print_meta: model ftype      = Q5_K - Medium\n",
      "llm_load_print_meta: model params     = 7.24 B\n",
      "llm_load_print_meta: model size       = 4.78 GiB (5.67 BPW) \n",
      "llm_load_print_meta: general.name     = mistralai_mistral-7b-instruct-v0.2\n",
      "llm_load_print_meta: BOS token        = 1 '<s>'\n",
      "llm_load_print_meta: EOS token        = 2 '</s>'\n",
      "llm_load_print_meta: UNK token        = 0 '<unk>'\n",
      "llm_load_print_meta: PAD token        = 0 '<unk>'\n",
      "llm_load_print_meta: LF token         = 13 '<0x0A>'\n",
      "llm_load_tensors: ggml ctx size =    0.22 MiB\n",
      "llm_load_tensors: offloading 32 repeating layers to GPU\n",
      "llm_load_tensors: offloading non-repeating layers to GPU\n",
      "llm_load_tensors: offloaded 33/33 layers to GPU\n",
      "llm_load_tensors:        CPU buffer size =    85.94 MiB\n",
      "llm_load_tensors:      CUDA0 buffer size =  4807.05 MiB\n",
      "...................................................................................................\n",
      "llama_new_context_with_model: n_ctx      = 8190\n",
      "llama_new_context_with_model: freq_base  = 1000000.0\n",
      "llama_new_context_with_model: freq_scale = 1\n",
      "llama_kv_cache_init:      CUDA0 KV buffer size =  1023.75 MiB\n",
      "llama_new_context_with_model: KV self size  = 1023.75 MiB, K (f16):  511.88 MiB, V (f16):  511.88 MiB\n",
      "llama_new_context_with_model:  CUDA_Host input buffer size   =    25.06 MiB\n",
      "llama_new_context_with_model:      CUDA0 compute buffer size =   559.87 MiB\n",
      "llama_new_context_with_model:  CUDA_Host compute buffer size =     8.00 MiB\n",
      "llama_new_context_with_model: graph splits (measure): 2\n",
      "AVX = 1 | AVX_VNNI = 0 | AVX2 = 1 | AVX512 = 1 | AVX512_VBMI = 0 | AVX512_VNNI = 0 | FMA = 1 | NEON = 0 | ARM_FMA = 0 | F16C = 1 | FP16_VA = 0 | WASM_SIMD = 0 | BLAS = 1 | SSE3 = 1 | SSSE3 = 1 | VSX = 0 | MATMUL_INT8 = 0 | \n",
      "Model metadata: {'tokenizer.chat_template': \"{{ bos_token }}{% for message in messages %}{% if (message['role'] == 'user') != (loop.index0 % 2 == 0) %}{{ raise_exception('Conversation roles must alternate user/assistant/user/assistant/...') }}{% endif %}{% if message['role'] == 'user' %}{{ '[INST] ' + message['content'] + ' [/INST]' }}{% elif message['role'] == 'assistant' %}{{ message['content'] + eos_token}}{% else %}{{ raise_exception('Only user and assistant roles are supported!') }}{% endif %}{% endfor %}\", 'tokenizer.ggml.add_eos_token': 'false', 'tokenizer.ggml.padding_token_id': '0', 'tokenizer.ggml.unknown_token_id': '0', 'tokenizer.ggml.eos_token_id': '2', 'general.architecture': 'llama', 'llama.rope.freq_base': '1000000.000000', 'llama.context_length': '32768', 'general.name': 'mistralai_mistral-7b-instruct-v0.2', 'tokenizer.ggml.add_bos_token': 'true', 'llama.embedding_length': '4096', 'llama.feed_forward_length': '14336', 'llama.attention.layer_norm_rms_epsilon': '0.000010', 'llama.rope.dimension_count': '128', 'tokenizer.ggml.bos_token_id': '1', 'llama.attention.head_count': '32', 'llama.block_count': '32', 'llama.attention.head_count_kv': '8', 'general.quantization_version': '2', 'tokenizer.ggml.model': 'llama', 'general.file_type': '17'}\n",
      "Guessed chat format: mistral-instruct\n"
     ]
    }
   ],
   "source": [
    "llm = LlamaCPP(\n",
    "    model_url=model_url,\n",
    "    temperature=0,\n",
    "    max_new_tokens=512,\n",
    "    context_window=8190, \n",
    "    model_kwargs={\"n_gpu_layers\": -1},\n",
    "    verbose=True\n",
    ")\n"
   ]
  },
  {
   "cell_type": "markdown",
   "id": "35fc22cd",
   "metadata": {},
   "source": [
    "##### Select Embedding type"
   ]
  },
  {
   "cell_type": "code",
   "execution_count": 28,
   "id": "fb9ce292",
   "metadata": {},
   "outputs": [],
   "source": [
    "embed_model = HuggingFaceEmbedding(model_name=\"BAAI/bge-large-en-v1.5\")"
   ]
  },
  {
   "cell_type": "markdown",
   "id": "3b498df7",
   "metadata": {},
   "source": [
    "##### Global settings (Embedding & LLM)"
   ]
  },
  {
   "cell_type": "code",
   "execution_count": 29,
   "id": "7000306d",
   "metadata": {},
   "outputs": [],
   "source": [
    "Settings.llm = llm\n",
    "Settings.embed_model = embed_model"
   ]
  },
  {
   "cell_type": "markdown",
   "id": "145c0507",
   "metadata": {},
   "source": [
    "### **Creating & Loading LlamaIndex Documents**"
   ]
  },
  {
   "cell_type": "markdown",
   "id": "692c79cb",
   "metadata": {},
   "source": [
    "##### Example of format to load into LlamaIndex"
   ]
  },
  {
   "cell_type": "code",
   "execution_count": 30,
   "id": "b44c334f",
   "metadata": {},
   "outputs": [],
   "source": [
    "# example = documents_list[0]\n",
    "# # apply functions from utils\n",
    "# processed_example = format_flattened_dict(flatten_dict(example))\n",
    "# display(Markdown(processed_example)) # check"
   ]
  },
  {
   "cell_type": "code",
   "execution_count": 31,
   "id": "25fa6631",
   "metadata": {},
   "outputs": [],
   "source": [
    "# example # check"
   ]
  },
  {
   "cell_type": "code",
   "execution_count": 32,
   "id": "511943a0",
   "metadata": {},
   "outputs": [],
   "source": [
    "# NOTE:  metata data must be one of (str, int, float, None)\n",
    "def create_llama_docs(documents_list):\n",
    "    \"\"\"\n",
    "    Converts a list of trial documents into LlamaIndex Document objects.\n",
    "    \"\"\"\n",
    "    \n",
    "    llama_documents = []  \n",
    "    for trial in documents_list:\n",
    "        # apply functions from utils to flatten JSON and create content similar to the example above\n",
    "        content_text = format_flattened_dict(flatten_dict(trial))\n",
    "\n",
    "        llama_document = Document(\n",
    "            text=content_text, \n",
    "            metadata=trial, \n",
    "            excluded_llm_metadata_keys=llm_keys_to_exclude, #<== adjust?, TBD\n",
    "            excluded_embed_metadata_keys=embedding_keys_to_exclude , #<== adjust?, TBD\n",
    "            metadata_template=\"{key}=>{value}\",\n",
    "            text_template=\"Metadata:\\n{metadata_str}\\n===========================\\nContent: \\n{content}\"\n",
    "        )\n",
    "        llama_documents.append(llama_document)  \n",
    "    return llama_documents"
   ]
  },
  {
   "cell_type": "code",
   "execution_count": 33,
   "id": "9024a007",
   "metadata": {},
   "outputs": [
    {
     "data": {
      "text/plain": [
       "247"
      ]
     },
     "execution_count": 33,
     "metadata": {},
     "output_type": "execute_result"
    }
   ],
   "source": [
    "# Create LlamaIndex Document objects\n",
    "llama_documents = create_llama_docs(documents_list)\n",
    "len(llama_documents) # check"
   ]
  },
  {
   "cell_type": "code",
   "execution_count": 34,
   "id": "adf15760",
   "metadata": {},
   "outputs": [
    {
     "name": "stdout",
     "output_type": "stream",
     "text": [
      "Metadata:\n",
      "National Clinical Identification NCT ID=>NCT00036270\n",
      "Brief title=>Randomized Phase III Study Of Exemestane (Aromasin) For 5 Years Versus Tamoxifen for 2.5 to 3 Years Followed By Exemestane\n",
      "Lead sponsor=>Pfizer\n",
      "Condition=>['Breast Neoplasms']\n",
      "Conditions keywords=>oof, this data not available\n",
      "Arms group 0 intervention names=>['Drug: exemestane (Aromasin)']\n",
      "Statistical Method=>Log Rank\n",
      "===========================\n",
      "Content: \n",
      "\"National Clinical Identification NCT ID\": \"NCT00036270\",\n",
      "\"Organization study identification\": \"971-ONC-0028-081\",\n",
      "\"EudraCT number\": \"A5991026\",\n",
      "\"Organization\": \"Pfizer\",\n",
      "\"Organization class\": \"INDUSTRY\",\n",
      "\"Brief title\": \"Randomized Phase III Study Of Exemestane (Aromasin) For 5 Years Versus Tamoxifen for 2.5 to 3 Years Followed By Exemestane\",\n",
      "\"Official title\": \"Randomized Phase III Study Of Exemestane (Aromasin) For 5 Years Versus Tamoxifen For 2.5- 3 Years Followed By Exemestane (Aromasin) For A Total Of 5 Years As Adjuvant Therapy For Postmenopausal, Receptor Positive, Node Negative or Node Positive Breast Cancer Patients\",\n",
      "\"Overall status\": \"COMPLETED\",\n",
      "\"Start date\": \"2001-08\",\n",
      "\"Primary completion date\": \"2008-10\",\n",
      "\"Completion date\": \"2011-02\",\n",
      "\"Verification date\": \"2015-10\",\n",
      "\"Study first submitted date\": \"2002-05-08\",\n",
      "\"Results first submitted date\": \"2009-10-30\",\n",
      "\"Last update submitted date\": \"2015-10-06\",\n",
      "\"Last update posted date\": \"2015-10-28\",\n",
      "\"Lead sponsor\": \"Pfizer\",\n",
      "\"Lead sponsor class\": \"INDUSTRY\",\n",
      "\"Brief summary\": \"To compare the effects of exemestane for 5 years versus tamoxifen and exemestane given sequentially over 5 years in the adjuvant treatment of postmenopausal women with early breast cancer.\n",
      "This Pfizer sponsored trial is part of an international collaboration of investigators conducting 7 similar yet independent studies in 9 countries. This study is designed to be part of the larger TEAM trial where the data from these 7 studies will be combined. A pre-specified analysis of the pooled data will be conducted.\",\n",
      "\"Detailed description\": \"oof, this data not available\",\n",
      "\"Condition\": \"['Breast Neoplasms']\",\n",
      "\"Conditions keywords\": \"oof, this data not available\",\n",
      "\"Study type\": \"INTERVENTIONAL\",\n",
      "\"Phases\": \"['PHASE3']\",\n",
      "\"Allocation\": \"RANDOMIZED\",\n",
      "\"Intervention model\": \"PARALLEL\",\n",
      "\"Primary purpose\": \"TREATMENT\",\n",
      "\"Masking\": \"NONE\",\n",
      "\"Who is masked\": \"oof, this data not available\",\n",
      "\"Enrollment count\": \"9779\",\n",
      "\"Enrollment type\": \"ACTUAL\",\n",
      "\"Arms group 0 label\": \"exemestane\",\n",
      "\"Arms group 0 type\": \"EXPERIMENTAL\",\n",
      "\"Arms group 0 description\": \"\",\n",
      "\"Arms group 0 intervention names\": \"['Drug: exemestane (Aromasin)']\",\n",
      "\"Arms group 1 label\": \"tamoxifen + exemestane\",\n",
      "\"Arms group 1 type\": \"EXPERIMENTAL\",\n",
      "\"Arms group 1 description\": \"\",\n",
      "\"Arms group 1 intervention names\": \"['Drug: tamoxifen + exemestane']\",\n",
      "\"Arms group 0 intervention type\": \"DRUG\",\n",
      "\"Arms group 0 intervention name\": \"exemestane (Aromasin)\",\n",
      "\"Arms group 0 intervention description\": \"exemestane, orally, 25 mg, for 5 years\",\n",
      "\"Arms group 0 intervention labels\": \"['exemestane']\",\n",
      "\"Arms group 1 intervention type\": \"DRUG\",\n",
      "\"Arms group 1 intervention name\": \"tamoxifen + exemestane\",\n",
      "\"Arms group 1 intervention description\": \"tamoxifen, 20 mg, orally, daily, 2-3 years& followed by exemestane, orally, 25 mg, for a total of 5 years of therapy\",\n",
      "\"Arms group 1 intervention labels\": \"['tamoxifen + exemestane']\",\n",
      "\"Primary outcome\": \"Disease Free Survival (DFS): Number of Events (Disease Relapse or Death) From Baseline up to 2.75 Years\",\n",
      "\"Primary outcome description\": \"Number of events (disease relapse or death) to time of observation for DFS. DFS defined as time from randomization to earliest documentation of disease relapse or death from any cause in postmenopausal, receptor positive, node negative or node positive breast cancer patients for adjuvant treatment with exemestane compared with adjuvant tamoxifen therapy at 2.75 years. Disease relapse: primary tumor recurrence (locoregional or distant) and ipsilateral or contralateral breast cancer (CBC). Intercurrent death: death without disease relapse.\",\n",
      "\"Primary outcome time frame\": \"Baseline (Month 0) up to 2.75 years\",\n",
      "\"Eligibility criteria\": \"Inclusion Criteria:\n",
      "* Histologically/cytologically confirmed adenocarcinoma of the breast, followed by adequate surgical resection and/or radiotherapy, and/or adjuvant chemotherapy, if indicated.\n",
      "* Stage T1-3 N0-2 Mo, Any TNM stage BC for whom adjuvant hormonal therapy is being considered.\n",
      "Exclusion Criteria:\n",
      "* Those patients not deemed to have had potentially curative primary surgical treatment or one of the following criteria:\n",
      "* Inflammatory breast cancer\n",
      "* Histologically positive supraclavicular nodes\n",
      "* Ulceration/infiltration of local skin metastasis\n",
      "* Neoadjuvant chemotherapy\n",
      "* Ductal carcinoma in situ (DCIS) or lobular carcinoma in situ (LCIS) without invasion\n",
      "* ER and PR negative primary tumor or ER/PR unknown status.\",\n",
      "\"Eligibility of healthy volunteer\": \"False\",\n",
      "\"Eligibility sex\": \"FEMALE\",\n",
      "\"Eligibility minimum age\": \"50 Years\",\n",
      "\"Eligibility standard age\": \"['ADULT', 'OLDER_ADULT']\",\n",
      "\"Pre-assignment details\": \"oof, this data not available\",\n",
      "\"Recruitment details\": \"oof, this data not available\",\n",
      "\"Recruitment group 0 id\": \"FG000\",\n",
      "\"Recruitment group 0 title\": \"Exemestane\",\n",
      "\"Recruitment group 0 description\": \"Exemestane (Aromasin®) 25 milligram (mg) once daily (QD) for 5 years.\",\n",
      "\"Recruitment group 1 id\": \"FG001\",\n",
      "\"Recruitment group 1 title\": \"Tamoxifen Followed by Exemestane\",\n",
      "\"Recruitment group 1 description\": \"Tamoxifen 20 mg QD& upon completing 2.5 years to 3 years of tamoxifen, participants were to be switched to exemestane 25 mg QD and then were to complete a total of 5 years endocrine therapy.\",\n",
      "\"Group IDs\": \"[{'groupIds': ['OG000', 'OG001'], 'groupDescription': 'Analysis at 2.75 years post-randomization. Null hypothesis: no difference in DFS between the two treatments for the first 2.75 years.\\n\\nTo maintain overall alpha of 0.05, 2 adjustments made: first, a nominal alpha of 0.0302 was used for the primary endpoint. Second, level of significant was 0.0012 for interim analysis.', 'testedNonInferiority': False, 'nonInferiorityType': 'SUPERIORITY_OR_OTHER', 'pValue': '0.118', 'statisticalMethod': 'Log Rank', 'statisticalComment': 'Log rank (Mantel-Cox). Adjusted for overall stratification factor& 1 degree of freedom.', 'paramType': 'Hazard Ratio (HR)', 'paramValue': '0.89', 'ciPctValue': '95', 'ciNumSides': 'TWO_SIDED', 'ciLowerLimit': '0.77', 'ciUpperLimit': '1.03', 'estimateComment': 'A hazard ratio less than 1 favors the test treatment (exemestane only arm).'}]\",\n",
      "\"p-value\": \"0.118\",\n",
      "\"Statistical Method\": \"Log Rank\",\n",
      "\"Limitations and caveats\": \"Overall Survival was reported as number of events which otherwise reported as time.\",\n",
      "\"Has results\": \"True\"\n"
     ]
    }
   ],
   "source": [
    "# Example — LLM sees this:\n",
    "print(llama_documents[0].get_content(metadata_mode=MetadataMode.LLM))"
   ]
  },
  {
   "cell_type": "code",
   "execution_count": 35,
   "id": "ab6baf3c",
   "metadata": {},
   "outputs": [
    {
     "name": "stdout",
     "output_type": "stream",
     "text": [
      "Metadata:\n",
      "National Clinical Identification NCT ID=>NCT00036270\n",
      "Brief title=>Randomized Phase III Study Of Exemestane (Aromasin) For 5 Years Versus Tamoxifen for 2.5 to 3 Years Followed By Exemestane\n",
      "Lead sponsor=>Pfizer\n",
      "Condition=>['Breast Neoplasms']\n",
      "Conditions keywords=>oof, this data not available\n",
      "Arms group 0 intervention names=>['Drug: exemestane (Aromasin)']\n",
      "Statistical Method=>Log Rank\n",
      "===========================\n",
      "Content: \n",
      "\"National Clinical Identification NCT ID\": \"NCT00036270\",\n",
      "\"Organization study identification\": \"971-ONC-0028-081\",\n",
      "\"EudraCT number\": \"A5991026\",\n",
      "\"Organization\": \"Pfizer\",\n",
      "\"Organization class\": \"INDUSTRY\",\n",
      "\"Brief title\": \"Randomized Phase III Study Of Exemestane (Aromasin) For 5 Years Versus Tamoxifen for 2.5 to 3 Years Followed By Exemestane\",\n",
      "\"Official title\": \"Randomized Phase III Study Of Exemestane (Aromasin) For 5 Years Versus Tamoxifen For 2.5- 3 Years Followed By Exemestane (Aromasin) For A Total Of 5 Years As Adjuvant Therapy For Postmenopausal, Receptor Positive, Node Negative or Node Positive Breast Cancer Patients\",\n",
      "\"Overall status\": \"COMPLETED\",\n",
      "\"Start date\": \"2001-08\",\n",
      "\"Primary completion date\": \"2008-10\",\n",
      "\"Completion date\": \"2011-02\",\n",
      "\"Verification date\": \"2015-10\",\n",
      "\"Study first submitted date\": \"2002-05-08\",\n",
      "\"Results first submitted date\": \"2009-10-30\",\n",
      "\"Last update submitted date\": \"2015-10-06\",\n",
      "\"Last update posted date\": \"2015-10-28\",\n",
      "\"Lead sponsor\": \"Pfizer\",\n",
      "\"Lead sponsor class\": \"INDUSTRY\",\n",
      "\"Brief summary\": \"To compare the effects of exemestane for 5 years versus tamoxifen and exemestane given sequentially over 5 years in the adjuvant treatment of postmenopausal women with early breast cancer.\n",
      "This Pfizer sponsored trial is part of an international collaboration of investigators conducting 7 similar yet independent studies in 9 countries. This study is designed to be part of the larger TEAM trial where the data from these 7 studies will be combined. A pre-specified analysis of the pooled data will be conducted.\",\n",
      "\"Detailed description\": \"oof, this data not available\",\n",
      "\"Condition\": \"['Breast Neoplasms']\",\n",
      "\"Conditions keywords\": \"oof, this data not available\",\n",
      "\"Study type\": \"INTERVENTIONAL\",\n",
      "\"Phases\": \"['PHASE3']\",\n",
      "\"Allocation\": \"RANDOMIZED\",\n",
      "\"Intervention model\": \"PARALLEL\",\n",
      "\"Primary purpose\": \"TREATMENT\",\n",
      "\"Masking\": \"NONE\",\n",
      "\"Who is masked\": \"oof, this data not available\",\n",
      "\"Enrollment count\": \"9779\",\n",
      "\"Enrollment type\": \"ACTUAL\",\n",
      "\"Arms group 0 label\": \"exemestane\",\n",
      "\"Arms group 0 type\": \"EXPERIMENTAL\",\n",
      "\"Arms group 0 description\": \"\",\n",
      "\"Arms group 0 intervention names\": \"['Drug: exemestane (Aromasin)']\",\n",
      "\"Arms group 1 label\": \"tamoxifen + exemestane\",\n",
      "\"Arms group 1 type\": \"EXPERIMENTAL\",\n",
      "\"Arms group 1 description\": \"\",\n",
      "\"Arms group 1 intervention names\": \"['Drug: tamoxifen + exemestane']\",\n",
      "\"Arms group 0 intervention type\": \"DRUG\",\n",
      "\"Arms group 0 intervention name\": \"exemestane (Aromasin)\",\n",
      "\"Arms group 0 intervention description\": \"exemestane, orally, 25 mg, for 5 years\",\n",
      "\"Arms group 0 intervention labels\": \"['exemestane']\",\n",
      "\"Arms group 1 intervention type\": \"DRUG\",\n",
      "\"Arms group 1 intervention name\": \"tamoxifen + exemestane\",\n",
      "\"Arms group 1 intervention description\": \"tamoxifen, 20 mg, orally, daily, 2-3 years& followed by exemestane, orally, 25 mg, for a total of 5 years of therapy\",\n",
      "\"Arms group 1 intervention labels\": \"['tamoxifen + exemestane']\",\n",
      "\"Primary outcome\": \"Disease Free Survival (DFS): Number of Events (Disease Relapse or Death) From Baseline up to 2.75 Years\",\n",
      "\"Primary outcome description\": \"Number of events (disease relapse or death) to time of observation for DFS. DFS defined as time from randomization to earliest documentation of disease relapse or death from any cause in postmenopausal, receptor positive, node negative or node positive breast cancer patients for adjuvant treatment with exemestane compared with adjuvant tamoxifen therapy at 2.75 years. Disease relapse: primary tumor recurrence (locoregional or distant) and ipsilateral or contralateral breast cancer (CBC). Intercurrent death: death without disease relapse.\",\n",
      "\"Primary outcome time frame\": \"Baseline (Month 0) up to 2.75 years\",\n",
      "\"Eligibility criteria\": \"Inclusion Criteria:\n",
      "* Histologically/cytologically confirmed adenocarcinoma of the breast, followed by adequate surgical resection and/or radiotherapy, and/or adjuvant chemotherapy, if indicated.\n",
      "* Stage T1-3 N0-2 Mo, Any TNM stage BC for whom adjuvant hormonal therapy is being considered.\n",
      "Exclusion Criteria:\n",
      "* Those patients not deemed to have had potentially curative primary surgical treatment or one of the following criteria:\n",
      "* Inflammatory breast cancer\n",
      "* Histologically positive supraclavicular nodes\n",
      "* Ulceration/infiltration of local skin metastasis\n",
      "* Neoadjuvant chemotherapy\n",
      "* Ductal carcinoma in situ (DCIS) or lobular carcinoma in situ (LCIS) without invasion\n",
      "* ER and PR negative primary tumor or ER/PR unknown status.\",\n",
      "\"Eligibility of healthy volunteer\": \"False\",\n",
      "\"Eligibility sex\": \"FEMALE\",\n",
      "\"Eligibility minimum age\": \"50 Years\",\n",
      "\"Eligibility standard age\": \"['ADULT', 'OLDER_ADULT']\",\n",
      "\"Pre-assignment details\": \"oof, this data not available\",\n",
      "\"Recruitment details\": \"oof, this data not available\",\n",
      "\"Recruitment group 0 id\": \"FG000\",\n",
      "\"Recruitment group 0 title\": \"Exemestane\",\n",
      "\"Recruitment group 0 description\": \"Exemestane (Aromasin®) 25 milligram (mg) once daily (QD) for 5 years.\",\n",
      "\"Recruitment group 1 id\": \"FG001\",\n",
      "\"Recruitment group 1 title\": \"Tamoxifen Followed by Exemestane\",\n",
      "\"Recruitment group 1 description\": \"Tamoxifen 20 mg QD& upon completing 2.5 years to 3 years of tamoxifen, participants were to be switched to exemestane 25 mg QD and then were to complete a total of 5 years endocrine therapy.\",\n",
      "\"Group IDs\": \"[{'groupIds': ['OG000', 'OG001'], 'groupDescription': 'Analysis at 2.75 years post-randomization. Null hypothesis: no difference in DFS between the two treatments for the first 2.75 years.\\n\\nTo maintain overall alpha of 0.05, 2 adjustments made: first, a nominal alpha of 0.0302 was used for the primary endpoint. Second, level of significant was 0.0012 for interim analysis.', 'testedNonInferiority': False, 'nonInferiorityType': 'SUPERIORITY_OR_OTHER', 'pValue': '0.118', 'statisticalMethod': 'Log Rank', 'statisticalComment': 'Log rank (Mantel-Cox). Adjusted for overall stratification factor& 1 degree of freedom.', 'paramType': 'Hazard Ratio (HR)', 'paramValue': '0.89', 'ciPctValue': '95', 'ciNumSides': 'TWO_SIDED', 'ciLowerLimit': '0.77', 'ciUpperLimit': '1.03', 'estimateComment': 'A hazard ratio less than 1 favors the test treatment (exemestane only arm).'}]\",\n",
      "\"p-value\": \"0.118\",\n",
      "\"Statistical Method\": \"Log Rank\",\n",
      "\"Limitations and caveats\": \"Overall Survival was reported as number of events which otherwise reported as time.\",\n",
      "\"Has results\": \"True\"\n"
     ]
    }
   ],
   "source": [
    "# Example — Embedding sees this:\n",
    "print(llama_documents[0].get_content(metadata_mode=MetadataMode.EMBED))"
   ]
  },
  {
   "cell_type": "markdown",
   "id": "b6c5ad18",
   "metadata": {},
   "source": [
    "### **Chunking** — creating LlamaIndex *Nodes*"
   ]
  },
  {
   "cell_type": "code",
   "execution_count": 36,
   "id": "13c22a1a",
   "metadata": {},
   "outputs": [],
   "source": [
    "def create_nodes(llama_documents):\n",
    "    \"\"\"\n",
    "    Generates and embeds nodes from Llama documents.\n",
    "    \"\"\"\n",
    "    parser = SentenceSplitter(chunk_size=8190,chunk_overlap=0) # <== adjust from default\n",
    "    nodes = parser.get_nodes_from_documents(llama_documents)\n",
    "    for node in nodes:\n",
    "        node_embedding = embed_model.get_text_embedding(\n",
    "            node.get_content(metadata_mode=MetadataMode.EMBED)\n",
    "        )\n",
    "        node.embedding = node_embedding\n",
    "    return nodes"
   ]
  },
  {
   "cell_type": "code",
   "execution_count": 37,
   "id": "ea3a7934",
   "metadata": {},
   "outputs": [],
   "source": [
    "# create nodes from Llama documents\n",
    "nodes = create_nodes(llama_documents)"
   ]
  },
  {
   "cell_type": "markdown",
   "id": "1bf0e579",
   "metadata": {},
   "source": [
    "### **Storing** Nodes — example with **Chroma Vector Database**"
   ]
  },
  {
   "cell_type": "code",
   "execution_count": 38,
   "id": "c8c6826f",
   "metadata": {},
   "outputs": [
    {
     "name": "stdout",
     "output_type": "stream",
     "text": [
      "Looking for the RAG_OPENSOURCE collection in the database...\n",
      "RAG_OPENSOURCE collection WAS NOT FOUND in Chroma DB, creating...\n",
      "Creating vector store...\n",
      "Creating vector store index\n",
      "record count: 248\n"
     ]
    }
   ],
   "source": [
    "# Chroma DB collection name\n",
    "COLLECTION_NAME = \"RAG_OPENSOURCE\"\n",
    "\n",
    "db = chromadb.PersistentClient(path=\"chroma_db\")\n",
    "print(f\"Looking for the {COLLECTION_NAME} collection in the database...\" )\n",
    "if COLLECTION_NAME not in [col.name for col in db.list_collections()]:\n",
    "    print(f\"{COLLECTION_NAME} collection WAS NOT FOUND in Chroma DB, creating...\")\n",
    "    chroma_collection = db.create_collection(COLLECTION_NAME)\n",
    "    print(\"Creating vector store...\")\n",
    "    vector_store = ChromaVectorStore(chroma_collection=chroma_collection)\n",
    "    storage_context = StorageContext.from_defaults(vector_store=vector_store)\n",
    "    print(\"Creating vector store index\")\n",
    "    VectorStoreIndex(\n",
    "        nodes=nodes,\n",
    "        storage_context=storage_context,\n",
    "        store_nodes_override=True\n",
    "    )\n",
    "    record_count = chroma_collection.count()\n",
    "    print(f\"record count: {record_count}\")   \n",
    "    \n",
    "else:\n",
    "    print(f\"{COLLECTION_NAME} collection WAS FOUND in Chroma DB\")\n",
    "    COLLECTION_NAME = db.get_collection(COLLECTION_NAME)\n",
    "    vector_store = ChromaVectorStore(chroma_collection=COLLECTION_NAME)\n",
    "    print(\"Restoring vector store index from the collection...\")\n",
    "    index = VectorStoreIndex.from_vector_store(\n",
    "        vector_store=vector_store,\n",
    "        embed_model=embed_model,\n",
    "        store_nodes_override=True\n",
    "    )\n",
    "    record_count = COLLECTION_NAME.count()\n",
    "    print(f\"record count: {record_count}\")"
   ]
  },
  {
   "cell_type": "markdown",
   "id": "0cce45d1",
   "metadata": {},
   "source": [
    "###  **Creating Index** from stored Nodes"
   ]
  },
  {
   "cell_type": "code",
   "execution_count": 39,
   "id": "e732d908",
   "metadata": {},
   "outputs": [],
   "source": [
    "index = VectorStoreIndex.from_vector_store(vector_store)  "
   ]
  },
  {
   "cell_type": "markdown",
   "id": "01642d58",
   "metadata": {},
   "source": [
    "### (optional) add record(s)\n",
    "no error thrown if records are dupes"
   ]
  },
  {
   "cell_type": "code",
   "execution_count": 40,
   "id": "17f80839",
   "metadata": {},
   "outputs": [
    {
     "name": "stdout",
     "output_type": "stream",
     "text": [
      "record_count as is: 248\n"
     ]
    }
   ],
   "source": [
    "print(f\"record_count as is: {record_count}\")"
   ]
  },
  {
   "cell_type": "code",
   "execution_count": 41,
   "id": "be5828ab",
   "metadata": {},
   "outputs": [],
   "source": [
    "# new unrelateds trial\n",
    "list_of_nct_id = [\n",
    "    \"NCT00108953\", # Carcinoma, Hepatocellular\n",
    "    \"NCT02883049\", # Acute Lymphoblastic Leukemia and Ph-Like TKI Sensitive Mutations (large JSON)\n",
    "]\n",
    "\n",
    "downloaded_json = get_downloaded_json(list_of_nct_id)\n",
    "documents_list = list_from_extracted_json(downloaded_json)"
   ]
  },
  {
   "cell_type": "code",
   "execution_count": 42,
   "id": "4d37991a",
   "metadata": {},
   "outputs": [],
   "source": [
    "# using previous functions \n",
    "llama_documents = create_llama_docs(documents_list)\n",
    "nodes = create_nodes(llama_documents)\n",
    "index.insert_nodes(nodes)"
   ]
  },
  {
   "cell_type": "code",
   "execution_count": 43,
   "id": "9ecaf53b",
   "metadata": {},
   "outputs": [
    {
     "name": "stdout",
     "output_type": "stream",
     "text": [
      "new DB record count: 251\n"
     ]
    }
   ],
   "source": [
    "try:\n",
    "    print(f\"new DB record count: {chroma_collection.count()}\")\n",
    "    record_count = chroma_collection.count()\n",
    "except:\n",
    "    print(f\"established DB record count: {COLLECTION_NAME.count()}\")\n",
    "    record_count = COLLECTION_NAME.count()"
   ]
  },
  {
   "cell_type": "markdown",
   "id": "4ba4248e",
   "metadata": {},
   "source": [
    "### **Querying** — example with ChatBot"
   ]
  },
  {
   "cell_type": "code",
   "execution_count": 44,
   "id": "9862ac96",
   "metadata": {},
   "outputs": [],
   "source": [
    "start_time = time.time()"
   ]
  },
  {
   "cell_type": "code",
   "execution_count": 45,
   "id": "3361e817",
   "metadata": {},
   "outputs": [],
   "source": [
    "# chat_engine.reset() "
   ]
  },
  {
   "cell_type": "code",
   "execution_count": 46,
   "id": "dc29c799",
   "metadata": {},
   "outputs": [],
   "source": [
    "from llama_index.core.memory import ChatMemoryBuffer\n",
    "\n",
    "memory = ChatMemoryBuffer.from_defaults(token_limit=10000)\n",
    "\n",
    "chat_engine = index.as_chat_engine(\n",
    "#     chat_mode=\"condense_plus_context\",\n",
    "    chat_mode=\"condense_question\",\n",
    "    memory=memory,\n",
    "    llm=llm,\n",
    "    context_prompt=(\n",
    "        \"Emulate a chatbot and answer concisely.\"\n",
    "        \"Here are the relevant documents for the context:\\n\"\n",
    "        \"{context_str}\"\n",
    "        \"\"\"\\nInstruction: Provide a response based only on chat history and the context above. \n",
    "        When there is no context or chat history, just say so. \n",
    "        Never respond with information outside the scope of the context or chat history.\n",
    "        \"\"\"\n",
    "    ),\n",
    "    verbose=False,\n",
    ")"
   ]
  },
  {
   "cell_type": "code",
   "execution_count": null,
   "id": "14dffde9",
   "metadata": {},
   "outputs": [],
   "source": []
  },
  {
   "cell_type": "code",
   "execution_count": 47,
   "id": "4e7b8e33",
   "metadata": {},
   "outputs": [
    {
     "name": "stderr",
     "output_type": "stream",
     "text": [
      "\n",
      "llama_print_timings:        load time =     878.15 ms\n",
      "llama_print_timings:      sample time =      12.71 ms /    22 runs   (    0.58 ms per token,  1730.92 tokens per second)\n",
      "llama_print_timings: prompt eval time =     877.53 ms /    81 tokens (   10.83 ms per token,    92.30 tokens per second)\n",
      "llama_print_timings:        eval time =     230.42 ms /    21 runs   (   10.97 ms per token,    91.14 tokens per second)\n",
      "llama_print_timings:       total time =    1184.16 ms /   102 tokens\n",
      "Llama.generate: prefix-match hit\n",
      "\n",
      "llama_print_timings:        load time =     878.15 ms\n",
      "llama_print_timings:      sample time =      95.64 ms /   155 runs   (    0.62 ms per token,  1620.66 tokens per second)\n",
      "llama_print_timings: prompt eval time =    3111.13 ms /  6328 tokens (    0.49 ms per token,  2033.99 tokens per second)\n",
      "llama_print_timings:        eval time =    2395.57 ms /   154 runs   (   15.56 ms per token,    64.29 tokens per second)\n",
      "llama_print_timings:       total time =    6262.39 ms /  6482 tokens\n"
     ]
    },
    {
     "name": "stdout",
     "output_type": "stream",
     "text": [
      "\n",
      "Based on the context information provided, two potential study titles investigating the effects of Sildenafil on newborn babies could be:\n",
      "1. \"A Study to Evaluate the Safety and Efficacy of IV Sildenafil in the Treatment of Newborns with Persistent Pulmonary Hypertension of the Newborn\"\n",
      "2. \"A Randomized, Double-Blind, Placebo-Controlled Study of Oral Sildenafil in the Treatment of Pulmonary Arterial Hypertension in Newborns\"\n",
      "These titles are based on the conditions and interventions mentioned in the context information, but it's important to note that the actual study titles may differ from these suggestions.\n"
     ]
    }
   ],
   "source": [
    "query = \"Provide brief title(s) for studies involving newborn babies and Sildenafil?\"\n",
    "response = chat_engine.chat(query)\n",
    "print(response.response)"
   ]
  },
  {
   "cell_type": "code",
   "execution_count": 48,
   "id": "e572ca0e",
   "metadata": {},
   "outputs": [
    {
     "name": "stderr",
     "output_type": "stream",
     "text": [
      "Llama.generate: prefix-match hit\n",
      "\n",
      "llama_print_timings:        load time =     878.15 ms\n",
      "llama_print_timings:      sample time =      31.20 ms /    52 runs   (    0.60 ms per token,  1666.72 tokens per second)\n",
      "llama_print_timings: prompt eval time =     112.87 ms /   254 tokens (    0.44 ms per token,  2250.40 tokens per second)\n",
      "llama_print_timings:        eval time =     547.08 ms /    51 runs   (   10.73 ms per token,    93.22 tokens per second)\n",
      "llama_print_timings:       total time =     838.85 ms /   305 tokens\n",
      "Llama.generate: prefix-match hit\n",
      "\n",
      "llama_print_timings:        load time =     878.15 ms\n",
      "llama_print_timings:      sample time =       6.80 ms /    11 runs   (    0.62 ms per token,  1618.36 tokens per second)\n",
      "llama_print_timings: prompt eval time =    3122.27 ms /  6358 tokens (    0.49 ms per token,  2036.34 tokens per second)\n",
      "llama_print_timings:        eval time =     155.29 ms /    10 runs   (   15.53 ms per token,    64.40 tokens per second)\n",
      "llama_print_timings:       total time =    3361.64 ms /  6368 tokens\n"
     ]
    },
    {
     "name": "stdout",
     "output_type": "stream",
     "text": [
      " NCT01720524\n"
     ]
    }
   ],
   "source": [
    "query = \"Provide the NCT ID for the first study you mention.\"\n",
    "response = chat_engine.chat(query)\n",
    "print(response.response)"
   ]
  },
  {
   "cell_type": "code",
   "execution_count": 49,
   "id": "76bd861c",
   "metadata": {},
   "outputs": [
    {
     "name": "stderr",
     "output_type": "stream",
     "text": [
      "Llama.generate: prefix-match hit\n",
      "\n",
      "llama_print_timings:        load time =     878.15 ms\n",
      "llama_print_timings:      sample time =      33.46 ms /    55 runs   (    0.61 ms per token,  1643.56 tokens per second)\n",
      "llama_print_timings: prompt eval time =     134.35 ms /   282 tokens (    0.48 ms per token,  2099.00 tokens per second)\n",
      "llama_print_timings:        eval time =     581.23 ms /    54 runs   (   10.76 ms per token,    92.91 tokens per second)\n",
      "llama_print_timings:       total time =     906.40 ms /   336 tokens\n",
      "Llama.generate: prefix-match hit\n",
      "\n",
      "llama_print_timings:        load time =     878.15 ms\n",
      "llama_print_timings:      sample time =      33.95 ms /    55 runs   (    0.62 ms per token,  1619.98 tokens per second)\n",
      "llama_print_timings: prompt eval time =    3120.93 ms /  6361 tokens (    0.49 ms per token,  2038.17 tokens per second)\n",
      "llama_print_timings:        eval time =     837.78 ms /    54 runs   (   15.51 ms per token,    64.46 tokens per second)\n",
      "llama_print_timings:       total time =    4244.96 ms /  6415 tokens\n"
     ]
    },
    {
     "name": "stdout",
     "output_type": "stream",
     "text": [
      "59 participants were enrolled in the clinical trial with NCT ID NCT01720524 investigating the safety and efficacy of IV Sildenafil in treating Persistent Pulmonary Hypertension of the Newborn.\n"
     ]
    }
   ],
   "source": [
    "query = \"What was the enrollment count for this study?\"\n",
    "response = chat_engine.chat(query)\n",
    "print(response.response)"
   ]
  },
  {
   "cell_type": "code",
   "execution_count": 50,
   "id": "238bdc04",
   "metadata": {},
   "outputs": [
    {
     "name": "stderr",
     "output_type": "stream",
     "text": [
      "Llama.generate: prefix-match hit\n",
      "\n",
      "llama_print_timings:        load time =     878.15 ms\n",
      "llama_print_timings:      sample time =      25.80 ms /    43 runs   (    0.60 ms per token,  1666.34 tokens per second)\n",
      "llama_print_timings: prompt eval time =     142.14 ms /   355 tokens (    0.40 ms per token,  2497.52 tokens per second)\n",
      "llama_print_timings:        eval time =     453.93 ms /    42 runs   (   10.81 ms per token,    92.53 tokens per second)\n",
      "llama_print_timings:       total time =     745.17 ms /   397 tokens\n",
      "Llama.generate: prefix-match hit\n",
      "\n",
      "llama_print_timings:        load time =     878.15 ms\n",
      "llama_print_timings:      sample time =       9.31 ms /    15 runs   (    0.62 ms per token,  1610.82 tokens per second)\n",
      "llama_print_timings: prompt eval time =    3121.21 ms /  6349 tokens (    0.49 ms per token,  2034.15 tokens per second)\n",
      "llama_print_timings:        eval time =     217.28 ms /    14 runs   (   15.52 ms per token,    64.43 tokens per second)\n",
      "llama_print_timings:       total time =    3440.55 ms /  6363 tokens\n"
     ]
    },
    {
     "name": "stdout",
     "output_type": "stream",
     "text": [
      "2012-002619-24\n"
     ]
    }
   ],
   "source": [
    "query = \"What was EudraCT number of this trial?\"\n",
    "response = chat_engine.chat(query)\n",
    "print(response.response)"
   ]
  },
  {
   "cell_type": "code",
   "execution_count": 51,
   "id": "8e07758e",
   "metadata": {},
   "outputs": [
    {
     "name": "stderr",
     "output_type": "stream",
     "text": [
      "Llama.generate: prefix-match hit\n",
      "\n",
      "llama_print_timings:        load time =     878.15 ms\n",
      "llama_print_timings:      sample time =      36.60 ms /    61 runs   (    0.60 ms per token,  1666.85 tokens per second)\n",
      "llama_print_timings: prompt eval time =     157.71 ms /   395 tokens (    0.40 ms per token,  2504.61 tokens per second)\n",
      "llama_print_timings:        eval time =     650.64 ms /    60 runs   (   10.84 ms per token,    92.22 tokens per second)\n",
      "llama_print_timings:       total time =    1024.96 ms /   455 tokens\n",
      "Llama.generate: prefix-match hit\n",
      "\n",
      "llama_print_timings:        load time =     878.15 ms\n",
      "llama_print_timings:      sample time =      56.17 ms /    91 runs   (    0.62 ms per token,  1620.11 tokens per second)\n",
      "llama_print_timings: prompt eval time =    3124.09 ms /  6367 tokens (    0.49 ms per token,  2038.03 tokens per second)\n",
      "llama_print_timings:        eval time =    1397.31 ms /    90 runs   (   15.53 ms per token,    64.41 tokens per second)\n",
      "llama_print_timings:       total time =    4967.33 ms /  6457 tokens\n"
     ]
    },
    {
     "name": "stdout",
     "output_type": "stream",
     "text": [
      "\n",
      "The clinical trial with NCT ID NCT01720524 and EudraCT number 2012-002619-24 is studying the use of Sildenafil in newborns with persistent pulmonary hypertension of the newborn (PPHN) or hypoxic respiratory failure (HRF) and at risk of PPHN.\n"
     ]
    }
   ],
   "source": [
    "query = \"Briefly, what conditions are mentioned in this trial involving Sildenafil?\"\n",
    "response = chat_engine.chat(query)\n",
    "print(response.response)"
   ]
  },
  {
   "cell_type": "code",
   "execution_count": 52,
   "id": "55d3d09f",
   "metadata": {},
   "outputs": [
    {
     "name": "stderr",
     "output_type": "stream",
     "text": [
      "Llama.generate: prefix-match hit\n",
      "\n",
      "llama_print_timings:        load time =     878.15 ms\n",
      "llama_print_timings:      sample time =      44.99 ms /    75 runs   (    0.60 ms per token,  1667.19 tokens per second)\n",
      "llama_print_timings: prompt eval time =     171.01 ms /   500 tokens (    0.34 ms per token,  2923.74 tokens per second)\n",
      "llama_print_timings:        eval time =     812.04 ms /    74 runs   (   10.97 ms per token,    91.13 tokens per second)\n",
      "llama_print_timings:       total time =    1248.18 ms /   574 tokens\n",
      "Llama.generate: prefix-match hit\n",
      "\n",
      "llama_print_timings:        load time =     878.15 ms\n",
      "llama_print_timings:      sample time =      50.59 ms /    82 runs   (    0.62 ms per token,  1620.84 tokens per second)\n",
      "llama_print_timings: prompt eval time =    3134.12 ms /  6381 tokens (    0.49 ms per token,  2035.98 tokens per second)\n",
      "llama_print_timings:        eval time =    1258.30 ms /    81 runs   (   15.53 ms per token,    64.37 tokens per second)\n",
      "llama_print_timings:       total time =    4799.36 ms /  6462 tokens\n"
     ]
    },
    {
     "name": "stdout",
     "output_type": "stream",
     "text": [
      " Analysis of covariance (ANCOVA) was employed in the clinical trial investigating the safety and efficacy of IV Sildenafil in treating Persistent Pulmonary Hypertension of the Newborn with NCT ID NCT01720524 and EudraCT number 2012-002619-24.\n"
     ]
    }
   ],
   "source": [
    "query = \"What statistical method used this trial?\"\n",
    "response = chat_engine.chat(query)\n",
    "print(response.response)"
   ]
  },
  {
   "cell_type": "code",
   "execution_count": 53,
   "id": "db30d77d",
   "metadata": {},
   "outputs": [
    {
     "name": "stderr",
     "output_type": "stream",
     "text": [
      "Llama.generate: prefix-match hit\n",
      "\n",
      "llama_print_timings:        load time =     878.15 ms\n",
      "llama_print_timings:      sample time =      46.12 ms /    77 runs   (    0.60 ms per token,  1669.59 tokens per second)\n",
      "llama_print_timings: prompt eval time =     271.76 ms /   596 tokens (    0.46 ms per token,  2193.08 tokens per second)\n",
      "llama_print_timings:        eval time =     838.45 ms /    76 runs   (   11.03 ms per token,    90.64 tokens per second)\n",
      "llama_print_timings:       total time =    1388.71 ms /   672 tokens\n",
      "Llama.generate: prefix-match hit\n",
      "\n",
      "llama_print_timings:        load time =     878.15 ms\n",
      "llama_print_timings:      sample time =       4.32 ms /     7 runs   (    0.62 ms per token,  1621.50 tokens per second)\n",
      "llama_print_timings: prompt eval time =    3129.66 ms /  6383 tokens (    0.49 ms per token,  2039.52 tokens per second)\n",
      "llama_print_timings:        eval time =      93.25 ms /     6 runs   (   15.54 ms per token,    64.35 tokens per second)\n",
      "llama_print_timings:       total time =    3288.81 ms /  6389 tokens\n"
     ]
    },
    {
     "name": "stdout",
     "output_type": "stream",
     "text": [
      "0.9850\n"
     ]
    }
   ],
   "source": [
    "query = \"What p-value was reported?\"\n",
    "response = chat_engine.chat(query)\n",
    "print(response.response)"
   ]
  },
  {
   "cell_type": "code",
   "execution_count": 54,
   "id": "c4f0ae85",
   "metadata": {},
   "outputs": [
    {
     "name": "stderr",
     "output_type": "stream",
     "text": [
      "Llama.generate: prefix-match hit\n",
      "\n",
      "llama_print_timings:        load time =     878.15 ms\n",
      "llama_print_timings:      sample time =      37.73 ms /    63 runs   (    0.60 ms per token,  1669.85 tokens per second)\n",
      "llama_print_timings: prompt eval time =     274.06 ms /   638 tokens (    0.43 ms per token,  2327.94 tokens per second)\n",
      "llama_print_timings:        eval time =     686.29 ms /    62 runs   (   11.07 ms per token,    90.34 tokens per second)\n",
      "llama_print_timings:       total time =    1185.60 ms /   700 tokens\n",
      "Llama.generate: prefix-match hit\n",
      "\n",
      "llama_print_timings:        load time =     878.15 ms\n",
      "llama_print_timings:      sample time =     139.40 ms /   226 runs   (    0.62 ms per token,  1621.28 tokens per second)\n",
      "llama_print_timings: prompt eval time =    3125.66 ms /  6369 tokens (    0.49 ms per token,  2037.65 tokens per second)\n",
      "llama_print_timings:        eval time =    3503.18 ms /   225 runs   (   15.57 ms per token,    64.23 tokens per second)\n",
      "llama_print_timings:       total time =    7720.89 ms /  6594 tokens\n"
     ]
    },
    {
     "name": "stdout",
     "output_type": "stream",
     "text": [
      "\n",
      "The reported p-value of 0.9850 indicates that there was no statistically significant difference between the placebo and sildenafil groups in the study investigating the safety and efficacy of IV Sildenafil in treating Persistent Pulmonary Hypertension of the Newborn. A p-value is a probability value that helps researchers determine the significance of the results of a statistical test. In clinical trials, a p-value less than 0.05 (commonly referred to as the 'significance level') is considered statistically significant, meaning that the observed difference between the treatment and control groups is unlikely to have occurred by chance alone. However, a p-value greater than 0.05 does not necessarily mean that there is no difference between the groups, but rather that the observed difference may have occurred by chance. Researchers interpret p-values as a measure of the strength of evidence against the null hypothesis, which in this case was that there was no difference between the placebo and sildenafil groups in the study.\n"
     ]
    }
   ],
   "source": [
    "query = \"What does this p-value suggest about the study in question? Provide an overview of how researchers use p-value in such studies.\"\n",
    "response = chat_engine.chat(query)\n",
    "print(response.response)"
   ]
  },
  {
   "cell_type": "code",
   "execution_count": 55,
   "id": "3a311026",
   "metadata": {},
   "outputs": [
    {
     "name": "stderr",
     "output_type": "stream",
     "text": [
      "Llama.generate: prefix-match hit\n",
      "\n",
      "llama_print_timings:        load time =     878.15 ms\n",
      "llama_print_timings:      sample time =      25.19 ms /    42 runs   (    0.60 ms per token,  1667.06 tokens per second)\n",
      "llama_print_timings: prompt eval time =     331.88 ms /   884 tokens (    0.38 ms per token,  2663.58 tokens per second)\n",
      "llama_print_timings:        eval time =     462.44 ms /    41 runs   (   11.28 ms per token,    88.66 tokens per second)\n",
      "llama_print_timings:       total time =     947.80 ms /   925 tokens\n",
      "Llama.generate: prefix-match hit\n",
      "\n",
      "llama_print_timings:        load time =     878.15 ms\n",
      "llama_print_timings:      sample time =     105.54 ms /   171 runs   (    0.62 ms per token,  1620.21 tokens per second)\n",
      "llama_print_timings: prompt eval time =    3118.25 ms /  6348 tokens (    0.49 ms per token,  2035.76 tokens per second)\n",
      "llama_print_timings:        eval time =    2645.79 ms /   170 runs   (   15.56 ms per token,    64.25 tokens per second)\n",
      "llama_print_timings:       total time =    6593.19 ms /  6518 tokens\n"
     ]
    },
    {
     "name": "stdout",
     "output_type": "stream",
     "text": [
      "\n",
      "The p-value of 0.9850 indicates that there was no statistically significant difference between the placebo and sildenafil groups in the treatment of Persistent Pulmonary Hypertension of the Newborn based on the reported study. Therefore, based on this study alone, it cannot be recommended to use sildenafil over placebo for treating this condition. However, it's important to note that this study had a small sample size and further research with larger sample sizes and longer follow-up periods may be needed to confirm these findings. Additionally, other studies and clinical guidelines may support the use of sildenafil in treating Persistent Pulmonary Hypertension of the Newborn, and healthcare professionals should consult these resources for the most up-to-date and comprehensive information.\n"
     ]
    }
   ],
   "source": [
    "query = \"Based on this p-value, would researchers recommend the treatment?\"\n",
    "response = chat_engine.chat(query)\n",
    "print(response.response)"
   ]
  },
  {
   "cell_type": "code",
   "execution_count": 56,
   "id": "d6cf67e1",
   "metadata": {},
   "outputs": [
    {
     "name": "stderr",
     "output_type": "stream",
     "text": [
      "Llama.generate: prefix-match hit\n",
      "\n",
      "llama_print_timings:        load time =     878.15 ms\n",
      "llama_print_timings:      sample time =      14.37 ms /    24 runs   (    0.60 ms per token,  1669.80 tokens per second)\n",
      "llama_print_timings: prompt eval time =     460.57 ms /  1071 tokens (    0.43 ms per token,  2325.37 tokens per second)\n",
      "llama_print_timings:        eval time =     262.55 ms /    23 runs   (   11.42 ms per token,    87.60 tokens per second)\n",
      "llama_print_timings:       total time =     815.10 ms /  1094 tokens\n",
      "Llama.generate: prefix-match hit\n",
      "\n",
      "llama_print_timings:        load time =     878.15 ms\n",
      "llama_print_timings:      sample time =     128.34 ms /   208 runs   (    0.62 ms per token,  1620.64 tokens per second)\n",
      "llama_print_timings: prompt eval time =    3110.16 ms /  6330 tokens (    0.49 ms per token,  2035.26 tokens per second)\n",
      "llama_print_timings:        eval time =    3218.44 ms /   207 runs   (   15.55 ms per token,    64.32 tokens per second)\n",
      "llama_print_timings:       total time =    7321.83 ms /  6537 tokens\n"
     ]
    },
    {
     "name": "stdout",
     "output_type": "stream",
     "text": [
      "\n",
      "Our conversation revolves around two clinical studies, one investigating the safety and efficacy of intravenous (IV) Sildenafil in treating persistent pulmonary hypertension of the newborn (PPNH) or hypoxic respiratory failure at risk of PPNH, and the other examining the effects of oral Sildenafil on pulmonary arterial hypertension in children aged 1-17 years. Both studies were sponsored by Pfizer and employed randomized, double-blind, placebo-controlled designs. The first study compared the time on inhaled nitric oxide treatment between the placebo and IV Sildenafil groups, while the second study aimed to assess the efficacy, safety, and pharmacokinetics of 16 weeks of chronic treatment with oral Sildenafil in three different doses compared to placebo, using peak volume of oxygen consumed as the primary outcome measure.\n"
     ]
    }
   ],
   "source": [
    "query = \"Remind me, what are we discussing?\"\n",
    "response = chat_engine.chat(query)\n",
    "print(response.response)"
   ]
  },
  {
   "cell_type": "code",
   "execution_count": 57,
   "id": "a65a1394",
   "metadata": {},
   "outputs": [
    {
     "name": "stdout",
     "output_type": "stream",
     "text": [
      "runtime:  64 seconds\n"
     ]
    }
   ],
   "source": [
    "end_time = time.time()\n",
    "print(f\"runtime:  {end_time - start_time:.0f} seconds\")"
   ]
  },
  {
   "cell_type": "code",
   "execution_count": 58,
   "id": "dafb92ba",
   "metadata": {},
   "outputs": [],
   "source": [
    "chat_engine.reset() "
   ]
  },
  {
   "cell_type": "code",
   "execution_count": 59,
   "id": "d7c31203",
   "metadata": {},
   "outputs": [
    {
     "name": "stderr",
     "output_type": "stream",
     "text": [
      "Llama.generate: prefix-match hit\n",
      "\n",
      "llama_print_timings:        load time =     878.15 ms\n",
      "llama_print_timings:      sample time =       5.73 ms /    10 runs   (    0.57 ms per token,  1746.11 tokens per second)\n",
      "llama_print_timings: prompt eval time =      84.88 ms /    69 tokens (    1.23 ms per token,   812.90 tokens per second)\n",
      "llama_print_timings:        eval time =      95.37 ms /     9 runs   (   10.60 ms per token,    94.37 tokens per second)\n",
      "llama_print_timings:       total time =     215.04 ms /    78 tokens\n",
      "Llama.generate: prefix-match hit\n",
      "\n",
      "llama_print_timings:        load time =     878.15 ms\n",
      "llama_print_timings:      sample time =     100.11 ms /   162 runs   (    0.62 ms per token,  1618.17 tokens per second)\n",
      "llama_print_timings: prompt eval time =    2253.39 ms /  4945 tokens (    0.46 ms per token,  2194.47 tokens per second)\n",
      "llama_print_timings:        eval time =    2330.43 ms /   161 runs   (   14.47 ms per token,    69.09 tokens per second)\n",
      "llama_print_timings:       total time =    5321.33 ms /  5106 tokens\n"
     ]
    },
    {
     "name": "stdout",
     "output_type": "stream",
     "text": [
      " The topic of our current discussion is a clinical trial with the title \"Cross Over Convenience And Preference Study Of New Mark VII Compared To Genotropin Pen In Pediatric And Adult Subjects\" and the identifier NCT01112865, which was conducted by Pfizer and focused on assessing the convenience and preference of the new Mark VII pen compared to the current Genotropin pen in pediatric and adult subjects with growth hormone deficiency. The study was a multicenter, open-label, randomized two arm cross over study, where participants used the Mark VII pen for 2 months followed by the current pen for 2 months, and vice versa, and reported their perception of ease of use through a questionnaire.\n"
     ]
    }
   ],
   "source": [
    "query = \"Remind me, what are we discussing?\"\n",
    "response = chat_engine.chat(query)\n",
    "print(response.response)"
   ]
  },
  {
   "cell_type": "code",
   "execution_count": null,
   "id": "93e35905",
   "metadata": {},
   "outputs": [],
   "source": []
  },
  {
   "cell_type": "code",
   "execution_count": null,
   "id": "1f016f0d",
   "metadata": {},
   "outputs": [],
   "source": []
  },
  {
   "cell_type": "code",
   "execution_count": null,
   "id": "ef45ffd7",
   "metadata": {},
   "outputs": [],
   "source": []
  },
  {
   "cell_type": "code",
   "execution_count": null,
   "id": "d6648691",
   "metadata": {},
   "outputs": [],
   "source": []
  },
  {
   "cell_type": "code",
   "execution_count": null,
   "id": "494f866f",
   "metadata": {},
   "outputs": [],
   "source": []
  },
  {
   "cell_type": "code",
   "execution_count": null,
   "id": "e3076b9f",
   "metadata": {},
   "outputs": [],
   "source": []
  },
  {
   "cell_type": "code",
   "execution_count": null,
   "id": "3f0df7c6",
   "metadata": {},
   "outputs": [],
   "source": []
  },
  {
   "cell_type": "code",
   "execution_count": null,
   "id": "65463439",
   "metadata": {},
   "outputs": [],
   "source": []
  },
  {
   "cell_type": "code",
   "execution_count": null,
   "id": "6d163ea7",
   "metadata": {},
   "outputs": [],
   "source": []
  },
  {
   "cell_type": "code",
   "execution_count": null,
   "id": "0d90b448",
   "metadata": {},
   "outputs": [],
   "source": []
  },
  {
   "cell_type": "code",
   "execution_count": null,
   "id": "b5fda8a5",
   "metadata": {},
   "outputs": [],
   "source": []
  },
  {
   "cell_type": "code",
   "execution_count": null,
   "id": "fbb88bcd",
   "metadata": {},
   "outputs": [],
   "source": []
  },
  {
   "cell_type": "code",
   "execution_count": null,
   "id": "3ec99889",
   "metadata": {},
   "outputs": [],
   "source": []
  },
  {
   "cell_type": "code",
   "execution_count": null,
   "id": "c6de89bf",
   "metadata": {},
   "outputs": [],
   "source": []
  },
  {
   "cell_type": "markdown",
   "id": "72a589fb",
   "metadata": {},
   "source": [
    "### Using **CallbackManager & LlamaDebugHandler**"
   ]
  },
  {
   "cell_type": "code",
   "execution_count": 60,
   "id": "ee952762",
   "metadata": {},
   "outputs": [
    {
     "ename": "SyntaxError",
     "evalue": "invalid syntax (141466560.py, line 1)",
     "output_type": "error",
     "traceback": [
      "\u001b[0;36m  Cell \u001b[0;32mIn[60], line 1\u001b[0;36m\u001b[0m\n\u001b[0;31m    STOPPING HERE\u001b[0m\n\u001b[0m             ^\u001b[0m\n\u001b[0;31mSyntaxError\u001b[0m\u001b[0;31m:\u001b[0m invalid syntax\n"
     ]
    }
   ],
   "source": [
    "STOPPING HERE "
   ]
  },
  {
   "cell_type": "code",
   "execution_count": null,
   "id": "eee22690",
   "metadata": {},
   "outputs": [],
   "source": [
    "from llama_index.core.callbacks import CallbackManager, LlamaDebugHandler\n",
    "\n",
    "# initiaalize debug handler and save to Settings\n",
    "llm_debug = LlamaDebugHandler()\n",
    "callback_manager = CallbackManager([llm_debug])\n",
    "Settings.callback_manager = callback_manager"
   ]
  },
  {
   "cell_type": "code",
   "execution_count": null,
   "id": "3888db9b",
   "metadata": {},
   "outputs": [],
   "source": [
    "# helper function\n",
    "def print_in_out(in_out):\n",
    "\tprint(in_out[0][0].payload['messages'][0])\n",
    "\tprint(\"\\n\\n\")\n",
    "\tprint(in_out[0][0].payload['messages'][1])\n",
    "\n",
    "# whenever query_engine.query() is called\n",
    "query_engine = index.as_query_engine()\n",
    "query = \"How many NCT ID related to Leukemia? Which are they?\"\n",
    "response = query_engine.query(query)\n",
    "print(response)\n",
    "\n",
    "# print LLM debug info \n",
    "in_out = llm_debug.get_llm_inputs_outputs()\n",
    "print_in_out(in_out)"
   ]
  },
  {
   "cell_type": "code",
   "execution_count": null,
   "id": "367a8ae6",
   "metadata": {},
   "outputs": [],
   "source": []
  },
  {
   "cell_type": "code",
   "execution_count": null,
   "id": "10344450",
   "metadata": {},
   "outputs": [],
   "source": []
  }
 ],
 "metadata": {
  "kernelspec": {
   "display_name": "llama",
   "language": "python",
   "name": "llama"
  },
  "language_info": {
   "codemirror_mode": {
    "name": "ipython",
    "version": 3
   },
   "file_extension": ".py",
   "mimetype": "text/x-python",
   "name": "python",
   "nbconvert_exporter": "python",
   "pygments_lexer": "ipython3",
   "version": "3.12.2"
  },
  "toc": {
   "base_numbering": 1,
   "nav_menu": {},
   "number_sections": true,
   "sideBar": true,
   "skip_h1_title": false,
   "title_cell": "Table of Contents",
   "title_sidebar": "Contents",
   "toc_cell": false,
   "toc_position": {},
   "toc_section_display": true,
   "toc_window_display": false
  }
 },
 "nbformat": 4,
 "nbformat_minor": 5
}
