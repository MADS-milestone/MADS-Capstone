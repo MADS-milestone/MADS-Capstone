{
 "cells": [
  {
   "cell_type": "code",
   "execution_count": 1,
   "metadata": {},
   "outputs": [],
   "source": [
    "import os\n",
    "import psycopg2\n",
    "import requests as req\n",
    "\n",
    "from dotenv import load_dotenv\n",
    "from psycopg2.extras import NamedTupleCursor"
   ]
  },
  {
   "cell_type": "code",
   "execution_count": 8,
   "metadata": {},
   "outputs": [],
   "source": [
    "def get_latest_nct_ids(count):\n",
    "    db_username = os.getenv(\"AACT_USERNAME\")\n",
    "    db_password = os.getenv(\"AACT_PASSWORD\")\n",
    "\n",
    "    if not db_username or not db_password:\n",
    "        print(\"Please make sure AACT_USERNAME and AACT_PASSWORD env variables are set in .env\")\n",
    "        return\n",
    "\n",
    "    conn = psycopg2.connect(\n",
    "        host=\"aact-db.ctti-clinicaltrials.org\",\n",
    "        database=\"aact\",\n",
    "        user=db_username,\n",
    "        password=db_password,\n",
    "        port=\"5432\",\n",
    "        cursor_factory=NamedTupleCursor\n",
    "    )\n",
    "    \n",
    "    query= f\"\"\"\n",
    "    SELECT\n",
    "        s.nct_id,\n",
    "        s.brief_title,\n",
    "        s.official_title,\n",
    "        s.phase,\n",
    "        s.overall_status,\n",
    "        s.study_type,\n",
    "        s.enrollment,\n",
    "        s.results_first_posted_date,\n",
    "        s.study_first_posted_date,\n",
    "        s.last_update_posted_date,\n",
    "        s.primary_completion_date,\n",
    "        s.completion_date,\n",
    "        sp.name AS sponsor_name,\n",
    "        sp.lead_or_collaborator,\n",
    "        sp.agency_class,\n",
    "        bs.description AS brief_summary,\n",
    "        dd.description AS detailed_description,\n",
    "        c.name AS condition_name,\n",
    "        i.name AS intervention_name,\n",
    "        co.name AS country_name\n",
    "    FROM\n",
    "        studies s\n",
    "    LEFT JOIN sponsors sp ON s.nct_id = sp.nct_id\n",
    "    LEFT JOIN brief_summaries bs ON s.nct_id = bs.nct_id\n",
    "    LEFT JOIN detailed_descriptions dd ON s.nct_id = dd.nct_id\n",
    "    LEFT JOIN conditions c ON s.nct_id = c.nct_id\n",
    "    LEFT JOIN interventions i ON s.nct_id = i.nct_id\n",
    "    LEFT JOIN countries co ON s.nct_id = co.nct_id\n",
    "    WHERE\n",
    "        s.phase IN ('Phase 3')\n",
    "        AND sp.name IN ('Pfizer')\n",
    "\n",
    "    ORDER BY\n",
    "        s.results_first_posted_date DESC NULLS LAST,\n",
    "        s.last_update_posted_date DESC,\n",
    "        s.primary_completion_date DESC,\n",
    "        s.completion_date DESC\n",
    "    LIMIT {count};\n",
    "    \"\"\"\n",
    "\n",
    "\n",
    "    with conn:\n",
    "        with conn.cursor() as curs:\n",
    "            curs.execute(query)\n",
    "            nct_ids = [rec.nct_id for rec in curs.fetchall()]\n",
    "\n",
    "    return list(set(nct_ids))"
   ]
  },
  {
   "cell_type": "code",
   "execution_count": 14,
   "metadata": {},
   "outputs": [],
   "source": [
    "list_of_nct_id = get_latest_nct_ids(100_000)"
   ]
  },
  {
   "cell_type": "code",
   "execution_count": 15,
   "metadata": {},
   "outputs": [
    {
     "data": {
      "text/plain": [
       "751"
      ]
     },
     "execution_count": 15,
     "metadata": {},
     "output_type": "execute_result"
    }
   ],
   "source": [
    "len(list_of_nct_id)"
   ]
  }
 ],
 "metadata": {
  "kernelspec": {
   "display_name": "cap_j",
   "language": "python",
   "name": "python3"
  },
  "language_info": {
   "codemirror_mode": {
    "name": "ipython",
    "version": 3
   },
   "file_extension": ".py",
   "mimetype": "text/x-python",
   "name": "python",
   "nbconvert_exporter": "python",
   "pygments_lexer": "ipython3",
   "version": "3.11.7"
  }
 },
 "nbformat": 4,
 "nbformat_minor": 2
}
