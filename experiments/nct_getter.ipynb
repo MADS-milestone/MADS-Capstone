{
 "cells": [
  {
   "cell_type": "code",
   "execution_count": null,
   "metadata": {},
   "outputs": [],
   "source": [
    "import os\n",
    "import psycopg2\n",
    "import requests as req\n",
    "\n",
    "from dotenv import load_dotenv\n",
    "from psycopg2.extras import NamedTupleCursor"
   ]
  },
  {
   "cell_type": "code",
   "execution_count": null,
   "metadata": {},
   "outputs": [],
   "source": [
    "def get_latest_nct_ids(count):\n",
    "    db_username = os.getenv(\"AACT_USERNAME\")\n",
    "    db_password = os.getenv(\"AACT_PASSWORD\")\n",
    "\n",
    "    if not db_username or not db_password:\n",
    "        print(\"Please make sure AACT_USERNAME and AACT_PASSWORD env variables are set in .env\")\n",
    "        return\n",
    "\n",
    "    conn = psycopg2.connect(\n",
    "        host=\"aact-db.ctti-clinicaltrials.org\",\n",
    "        database=\"aact\",\n",
    "        user=db_username,\n",
    "        password=db_password,\n",
    "        port=\"5432\",\n",
    "        cursor_factory=NamedTupleCursor\n",
    "    )\n",
    "    \n",
    "    query= f\"\"\"\n",
    "    SELECT\n",
    "        s.nct_id\n",
    "    FROM\n",
    "        studies s\n",
    "    LEFT JOIN sponsors sp ON s.nct_id = sp.nct_id\n",
    "    LEFT JOIN outcome_analyses oa ON s.nct_id = oa.nct_id\n",
    "\n",
    "    WHERE\n",
    "        s.phase IN ('Phase 3')\n",
    "        AND oa.p_value IS NOT NULL\n",
    "        AND s.source = 'Pfizer'\n",
    "    LIMIT {count};\n",
    "    \"\"\"\n",
    "    \n",
    "    with conn:\n",
    "        with conn.cursor() as curs:\n",
    "            curs.execute(query)\n",
    "            nct_ids = [rec.nct_id for rec in curs.fetchall()]\n",
    "    \n",
    "    nct_ids = list(set(nct_ids))\n",
    "    nct_ids.sort()\n",
    "\n",
    "    return nct_ids"
   ]
  },
  {
   "cell_type": "code",
   "execution_count": null,
   "metadata": {},
   "outputs": [],
   "source": [
    "list_of_nct_id = get_latest_nct_ids(100000)"
   ]
  },
  {
   "cell_type": "code",
   "execution_count": null,
   "metadata": {},
   "outputs": [],
   "source": [
    "len(list_of_nct_id)"
   ]
  },
  {
   "cell_type": "code",
   "execution_count": null,
   "metadata": {},
   "outputs": [],
   "source": [
    "list_of_nct_id"
   ]
  }
 ],
 "metadata": {
  "kernelspec": {
   "display_name": "Python 3 (ipykernel)",
   "language": "python",
   "name": "python3"
  },
  "language_info": {
   "codemirror_mode": {
    "name": "ipython",
    "version": 3
   },
   "file_extension": ".py",
   "mimetype": "text/x-python",
   "name": "python",
   "nbconvert_exporter": "python",
   "pygments_lexer": "ipython3",
   "version": "3.11.5"
  },
  "toc": {
   "base_numbering": 1,
   "nav_menu": {},
   "number_sections": true,
   "sideBar": true,
   "skip_h1_title": false,
   "title_cell": "Table of Contents",
   "title_sidebar": "Contents",
   "toc_cell": false,
   "toc_position": {},
   "toc_section_display": true,
   "toc_window_display": false
  }
 },
 "nbformat": 4,
 "nbformat_minor": 2
}
