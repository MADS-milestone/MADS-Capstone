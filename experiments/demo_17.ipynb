{
 "cells": [
  {
   "cell_type": "markdown",
   "id": "10f05e17",
   "metadata": {},
   "source": [
    "## Importing Libraries"
   ]
  },
  {
   "cell_type": "code",
   "execution_count": 1,
   "id": "a510213f",
   "metadata": {},
   "outputs": [],
   "source": [
    "import json\n",
    "import os\n",
    "import re\n",
    "import requests as req\n",
    "import urllib.request\n",
    "from dotenv import load_dotenv\n",
    "from IPython.display import display, Markdown\n",
    "\n",
    "import chromadb\n",
    "\n",
    "from llama_index.core import Document, Settings, StorageContext, VectorStoreIndex\n",
    "from llama_index.core.memory import ChatMemoryBuffer\n",
    "from llama_index.core.node_parser import SentenceSplitter\n",
    "from llama_index.core.response.notebook_utils import display_response\n",
    "from llama_index.core.schema import MetadataMode\n",
    "from llama_index.embeddings.nomic import NomicEmbedding\n",
    "from llama_index.embeddings.openai import OpenAIEmbedding\n",
    "from llama_index.llms.openai import OpenAI\n",
    "from llama_index.vector_stores.chroma import ChromaVectorStore\n",
    "\n",
    "import openai\n",
    "\n",
    "from utils_17 import extract_from_json, flatten_dict, replace_double_newline, format_flattened_dict, pfizer_ncts"
   ]
  },
  {
   "cell_type": "markdown",
   "id": "e87ef9f1",
   "metadata": {},
   "source": [
    "### Environment"
   ]
  },
  {
   "cell_type": "code",
   "execution_count": 2,
   "id": "87579f3a",
   "metadata": {},
   "outputs": [
    {
     "name": "stdout",
     "output_type": "stream",
     "text": [
      "Python implementation: CPython\n",
      "Python version       : 3.11.7\n",
      "IPython version      : 8.20.0\n",
      "\n",
      "llama_index.core: 0.10.18.post1\n",
      "\n"
     ]
    }
   ],
   "source": [
    "%reload_ext watermark\n",
    "%watermark -v -p llama_index.core\n",
    "# Python implementation: CPython\n",
    "# Python version       : 3.11.7\n",
    "# IPython version      : 8.20.0\n",
    "# llama_index.core: 0.10.12"
   ]
  },
  {
   "cell_type": "code",
   "execution_count": 3,
   "id": "2fe35c13",
   "metadata": {},
   "outputs": [
    {
     "name": "stdout",
     "output_type": "stream",
     "text": [
      "chromadb                                 0.4.23\n",
      "llama_cpp_python                         0.2.53\n",
      "llama-index                              0.10.18\n",
      "llama-index-agent-openai                 0.1.5\n",
      "llama-index-cli                          0.1.8\n",
      "llama-index-core                         0.10.18.post1\n",
      "llama-index-embeddings-huggingface       0.1.4\n",
      "llama-index-embeddings-nomic             0.1.6\n",
      "llama-index-embeddings-openai            0.1.6\n",
      "llama-index-indices-managed-llama-cloud  0.1.3\n",
      "llama-index-legacy                       0.9.48\n",
      "llama-index-llms-huggingface             0.1.3\n",
      "llama-index-llms-llama-cpp               0.1.3\n",
      "llama-index-llms-ollama                  0.1.2\n",
      "llama-index-llms-openai                  0.1.6\n",
      "llama-index-multi-modal-llms-openai      0.1.4\n",
      "llama-index-program-openai               0.1.4\n",
      "llama-index-question-gen-openai          0.1.3\n",
      "llama-index-readers-file                 0.1.9\n",
      "llama-index-readers-llama-parse          0.1.3\n",
      "llama-index-vector-stores-chroma         0.1.6\n",
      "llama-index-vector-stores-elasticsearch  0.1.5\n",
      "llama-parse                              0.3.8\n",
      "llamaindex-py-client                     0.1.13\n"
     ]
    }
   ],
   "source": [
    "# Versions:  chromadb and llama-index \n",
    "!pip list | grep chromadb\n",
    "!pip list | grep llama\n",
    "# chromadb                                 0.4.23\n",
    "# llama_cpp_python                         0.2.53\n",
    "# llama-index                              0.10.18\n",
    "# llama-index-agent-openai                 0.1.5\n",
    "# llama-index-cli                          0.1.8\n",
    "# llama-index-core                         0.10.18.post1\n",
    "# llama-index-embeddings-huggingface       0.1.4\n",
    "# llama-index-embeddings-nomic             0.1.6\n",
    "# llama-index-embeddings-openai            0.1.6\n",
    "# llama-index-indices-managed-llama-cloud  0.1.3\n",
    "# llama-index-legacy                       0.9.48\n",
    "# llama-index-llms-huggingface             0.1.3\n",
    "# llama-index-llms-llama-cpp               0.1.3\n",
    "# llama-index-llms-ollama                  0.1.2\n",
    "# llama-index-llms-openai                  0.1.6\n",
    "# llama-index-multi-modal-llms-openai      0.1.4\n",
    "# llama-index-program-openai               0.1.4\n",
    "# llama-index-question-gen-openai          0.1.3\n",
    "# llama-index-readers-file                 0.1.9\n",
    "# llama-index-readers-llama-parse          0.1.3\n",
    "# llama-index-vector-stores-chroma         0.1.6\n",
    "# llama-index-vector-stores-elasticsearch  0.1.5\n",
    "# llama-parse                              0.3.8\n",
    "# llamaindex-py-client                     0.1.13"
   ]
  },
  {
   "cell_type": "markdown",
   "id": "c1b27c92",
   "metadata": {},
   "source": [
    "### Verify API tokens are available"
   ]
  },
  {
   "cell_type": "code",
   "execution_count": 4,
   "id": "c44ccd20",
   "metadata": {
    "ExecuteTime": {
     "end_time": "2024-02-22T15:27:26.245184400Z",
     "start_time": "2024-02-22T15:27:26.230187Z"
    }
   },
   "outputs": [],
   "source": [
    "load_dotenv() \n",
    "# nomic_api_key = os.getenv(\"NOMIC_API_KEY\")\n",
    "openai_api_key = os.getenv(\"OPENAI_API_KEY\")"
   ]
  },
  {
   "cell_type": "markdown",
   "id": "ae92d38b",
   "metadata": {},
   "source": [
    "### (Optional) Remove previous JSON files and Chroma DB before starting\n",
    "using macOS/Linux %%bash"
   ]
  },
  {
   "cell_type": "code",
   "execution_count": 5,
   "id": "f6cfd0db",
   "metadata": {},
   "outputs": [],
   "source": [
    "%%bash\n",
    "find ./ -type f -name \"*.json\" -delete"
   ]
  },
  {
   "cell_type": "code",
   "execution_count": 6,
   "id": "d09f62c0",
   "metadata": {},
   "outputs": [],
   "source": [
    "%%bash\n",
    "rm -rf chroma_db"
   ]
  },
  {
   "cell_type": "markdown",
   "id": "10b17b1a",
   "metadata": {},
   "source": [
    "<span style=\"color: blue; font-size: 30px;\">Data Collection"
   ]
  },
  {
   "cell_type": "markdown",
   "id": "7e8f4eb4",
   "metadata": {},
   "source": [
    "##### Fetch data corresponding to Pfizer PLS<br>source:  https://www.pfizer.com/science/clinical-trials/plain-language-study-results-summaries/"
   ]
  },
  {
   "cell_type": "code",
   "execution_count": 7,
   "id": "3b83137c",
   "metadata": {},
   "outputs": [],
   "source": [
    "def get_trial(nct_id):\n",
    "    \"\"\"\n",
    "    Return: the JSON data for a clinical trial given its NCT ID.\n",
    "    \"\"\"\n",
    "    trial = req.get(f\"https://clinicaltrials.gov/api/v2/studies/{nct_id}\")\n",
    "    trial_json = trial.json()\n",
    "    return trial_json"
   ]
  },
  {
   "cell_type": "code",
   "execution_count": 8,
   "id": "caef252e",
   "metadata": {},
   "outputs": [],
   "source": [
    "def get_downloaded_json(list_of_nct_id):\n",
    "    \"\"\"\n",
    "    Downloads and saves JSON file(s) locally for reference.\n",
    "    \"\"\"\n",
    "    downloaded_json = []\n",
    "    for nct_id in list_of_nct_id:\n",
    "        trial = get_trial(nct_id)\n",
    "        downloaded_json.append(trial)\n",
    "        with open(f\"{nct_id}.json\", \"w\") as f:\n",
    "            json.dump(trial, f, indent=4)\n",
    "    return downloaded_json"
   ]
  },
  {
   "cell_type": "markdown",
   "id": "3e05ec90",
   "metadata": {},
   "source": [
    "##### Trials to consider (Pfizer, phase 3, with p-value)"
   ]
  },
  {
   "cell_type": "code",
   "execution_count": 10,
   "id": "41db59df",
   "metadata": {},
   "outputs": [],
   "source": [
    "# list of NCT IDs for the trials\n",
    "list_of_nct_id = pfizer_ncts"
   ]
  },
  {
   "cell_type": "code",
   "execution_count": 11,
   "id": "4ea87d94",
   "metadata": {},
   "outputs": [
    {
     "data": {
      "text/plain": [
       "59"
      ]
     },
     "execution_count": 11,
     "metadata": {},
     "output_type": "execute_result"
    }
   ],
   "source": [
    "# fetch the JSON data for the trials\n",
    "downloaded_json = get_downloaded_json(list_of_nct_id)\n",
    "# downloaded_json[0] # check\n",
    "len(downloaded_json) # check"
   ]
  },
  {
   "cell_type": "markdown",
   "id": "bda439dd",
   "metadata": {},
   "source": [
    "<span style=\"color: blue; font-size: 30px;\">Data Exploration and Cleaning"
   ]
  },
  {
   "cell_type": "markdown",
   "id": "8c098cf2",
   "metadata": {},
   "source": [
    "## Data Cleaning\n",
    "For each trial, extract a  subset of the data, save to a list<br>the **extract_from_json()** function is found in imported utils **(this function is WIP and can be improved)**"
   ]
  },
  {
   "cell_type": "code",
   "execution_count": 12,
   "id": "9e526ce2",
   "metadata": {},
   "outputs": [],
   "source": [
    "def list_from_extracted_json(downloaded_json): \n",
    "    \"\"\"\n",
    "    Processes and saves extracted JSON file(s) locally for review\n",
    "    Return: a list of documents.\n",
    "    \"\"\"\n",
    "    documents_list  = []\n",
    "    for json_file in downloaded_json:\n",
    "        extracted_json = extract_from_json(json_file)\n",
    "        nct_id = json_file['protocolSection']['identificationModule']['nctId']\n",
    "        save_path = f\"{nct_id}_extracted.json\"\n",
    "        with open(save_path, \"w\") as f:\n",
    "            json.dump(extracted_json, f, indent=4)\n",
    "        documents_list.append(extracted_json)\n",
    "    return documents_list"
   ]
  },
  {
   "cell_type": "code",
   "execution_count": 13,
   "id": "6e06d1b1",
   "metadata": {},
   "outputs": [
    {
     "data": {
      "text/plain": [
       "59"
      ]
     },
     "execution_count": 13,
     "metadata": {},
     "output_type": "execute_result"
    }
   ],
   "source": [
    "# create a list of documents from the extracted JSON data \n",
    "documents_list = list_from_extracted_json(downloaded_json)\n",
    "len(documents_list) # check"
   ]
  },
  {
   "cell_type": "markdown",
   "id": "3e02a575",
   "metadata": {},
   "source": [
    "### Metadata\n",
    "Note: JSON files clinicaltrials.gov are heterogenous and each may contain different number of fields."
   ]
  },
  {
   "cell_type": "code",
   "execution_count": 14,
   "id": "69a1403d",
   "metadata": {},
   "outputs": [],
   "source": [
    "def max_keys(documents_list):\n",
    "    \"\"\"\n",
    "    Identifies the document with the maximum number of keys in a list of dictionaries.\n",
    "    Return: a list of keys from the document with the maximum number of keys. \n",
    "    \"\"\"\n",
    "    max_index, _ = max(enumerate(documents_list), key=lambda x: len(x[1].keys()))\n",
    "    all_keys = list(documents_list[max_index].keys())\n",
    "    return all_keys"
   ]
  },
  {
   "cell_type": "code",
   "execution_count": 15,
   "id": "c06cfaa4",
   "metadata": {},
   "outputs": [
    {
     "data": {
      "text/plain": [
       "68"
      ]
     },
     "execution_count": 15,
     "metadata": {},
     "output_type": "execute_result"
    }
   ],
   "source": [
    "# get the keys from the document that has the most keys\n",
    "# use \"all_keys\" during creation Llama Documents\n",
    "all_keys = max_keys(documents_list)\n",
    "len(all_keys) # check\n",
    "# all_keys # check"
   ]
  },
  {
   "cell_type": "code",
   "execution_count": 16,
   "id": "ce5a4a88",
   "metadata": {},
   "outputs": [],
   "source": [
    "# all_keys"
   ]
  },
  {
   "cell_type": "code",
   "execution_count": 17,
   "id": "6bdaf308",
   "metadata": {},
   "outputs": [],
   "source": [
    "def adjust_metadata_keys(all_keys, keys_to_include):\n",
    "    \"\"\"\n",
    "    To adjust the metadata keys used.\n",
    "    Return: keys to exclude from list of all_keys not in list of keys_to_include.\n",
    "    \"\"\"\n",
    "    keys_to_exclude = [key for key in all_keys if key not in keys_to_include]\n",
    "    return keys_to_exclude"
   ]
  },
  {
   "cell_type": "markdown",
   "id": "0802b631",
   "metadata": {},
   "source": [
    "##### Select metadata for LLM"
   ]
  },
  {
   "cell_type": "code",
   "execution_count": 18,
   "id": "8db6943e",
   "metadata": {},
   "outputs": [
    {
     "data": {
      "text/plain": [
       "62"
      ]
     },
     "execution_count": 18,
     "metadata": {},
     "output_type": "execute_result"
    }
   ],
   "source": [
    "# WIP — need to explore the how these affect RAG Retrieval\n",
    "llm_keys_to_incude = [\n",
    "    \"National Clinical Identification NCT ID\",\n",
    "    \"Brief title\",\n",
    "    \"Condition\",\n",
    "    \"Conditions keywords\",\n",
    "    \"Lead sponsor\",\n",
    "    \"Arms group 0 intervention names\",\n",
    "]\n",
    "\n",
    "# to exclude the keys not used by LLM\n",
    "llm_keys_to_exclude = adjust_metadata_keys(all_keys, llm_keys_to_incude)\n",
    "len(llm_keys_to_exclude) # check"
   ]
  },
  {
   "cell_type": "markdown",
   "id": "6756f79e",
   "metadata": {},
   "source": [
    "##### Select metadata for Embedding"
   ]
  },
  {
   "cell_type": "code",
   "execution_count": 19,
   "id": "1b43a67d",
   "metadata": {},
   "outputs": [
    {
     "data": {
      "text/plain": [
       "62"
      ]
     },
     "execution_count": 19,
     "metadata": {},
     "output_type": "execute_result"
    }
   ],
   "source": [
    "# WIP — need to explore the how these affect RAG Retrieval \n",
    "# for simplicity, this is the same as llm_keys_to_exclude (in this example)\n",
    "embedding_keys_to_incude = [\n",
    "    \"National Clinical Identification NCT ID\",\n",
    "    \"Brief title\",\n",
    "    \"Condition\",\n",
    "    \"Conditions keywords\",\n",
    "    \"Lead sponsor\",\n",
    "    \"Arms group 0 intervention names\",\n",
    "]\n",
    "\n",
    "# to exclude the keys not used by embedding\n",
    "embedding_keys_to_exclude = adjust_metadata_keys(all_keys, llm_keys_to_incude)\n",
    "len(embedding_keys_to_exclude) # check"
   ]
  },
  {
   "cell_type": "markdown",
   "id": "78a5d6ba",
   "metadata": {},
   "source": [
    "<span style=\"color: blue; font-size: 30px;\">LlamaIndex"
   ]
  },
  {
   "cell_type": "markdown",
   "id": "35fc22cd",
   "metadata": {},
   "source": [
    "##### Select Embedding type"
   ]
  },
  {
   "cell_type": "code",
   "execution_count": 20,
   "id": "fb9ce292",
   "metadata": {},
   "outputs": [],
   "source": [
    "# using this as baseline standard\n",
    "embed_model = OpenAIEmbedding(model=\"text-embedding-ada-002\")\n",
    "\n",
    "# Possible alternative (TBD)\n",
    "# embed_model = NomicEmbedding(\n",
    "#     api_key=nomic_api_key,\n",
    "#     dimensionality=128,\n",
    "#     model_name=\"nomic-embed-text-v1.5\",\n",
    "# )\n",
    "# embedding = embed_model.get_text_embedding(\"Nomic Embeddings\")"
   ]
  },
  {
   "cell_type": "markdown",
   "id": "c46ae093",
   "metadata": {},
   "source": [
    "##### Select LLM  type"
   ]
  },
  {
   "cell_type": "code",
   "execution_count": 21,
   "id": "50892a9e",
   "metadata": {},
   "outputs": [],
   "source": [
    "# using this as baseline standard\n",
    "llm = OpenAI(temperature=0.001, model=\"gpt-3.5-turbo\", max_tokens=512)"
   ]
  },
  {
   "cell_type": "markdown",
   "id": "3b498df7",
   "metadata": {},
   "source": [
    "##### Global settings (Embedding & LLM)"
   ]
  },
  {
   "cell_type": "code",
   "execution_count": 22,
   "id": "7000306d",
   "metadata": {},
   "outputs": [],
   "source": [
    "Settings.llm = llm\n",
    "Settings.embed_model = embed_model"
   ]
  },
  {
   "cell_type": "markdown",
   "id": "145c0507",
   "metadata": {},
   "source": [
    "### **Creating & Loading LlamaIndex Documents**"
   ]
  },
  {
   "cell_type": "code",
   "execution_count": 23,
   "id": "53a2bac7",
   "metadata": {},
   "outputs": [],
   "source": [
    "# the functions below appear in utils_16F"
   ]
  },
  {
   "cell_type": "code",
   "execution_count": 24,
   "id": "864ccbe3",
   "metadata": {},
   "outputs": [],
   "source": [
    "# def flatten_dict(data, parent_key='', sep=' '):\n",
    "#     \"\"\"\n",
    "#     Flattens a nested dictionary, including dictionaries nested within lists,\n",
    "#     into a flat dictionary with concatenated keys.\n",
    "\n",
    "#     Args:\n",
    "#         data: The nested dictionary to flatten.\n",
    "#         parent_key: The base key to use for the current level of recursion (default '').\n",
    "#         sep: The separator between parent and child keys (default ' ').\n",
    "\n",
    "#     Returns:\n",
    "#         A flat dictionary with concatenated keys representing the structure of the nested input.\n",
    "#     \"\"\"\n",
    "#     items = []\n",
    "#     if isinstance(data, list):\n",
    "#         # Handle lists by merging them into their parent key without indexing\n",
    "#         for i, element in enumerate(data):\n",
    "#             new_key = f\"{parent_key}{sep if parent_key else ''}{i}\"\n",
    "#             items.extend(flatten_dict(element, new_key, sep=sep).items())\n",
    "#     elif isinstance(data, dict):\n",
    "#         for key, value in data.items():\n",
    "#             new_key = f\"{parent_key}{sep}{key}\" if parent_key else key\n",
    "#             if isinstance(value, (dict, list)):\n",
    "#                 items.extend(flatten_dict(value, new_key, sep=sep).items())\n",
    "#             else:\n",
    "#                 items.append((new_key, value))\n",
    "#     else:\n",
    "#         items.append((parent_key, data))\n",
    "\n",
    "#     return dict(items)\n",
    "\n",
    "\n",
    "# def replace_double_newline(text):\n",
    "#     \"\"\"Replaces all occurrences of two or more \\n with a single \\n, \n",
    "#     including when preceded or followed by other characters.\"\"\"\n",
    "#     text = re.sub(r\"\\n{2,}\", \"\\n\", text)\n",
    "#     text = text.replace(\";\", \"&\")\n",
    "#     return text\n",
    "\n",
    "\n",
    "# def format_flattened_dict(flat_dict):\n",
    "#     \"\"\"\n",
    "#     Formats a flattened dictionary into a string representation where each key-value pair is on its own line.\n",
    "\n",
    "#     Args:\n",
    "#         flat_dict: The flat dictionary to format.\n",
    "\n",
    "#     Returns:\n",
    "#         A string representation of the flat dictionary.\n",
    "#     \"\"\"\n",
    "#     lines = []\n",
    "#     for key, value in flat_dict.items():\n",
    "#         # For list elements, remove the numerical index from the key\n",
    "#         formatted_key = key.rsplit(' ', 1)[0] if key[-1].isdigit() else key\n",
    "#         line = f'\"{formatted_key}\": \"{value}\"' if isinstance(value, str) else f'\"{formatted_key}\": {value}'\n",
    "#         line = replace_double_newline(line)\n",
    "#         lines.append(line)\n",
    "#     return \",\\n\".join(lines)"
   ]
  },
  {
   "cell_type": "markdown",
   "id": "692c79cb",
   "metadata": {},
   "source": [
    "##### Example of format to load into LlamaIndex"
   ]
  },
  {
   "cell_type": "code",
   "execution_count": 25,
   "id": "b44c334f",
   "metadata": {},
   "outputs": [],
   "source": [
    "# example = documents_list[0]\n",
    "# # apply functions from utils\n",
    "# processed_example = format_flattened_dict(flatten_dict(example))\n",
    "# display(Markdown(processed_example)) # check"
   ]
  },
  {
   "cell_type": "code",
   "execution_count": 26,
   "id": "25fa6631",
   "metadata": {},
   "outputs": [],
   "source": [
    "# example # check"
   ]
  },
  {
   "cell_type": "code",
   "execution_count": 27,
   "id": "511943a0",
   "metadata": {},
   "outputs": [],
   "source": [
    "# NOTE:  metata data must be one of (str, int, float, None)\n",
    "def create_llama_docs(documents_list):\n",
    "    \"\"\"\n",
    "    Converts a list of trial documents into LlamaIndex Document objects.\n",
    "    \"\"\"\n",
    "    \n",
    "    llama_documents = []  \n",
    "    for trial in documents_list:\n",
    "        # apply functions from utils to flatten JSON and create content similar to the example above\n",
    "        content_text = format_flattened_dict(flatten_dict(trial))\n",
    "\n",
    "        llama_document = Document(\n",
    "            text=content_text, \n",
    "            metadata=trial, \n",
    "            excluded_llm_metadata_keys=llm_keys_to_exclude, #<== adjust?, TBD\n",
    "            excluded_embed_metadata_keys=embedding_keys_to_exclude , #<== adjust?, TBD\n",
    "            metadata_template=\"{key}=>{value}\",\n",
    "            text_template=\"Metadata:\\n{metadata_str}\\n===========================\\nContent: \\n{content}\"\n",
    "        )\n",
    "        llama_documents.append(llama_document)  \n",
    "    return llama_documents"
   ]
  },
  {
   "cell_type": "code",
   "execution_count": 28,
   "id": "9024a007",
   "metadata": {},
   "outputs": [],
   "source": [
    "# Create LlamaIndex Document objects\n",
    "llama_documents = create_llama_docs(documents_list)\n",
    "# len(llama_documents) # check"
   ]
  },
  {
   "cell_type": "code",
   "execution_count": 29,
   "id": "adf15760",
   "metadata": {},
   "outputs": [
    {
     "name": "stdout",
     "output_type": "stream",
     "text": [
      "Metadata:\n",
      "National Clinical Identification NCT ID=>NCT01720524\n",
      "Brief title=>A Study To Evaluate Safety And Efficacy Of IV Sildenafil In The Treatment Of Neonates With Persistent Pulmonary Hypertension Of The Newborn\n",
      "Lead sponsor=>Pfizer's Upjohn has merged with Mylan to form Viatris Inc.\n",
      "Condition=>['Pulmonary Hypertension, Familial Persistent, of the Newborn']\n",
      "Conditions keywords=>['persistent pulmonary hypertension', 'newborn', 'neonates', 'iv sildenafil', 'hypoxic respiratory failure and at risk of persistent pulmonary hypertension of the newborn']\n",
      "Arms group 0 intervention names=>['Drug: placebo']\n",
      "===========================\n",
      "Content: \n",
      "\"National Clinical Identification NCT ID\": \"NCT01720524\",\n",
      "\"Organization study identification\": \"A1481316\",\n",
      "\"EudraCT number\": \"2012-002619-24\",\n",
      "\"Organization\": \"Pfizer\",\n",
      "\"Organization class\": \"INDUSTRY\",\n",
      "\"Brief title\": \"A Study To Evaluate Safety And Efficacy Of IV Sildenafil In The Treatment Of Neonates With Persistent Pulmonary Hypertension Of The Newborn\",\n",
      "\"Official title\": \"A MULTI-CENTRE, RANDOMIZED, PLACEBO-CONTROLLED, DOUBLE-BLIND, TWO-ARMED, PARALLEL GROUP STUDY TO EVALUATE EFFICACY AND SAFETY OF IV SILDENAFIL IN THE TREATMENT OF NEONATES WITH PERSISTENT PULMONARY HYPERTENSION OF THE NEWBORN (PPHN) OR HYPOXIC RESPIRATORY FAILURE AND AT RISK FOR PPHN, WITH A LONG TERM FOLLOW-UP INVESTIGATION OF DEVELOPMENTAL PROGRESS 12 AND 24 MONTHS AFTER COMPLETION OF STUDY TREATMENT\",\n",
      "\"Overall status\": \"COMPLETED\",\n",
      "\"Start date\": \"2013-08-05\",\n",
      "\"Primary completion date\": \"2018-10-17\",\n",
      "\"Completion date\": \"2020-09-28\",\n",
      "\"Verification date\": \"2021-08\",\n",
      "\"Study first submitted date\": \"2012-09-17\",\n",
      "\"Results first submitted date\": \"2019-10-16\",\n",
      "\"Last update submitted date\": \"2021-08-12\",\n",
      "\"Last update posted date\": \"2021-08-16\",\n",
      "\"Lead sponsor\": \"Pfizer's Upjohn has merged with Mylan to form Viatris Inc.\",\n",
      "\"Lead sponsor class\": \"INDUSTRY\",\n",
      "\"Brief summary\": \"This study will evaluate whether IV sildenafil can reduce the time on inhaled nitric oxide treatment and reduce the failure rate of available treatments for persistent pulmonary hypertension of the newborn.\",\n",
      "\"Detailed description\": \"oof, this data not available\",\n",
      "\"Condition\": \"['Pulmonary Hypertension, Familial Persistent, of the Newborn']\",\n",
      "\"Conditions keywords\": \"['persistent pulmonary hypertension', 'newborn', 'neonates', 'iv sildenafil', 'hypoxic respiratory failure and at risk of persistent pulmonary hypertension of the newborn']\",\n",
      "\"Study type\": \"INTERVENTIONAL\",\n",
      "\"Phases\": \"['PHASE3']\",\n",
      "\"Allocation\": \"RANDOMIZED\",\n",
      "\"Intervention model\": \"PARALLEL\",\n",
      "\"Primary purpose\": \"TREATMENT\",\n",
      "\"Masking\": \"DOUBLE\",\n",
      "\"Who is masked\": \"['PARTICIPANT', 'INVESTIGATOR']\",\n",
      "\"Enrollment count\": \"59\",\n",
      "\"Enrollment type\": \"ACTUAL\",\n",
      "\"Arms group 0 label\": \"placebo\",\n",
      "\"Arms group 0 type\": \"PLACEBO_COMPARATOR\",\n",
      "\"Arms group 0 description\": \"iv placebo of normal saline or 10% dextrose\",\n",
      "\"Arms group 0 intervention names\": \"['Drug: placebo']\",\n",
      "\"Arms group 1 label\": \"sildenafil\",\n",
      "\"Arms group 1 type\": \"EXPERIMENTAL\",\n",
      "\"Arms group 1 description\": \"Active study drug\",\n",
      "\"Arms group 1 intervention names\": \"['Drug: iv sildenafil']\",\n",
      "\"Arms group 0 intervention type\": \"DRUG\",\n",
      "\"Arms group 0 intervention name\": \"placebo\",\n",
      "\"Arms group 0 intervention description\": \"IV placebo or 0.9% sodium chloride or 10% dextrose. Infusion rate based on weight.\",\n",
      "\"Arms group 0 intervention labels\": \"['placebo']\",\n",
      "\"Arms group 1 intervention type\": \"DRUG\",\n",
      "\"Arms group 1 intervention name\": \"iv sildenafil\",\n",
      "\"Arms group 1 intervention description\": \"loading dose of 0.1 mg/kg over 30 minutes followed by maintenance dose of 0.03 mg/kg/h. To infuse minimum 48 hours and maximum of 14 days.\",\n",
      "\"Arms group 1 intervention labels\": \"['sildenafil']\",\n",
      "\"Primary outcome\": \"Time on Inhaled Nitric Oxide (iNO) Treatment After Initiation of Intravenous (IV) Study Drug For Participants Without Treatment Failure\",\n",
      "\"Primary outcome description\": \"Time in days, on iNO treatment, for participants without iNO treatment failure, was calculated 14 days from the initiation of IV study drug or hospital discharge, whichever occurred first. iNO treatment failure was defined as need for additional treatment targeting PPHN, need for extra corporeal membrane oxygenation (ECMO), or death during the study.\",\n",
      "\"Primary outcome time frame\": \"14 days from the initiation of IV study drug or hospital discharge, whichever occurs first (maximum of 14 days)\",\n",
      "\"Eligibility criteria\": \"Inclusion Criteria:\n",
      "* Neonates with persistent pulmonary hypertension of the newborn\n",
      "* Age \\<=96 hours and \\>=34 weeks gestational age\n",
      "* Oxygenation Index \\>15 and \\<60\n",
      "* Concurrent treatment with inhaled nitric oxide and \\>=50% oxygen\n",
      "Exclusion Criteria:\n",
      "* Prior or immediate need for extracorporeal membrane oxygenation or cardiopulmonary resuscitation\n",
      "* Expected duration of mechanical ventilation \\<48 hours\n",
      "* Profound hypoxemia\n",
      "* Life-threatening or lethal congenital anomaly\",\n",
      "\"Eligibility of healthy volunteer\": \"False\",\n",
      "\"Eligibility sex\": \"ALL\",\n",
      "\"Eligibility minimum age\": \"0 Days\",\n",
      "\"Eligibility standard age\": \"['CHILD']\",\n",
      "\"Pre-assignment details\": \"Neonates with persistent pulmonary hypertension of the newborn (PPHN) or hypoxic respiratory failure (HRF) and at risk of PPHN who were receiving inhaled nitric oxide (iNO) treatment were evaluated in this study.\",\n",
      "\"Recruitment details\": \"This study was planned in two parts Part A (double-blind phase) and Part B (long-term, non-intervention phase).\",\n",
      "\"Recruitment group 0 id\": \"FG000\",\n",
      "\"Recruitment group 0 title\": \"IV Sildenafil\",\n",
      "\"Recruitment group 0 description\": \"Part A: Participants received sildenafil intravenously based on their body weight at a loading dose of 0.1 milligrams per kg (mg/kg) for 30 minutes on Day 1 followed by a maintenance dose of 0.03 milligrams per kg per hour (mg/kg/hr), for a minimum of 2 days and maximum of 14 days. Infusion continuation was upon investigator discretion in view of participants' safety and well-being. Part B: Participants who started Part A (not necessarily completed Part A) and who were eligible and consented, continued to be followed up in part B of the study.\",\n",
      "\"Recruitment group 1 id\": \"FG001\",\n",
      "\"Recruitment group 1 title\": \"Placebo\",\n",
      "\"Recruitment group 1 description\": \"Participants received placebo (0.9 % normal saline or dextrose 10%) at a rate matched to sildenafil infusion, intravenously, based on participant's weight, for a minimum of 2 days and maximum of 14 days. Infusion continuation was upon investigator discretion in view of participants' safety and well-being. Part B: Participants who started Part A (not necessarily completed Part A) and who were eligible and consented, continued to be followed up in part B of the study.\",\n",
      "\"Group IDs\": \"[{'groupIds': ['OG000', 'OG001'], 'nonInferiorityType': 'SUPERIORITY', 'pValue': '0.9850', 'statisticalMethod': 'ANCOVA', 'paramType': 'Least square (LS) mean difference', 'paramValue': '0.0', 'ciPctValue': '95', 'ciNumSides': 'TWO_SIDED', 'ciLowerLimit': '-2.08', 'ciUpperLimit': '2.04', 'dispersionType': 'STANDARD_ERROR_OF_MEAN', 'dispersionValue': '1.02'}]\",\n",
      "\"p-value\": \"0.9850\",\n",
      "\"Statistical Method\": \"ANCOVA\",\n",
      "\"Limitations and caveats\": \"\",\n",
      "\"Has results\": \"True\"\n"
     ]
    }
   ],
   "source": [
    "# Example — LLM sees this:\n",
    "print(llama_documents[0].get_content(metadata_mode=MetadataMode.LLM))"
   ]
  },
  {
   "cell_type": "code",
   "execution_count": 30,
   "id": "ab6baf3c",
   "metadata": {},
   "outputs": [
    {
     "name": "stdout",
     "output_type": "stream",
     "text": [
      "Metadata:\n",
      "National Clinical Identification NCT ID=>NCT01720524\n",
      "Brief title=>A Study To Evaluate Safety And Efficacy Of IV Sildenafil In The Treatment Of Neonates With Persistent Pulmonary Hypertension Of The Newborn\n",
      "Lead sponsor=>Pfizer's Upjohn has merged with Mylan to form Viatris Inc.\n",
      "Condition=>['Pulmonary Hypertension, Familial Persistent, of the Newborn']\n",
      "Conditions keywords=>['persistent pulmonary hypertension', 'newborn', 'neonates', 'iv sildenafil', 'hypoxic respiratory failure and at risk of persistent pulmonary hypertension of the newborn']\n",
      "Arms group 0 intervention names=>['Drug: placebo']\n",
      "===========================\n",
      "Content: \n",
      "\"National Clinical Identification NCT ID\": \"NCT01720524\",\n",
      "\"Organization study identification\": \"A1481316\",\n",
      "\"EudraCT number\": \"2012-002619-24\",\n",
      "\"Organization\": \"Pfizer\",\n",
      "\"Organization class\": \"INDUSTRY\",\n",
      "\"Brief title\": \"A Study To Evaluate Safety And Efficacy Of IV Sildenafil In The Treatment Of Neonates With Persistent Pulmonary Hypertension Of The Newborn\",\n",
      "\"Official title\": \"A MULTI-CENTRE, RANDOMIZED, PLACEBO-CONTROLLED, DOUBLE-BLIND, TWO-ARMED, PARALLEL GROUP STUDY TO EVALUATE EFFICACY AND SAFETY OF IV SILDENAFIL IN THE TREATMENT OF NEONATES WITH PERSISTENT PULMONARY HYPERTENSION OF THE NEWBORN (PPHN) OR HYPOXIC RESPIRATORY FAILURE AND AT RISK FOR PPHN, WITH A LONG TERM FOLLOW-UP INVESTIGATION OF DEVELOPMENTAL PROGRESS 12 AND 24 MONTHS AFTER COMPLETION OF STUDY TREATMENT\",\n",
      "\"Overall status\": \"COMPLETED\",\n",
      "\"Start date\": \"2013-08-05\",\n",
      "\"Primary completion date\": \"2018-10-17\",\n",
      "\"Completion date\": \"2020-09-28\",\n",
      "\"Verification date\": \"2021-08\",\n",
      "\"Study first submitted date\": \"2012-09-17\",\n",
      "\"Results first submitted date\": \"2019-10-16\",\n",
      "\"Last update submitted date\": \"2021-08-12\",\n",
      "\"Last update posted date\": \"2021-08-16\",\n",
      "\"Lead sponsor\": \"Pfizer's Upjohn has merged with Mylan to form Viatris Inc.\",\n",
      "\"Lead sponsor class\": \"INDUSTRY\",\n",
      "\"Brief summary\": \"This study will evaluate whether IV sildenafil can reduce the time on inhaled nitric oxide treatment and reduce the failure rate of available treatments for persistent pulmonary hypertension of the newborn.\",\n",
      "\"Detailed description\": \"oof, this data not available\",\n",
      "\"Condition\": \"['Pulmonary Hypertension, Familial Persistent, of the Newborn']\",\n",
      "\"Conditions keywords\": \"['persistent pulmonary hypertension', 'newborn', 'neonates', 'iv sildenafil', 'hypoxic respiratory failure and at risk of persistent pulmonary hypertension of the newborn']\",\n",
      "\"Study type\": \"INTERVENTIONAL\",\n",
      "\"Phases\": \"['PHASE3']\",\n",
      "\"Allocation\": \"RANDOMIZED\",\n",
      "\"Intervention model\": \"PARALLEL\",\n",
      "\"Primary purpose\": \"TREATMENT\",\n",
      "\"Masking\": \"DOUBLE\",\n",
      "\"Who is masked\": \"['PARTICIPANT', 'INVESTIGATOR']\",\n",
      "\"Enrollment count\": \"59\",\n",
      "\"Enrollment type\": \"ACTUAL\",\n",
      "\"Arms group 0 label\": \"placebo\",\n",
      "\"Arms group 0 type\": \"PLACEBO_COMPARATOR\",\n",
      "\"Arms group 0 description\": \"iv placebo of normal saline or 10% dextrose\",\n",
      "\"Arms group 0 intervention names\": \"['Drug: placebo']\",\n",
      "\"Arms group 1 label\": \"sildenafil\",\n",
      "\"Arms group 1 type\": \"EXPERIMENTAL\",\n",
      "\"Arms group 1 description\": \"Active study drug\",\n",
      "\"Arms group 1 intervention names\": \"['Drug: iv sildenafil']\",\n",
      "\"Arms group 0 intervention type\": \"DRUG\",\n",
      "\"Arms group 0 intervention name\": \"placebo\",\n",
      "\"Arms group 0 intervention description\": \"IV placebo or 0.9% sodium chloride or 10% dextrose. Infusion rate based on weight.\",\n",
      "\"Arms group 0 intervention labels\": \"['placebo']\",\n",
      "\"Arms group 1 intervention type\": \"DRUG\",\n",
      "\"Arms group 1 intervention name\": \"iv sildenafil\",\n",
      "\"Arms group 1 intervention description\": \"loading dose of 0.1 mg/kg over 30 minutes followed by maintenance dose of 0.03 mg/kg/h. To infuse minimum 48 hours and maximum of 14 days.\",\n",
      "\"Arms group 1 intervention labels\": \"['sildenafil']\",\n",
      "\"Primary outcome\": \"Time on Inhaled Nitric Oxide (iNO) Treatment After Initiation of Intravenous (IV) Study Drug For Participants Without Treatment Failure\",\n",
      "\"Primary outcome description\": \"Time in days, on iNO treatment, for participants without iNO treatment failure, was calculated 14 days from the initiation of IV study drug or hospital discharge, whichever occurred first. iNO treatment failure was defined as need for additional treatment targeting PPHN, need for extra corporeal membrane oxygenation (ECMO), or death during the study.\",\n",
      "\"Primary outcome time frame\": \"14 days from the initiation of IV study drug or hospital discharge, whichever occurs first (maximum of 14 days)\",\n",
      "\"Eligibility criteria\": \"Inclusion Criteria:\n",
      "* Neonates with persistent pulmonary hypertension of the newborn\n",
      "* Age \\<=96 hours and \\>=34 weeks gestational age\n",
      "* Oxygenation Index \\>15 and \\<60\n",
      "* Concurrent treatment with inhaled nitric oxide and \\>=50% oxygen\n",
      "Exclusion Criteria:\n",
      "* Prior or immediate need for extracorporeal membrane oxygenation or cardiopulmonary resuscitation\n",
      "* Expected duration of mechanical ventilation \\<48 hours\n",
      "* Profound hypoxemia\n",
      "* Life-threatening or lethal congenital anomaly\",\n",
      "\"Eligibility of healthy volunteer\": \"False\",\n",
      "\"Eligibility sex\": \"ALL\",\n",
      "\"Eligibility minimum age\": \"0 Days\",\n",
      "\"Eligibility standard age\": \"['CHILD']\",\n",
      "\"Pre-assignment details\": \"Neonates with persistent pulmonary hypertension of the newborn (PPHN) or hypoxic respiratory failure (HRF) and at risk of PPHN who were receiving inhaled nitric oxide (iNO) treatment were evaluated in this study.\",\n",
      "\"Recruitment details\": \"This study was planned in two parts Part A (double-blind phase) and Part B (long-term, non-intervention phase).\",\n",
      "\"Recruitment group 0 id\": \"FG000\",\n",
      "\"Recruitment group 0 title\": \"IV Sildenafil\",\n",
      "\"Recruitment group 0 description\": \"Part A: Participants received sildenafil intravenously based on their body weight at a loading dose of 0.1 milligrams per kg (mg/kg) for 30 minutes on Day 1 followed by a maintenance dose of 0.03 milligrams per kg per hour (mg/kg/hr), for a minimum of 2 days and maximum of 14 days. Infusion continuation was upon investigator discretion in view of participants' safety and well-being. Part B: Participants who started Part A (not necessarily completed Part A) and who were eligible and consented, continued to be followed up in part B of the study.\",\n",
      "\"Recruitment group 1 id\": \"FG001\",\n",
      "\"Recruitment group 1 title\": \"Placebo\",\n",
      "\"Recruitment group 1 description\": \"Participants received placebo (0.9 % normal saline or dextrose 10%) at a rate matched to sildenafil infusion, intravenously, based on participant's weight, for a minimum of 2 days and maximum of 14 days. Infusion continuation was upon investigator discretion in view of participants' safety and well-being. Part B: Participants who started Part A (not necessarily completed Part A) and who were eligible and consented, continued to be followed up in part B of the study.\",\n",
      "\"Group IDs\": \"[{'groupIds': ['OG000', 'OG001'], 'nonInferiorityType': 'SUPERIORITY', 'pValue': '0.9850', 'statisticalMethod': 'ANCOVA', 'paramType': 'Least square (LS) mean difference', 'paramValue': '0.0', 'ciPctValue': '95', 'ciNumSides': 'TWO_SIDED', 'ciLowerLimit': '-2.08', 'ciUpperLimit': '2.04', 'dispersionType': 'STANDARD_ERROR_OF_MEAN', 'dispersionValue': '1.02'}]\",\n",
      "\"p-value\": \"0.9850\",\n",
      "\"Statistical Method\": \"ANCOVA\",\n",
      "\"Limitations and caveats\": \"\",\n",
      "\"Has results\": \"True\"\n"
     ]
    }
   ],
   "source": [
    "# Example — Embedding sees this:\n",
    "print(llama_documents[0].get_content(metadata_mode=MetadataMode.EMBED))"
   ]
  },
  {
   "cell_type": "markdown",
   "id": "b6c5ad18",
   "metadata": {},
   "source": [
    "### **Chunking** — creating LlamaIndex *Nodes*"
   ]
  },
  {
   "cell_type": "code",
   "execution_count": 31,
   "id": "13c22a1a",
   "metadata": {},
   "outputs": [],
   "source": [
    "def create_nodes(llama_documents):\n",
    "    \"\"\"\n",
    "    Generates and embeds nodes from Llama documents.\n",
    "    \"\"\"\n",
    "    parser = SentenceSplitter(chunk_size=1024,chunk_overlap=20) # <== adjust from default\n",
    "    nodes = parser.get_nodes_from_documents(llama_documents)\n",
    "    for node in nodes:\n",
    "        node_embedding = embed_model.get_text_embedding(\n",
    "            node.get_content(metadata_mode=MetadataMode.EMBED)\n",
    "        )\n",
    "        node.embedding = node_embedding\n",
    "    return nodes"
   ]
  },
  {
   "cell_type": "code",
   "execution_count": 32,
   "id": "ea3a7934",
   "metadata": {},
   "outputs": [],
   "source": [
    "# create nodes from Llama documents\n",
    "nodes = create_nodes(llama_documents)"
   ]
  },
  {
   "cell_type": "markdown",
   "id": "1bf0e579",
   "metadata": {},
   "source": [
    "### **Storing** Nodes — example with **Chroma Vector Database**"
   ]
  },
  {
   "cell_type": "code",
   "execution_count": 33,
   "id": "c8c6826f",
   "metadata": {},
   "outputs": [
    {
     "name": "stdout",
     "output_type": "stream",
     "text": [
      "Looking for the CLINICAL_RAG collection in the database...\n",
      "CLINICAL_RAG collection WAS NOT FOUND in Chroma DB, creating...\n",
      "Creating vector store...\n",
      "Creating vector store index\n",
      "record count: 201\n"
     ]
    }
   ],
   "source": [
    "# Chroma DB collection name\n",
    "COLLECTION_NAME = \"CLINICAL_RAG\"\n",
    "\n",
    "db = chromadb.PersistentClient(path=\"chroma_db\")\n",
    "print(f\"Looking for the {COLLECTION_NAME} collection in the database...\" )\n",
    "if COLLECTION_NAME not in [col.name for col in db.list_collections()]:\n",
    "    print(f\"{COLLECTION_NAME} collection WAS NOT FOUND in Chroma DB, creating...\")\n",
    "    chroma_collection = db.create_collection(COLLECTION_NAME)\n",
    "    print(\"Creating vector store...\")\n",
    "    vector_store = ChromaVectorStore(chroma_collection=chroma_collection)\n",
    "    storage_context = StorageContext.from_defaults(vector_store=vector_store)\n",
    "    print(\"Creating vector store index\")\n",
    "    VectorStoreIndex(\n",
    "        nodes=nodes,\n",
    "        storage_context=storage_context,\n",
    "        store_nodes_override=True\n",
    "    )\n",
    "    record_count = chroma_collection.count()\n",
    "    print(f\"record count: {record_count}\")   \n",
    "    \n",
    "else:\n",
    "    print(f\"{COLLECTION_NAME} collection WAS FOUND in Chroma DB\")\n",
    "    COLLECTION_NAME = db.get_collection(COLLECTION_NAME)\n",
    "    vector_store = ChromaVectorStore(chroma_collection=COLLECTION_NAME)\n",
    "    print(\"Restoring vector store index from the collection...\")\n",
    "    index = VectorStoreIndex.from_vector_store(\n",
    "        vector_store=vector_store,\n",
    "        embed_model=embed_model,\n",
    "        store_nodes_override=True\n",
    "    )\n",
    "    record_count = COLLECTION_NAME.count()\n",
    "    print(f\"record count: {record_count}\")"
   ]
  },
  {
   "cell_type": "markdown",
   "id": "0cce45d1",
   "metadata": {},
   "source": [
    "###  **Creating Index** from stored Nodes"
   ]
  },
  {
   "cell_type": "code",
   "execution_count": 34,
   "id": "e732d908",
   "metadata": {},
   "outputs": [],
   "source": [
    "index = VectorStoreIndex.from_vector_store(vector_store)  "
   ]
  },
  {
   "cell_type": "markdown",
   "id": "01642d58",
   "metadata": {},
   "source": [
    "### (optional) add record(s)\n",
    "no error thrown if records are dupes"
   ]
  },
  {
   "cell_type": "code",
   "execution_count": 35,
   "id": "17f80839",
   "metadata": {},
   "outputs": [
    {
     "name": "stdout",
     "output_type": "stream",
     "text": [
      "record_count as is: 201\n"
     ]
    }
   ],
   "source": [
    "print(f\"record_count as is: {record_count}\")"
   ]
  },
  {
   "cell_type": "code",
   "execution_count": 36,
   "id": "be5828ab",
   "metadata": {},
   "outputs": [],
   "source": [
    "# new unrelateds trial\n",
    "list_of_nct_id = [\n",
    "    \"NCT00108953\", # Carcinoma, Hepatocellular\n",
    "]\n",
    "\n",
    "downloaded_json = get_downloaded_json(list_of_nct_id)\n",
    "documents_list = list_from_extracted_json(downloaded_json)"
   ]
  },
  {
   "cell_type": "code",
   "execution_count": 37,
   "id": "4d37991a",
   "metadata": {},
   "outputs": [],
   "source": [
    "# using previous functions \n",
    "llama_documents = create_llama_docs(documents_list)\n",
    "nodes = create_nodes(llama_documents)\n",
    "index.insert_nodes(nodes)"
   ]
  },
  {
   "cell_type": "code",
   "execution_count": 38,
   "id": "9ecaf53b",
   "metadata": {},
   "outputs": [
    {
     "name": "stdout",
     "output_type": "stream",
     "text": [
      "new DB record count: 204\n"
     ]
    }
   ],
   "source": [
    "try:\n",
    "    print(f\"new DB record count: {chroma_collection.count()}\")\n",
    "    record_count = chroma_collection.count()\n",
    "except:\n",
    "    print(f\"established DB record count: {COLLECTION_NAME.count()}\")\n",
    "    record_count = COLLECTION_NAME.count()"
   ]
  },
  {
   "cell_type": "markdown",
   "id": "4ba4248e",
   "metadata": {},
   "source": [
    "### **Querying** — example with ChatBot"
   ]
  },
  {
   "cell_type": "code",
   "execution_count": 39,
   "id": "d5bd18d8",
   "metadata": {},
   "outputs": [],
   "source": [
    "memory = ChatMemoryBuffer.from_defaults(token_limit=10_000) #<== adjust\n",
    "# chat_engine.reset() \n",
    "\n",
    "chat_engine = index.as_chat_engine(\n",
    "    similarity_top_k=3, #<== adjust\n",
    "    chat_mode=\"condense_plus_context\", \n",
    "    memory=memory,\n",
    "    llm=llm,\n",
    "    context_prompt=(\n",
    "        \"\"\"\n",
    "        You are a chatbot which is expert in parsing information.\n",
    "        When asked a question, provide a complete response, concisely.\n",
    "        \"\"\"\n",
    "        \"Here are the relevant documents for the context:\\n\"\n",
    "        \"{context_str}\"\n",
    "        \"\\nInstruction: Use only the context above or this chat history to respond.\"\n",
    "    ),\n",
    "    verbose=False,\n",
    ")"
   ]
  },
  {
   "cell_type": "code",
   "execution_count": 40,
   "id": "3eab1a6b",
   "metadata": {},
   "outputs": [],
   "source": [
    "# chat_engine.reset() "
   ]
  },
  {
   "cell_type": "code",
   "execution_count": 41,
   "id": "2ce1ddfd",
   "metadata": {},
   "outputs": [],
   "source": [
    "def ask_chatbot(query):\n",
    "    response = chat_engine.chat(query)\n",
    "    display(Markdown(chat_engine.chat(query).response))\n",
    "    # return response"
   ]
  },
  {
   "cell_type": "code",
   "execution_count": 42,
   "id": "85612c77",
   "metadata": {},
   "outputs": [
    {
     "data": {
      "text/markdown": [
       "1. Protocol to Monitor the Neurological Development of Infants With Exposure in Utero From Birth to 15 Months in Tanezumab Clinical Studies\n",
       "2. A Study To Evaluate Safety And Efficacy Of IV Sildenafil In The Treatment Of Neonates With Persistent Pulmonary Hypertension Of The Newborn"
      ],
      "text/plain": [
       "<IPython.core.display.Markdown object>"
      ]
     },
     "metadata": {},
     "output_type": "display_data"
    }
   ],
   "source": [
    "query = \"Provide brief title(s) for studies involving newborn babies?\"\n",
    "ask_chatbot(query)"
   ]
  },
  {
   "cell_type": "code",
   "execution_count": 43,
   "id": "ef29ab05",
   "metadata": {},
   "outputs": [
    {
     "data": {
      "text/markdown": [
       "The enrollment count of the trial with Sildenafil was 59 participants."
      ],
      "text/plain": [
       "<IPython.core.display.Markdown object>"
      ]
     },
     "metadata": {},
     "output_type": "display_data"
    }
   ],
   "source": [
    "query = \"What was the enrollment count of the trial with Sildenafil?\"\n",
    "ask_chatbot(query)\n",
    "# True answer: 59"
   ]
  },
  {
   "cell_type": "code",
   "execution_count": 44,
   "id": "b0535f40",
   "metadata": {},
   "outputs": [
    {
     "data": {
      "text/markdown": [
       "The time frame for the primary outcome of the trial was 14 days from the initiation of the IV study drug or hospital discharge, whichever occurred first."
      ],
      "text/plain": [
       "<IPython.core.display.Markdown object>"
      ]
     },
     "metadata": {},
     "output_type": "display_data"
    }
   ],
   "source": [
    "query = \"What was the time frame for the primary oucome of this trial?\"\n",
    "ask_chatbot(query)\n",
    "# True answer: \n",
    "# Time in days, on iNO treatment, for participants without iNO treatment failure, was calculated 14 days from the initiation of IV study drug or hospital discharge, whichever occurred first. \n",
    "# iNO treatment failure was defined as need for additional treatment targeting PPHN, need for extra corporeal membrane oxygenation (ECMO), or death during the study."
   ]
  },
  {
   "cell_type": "code",
   "execution_count": 45,
   "id": "999ba435",
   "metadata": {},
   "outputs": [
    {
     "data": {
      "text/markdown": [
       "The EudraCT number of this trial was 2012-002619-24."
      ],
      "text/plain": [
       "<IPython.core.display.Markdown object>"
      ]
     },
     "metadata": {},
     "output_type": "display_data"
    }
   ],
   "source": [
    "query = \"What was EudraCT number of this trial?\"\n",
    "ask_chatbot(query)\n",
    "# True answer: \"2012-002619-24\""
   ]
  },
  {
   "cell_type": "code",
   "execution_count": 46,
   "id": "dabf168c",
   "metadata": {},
   "outputs": [
    {
     "data": {
      "text/markdown": [
       "The conditions mentioned in this trial involving Sildenafil are \"Pulmonary Hypertension, Familial Persistent, of the Newborn.\""
      ],
      "text/plain": [
       "<IPython.core.display.Markdown object>"
      ]
     },
     "metadata": {},
     "output_type": "display_data"
    }
   ],
   "source": [
    "query = \"What conditions are mentioned in this trial invoving Sildenafil?\"\n",
    "ask_chatbot(query)\n",
    "# True answer: \t\"Pulmonary Hypertension, Familial Persistent, of the Newborn\""
   ]
  },
  {
   "cell_type": "code",
   "execution_count": 47,
   "id": "40cbc68e",
   "metadata": {},
   "outputs": [
    {
     "data": {
      "text/markdown": [
       "Participants received the treatment either as IV Sildenafil or placebo intravenously based on their body weight, with a loading dose followed by a maintenance dose for a minimum of 2 days and a maximum of 14 days."
      ],
      "text/plain": [
       "<IPython.core.display.Markdown object>"
      ]
     },
     "metadata": {},
     "output_type": "display_data"
    }
   ],
   "source": [
    "query = \"How did participants receive the treatment?\"\n",
    "ask_chatbot(query)\n",
    "# True answer: \t\"Part A: Participants received sildenafil intravenously based on their body weight at a loading dose of 0.1 milligrams per kg (mg/kg) for 30 minutes on Day 1 \n",
    "# followed by a maintenance dose of 0.03 milligrams per kg per hour (mg/kg/hr), for a minimum of 2 days and maximum of 14 days. \n",
    "# Infusion continuation was upon investigator discretion in view of participants' safety and well-being. \n",
    "# Part B: Participants who started Part A (not necessarily completed Part A) and who were eligible and consented, continued to be followed up in part B of the study.\""
   ]
  },
  {
   "cell_type": "code",
   "execution_count": 48,
   "id": "81bc582d",
   "metadata": {},
   "outputs": [
    {
     "data": {
      "text/markdown": [
       "The statistical method used in this trial involving Sildenafil was ANCOVA (Analysis of Covariance)."
      ],
      "text/plain": [
       "<IPython.core.display.Markdown object>"
      ]
     },
     "metadata": {},
     "output_type": "display_data"
    }
   ],
   "source": [
    "query = \"What statistical method used this trial invoving Sildenafil?\"\n",
    "ask_chatbot(query)\n",
    "# True answer: \"ANCOVA\"\n",
    "# ???"
   ]
  },
  {
   "cell_type": "code",
   "execution_count": 49,
   "id": "d464c76c",
   "metadata": {},
   "outputs": [
    {
     "data": {
      "text/markdown": [
       "The reported p-value for the statistical method ANCOVA in this trial was 0.9850."
      ],
      "text/plain": [
       "<IPython.core.display.Markdown object>"
      ]
     },
     "metadata": {},
     "output_type": "display_data"
    }
   ],
   "source": [
    "query = \"What p-value was reported for this statistical method?\"\n",
    "ask_chatbot(query)\n",
    "# True answer: \t0.9850\n",
    "# ???"
   ]
  },
  {
   "cell_type": "markdown",
   "id": "1a89d5a0",
   "metadata": {},
   "source": [
    "##### Reset the ChatBot"
   ]
  },
  {
   "cell_type": "code",
   "execution_count": 50,
   "id": "2f64e505",
   "metadata": {},
   "outputs": [],
   "source": [
    "chat_engine.reset() "
   ]
  },
  {
   "cell_type": "code",
   "execution_count": 51,
   "id": "03d38d6f",
   "metadata": {},
   "outputs": [
    {
     "data": {
      "text/markdown": [
       "Yes, two trials mention Leukemia:\n",
       "1. A Multicenter Phase 3, Open-Label Study of Bosutinib Versus Imatinib in Adult Patients With Newly Diagnosed Chronic Phase Chronic Myelogenous Leukemia (NCT02130557)\n",
       "2. A Study Evaluating Intensive Chemotherapy With or Without Glasdegib or Azacitidine With or Without Glasdegib In Patients With Previously Untreated Acute Myeloid Leukemia (NCT03416179)"
      ],
      "text/plain": [
       "<IPython.core.display.Markdown object>"
      ]
     },
     "metadata": {},
     "output_type": "display_data"
    }
   ],
   "source": [
    "query = \"Do any trials mention Leukemia? Which are they?\"\n",
    "ask_chatbot(query)\n",
    "# True answer: \"NCT02130557\",  \"NCT02367456\", possibly more"
   ]
  },
  {
   "cell_type": "code",
   "execution_count": 52,
   "id": "d19939da",
   "metadata": {},
   "outputs": [
    {
     "data": {
      "text/markdown": [
       "The NCT ID of the trial mentioning Chronic Myelogenous Leukemia is NCT02130557."
      ],
      "text/plain": [
       "<IPython.core.display.Markdown object>"
      ]
     },
     "metadata": {},
     "output_type": "display_data"
    }
   ],
   "source": [
    "query = \"What is the NCT ID of the trial mentioning Chronic Myelogenous Leukemia?\"\n",
    "ask_chatbot(query)\n",
    "# True answer: \"NCT02130557\""
   ]
  },
  {
   "cell_type": "code",
   "execution_count": 53,
   "id": "b13ad21d",
   "metadata": {},
   "outputs": [
    {
     "data": {
      "text/markdown": [
       "The trial with NCT ID NCT02130557 is a multicenter Phase 3, open-label study comparing Bosutinib versus Imatinib in adult patients with newly diagnosed Chronic Phase Chronic Myelogenous Leukemia. The study aims to evaluate the efficacy and safety of Bosutinib, a tyrosine kinase inhibitor, compared to Imatinib, a standard treatment for Chronic Myelogenous Leukemia, in this patient population. Patients enrolled in the trial will be randomly assigned to receive either Bosutinib or Imatinib and will be monitored for the response to treatment and any adverse effects. The primary objective is to assess the major molecular response rate at 12 months. This trial is crucial for determining the optimal treatment approach for patients with Chronic Phase Chronic Myelogenous Leukemia."
      ],
      "text/plain": [
       "<IPython.core.display.Markdown object>"
      ]
     },
     "metadata": {},
     "output_type": "display_data"
    }
   ],
   "source": [
    "query = \"Provide a detailed description of this specific trial.\"\n",
    "ask_chatbot(query)\n"
   ]
  },
  {
   "cell_type": "code",
   "execution_count": 54,
   "id": "9f52217d",
   "metadata": {},
   "outputs": [
    {
     "data": {
      "text/markdown": [
       "The lead sponsor of the trial with NCT ID NCT02130557, which compares Bosutinib versus Imatinib in adult patients with Chronic Phase Chronic Myelogenous Leukemia, is Pfizer."
      ],
      "text/plain": [
       "<IPython.core.display.Markdown object>"
      ]
     },
     "metadata": {},
     "output_type": "display_data"
    }
   ],
   "source": [
    "query = \"Who was the lead sponsor of NCT02130557?\"\n",
    "ask_chatbot(query)\n",
    "# True answer: Pfizer"
   ]
  },
  {
   "cell_type": "code",
   "execution_count": 55,
   "id": "9d965db2",
   "metadata": {},
   "outputs": [
    {
     "data": {
      "text/markdown": [
       "In the trial with NCT ID NCT02130557, the intervention studied was the comparison of Bosutinib versus Imatinib in adult patients with newly diagnosed Chronic Phase Chronic Myelogenous Leukemia."
      ],
      "text/plain": [
       "<IPython.core.display.Markdown object>"
      ]
     },
     "metadata": {},
     "output_type": "display_data"
    }
   ],
   "source": [
    "query = \"What intervention was studied in NCT02130557?\"\n",
    "ask_chatbot(query)\n",
    "# True answer: Bosutinib"
   ]
  },
  {
   "cell_type": "code",
   "execution_count": 56,
   "id": "49e412dd",
   "metadata": {},
   "outputs": [
    {
     "data": {
      "text/markdown": [
       "The enrollment count for the trial with Bosutinib in NCT02130557 was 536 participants."
      ],
      "text/plain": [
       "<IPython.core.display.Markdown object>"
      ]
     },
     "metadata": {},
     "output_type": "display_data"
    }
   ],
   "source": [
    "query = \"What was the enrollment count this trial with Bosutinib?\"\n",
    "ask_chatbot(query)\n",
    "# True answer: 536"
   ]
  },
  {
   "cell_type": "markdown",
   "id": "3f9ba02e",
   "metadata": {},
   "source": [
    "##### Reset the ChatBot"
   ]
  },
  {
   "cell_type": "code",
   "execution_count": 57,
   "id": "13ea83db",
   "metadata": {},
   "outputs": [],
   "source": [
    "chat_engine.reset() "
   ]
  },
  {
   "cell_type": "code",
   "execution_count": 58,
   "id": "8d1bf889",
   "metadata": {},
   "outputs": [
    {
     "data": {
      "text/markdown": [
       "Yes, Japanese participants were involved in the trial with National Clinical Identification NCT ID NCT04350606. The study assessed the efficacy and safety of PF-06462700 in Japanese participants with moderate and above aplastic anemia."
      ],
      "text/plain": [
       "<IPython.core.display.Markdown object>"
      ]
     },
     "metadata": {},
     "output_type": "display_data"
    }
   ],
   "source": [
    "query = \"Were Japanese participants involved in any trial?\"\n",
    "ask_chatbot(query)\n",
    "# True answer: Yes, Japanese participants were involved in the trial with the National Clinical Identification NCT ID NCT04350606."
   ]
  },
  {
   "cell_type": "code",
   "execution_count": 59,
   "id": "20b3d7c4",
   "metadata": {},
   "outputs": [
    {
     "data": {
      "text/markdown": [
       "The p-value for the trial with Japanese participants is not available in the provided information."
      ],
      "text/plain": [
       "<IPython.core.display.Markdown object>"
      ]
     },
     "metadata": {},
     "output_type": "display_data"
    }
   ],
   "source": [
    "query = \"What was the p-value of the trial with Japanese participants?\"\n",
    "ask_chatbot(query)\n",
    "# True answer: The p-value for the trial with Japanese participants (National Clinical Identification NCT ID NCT04350606) is not available in the provided information."
   ]
  },
  {
   "cell_type": "code",
   "execution_count": null,
   "id": "ae3bdc67",
   "metadata": {},
   "outputs": [],
   "source": []
  },
  {
   "cell_type": "code",
   "execution_count": null,
   "id": "bfa4d84e",
   "metadata": {},
   "outputs": [],
   "source": []
  },
  {
   "cell_type": "markdown",
   "id": "58e06616",
   "metadata": {},
   "source": [
    "<span style=\"color: blue; font-size: 30px;\">Evaluation"
   ]
  },
  {
   "cell_type": "code",
   "execution_count": null,
   "id": "4f10b3d9",
   "metadata": {},
   "outputs": [],
   "source": []
  },
  {
   "cell_type": "code",
   "execution_count": null,
   "id": "3ec99889",
   "metadata": {},
   "outputs": [],
   "source": []
  },
  {
   "cell_type": "code",
   "execution_count": null,
   "id": "c6de89bf",
   "metadata": {},
   "outputs": [],
   "source": []
  },
  {
   "cell_type": "markdown",
   "id": "72a589fb",
   "metadata": {},
   "source": [
    "### Using **CallbackManager & LlamaDebugHandler**"
   ]
  },
  {
   "cell_type": "code",
   "execution_count": 60,
   "id": "ee952762",
   "metadata": {},
   "outputs": [
    {
     "ename": "SyntaxError",
     "evalue": "invalid syntax (141466560.py, line 1)",
     "output_type": "error",
     "traceback": [
      "\u001b[0;36m  Cell \u001b[0;32mIn[60], line 1\u001b[0;36m\u001b[0m\n\u001b[0;31m    STOPPING HERE\u001b[0m\n\u001b[0m             ^\u001b[0m\n\u001b[0;31mSyntaxError\u001b[0m\u001b[0;31m:\u001b[0m invalid syntax\n"
     ]
    }
   ],
   "source": [
    "STOPPING HERE "
   ]
  },
  {
   "cell_type": "code",
   "execution_count": null,
   "id": "eee22690",
   "metadata": {},
   "outputs": [],
   "source": [
    "from llama_index.core.callbacks import CallbackManager, LlamaDebugHandler\n",
    "\n",
    "# initiaalize debug handler and save to Settings\n",
    "llm_debug = LlamaDebugHandler()\n",
    "callback_manager = CallbackManager([llm_debug])\n",
    "Settings.callback_manager = callback_manager"
   ]
  },
  {
   "cell_type": "code",
   "execution_count": null,
   "id": "3888db9b",
   "metadata": {},
   "outputs": [],
   "source": [
    "# helper function\n",
    "def print_in_out(in_out):\n",
    "\tprint(in_out[0][0].payload['messages'][0])\n",
    "\tprint(\"\\n\\n\")\n",
    "\tprint(in_out[0][0].payload['messages'][1])\n",
    "\n",
    "# whenever query_engine.query() is called\n",
    "query_engine = index.as_query_engine()\n",
    "query = \"How many NCT ID related to Leukemia? Which are they?\"\n",
    "response = query_engine.query(query)\n",
    "print(response)\n",
    "\n",
    "# print LLM debug info \n",
    "in_out = llm_debug.get_llm_inputs_outputs()\n",
    "print_in_out(in_out)"
   ]
  },
  {
   "cell_type": "code",
   "execution_count": null,
   "id": "367a8ae6",
   "metadata": {},
   "outputs": [],
   "source": []
  },
  {
   "cell_type": "code",
   "execution_count": null,
   "id": "10344450",
   "metadata": {},
   "outputs": [],
   "source": []
  }
 ],
 "metadata": {
  "kernelspec": {
   "display_name": "Python 3 (ipykernel)",
   "language": "python",
   "name": "python3"
  },
  "language_info": {
   "codemirror_mode": {
    "name": "ipython",
    "version": 3
   },
   "file_extension": ".py",
   "mimetype": "text/x-python",
   "name": "python",
   "nbconvert_exporter": "python",
   "pygments_lexer": "ipython3",
   "version": "3.11.5"
  },
  "toc": {
   "base_numbering": 1,
   "nav_menu": {},
   "number_sections": true,
   "sideBar": true,
   "skip_h1_title": false,
   "title_cell": "Table of Contents",
   "title_sidebar": "Contents",
   "toc_cell": false,
   "toc_position": {},
   "toc_section_display": true,
   "toc_window_display": false
  }
 },
 "nbformat": 4,
 "nbformat_minor": 5
}
