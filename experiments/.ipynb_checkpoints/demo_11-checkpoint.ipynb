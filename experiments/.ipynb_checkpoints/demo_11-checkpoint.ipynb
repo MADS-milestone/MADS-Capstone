{
 "cells": [
  {
   "cell_type": "markdown",
   "id": "10f05e17",
   "metadata": {},
   "source": [
    "## Imports"
   ]
  },
  {
   "cell_type": "code",
   "execution_count": 1,
   "id": "f12f7579",
   "metadata": {},
   "outputs": [],
   "source": [
    "from dotenv import load_dotenv \n",
    "\n",
    "import evaluate # for ROUGE metric\n",
    "import json\n",
    "import os\n",
    "import requests as req\n",
    "import time\n",
    "\n",
    "from llama_index.core import Document, settings, VectorStoreIndex\n",
    "from llama_index.embeddings.nomic import NomicEmbedding\n",
    "\n",
    "from utils_3 import safe_get, extract_from_json, flatten_data"
   ]
  },
  {
   "cell_type": "markdown",
   "id": "2c6d7610",
   "metadata": {},
   "source": [
    "## bioBert"
   ]
  },
  {
   "cell_type": "code",
   "execution_count": 2,
   "id": "4ccfb853",
   "metadata": {},
   "outputs": [],
   "source": [
    "from transformers import AutoTokenizer, AutoModel\n",
    "\n",
    "# reference:  https://huggingface.co/bvanaken/CORe-clinical-outcome-biobert-v1\n",
    "tokenizer = AutoTokenizer.from_pretrained(\"bvanaken/CORe-clinical-outcome-biobert-v1\")\n",
    "model = AutoModel.from_pretrained(\"bvanaken/CORe-clinical-outcome-biobert-v1\")"
   ]
  },
  {
   "cell_type": "markdown",
   "id": "c1b27c92",
   "metadata": {},
   "source": [
    "## Verify API tokens are available"
   ]
  },
  {
   "cell_type": "code",
   "execution_count": 3,
   "id": "c44ccd20",
   "metadata": {},
   "outputs": [],
   "source": [
    "load_dotenv()  # This loads the variables from .envz\n",
    "nomic_api_key = os.getenv(\"NOMIC_API_KEY\")"
   ]
  },
  {
   "cell_type": "code",
   "execution_count": 4,
   "id": "4d56da3d",
   "metadata": {},
   "outputs": [],
   "source": [
    "embed_model = NomicEmbedding(\n",
    "    api_key=nomic_api_key,\n",
    "    dimensionality=128,\n",
    "    model_name=\"nomic-embed-text-v1.5\",\n",
    ")\n",
    "\n",
    "embedding = embed_model.get_text_embedding(\"Nomic Embeddings\")\n",
    "\n",
    "llm = model\n",
    "\n",
    "settings.llm = llm\n",
    "settings.embed_model = embed_model"
   ]
  },
  {
   "cell_type": "markdown",
   "id": "7e8f4eb4",
   "metadata": {},
   "source": [
    "## Fetch data from \"specific\" clinicaltrials.gov\n",
    "<span style=\"color: darkred; font-size: 18px;\"> source: https://drive.google.com/file/d/1HOsN3v8DLzwoMOXOr_Mfb1Hn6XNwlZ72/view?usp=sharing"
   ]
  },
  {
   "cell_type": "code",
   "execution_count": 5,
   "id": "231c678c",
   "metadata": {},
   "outputs": [],
   "source": [
    "# specify the clinical trial \n",
    "# nct_id = \"NCT00094887\"\n",
    "nct_id = \"NCT00108953\"\n",
    "# nct_id = \"NCT00177671\" \n",
    "# nct_id = \"NCT00281918\"\n",
    "# nct_id = \"NCT00404079\"\n",
    "# nct_id = \"NCT00426751\"\n",
    "# nct_id = \"NCT01865747\" #<== good one \n",
    "\n",
    "# name the downloaded JSON \"clinical_study\"\n",
    "response = req.get(f\"https://clinicaltrials.gov/api/v2/studies/{nct_id}\")\n",
    "clinical_study = response.json()\n",
    "# clinical_study\n",
    "\n",
    "# save the full JSON locally for review (e.g., jsonhero.io)\n",
    "with open(f\"{nct_id}.json\", \"w\") as f:\n",
    "    json.dump(clinical_study, f, indent=4)"
   ]
  },
  {
   "cell_type": "markdown",
   "id": "8c098cf2",
   "metadata": {},
   "source": [
    "## Extract a  subset of the data"
   ]
  },
  {
   "cell_type": "code",
   "execution_count": 6,
   "id": "868c123c",
   "metadata": {},
   "outputs": [],
   "source": [
    "extracted_json = extract_from_json(clinical_study)"
   ]
  },
  {
   "cell_type": "code",
   "execution_count": 7,
   "id": "a9106880",
   "metadata": {},
   "outputs": [],
   "source": [
    "# save a JSON file to disk for review\n",
    "save_path = f\"{nct_id}_extracted.json\"\n",
    "with open(save_path, \"w\") as f:\n",
    "    json.dump(extracted_json, f, indent=4)"
   ]
  },
  {
   "cell_type": "code",
   "execution_count": 8,
   "id": "73bbda22",
   "metadata": {},
   "outputs": [],
   "source": [
    "# prepare for indexing\n",
    "trial_info = trial_info = flatten_data(extracted_json, path=\"\")\n",
    "# trial_info"
   ]
  },
  {
   "cell_type": "code",
   "execution_count": 9,
   "id": "657b1108",
   "metadata": {},
   "outputs": [],
   "source": [
    "# save text file for disk for review\n",
    "with open(\"trial_info.txt\", \"w\") as file:\n",
    "  for item in trial_info:\n",
    "    file.write(item + \"\\n\")"
   ]
  },
  {
   "cell_type": "markdown",
   "id": "99facd42",
   "metadata": {},
   "source": [
    "## LlamaIndex RAG "
   ]
  },
  {
   "cell_type": "code",
   "execution_count": 10,
   "id": "a8553527",
   "metadata": {},
   "outputs": [],
   "source": [
    "documents =[Document(text=t)for t in trial_info]"
   ]
  },
  {
   "cell_type": "code",
   "execution_count": 11,
   "id": "5aafbb26",
   "metadata": {},
   "outputs": [],
   "source": [
    "# Create the vector store that we use find relevant documents\n",
    "index = VectorStoreIndex.from_documents(documents)"
   ]
  },
  {
   "cell_type": "code",
   "execution_count": 12,
   "id": "768b3f85",
   "metadata": {},
   "outputs": [],
   "source": [
    "# A query engine \n",
    "# query_engine = index.as_query_engine()\n",
    "query_engine = index.as_query_engine(similarity_top_k=5)# <== adjusted this"
   ]
  },
  {
   "cell_type": "markdown",
   "id": "fd62bea3",
   "metadata": {},
   "source": [
    "### quick test"
   ]
  },
  {
   "cell_type": "code",
   "execution_count": 13,
   "id": "12cdeefd",
   "metadata": {},
   "outputs": [],
   "source": [
    "def get_response(query, prompt_1, prompt_2):\n",
    "    response = query_engine.query(query)\n",
    "    print(f\"Original response:\\n{response}\")\n",
    " \n",
    "    query_2 = prompt_1 + response.response\n",
    "    response_2 = query_engine.query(query_2)\n",
    "    print(f\"\\nPlain Language Summary:\\n{response_2}\")\n",
    "    \n",
    "    query_2 = prompt_2 + response.response\n",
    "    response_2 = query_engine.query(query_2)\n",
    "    print(f\"\\nExpert Analysis:\\n{response_2}\")\n"
   ]
  },
  {
   "cell_type": "markdown",
   "id": "050be449",
   "metadata": {},
   "source": [
    "#### enhanced prompts"
   ]
  },
  {
   "cell_type": "code",
   "execution_count": 14,
   "id": "8e55ea72",
   "metadata": {},
   "outputs": [],
   "source": [
    "PLS_prompt = \"\"\"Using everyday language to make the clinical results of a study meaningful and understandable to a lay person, rephrase this: \"\"\"\n",
    "expert_prompt = \"\"\"Emulate a PhD scientist and expert statistician to elaborate on the following: \"\"\""
   ]
  },
  {
   "cell_type": "markdown",
   "id": "29010249",
   "metadata": {},
   "source": [
    "#### example 1"
   ]
  },
  {
   "cell_type": "code",
   "execution_count": 15,
   "id": "50ba2b26",
   "metadata": {},
   "outputs": [
    {
     "name": "stdout",
     "output_type": "stream",
     "text": [
      "Original response:\n",
      "The study was conducted for patients with advanced hepatocellular carcinoma, and the treatment involved a combination of BAY43-9006 and doxorubicin compared to doxorubicin alone.\n",
      "\n",
      "Plain Language Summary:\n",
      "The study looked at how effective and safe it was to give patients with advanced liver cancer a combination of two drugs, BAY43-9006 and doxorubicin, versus just using doxorubicin by itself.\n",
      "\n",
      "Expert Analysis:\n",
      "The study aimed to assess the safety and effectiveness of combining BAY43-9006 with doxorubicin in treating patients with advanced hepatocellular carcinoma, in comparison to using doxorubicin alone. The treatment regimen involved administering sorafenib (Nexavar, BAY43-9006) along with doxorubicin, with the intention of evaluating any potential benefits of this combination therapy over using doxorubicin as a monotherapy. The study design allowed for a direct comparison between the two treatment approaches, providing valuable insights into the potential synergistic effects of combining these two medications in the context of advanced hepatocellular carcinoma management.\n"
     ]
    }
   ],
   "source": [
    "query_1 = \"For which medical condition and treatment was this study done?\"\n",
    "get_response(query_1, PLS_prompt, expert_prompt)"
   ]
  },
  {
   "cell_type": "markdown",
   "id": "21998e95",
   "metadata": {},
   "source": [
    "#### example 2"
   ]
  },
  {
   "cell_type": "code",
   "execution_count": 16,
   "id": "4016264f",
   "metadata": {},
   "outputs": [
    {
     "name": "stdout",
     "output_type": "stream",
     "text": [
      "Original response:\n",
      "Yes, the p-value was reported. The p-value is 0.016.\n",
      "\n",
      "Plain Language Summary:\n",
      "Yes, the likelihood of the results occurring by chance is very low at 0.016.\n",
      "\n",
      "Expert Analysis:\n",
      "The reported p-value of 0.016 indicates that there is statistically significant evidence to reject the null hypothesis in favor of the alternative hypothesis. This suggests that the results are unlikely to have occurred by chance alone.\n"
     ]
    }
   ],
   "source": [
    "query_2 = \"\"\"Yes or no, was p-value reported?. What is the p-value?\"\"\"\n",
    "get_response(query_2, PLS_prompt, expert_prompt)"
   ]
  },
  {
   "cell_type": "markdown",
   "id": "029b9829",
   "metadata": {},
   "source": [
    "#### example 3 "
   ]
  },
  {
   "cell_type": "code",
   "execution_count": 17,
   "id": "0fb45964",
   "metadata": {},
   "outputs": [
    {
     "name": "stdout",
     "output_type": "stream",
     "text": [
      "Original response:\n",
      "Yes, a hazard ratio was reported. Its value was 0.6.\n",
      "\n",
      "Plain Language Summary:\n",
      "Yes, the study showed that there was a 40% lower risk of the event occurring in one group compared to the other.\n",
      "\n",
      "Expert Analysis:\n",
      "Yes, a hazard ratio of 0.6 was reported, indicating that the risk of the event occurring in one group is 0.6 times the risk of the event occurring in another group. This suggests a certain level of association between the exposure and the outcome being studied.\n"
     ]
    }
   ],
   "source": [
    "query_3 = \"\"\"Yes or no, was a hazard ratio reported? If a hazard ratio was reported, what was its value?\"\"\"\n",
    "get_response(query_3, PLS_prompt, expert_prompt)"
   ]
  },
  {
   "cell_type": "markdown",
   "id": "1ea16faf",
   "metadata": {},
   "source": [
    "6.1.4  example 4"
   ]
  },
  {
   "cell_type": "code",
   "execution_count": 18,
   "id": "15c0d105",
   "metadata": {},
   "outputs": [
    {
     "name": "stdout",
     "output_type": "stream",
     "text": [
      "Original response:\n",
      "Advanced Hepatocellular Carcinoma\n",
      "\n",
      "Plain Language Summary:\n",
      "Late-stage liver cancer\n",
      "\n",
      "Expert Analysis:\n",
      "Advanced Hepatocellular Carcinoma typically refers to a stage of liver cancer where the cancer has progressed and spread beyond the liver to other parts of the body. This stage is often characterized by a poorer prognosis and may require more aggressive treatment options such as targeted therapies, immunotherapy, or clinical trials. In advanced hepatocellular carcinoma, the focus is often on managing symptoms, improving quality of life, and potentially extending survival through personalized treatment plans based on the individual patient's health status and the specific characteristics of the cancer.\n"
     ]
    }
   ],
   "source": [
    "query_4 = \"\"\"What condition is mentioned in this trial?\"\"\"\n",
    "get_response(query_4, PLS_prompt, expert_prompt)"
   ]
  },
  {
   "cell_type": "code",
   "execution_count": null,
   "id": "a452db6b",
   "metadata": {},
   "outputs": [],
   "source": []
  }
 ],
 "metadata": {
  "kernelspec": {
   "display_name": "Python [conda env:cpstn] *",
   "language": "python",
   "name": "conda-env-cpstn-py"
  },
  "language_info": {
   "codemirror_mode": {
    "name": "ipython",
    "version": 3
   },
   "file_extension": ".py",
   "mimetype": "text/x-python",
   "name": "python",
   "nbconvert_exporter": "python",
   "pygments_lexer": "ipython3",
   "version": "3.11.7"
  },
  "toc": {
   "base_numbering": 1,
   "nav_menu": {},
   "number_sections": true,
   "sideBar": true,
   "skip_h1_title": false,
   "title_cell": "Table of Contents",
   "title_sidebar": "Contents",
   "toc_cell": false,
   "toc_position": {},
   "toc_section_display": true,
   "toc_window_display": false
  }
 },
 "nbformat": 4,
 "nbformat_minor": 5
}
