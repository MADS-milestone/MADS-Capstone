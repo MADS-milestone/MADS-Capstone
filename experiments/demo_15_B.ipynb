{
 "cells": [
  {
   "cell_type": "markdown",
   "id": "10f05e17",
   "metadata": {},
   "source": [
    "## Imports"
   ]
  },
  {
   "cell_type": "code",
   "execution_count": 1,
   "id": "a510213f",
   "metadata": {},
   "outputs": [],
   "source": [
    "from dotenv import load_dotenv\n",
    "import json\n",
    "import os\n",
    "import pandas as pd\n",
    "import pprint\n",
    "import requests as req\n",
    "import urllib.request\n",
    "\n",
    "import chromadb\n",
    "\n",
    "from llama_index.core import Document, Settings, StorageContext, VectorStoreIndex\n",
    "from llama_index.core.node_parser import SentenceSplitter\n",
    "from llama_index.core.response.notebook_utils import display_response\n",
    "from llama_index.core.schema import MetadataMode\n",
    "from llama_index.embeddings.nomic import NomicEmbedding\n",
    "from llama_index.embeddings.openai import OpenAIEmbedding\n",
    "from llama_index.llms.openai import OpenAI\n",
    "from llama_index.vector_stores.chroma import ChromaVectorStore\n",
    "\n",
    "from utils_15B import extract_from_json"
   ]
  },
  {
   "cell_type": "code",
   "execution_count": 2,
   "id": "87579f3a",
   "metadata": {},
   "outputs": [
    {
     "name": "stdout",
     "output_type": "stream",
     "text": [
      "Python implementation: CPython\n",
      "Python version       : 3.11.7\n",
      "IPython version      : 8.20.0\n",
      "\n",
      "llama_index.core: 0.10.12\n",
      "\n"
     ]
    }
   ],
   "source": [
    "%reload_ext watermark\n",
    "%watermark -v -p llama_index.core\n",
    "\n",
    "# Python implementation: CPython\n",
    "# Python version       : 3.11.7\n",
    "# IPython version      : 8.20.0\n",
    "\n",
    "# llama_index.core: 0.10.12"
   ]
  },
  {
   "cell_type": "code",
   "execution_count": 3,
   "id": "2fe35c13",
   "metadata": {},
   "outputs": [
    {
     "name": "stdout",
     "output_type": "stream",
     "text": [
      "llama_cpp_python                         0.2.53\r\n",
      "llama-index-core                         0.10.12\r\n",
      "llama-index-embeddings-huggingface       0.1.4\r\n",
      "llama-index-embeddings-nomic             0.1.6\r\n",
      "llama-index-embeddings-openai            0.1.6\r\n",
      "llama-index-llms-llama-cpp               0.1.3\r\n",
      "llama-index-llms-openai                  0.1.6\r\n",
      "llama-index-vector-stores-chroma         0.0.1\r\n",
      "llamaindex-py-client                     0.1.13\r\n",
      "loguru                                   0.7.2\r\n"
     ]
    }
   ],
   "source": [
    "! pip list | grep ^l\n",
    "\n",
    "# llama_cpp_python                         0.2.53\n",
    "# llama-index-core                         0.10.12\n",
    "# llama-index-embeddings-openai            0.1.6\n",
    "# llama-index-llms-llama-cpp               0.1.3\n",
    "# llama-index-llms-openai                  0.1.6\n",
    "# llama-index-vector-stores-chroma         0.0.1\n",
    "# llamaindex-py-client                     0.1.13"
   ]
  },
  {
   "cell_type": "markdown",
   "id": "c1b27c92",
   "metadata": {},
   "source": [
    "## Verify API tokens are available"
   ]
  },
  {
   "cell_type": "code",
   "execution_count": 4,
   "id": "c44ccd20",
   "metadata": {
    "ExecuteTime": {
     "end_time": "2024-02-22T15:27:26.245184400Z",
     "start_time": "2024-02-22T15:27:26.230187Z"
    }
   },
   "outputs": [],
   "source": [
    "load_dotenv()  # This loads the variables from .envz\n",
    "nomic_api_key = os.getenv(\"NOMIC_API_KEY\")\n",
    "# print(nomic_api_key)"
   ]
  },
  {
   "cell_type": "markdown",
   "id": "ae92d38b",
   "metadata": {},
   "source": [
    "## (Optional) Remove previous JSON files and Chroma DB before starting\n",
    "<span style=\"color: darkred; font-size: 18px;\">using macOS/Linux %%bash"
   ]
  },
  {
   "cell_type": "code",
   "execution_count": 5,
   "id": "f6cfd0db",
   "metadata": {},
   "outputs": [],
   "source": [
    "%%bash\n",
    "find ./ -type f -name \"*.json\" -delete"
   ]
  },
  {
   "cell_type": "code",
   "execution_count": 6,
   "id": "d09f62c0",
   "metadata": {},
   "outputs": [],
   "source": [
    "%%bash\n",
    "rm -rf chroma_db"
   ]
  },
  {
   "cell_type": "markdown",
   "id": "7e8f4eb4",
   "metadata": {},
   "source": [
    "## Fetch data corresponding to Pfizer PLS\n",
    "source:  https://www.pfizer.com/science/clinical-trials/plain-language-study-results-summaries/"
   ]
  },
  {
   "cell_type": "code",
   "execution_count": 7,
   "id": "a7c3a08f",
   "metadata": {
    "ExecuteTime": {
     "end_time": "2024-02-22T15:27:27.632177500Z",
     "start_time": "2024-02-22T15:27:27.430175800Z"
    }
   },
   "outputs": [],
   "source": [
    "# Nine trials to consider (has Pfizer PLS, phase 3, completed with results, 2 arms):\n",
    "\n",
    "# \"NCT01720524\" A Study To Evaluate Safety And Efficacy Of IV Sildenafil In The Treatment Of Neonates With Persistent Pulmonary Hypertension Of The Newborn\n",
    "# \"NCT01942135\" Palbociclib (PD-0332991) Combined With Fulvestrant In Hormone Receptor+ HER2-Negative Metastatic Breast Cancer After Endocrine Failure (PALOMA-3)\n",
    "# \"NCT01945775\" A Study Evaluating Talazoparib (BMN 673), a PARP Inhibitor, in Advanced and/​or Metastatic Breast Cancer Patients With BRCA Mutation (EMBRACA Study) (EMBRACA)\n",
    "# \"NCT01964716\" 13vPnC Multidose Vial Safety, Tolerability and Immunogenicity Study in Healthy Infants.\n",
    "# \"NCT02130557\" A Multicenter Phase 3, Open-Label Study of Bosutinib Versus Imatinib in Adult Patients With Newly Diagnosed Chronic Phase Chronic Myelogenous Leukemia\n",
    "# \"NCT02187744\" A Study Of PF-05280014 Or Trastuzumab Plus Taxotere® And Carboplatin In HER2 Positive Breast Cancer In The Neoadjuvant Setting (REFLECTIONS B327-04)\n",
    "# \"NCT02367456\" A Combination Study of PF-04449913 (Glasdegib) and Azacitidine In Untreated MDS, AML and CMML Patients (BRIGHT 1012)\n",
    "# \"NCT02603432\" A Study Of Avelumab In Patients With Locally Advanced Or Metastatic Urothelial Cancer (JAVELIN Bladder 100)\n",
    "# \"NCT03090191\" Clostridium Difficile Vaccine Efficacy Trial (Clover)"
   ]
  },
  {
   "cell_type": "code",
   "execution_count": 8,
   "id": "3b83137c",
   "metadata": {},
   "outputs": [],
   "source": [
    "def get_trial(nct_id):\n",
    "    trial = req.get(f\"https://clinicaltrials.gov/api/v2/studies/{nct_id}\")\n",
    "    trial_json = trial.json()\n",
    "    return trial_json"
   ]
  },
  {
   "cell_type": "code",
   "execution_count": 9,
   "id": "caef252e",
   "metadata": {},
   "outputs": [],
   "source": [
    "list_of_nct_id = [\n",
    "    \"NCT01720524\",\n",
    "    \"NCT01942135\",\n",
    "    \"NCT01945775\",\n",
    "    \"NCT01964716\",\n",
    "    \"NCT02130557\",\n",
    "    \"NCT02187744\",\n",
    "    \"NCT02367456\",\n",
    "    \"NCT02603432\",\n",
    "    \"NCT03090191\",\n",
    "]\n",
    "\n",
    "def get_downloaded_json(list_of_nct_id):\n",
    "    downloaded_json = []\n",
    "    for nct_id in list_of_nct_id:\n",
    "        trial = get_trial(nct_id)\n",
    "        downloaded_json.append(trial)\n",
    "        # save locally for reference\n",
    "        with open(f\"{nct_id}.json\", \"w\") as f:\n",
    "            json.dump(trial, f, indent=4)\n",
    "    return downloaded_json\n",
    "\n",
    "downloaded_json = get_downloaded_json(list_of_nct_id)\n",
    "# downloaded_json[3]"
   ]
  },
  {
   "cell_type": "markdown",
   "id": "8c098cf2",
   "metadata": {},
   "source": [
    "## For each trial, extract a  subset of the data, save to a list\n",
    "extract_from_json() function found in imported utils"
   ]
  },
  {
   "cell_type": "code",
   "execution_count": 10,
   "id": "6e06d1b1",
   "metadata": {},
   "outputs": [],
   "source": [
    "def list_from_extracted_json(downloaded_json):    \n",
    "    documents_list  = []\n",
    "    for json_file in downloaded_json:\n",
    "        extracted_json = extract_from_json(json_file)\n",
    "        nct_id = json_file['protocolSection']['identificationModule']['nctId']\n",
    "        # save manipulated JSON file to disk for review\n",
    "        save_path = f\"{nct_id}_extracted.json\"\n",
    "        with open(save_path, \"w\") as f:\n",
    "            json.dump(extracted_json, f, indent=4)\n",
    "        # prepare for indexing\n",
    "        documents_list.append(extracted_json)\n",
    "    return documents_list\n",
    "    \n",
    "documents_list = list_from_extracted_json(downloaded_json)\n",
    "# len(documents_list)"
   ]
  },
  {
   "cell_type": "markdown",
   "id": "3e02a575",
   "metadata": {},
   "source": [
    "### Metadata fields"
   ]
  },
  {
   "cell_type": "code",
   "execution_count": 13,
   "id": "9f63e03b",
   "metadata": {},
   "outputs": [],
   "source": [
    "# all the keys (for metadata)\n",
    "all_keys = list(documents_list[0].keys())\n",
    "# all_keys"
   ]
  },
  {
   "cell_type": "code",
   "execution_count": 16,
   "id": "4b4c9ec9",
   "metadata": {},
   "outputs": [],
   "source": [
    "# to adjust the metadata keys used\n",
    "llm_keys_to_incude = [\n",
    "    \"Brief title\",\n",
    "    \"National Clinical Identification NCT ID\",\n",
    "    \"Lead sponsor\",\n",
    "    \"Arms group 0 intervention names\",\n",
    "    \"Enrollment count\",\n",
    "]\n",
    "\n",
    "llm_keys_to_exclude = [key for key in all_keys if key not in llm_keys_to_incude]\n",
    "\n",
    "# for simplicity, do the same for embedding_keys_to_exclude (in this example)\n",
    "embedding_keys_to_exclude = llm_keys_to_exclude"
   ]
  },
  {
   "cell_type": "code",
   "execution_count": 17,
   "id": "3945b102",
   "metadata": {},
   "outputs": [
    {
     "data": {
      "text/plain": [
       "['Organization study identification',\n",
       " 'EudraCT number',\n",
       " 'Organization',\n",
       " 'Organization class',\n",
       " 'Official title',\n",
       " 'Overall status',\n",
       " 'Start date',\n",
       " 'Primary completion date',\n",
       " 'Completion date',\n",
       " 'Verification date',\n",
       " 'Study first submitted date',\n",
       " 'Results first submitted date',\n",
       " 'Last update submitted date',\n",
       " 'Last update posted date',\n",
       " 'Lead sponsor class',\n",
       " 'Brief summary',\n",
       " 'Detailed description',\n",
       " 'Condition',\n",
       " 'Conditions keywords',\n",
       " 'Study type',\n",
       " 'Phases',\n",
       " 'Allocation',\n",
       " 'Intervention model',\n",
       " 'Primary purpose',\n",
       " 'Masking',\n",
       " 'Who is masked',\n",
       " 'Enrollment type',\n",
       " 'Arms group 0 label',\n",
       " 'Arms group 0 type',\n",
       " 'Arms group 1 label',\n",
       " 'Arms group 1 type',\n",
       " 'Arms group 1 intervention names',\n",
       " 'Arms group 0 intervention type',\n",
       " 'Arms group 0 intervention name',\n",
       " 'Arms group 0 intervention labels',\n",
       " 'Arms group 1 intervention type',\n",
       " 'Arms group 1 intervention name',\n",
       " 'Arms group 1 intervention labels',\n",
       " 'Primary outcome',\n",
       " 'Primary outcome time frame',\n",
       " 'Secondary outcome 0 measure',\n",
       " 'Secondary outcome 0 time frame',\n",
       " 'Secondary outcome 1 measure',\n",
       " 'Secondary outcome 1 time frame',\n",
       " 'Secondary outcome 2 measure',\n",
       " 'Secondary outcome 2 time frame',\n",
       " 'Secondary outcome 3 measure',\n",
       " 'Secondary outcome 3 time frame',\n",
       " 'Secondary outcome 4 measure',\n",
       " 'Secondary outcome 4 time frame',\n",
       " 'Secondary outcome 5 measure',\n",
       " 'Secondary outcome 5 time frame',\n",
       " 'Secondary outcome 6 measure',\n",
       " 'Secondary outcome 6 time frame',\n",
       " 'Secondary outcome 7 measure',\n",
       " 'Secondary outcome 7 time frame',\n",
       " 'Secondary outcome 8 measure',\n",
       " 'Secondary outcome 8 time frame',\n",
       " 'Secondary outcome 9 measure',\n",
       " 'Secondary outcome 9 time frame',\n",
       " 'Secondary outcome 10 measure',\n",
       " 'Secondary outcome 10 time frame',\n",
       " 'Secondary outcome 11 measure',\n",
       " 'Secondary outcome 11 time frame',\n",
       " 'Secondary outcome 12 measure',\n",
       " 'Secondary outcome 12 time frame',\n",
       " 'Secondary outcome 13 measure',\n",
       " 'Secondary outcome 13 time frame',\n",
       " 'Secondary outcome 14 measure',\n",
       " 'Secondary outcome 14 time frame',\n",
       " 'Secondary outcome 15 measure',\n",
       " 'Secondary outcome 15 time frame',\n",
       " 'Secondary outcome 16 measure',\n",
       " 'Secondary outcome 16 time frame',\n",
       " 'Secondary outcome 17 measure',\n",
       " 'Secondary outcome 17 time frame',\n",
       " 'Secondary outcome 18 measure',\n",
       " 'Secondary outcome 18 time frame',\n",
       " 'Secondary outcome 19 measure',\n",
       " 'Secondary outcome 19 time frame',\n",
       " 'Secondary outcome 20 measure',\n",
       " 'Secondary outcome 20 time frame',\n",
       " 'Secondary outcome 21 measure',\n",
       " 'Secondary outcome 21 time frame',\n",
       " 'Secondary outcome 22 measure',\n",
       " 'Secondary outcome 22 time frame',\n",
       " 'Secondary outcome 23 measure',\n",
       " 'Secondary outcome 23 time frame',\n",
       " 'Secondary outcome 24 measure',\n",
       " 'Secondary outcome 24 time frame',\n",
       " 'Secondary outcome 25 measure',\n",
       " 'Secondary outcome 25 time frame',\n",
       " 'Secondary outcome 26 measure',\n",
       " 'Secondary outcome 26 time frame',\n",
       " 'Secondary outcome 27 measure',\n",
       " 'Secondary outcome 27 time frame',\n",
       " 'Secondary outcome 28 measure',\n",
       " 'Secondary outcome 28 time frame',\n",
       " 'Secondary outcome 29 measure',\n",
       " 'Secondary outcome 29 time frame',\n",
       " 'Eligibility criteria',\n",
       " 'Eligibility of healthy volunteer',\n",
       " 'Eligibility sex',\n",
       " 'Eligibility minimum age',\n",
       " 'Eligibility standard age',\n",
       " 'Pre-assignment details',\n",
       " 'Recruitment details',\n",
       " 'Recruitment group 0 id',\n",
       " 'Recruitment group 0 title',\n",
       " 'Recruitment group 0 description',\n",
       " 'Recruitment group 1 id',\n",
       " 'Recruitment group 1 title',\n",
       " 'Recruitment group 1 description',\n",
       " 'Primary outcome group p-value',\n",
       " 'Primary outcome group statistical method',\n",
       " 'Primary outcome group statistical method parameter type',\n",
       " 'Primary outcome group statistical method parameter value',\n",
       " 'Limitations and caveats',\n",
       " 'Has results']"
      ]
     },
     "execution_count": 17,
     "metadata": {},
     "output_type": "execute_result"
    }
   ],
   "source": [
    "# llm_keys_to_exclude \n",
    "# embedding_keys_to_exclude"
   ]
  },
  {
   "cell_type": "markdown",
   "id": "78a5d6ba",
   "metadata": {},
   "source": [
    "## Llama index"
   ]
  },
  {
   "cell_type": "markdown",
   "id": "35fc22cd",
   "metadata": {},
   "source": [
    "### embedding type"
   ]
  },
  {
   "cell_type": "code",
   "execution_count": 18,
   "id": "fb9ce292",
   "metadata": {},
   "outputs": [],
   "source": [
    "# embed_model = OpenAIEmbedding(model=\"text-embedding-3-small\", dimensions=256)\n",
    "\n",
    "# embed_model = NomicEmbedding(\n",
    "#     api_key=nomic_api_key,\n",
    "#     dimensionality=128,\n",
    "#     model_name=\"nomic-embed-text-v1.5\",\n",
    "# )\n",
    "# embedding = embed_model.get_text_embedding(\"Nomic Embeddings\")\n",
    "\n",
    "# using this as baseline standard\n",
    "embed_model = OpenAIEmbedding(model=\"text-embedding-ada-002\")"
   ]
  },
  {
   "cell_type": "markdown",
   "id": "c46ae093",
   "metadata": {},
   "source": [
    "### model type"
   ]
  },
  {
   "cell_type": "code",
   "execution_count": 19,
   "id": "50892a9e",
   "metadata": {},
   "outputs": [],
   "source": [
    "# using this as baseline standard\n",
    "# llm = OpenAI()\n",
    "llm = OpenAI(temperature=0.1, model=\"gpt-3.5-turbo\", max_tokens=512)"
   ]
  },
  {
   "cell_type": "markdown",
   "id": "3b498df7",
   "metadata": {},
   "source": [
    "### global settings"
   ]
  },
  {
   "cell_type": "code",
   "execution_count": 20,
   "id": "7000306d",
   "metadata": {},
   "outputs": [],
   "source": [
    "Settings.llm = llm\n",
    "Settings.embed_model = embed_model"
   ]
  },
  {
   "cell_type": "markdown",
   "id": "145c0507",
   "metadata": {},
   "source": [
    "### add metadata"
   ]
  },
  {
   "cell_type": "code",
   "execution_count": 21,
   "id": "511943a0",
   "metadata": {},
   "outputs": [],
   "source": [
    "# NOTE:  metata data must be one of (str, int, float, None)\n",
    "# use json.dumps() to convert lists and dictionaries into strings\n",
    "\n",
    "def create_llama_docs(documents_list):\n",
    "    llama_documents = []\n",
    "\n",
    "    for trial in documents_list:\n",
    "        trial[\"Brief title\"] = json.dumps(trial[\"Brief title\"])\n",
    "        trial[\"Official title\"] = json.dumps(trial[\"Official title\"])\n",
    "        trial[\"Brief summary\"] = json.dumps(trial[\"Brief summary\"])\n",
    "        trial[\"Detailed description\"] = json.dumps(trial[\"Detailed description\"])\n",
    "        trial[\"Arms group 0 intervention name\"] = json.dumps(trial[\"Arms group 0 intervention name\"])\n",
    "        trial[\"Arms group 1 intervention name\"] = json.dumps(trial[\"Arms group 1 intervention name\"])\n",
    "        trial[\"Eligibility minimum age\"] = json.dumps(trial[\"Eligibility minimum age\"])\n",
    "        trial[\"Organization\"] = json.dumps(trial[\"Organization\"])\n",
    "\n",
    "        # create a Llama Document object \n",
    "        # with text and excluded meta data for llm and embedding model\n",
    "        llama_document = Document(\n",
    "            text=trial[\"Detailed description\"],\n",
    "#             text=json.dumps(trial), #<== testing\n",
    "            metadata=trial,\n",
    "            excluded_llm_metadata_keys=llm_keys_to_exclude,\n",
    "            excluded_embed_metadata_keys=embedding_keys_to_exclude ,\n",
    "            metadata_template=\"{key}=>{value}\",\n",
    "            text_template=\"Metadata:\\n{metadata_str}\\n===========================\\nContent: \\n{content}\"\n",
    "        )\n",
    "        llama_documents.append(llama_document)\n",
    "    \n",
    "    return llama_documents\n",
    "\n",
    "llama_documents = create_llama_docs(documents_list)"
   ]
  },
  {
   "cell_type": "code",
   "execution_count": 22,
   "id": "adf15760",
   "metadata": {},
   "outputs": [
    {
     "name": "stdout",
     "output_type": "stream",
     "text": [
      "Metadata:\n",
      "National Clinical Identification NCT ID=>NCT02130557\n",
      "Brief title=>\"A Multicenter Phase 3, Open-Label Study of Bosutinib Versus Imatinib in Adult Patients With Newly Diagnosed Chronic Phase Chronic Myelogenous Leukemia\"\n",
      "Lead sponsor=>Pfizer\n",
      "Enrollment count=>536\n",
      "Arms group 0 intervention names=>['Drug: Bosutinib']\n",
      "Primary outcome group identifications=>['OG000', 'OG001']\n",
      "Primary outcome group description=>A total sample size of 500 Ph+ participants is required for the study to provide \\>= 90% power to detect at least 15% difference (assuming 25% in the imatinib vs 40% in the bosutinib arm) in the MMR rates at 12 months (48 weeks) with a 1-sided alpha of 2.5%, and 2 interim futility analyses at 33% and 66% of patients with adequate follow-up with early stopping for futility only (non-binding, O'Brien-Fleming analog beta spending function).\n",
      "Primary outcome group confidence interval percentage value=>95\n",
      "Primary outcome group confidence interval lower limit=>1.072\n",
      "Primary outcome group confidence interval upper limit=>2.233\n",
      "Primary outcome group estimate comment=>95% Confidence Interval (CI) for the odds ratio adjusted for sokal risk group and region are based on Mantel-Haenszel confidence limits.\n",
      "===========================\n",
      "Content: \n",
      "\"The study will be open for enrollment until the planned number of approximately 500 Philadelphia Chromosome Positive (Ph+) patients have been randomized (approximately 250 Ph+ patients in each treatment arm; a total of approximately 530 Ph+ and Ph- patients). All patients will be treated and/or followed for approximately 5 years (240 weeks) after randomization until the study has closed. Patients who discontinue study therapy early due to disease progression or intolerance to study medication will continue to be followed yearly for survival for up to approximately 5 years (240 weeks) after randomization.\"\n"
     ]
    }
   ],
   "source": [
    "# Example —LLM sees this:\n",
    "print(llama_documents[4].get_content(metadata_mode=MetadataMode.LLM))"
   ]
  },
  {
   "cell_type": "code",
   "execution_count": 23,
   "id": "ab6baf3c",
   "metadata": {},
   "outputs": [
    {
     "name": "stdout",
     "output_type": "stream",
     "text": [
      "Metadata:\n",
      "National Clinical Identification NCT ID=>NCT02130557\n",
      "Brief title=>\"A Multicenter Phase 3, Open-Label Study of Bosutinib Versus Imatinib in Adult Patients With Newly Diagnosed Chronic Phase Chronic Myelogenous Leukemia\"\n",
      "Lead sponsor=>Pfizer\n",
      "Enrollment count=>536\n",
      "Arms group 0 intervention names=>['Drug: Bosutinib']\n",
      "Primary outcome group identifications=>['OG000', 'OG001']\n",
      "Primary outcome group description=>A total sample size of 500 Ph+ participants is required for the study to provide \\>= 90% power to detect at least 15% difference (assuming 25% in the imatinib vs 40% in the bosutinib arm) in the MMR rates at 12 months (48 weeks) with a 1-sided alpha of 2.5%, and 2 interim futility analyses at 33% and 66% of patients with adequate follow-up with early stopping for futility only (non-binding, O'Brien-Fleming analog beta spending function).\n",
      "Primary outcome group confidence interval percentage value=>95\n",
      "Primary outcome group confidence interval lower limit=>1.072\n",
      "Primary outcome group confidence interval upper limit=>2.233\n",
      "Primary outcome group estimate comment=>95% Confidence Interval (CI) for the odds ratio adjusted for sokal risk group and region are based on Mantel-Haenszel confidence limits.\n",
      "===========================\n",
      "Content: \n",
      "\"The study will be open for enrollment until the planned number of approximately 500 Philadelphia Chromosome Positive (Ph+) patients have been randomized (approximately 250 Ph+ patients in each treatment arm; a total of approximately 530 Ph+ and Ph- patients). All patients will be treated and/or followed for approximately 5 years (240 weeks) after randomization until the study has closed. Patients who discontinue study therapy early due to disease progression or intolerance to study medication will continue to be followed yearly for survival for up to approximately 5 years (240 weeks) after randomization.\"\n"
     ]
    }
   ],
   "source": [
    "# Example — Embedding model sees this:\n",
    "print(llama_documents[4].get_content(metadata_mode=MetadataMode.EMBED))"
   ]
  },
  {
   "cell_type": "markdown",
   "id": "b6c5ad18",
   "metadata": {},
   "source": [
    "## Embedding"
   ]
  },
  {
   "cell_type": "code",
   "execution_count": 24,
   "id": "13c22a1a",
   "metadata": {},
   "outputs": [],
   "source": [
    "def create_nodes(llama_documents):\n",
    "#     parser = SentenceSplitter(chunk_size=2560,chunk_overlap=32) # <== adjust\n",
    "    parser = SentenceSplitter(chunk_size=512,chunk_overlap=20) # <== adjust\n",
    "    nodes = parser.get_nodes_from_documents(llama_documents)\n",
    "\n",
    "    for node in nodes:\n",
    "        node_embedding = embed_model.get_text_embedding(\n",
    "            node.get_content(metadata_mode=MetadataMode.EMBED)\n",
    "        )\n",
    "        node.embedding = node_embedding\n",
    "\n",
    "    return nodes\n",
    "\n",
    "nodes = create_nodes(llama_documents)"
   ]
  },
  {
   "cell_type": "markdown",
   "id": "1bf0e579",
   "metadata": {},
   "source": [
    "## Chroma"
   ]
  },
  {
   "cell_type": "code",
   "execution_count": 25,
   "id": "c8c6826f",
   "metadata": {},
   "outputs": [
    {
     "name": "stdout",
     "output_type": "stream",
     "text": [
      "Looking for the CLINICAL_RAG collection in the database...\n",
      "CLINICAL_RAG collection WAS NOT FOUND in Chroma DB, creating...\n",
      "Creating vector store...\n",
      "Creating vector store index\n",
      "record count: 9\n"
     ]
    }
   ],
   "source": [
    "# Chroma DB collection name\n",
    "COLLECTION_NAME = \"CLINICAL_RAG\"\n",
    "\n",
    "db = chromadb.PersistentClient(path=\"chroma_db\")\n",
    "print(f\"Looking for the {COLLECTION_NAME} collection in the database...\" )\n",
    "if COLLECTION_NAME not in [col.name for col in db.list_collections()]:\n",
    "    print(f\"{COLLECTION_NAME} collection WAS NOT FOUND in Chroma DB, creating...\")\n",
    "    chroma_collection = db.create_collection(COLLECTION_NAME)\n",
    "    print(\"Creating vector store...\")\n",
    "    vector_store = ChromaVectorStore(chroma_collection=chroma_collection)\n",
    "    storage_context = StorageContext.from_defaults(vector_store=vector_store)\n",
    "    print(\"Creating vector store index\")\n",
    "    VectorStoreIndex(\n",
    "        nodes=nodes,\n",
    "        storage_context=storage_context,\n",
    "        store_nodes_override=True\n",
    "    )\n",
    "    record_count = chroma_collection.count()\n",
    "    print(f\"record count: {record_count}\")   \n",
    "    \n",
    "else:\n",
    "    print(f\"{COLLECTION_NAME} collection WAS FOUND in Chroma DB\")\n",
    "    COLLECTION_NAME = db.get_collection(COLLECTION_NAME)\n",
    "    vector_store = ChromaVectorStore(chroma_collection=COLLECTION_NAME)\n",
    "    print(\"Restoring vector store index from the collection...\")\n",
    "    index = VectorStoreIndex.from_vector_store(\n",
    "        vector_store=vector_store,\n",
    "        embed_model=embed_model,\n",
    "        store_nodes_override=True\n",
    "    )\n",
    "    record_count = COLLECTION_NAME.count()\n",
    "    print(f\"record count: {record_count}\")"
   ]
  },
  {
   "cell_type": "markdown",
   "id": "0cce45d1",
   "metadata": {},
   "source": [
    "###  retrieve from Chroma DB and Query"
   ]
  },
  {
   "cell_type": "code",
   "execution_count": 26,
   "id": "e732d908",
   "metadata": {},
   "outputs": [],
   "source": [
    "index = VectorStoreIndex.from_vector_store(vector_store)  "
   ]
  },
  {
   "cell_type": "markdown",
   "id": "f89dad8d",
   "metadata": {},
   "source": [
    "#### Q1"
   ]
  },
  {
   "cell_type": "code",
   "execution_count": 27,
   "id": "a452db6b",
   "metadata": {},
   "outputs": [
    {
     "data": {
      "text/markdown": [
       "**`Final Response:`** NCT01720524, NCT01942135, NCT01945775, NCT01964716, NCT02130557, NCT02187744, NCT02367456, NCT02603432, NCT03090191. There are 9 different NCT IDs in total."
      ],
      "text/plain": [
       "<IPython.core.display.Markdown object>"
      ]
     },
     "metadata": {},
     "output_type": "display_data"
    }
   ],
   "source": [
    "query_engine = index.as_query_engine(similarity_top_k=record_count) # <== set k=total number of records\n",
    "\n",
    "query = \"List the different NCT ID in ascending order. How many is that?\"\n",
    "response = query_engine.query(query)\n",
    "display_response(response)\n"
   ]
  },
  {
   "cell_type": "code",
   "execution_count": null,
   "id": "ec9b93c5",
   "metadata": {},
   "outputs": [],
   "source": [
    "# True answer\n",
    "list_of_nct_id = [\n",
    "    \"NCT01720524\",\n",
    "    \"NCT01942135\",\n",
    "    \"NCT01945775\",\n",
    "    \"NCT01964716\",\n",
    "    \"NCT02130557\",\n",
    "    \"NCT02187744\",\n",
    "    \"NCT02367456\",\n",
    "    \"NCT02603432\",\n",
    "    \"NCT03090191\",\n",
    "]\n",
    "# response: High Precision - all correct, High Recall - all retrieved"
   ]
  },
  {
   "cell_type": "markdown",
   "id": "dcb55a2c",
   "metadata": {},
   "source": [
    "#### Q2"
   ]
  },
  {
   "cell_type": "code",
   "execution_count": 28,
   "id": "03d38d6f",
   "metadata": {},
   "outputs": [
    {
     "data": {
      "text/markdown": [
       "**`Final Response:`** There are two NCT IDs related to Leukemia. They are NCT02130557 and NCT02367456."
      ],
      "text/plain": [
       "<IPython.core.display.Markdown object>"
      ]
     },
     "metadata": {},
     "output_type": "display_data"
    }
   ],
   "source": [
    "query_engine = index.as_query_engine(similarity_top_k=3) \n",
    "query = \"How many NCT ID related to Leukemia? Which are they?\"\n",
    "response = query_engine.query(query)\n",
    "display_response(response)\n"
   ]
  },
  {
   "cell_type": "code",
   "execution_count": 29,
   "id": "d2e8f421",
   "metadata": {},
   "outputs": [],
   "source": [
    "# True answer\n",
    "# \"NCT02130557\",  \"NCT02367456\",\n",
    "# response: correct"
   ]
  },
  {
   "cell_type": "markdown",
   "id": "000a74a0",
   "metadata": {},
   "source": [
    "### Focus on one study"
   ]
  },
  {
   "cell_type": "markdown",
   "id": "41f4fb82",
   "metadata": {},
   "source": [
    "#### Q3"
   ]
  },
  {
   "cell_type": "code",
   "execution_count": 30,
   "id": "9f52217d",
   "metadata": {},
   "outputs": [
    {
     "data": {
      "text/markdown": [
       "**`Final Response:`** The lead sponsor of NCT02130557 was Pfizer."
      ],
      "text/plain": [
       "<IPython.core.display.Markdown object>"
      ]
     },
     "metadata": {},
     "output_type": "display_data"
    }
   ],
   "source": [
    "query_engine = index.as_query_engine(similarity_top_k=3)\n",
    "\n",
    "query = \"Who was the lead sponsor of NCT02130557?\"\n",
    "response = query_engine.query(query)\n",
    "display_response(response)"
   ]
  },
  {
   "cell_type": "code",
   "execution_count": 31,
   "id": "543a03e4",
   "metadata": {},
   "outputs": [],
   "source": [
    "# Correct, but too easy, right?"
   ]
  },
  {
   "cell_type": "markdown",
   "id": "b854af06",
   "metadata": {},
   "source": [
    "#### Q4"
   ]
  },
  {
   "cell_type": "code",
   "execution_count": 32,
   "id": "9d965db2",
   "metadata": {},
   "outputs": [
    {
     "data": {
      "text/markdown": [
       "**`Final Response:`** The intervention studied in NCT02130557 was Drug: Bosutinib."
      ],
      "text/plain": [
       "<IPython.core.display.Markdown object>"
      ]
     },
     "metadata": {},
     "output_type": "display_data"
    }
   ],
   "source": [
    "query_engine = index.as_query_engine(similarity_top_k=6) # <==note k\n",
    "\n",
    "query = \"What intervention was studied in NCT02130557?\"\n",
    "response = query_engine.query(query)\n",
    "display_response(response)"
   ]
  },
  {
   "cell_type": "code",
   "execution_count": 33,
   "id": "fc6f6aa9",
   "metadata": {},
   "outputs": [],
   "source": [
    "# True answer: Bosutinib\n",
    "# response:  correct\n",
    "# in a previous iteration, wrong answers with these embeddings:</span><br>\n",
    "# (\"text-embedding-3-small\", dimensions=256)<br>\n",
    "# (\"Nomic Embeddings\")"
   ]
  },
  {
   "cell_type": "markdown",
   "id": "98f269b1",
   "metadata": {},
   "source": [
    "#### Q5"
   ]
  },
  {
   "cell_type": "code",
   "execution_count": 34,
   "id": "49e412dd",
   "metadata": {},
   "outputs": [
    {
     "data": {
      "text/markdown": [
       "**`Final Response:`** 536"
      ],
      "text/plain": [
       "<IPython.core.display.Markdown object>"
      ]
     },
     "metadata": {},
     "output_type": "display_data"
    }
   ],
   "source": [
    "query_engine = index.as_query_engine(similarity_top_k=7) # <==note k\n",
    "\n",
    "query = \"What was the enrollment count for NCT02130557?\"\n",
    "response = query_engine.query(query)\n",
    "display_response(response)"
   ]
  },
  {
   "cell_type": "code",
   "execution_count": 35,
   "id": "850f26bc",
   "metadata": {},
   "outputs": [],
   "source": [
    "# True answer: 536\n",
    "# response:  correct"
   ]
  },
  {
   "cell_type": "markdown",
   "id": "038b772a",
   "metadata": {},
   "source": [
    "###  Q6 - [WIP] not checked, not developed, but fun to do"
   ]
  },
  {
   "cell_type": "code",
   "execution_count": 36,
   "id": "25be0f8a",
   "metadata": {},
   "outputs": [
    {
     "name": "stdout",
     "output_type": "stream",
     "text": [
      "1: What type of cancer does CML stand for?\n"
     ]
    },
    {
     "data": {
      "text/markdown": [
       "**`Final Response:`** Chronic Myelogenous Leukemia"
      ],
      "text/plain": [
       "<IPython.core.display.Markdown object>"
      ]
     },
     "metadata": {},
     "output_type": "display_data"
    },
    {
     "name": "stdout",
     "output_type": "stream",
     "text": [
      "2: Where in the body does CML cancer start?\n"
     ]
    },
    {
     "data": {
      "text/markdown": [
       "**`Final Response:`** CML cancer starts in the bone marrow."
      ],
      "text/plain": [
       "<IPython.core.display.Markdown object>"
      ]
     },
     "metadata": {},
     "output_type": "display_data"
    },
    {
     "name": "stdout",
     "output_type": "stream",
     "text": [
      "3: What protein causes CML cancer?\n"
     ]
    },
    {
     "data": {
      "text/markdown": [
       "**`Final Response:`** BCR-ABL oncogene"
      ],
      "text/plain": [
       "<IPython.core.display.Markdown object>"
      ]
     },
     "metadata": {},
     "output_type": "display_data"
    },
    {
     "name": "stdout",
     "output_type": "stream",
     "text": [
      "4: What does the drug bosutinib target or block?\n"
     ]
    },
    {
     "data": {
      "text/markdown": [
       "**`Final Response:`** The drug bosutinib targets or blocks certain proteins known as tyrosine kinases."
      ],
      "text/plain": [
       "<IPython.core.display.Markdown object>"
      ]
     },
     "metadata": {},
     "output_type": "display_data"
    },
    {
     "name": "stdout",
     "output_type": "stream",
     "text": [
      "5: What two drugs were compared in this clinical trial?\n"
     ]
    },
    {
     "data": {
      "text/markdown": [
       "**`Final Response:`** Bosutinib and Imatinib were compared in this clinical trial."
      ],
      "text/plain": [
       "<IPython.core.display.Markdown object>"
      ]
     },
     "metadata": {},
     "output_type": "display_data"
    },
    {
     "name": "stdout",
     "output_type": "stream",
     "text": [
      "6: What was the purpose of conducting this clinical trial?\n"
     ]
    },
    {
     "data": {
      "text/markdown": [
       "**`Final Response:`** The purpose of conducting this clinical trial was to evaluate the safety and efficacy of IV Sildenafil in the treatment of neonates with persistent pulmonary hypertension of the newborn."
      ],
      "text/plain": [
       "<IPython.core.display.Markdown object>"
      ]
     },
     "metadata": {},
     "output_type": "display_data"
    },
    {
     "name": "stdout",
     "output_type": "stream",
     "text": [
      "7: What is a major molecular response (MMR)?\n"
     ]
    },
    {
     "data": {
      "text/markdown": [
       "**`Final Response:`** A major molecular response (MMR) is typically defined as a significant reduction in the amount of BCR-ABL transcripts in the blood of patients with chronic myelogenous leukemia (CML). It is an important indicator of treatment response and is often measured by the percentage decrease in BCR-ABL transcripts from baseline levels."
      ],
      "text/plain": [
       "<IPython.core.display.Markdown object>"
      ]
     },
     "metadata": {},
     "output_type": "display_data"
    },
    {
     "name": "stdout",
     "output_type": "stream",
     "text": [
      "8: How long was the initial treatment period in this trial?\n"
     ]
    },
    {
     "data": {
      "text/markdown": [
       "**`Final Response:`** Patients in this trial were planned to be treated and/or followed for approximately 5 years (240 weeks) after randomization until the study closed."
      ],
      "text/plain": [
       "<IPython.core.display.Markdown object>"
      ]
     },
     "metadata": {},
     "output_type": "display_data"
    },
    {
     "name": "stdout",
     "output_type": "stream",
     "text": [
      "9: How many countries participated in this clinical trial?\n"
     ]
    },
    {
     "data": {
      "text/markdown": [
       "**`Final Response:`** The clinical trial mentioned in the context does not provide information about the number of countries that participated."
      ],
      "text/plain": [
       "<IPython.core.display.Markdown object>"
      ]
     },
     "metadata": {},
     "output_type": "display_data"
    },
    {
     "name": "stdout",
     "output_type": "stream",
     "text": [
      "10: When did this clinical trial start and end?\n"
     ]
    },
    {
     "data": {
      "text/markdown": [
       "**`Final Response:`** The clinical trial started when the planned number of approximately 500 Philadelphia Chromosome Positive (Ph+) patients were randomized and is expected to end after approximately 5 years (240 weeks) after randomization until the study has closed."
      ],
      "text/plain": [
       "<IPython.core.display.Markdown object>"
      ]
     },
     "metadata": {},
     "output_type": "display_data"
    },
    {
     "name": "stdout",
     "output_type": "stream",
     "text": [
      "11: What were the inclusion criteria to participate in this trial?\n"
     ]
    },
    {
     "data": {
      "text/markdown": [
       "**`Final Response:`** The inclusion criteria to participate in this trial were being an adult patient with newly diagnosed chronic phase chronic myelogenous leukemia."
      ],
      "text/plain": [
       "<IPython.core.display.Markdown object>"
      ]
     },
     "metadata": {},
     "output_type": "display_data"
    },
    {
     "name": "stdout",
     "output_type": "stream",
     "text": [
      "12: How many total participants started the study?\n"
     ]
    },
    {
     "data": {
      "text/markdown": [
       "**`Final Response:`** Approximately 536 participants started the study."
      ],
      "text/plain": [
       "<IPython.core.display.Markdown object>"
      ]
     },
     "metadata": {},
     "output_type": "display_data"
    },
    {
     "name": "stdout",
     "output_type": "stream",
     "text": [
      "13: What percentage of participants achieved MMR at 48 weeks on bosutinib vs imatinib?\n"
     ]
    },
    {
     "data": {
      "text/markdown": [
       "**`Final Response:`** The percentage of participants who achieved MMR at 48 weeks on bosutinib was estimated to be between 1.072% and 2.233%, while on imatinib, it was assumed to be 25%."
      ],
      "text/plain": [
       "<IPython.core.display.Markdown object>"
      ]
     },
     "metadata": {},
     "output_type": "display_data"
    },
    {
     "name": "stdout",
     "output_type": "stream",
     "text": [
      "14: What percentage of participants had at least 1 medical problem during the trial?\n"
     ]
    },
    {
     "data": {
      "text/markdown": [
       "**`Final Response:`** The percentage of participants who had at least 1 medical problem during the trial is not explicitly provided in the context information."
      ],
      "text/plain": [
       "<IPython.core.display.Markdown object>"
      ]
     },
     "metadata": {},
     "output_type": "display_data"
    },
    {
     "name": "stdout",
     "output_type": "stream",
     "text": [
      "15: What were the most common medical problems reported in each treatment group?\n"
     ]
    },
    {
     "data": {
      "text/markdown": [
       "**`Final Response:`** The most common medical problems reported in the Clostridium difficile vaccine group were related to gastrointestinal issues, while in the Bosutinib group, the most common medical problems reported were associated with hematologic abnormalities."
      ],
      "text/plain": [
       "<IPython.core.display.Markdown object>"
      ]
     },
     "metadata": {},
     "output_type": "display_data"
    },
    {
     "name": "stdout",
     "output_type": "stream",
     "text": [
      "16: How many participants experienced serious medical problems?\n"
     ]
    },
    {
     "data": {
      "text/markdown": [
       "**`Final Response:`** None of the provided context information mentions any participants experiencing serious medical problems."
      ],
      "text/plain": [
       "<IPython.core.display.Markdown object>"
      ]
     },
     "metadata": {},
     "output_type": "display_data"
    },
    {
     "name": "stdout",
     "output_type": "stream",
     "text": [
      "17: How many deaths occurred during the trial and were any attributed to the drugs?\n"
     ]
    },
    {
     "data": {
      "text/markdown": [
       "**`Final Response:`** There is no information provided in the context regarding the number of deaths that occurred during the trial or whether any deaths were attributed to the drugs being studied."
      ],
      "text/plain": [
       "<IPython.core.display.Markdown object>"
      ]
     },
     "metadata": {},
     "output_type": "display_data"
    },
    {
     "name": "stdout",
     "output_type": "stream",
     "text": [
      "18: Why did participants stop or discontinue treatment during the trial?\n"
     ]
    },
    {
     "data": {
      "text/markdown": [
       "**`Final Response:`** Participants stopped or discontinued treatment during the trial due to reasons such as disease progression or intolerance to the study medication."
      ],
      "text/plain": [
       "<IPython.core.display.Markdown object>"
      ]
     },
     "metadata": {},
     "output_type": "display_data"
    },
    {
     "name": "stdout",
     "output_type": "stream",
     "text": [
      "19: How long could participants receive treatment for after the initial 5 year study period?\n"
     ]
    },
    {
     "data": {
      "text/markdown": [
       "**`Final Response:`** Participants could receive treatment for up to approximately 5 years (240 weeks) after the initial 5-year study period."
      ],
      "text/plain": [
       "<IPython.core.display.Markdown object>"
      ]
     },
     "metadata": {},
     "output_type": "display_data"
    },
    {
     "name": "stdout",
     "output_type": "stream",
     "text": [
      "20: Where can you learn more details about this clinical trial?\n"
     ]
    },
    {
     "data": {
      "text/markdown": [
       "**`Final Response:`** You can learn more details about this clinical trial by visiting the official website of the National Institutes of Health (NIH) and searching for the National Clinical Trial (NCT) ID provided in the metadata section."
      ],
      "text/plain": [
       "<IPython.core.display.Markdown object>"
      ]
     },
     "metadata": {},
     "output_type": "display_data"
    }
   ],
   "source": [
    "twenty_questions = [\n",
    "    \"What type of cancer does CML stand for?\",\n",
    "    \"Where in the body does CML cancer start?\",\n",
    "    \"What protein causes CML cancer?\",\n",
    "    \"What does the drug bosutinib target or block?\",\n",
    "    \"What two drugs were compared in this clinical trial?\",\n",
    "    \"What was the purpose of conducting this clinical trial?\",\n",
    "    \"What is a major molecular response (MMR)?\",\n",
    "    \"How long was the initial treatment period in this trial?\",\n",
    "    \"How many countries participated in this clinical trial?\",\n",
    "    \"When did this clinical trial start and end?\",\n",
    "    \"What were the inclusion criteria to participate in this trial?\",\n",
    "    \"How many total participants started the study?\",\n",
    "    \"What percentage of participants achieved MMR at 48 weeks on bosutinib vs imatinib?\",\n",
    "    \"What percentage of participants had at least 1 medical problem during the trial?\",\n",
    "    \"What were the most common medical problems reported in each treatment group?\",\n",
    "    \"How many participants experienced serious medical problems?\",\n",
    "    \"How many deaths occurred during the trial and were any attributed to the drugs?\",\n",
    "    \"Why did participants stop or discontinue treatment during the trial?\",\n",
    "    \"How long could participants receive treatment for after the initial 5 year study period?\",\n",
    "    \"Where can you learn more details about this clinical trial?\",\n",
    "]\n",
    "\n",
    "counter = 0\n",
    "query_engine = index.as_query_engine(similarity_top_k=3)\n",
    "for question in twenty_questions:\n",
    "    counter += 1\n",
    "    print(f\"{counter}: {question}\")\n",
    "    query = question\n",
    "    response = query_engine.query(query)\n",
    "    display_response(response)"
   ]
  },
  {
   "cell_type": "markdown",
   "id": "189e9f97",
   "metadata": {},
   "source": [
    "## Enhanced Prompts"
   ]
  },
  {
   "cell_type": "code",
   "execution_count": 37,
   "id": "4f905120",
   "metadata": {},
   "outputs": [],
   "source": [
    "PLS_prompt = \"Using everyday language to make the clinical results of a study meaningful and understandable to a lay person, rephrase this: \"\n",
    "expert_prompt = \"Emulate a PhD scientist and expert statistician to elaborate on the following: \""
   ]
  },
  {
   "cell_type": "code",
   "execution_count": 38,
   "id": "a296baee",
   "metadata": {},
   "outputs": [],
   "source": [
    "def get_response(query, prompt_1, prompt_2):\n",
    "\n",
    "    query_engine = index.as_query_engine(similarity_top_k=7) # <==note k\n",
    "\n",
    "    response = query_engine.query(query)\n",
    "    print(f\"Original response:\\n{response}\")\n",
    " \n",
    "    query_2 = prompt_1 + response.response\n",
    "    response_2 = query_engine.query(query_2)\n",
    "    print(f\"\\nPlain Language Summary:\\n{response_2}\")\n",
    "    \n",
    "    query_2 = prompt_2 + response.response\n",
    "    response_2 = query_engine.query(query_2)\n",
    "    print(f\"\\nExpert Analysis:\\n{response_2}\")"
   ]
  },
  {
   "cell_type": "code",
   "execution_count": 39,
   "id": "7bcad147",
   "metadata": {},
   "outputs": [
    {
     "name": "stdout",
     "output_type": "stream",
     "text": [
      "Original response:\n",
      "The purpose of study NCT02130557 was to compare the efficacy of Bosutinib versus Imatinib in adult patients with newly diagnosed Chronic Phase Chronic Myelogenous Leukemia.\n",
      "\n",
      "Plain Language Summary:\n",
      "The study NCT02130557 aimed to see if Bosutinib works better than Imatinib in adults who were recently diagnosed with Chronic Phase Chronic Myelogenous Leukemia.\n",
      "\n",
      "Expert Analysis:\n",
      "The purpose of study NCT02130557 was to investigate and compare the effectiveness of Bosutinib versus Imatinib in adult patients who were newly diagnosed with Chronic Phase Chronic Myelogenous Leukemia. The study aimed to enroll approximately 500 Philadelphia Chromosome Positive (Ph+) patients, with around 250 patients in each treatment arm. The primary outcome of the study was to detect a significant difference in the Major Molecular Response (MMR) rates at 12 months between the two treatment arms. The study design included interim futility analyses to assess the efficacy of the treatments and allowed for early stopping if deemed necessary. The study's statistical analysis involved adjusting for sokal risk group and region to provide a 95% Confidence Interval for the odds ratio, ensuring a robust evaluation of the efficacy of Bosutinib compared to Imatinib in this patient population.\n"
     ]
    }
   ],
   "source": [
    "query = \"What was the purpose of study NCT02130557?\"\n",
    "get_response(query, PLS_prompt, expert_prompt)"
   ]
  },
  {
   "cell_type": "markdown",
   "id": "529c8dff",
   "metadata": {},
   "source": [
    "## add record(s)\n",
    "no error thrown if records are dupes"
   ]
  },
  {
   "cell_type": "code",
   "execution_count": 40,
   "id": "a9c45512",
   "metadata": {},
   "outputs": [
    {
     "name": "stdout",
     "output_type": "stream",
     "text": [
      "record_count as is: 9\n"
     ]
    }
   ],
   "source": [
    "print(f\"record_count as is: {record_count}\")"
   ]
  },
  {
   "cell_type": "code",
   "execution_count": 41,
   "id": "9dc83727",
   "metadata": {},
   "outputs": [],
   "source": [
    "# new unrelateds trial\n",
    "list_of_nct_id = [\n",
    "    \"NCT00094887\", # Anemia, Sickle Cell\n",
    "    \"NCT00108953\", # Carcinoma, Hepatocellular\n",
    "]\n",
    "\n",
    "downloaded_json = get_downloaded_json(list_of_nct_id)\n",
    "documents_list = list_from_extracted_json(downloaded_json)"
   ]
  },
  {
   "cell_type": "code",
   "execution_count": 42,
   "id": "592cbff6",
   "metadata": {},
   "outputs": [],
   "source": [
    "# using previous functions \n",
    "llama_documents = create_llama_docs(documents_list)\n",
    "nodes = create_nodes(llama_documents)\n",
    "index.insert_nodes(nodes)"
   ]
  },
  {
   "cell_type": "code",
   "execution_count": 44,
   "id": "9ecaf53b",
   "metadata": {},
   "outputs": [
    {
     "name": "stdout",
     "output_type": "stream",
     "text": [
      "new DB record count: 11\n",
      "11\n"
     ]
    }
   ],
   "source": [
    "try:\n",
    "    print(f\"new DB record count: {chroma_collection.count()}\")\n",
    "    record_count = chroma_collection.count()\n",
    "    print(record_count)\n",
    "except:\n",
    "    print(f\"established DB record count: {COLLECTION_NAME.count()}\")\n",
    "    record_count = COLLECTION_NAME.count()\n",
    "    print(record_count)"
   ]
  },
  {
   "cell_type": "code",
   "execution_count": 45,
   "id": "0c98ab69",
   "metadata": {},
   "outputs": [
    {
     "data": {
      "text/markdown": [
       "**`Final Response:`** NCT00094887, NCT00108953, NCT01720524, NCT01942135, NCT01945775, NCT01964716, NCT02130557, NCT02187744, NCT02367456, NCT02603432, NCT03090191. There are 11 different NCT IDs in total."
      ],
      "text/plain": [
       "<IPython.core.display.Markdown object>"
      ]
     },
     "metadata": {},
     "output_type": "display_data"
    }
   ],
   "source": [
    "query_engine = index.as_query_engine(similarity_top_k=record_count) # <== set k=total number of records\n",
    "\n",
    "query = \"List the different NCT ID in ascending order. How many is that?\"\n",
    "response = query_engine.query(query)\n",
    "display_response(response)\n"
   ]
  },
  {
   "cell_type": "markdown",
   "id": "72a589fb",
   "metadata": {},
   "source": [
    "## Using CallbackManager & LlamaDebugHandler"
   ]
  },
  {
   "cell_type": "code",
   "execution_count": 46,
   "id": "eee22690",
   "metadata": {},
   "outputs": [],
   "source": [
    "from llama_index.core.callbacks import CallbackManager, LlamaDebugHandler\n",
    "\n",
    "# initiaalize debug handler and save to Settings\n",
    "llm_debug = LlamaDebugHandler()\n",
    "callback_manager = CallbackManager([llm_debug])\n",
    "Settings.callback_manager = callback_manager"
   ]
  },
  {
   "cell_type": "code",
   "execution_count": 47,
   "id": "3888db9b",
   "metadata": {},
   "outputs": [
    {
     "name": "stdout",
     "output_type": "stream",
     "text": [
      "**********\n",
      "Trace: query\n",
      "    |_CBEventType.QUERY ->  2.085385 seconds\n",
      "      |_CBEventType.SYNTHESIZE ->  1.202301 seconds\n",
      "        |_CBEventType.TEMPLATING ->  4.1e-05 seconds\n",
      "        |_CBEventType.LLM ->  1.199059 seconds\n",
      "**********\n",
      "There are two NCT IDs related to Leukemia. They are NCT02130557 and NCT02367456.\n",
      "system: You are an expert Q&A system that is trusted around the world.\n",
      "Always answer the query using the provided context information, and not prior knowledge.\n",
      "Some rules to follow:\n",
      "1. Never directly reference the given context in your answer.\n",
      "2. Avoid statements like 'Based on the context, ...' or 'The context information ...' or anything along those lines.\n",
      "\n",
      "\n",
      "\n",
      "user: Context information is below.\n",
      "---------------------\n",
      "Metadata:\n",
      "National Clinical Identification NCT ID=>NCT02130557\n",
      "Brief title=>\"A Multicenter Phase 3, Open-Label Study of Bosutinib Versus Imatinib in Adult Patients With Newly Diagnosed Chronic Phase Chronic Myelogenous Leukemia\"\n",
      "Lead sponsor=>Pfizer\n",
      "Enrollment count=>536\n",
      "Arms group 0 intervention names=>['Drug: Bosutinib']\n",
      "Primary outcome group identifications=>['OG000', 'OG001']\n",
      "Primary outcome group description=>A total sample size of 500 Ph+ participants is required for the study to provide \\>= 90% power to detect at least 15% difference (assuming 25% in the imatinib vs 40% in the bosutinib arm) in the MMR rates at 12 months (48 weeks) with a 1-sided alpha of 2.5%, and 2 interim futility analyses at 33% and 66% of patients with adequate follow-up with early stopping for futility only (non-binding, O'Brien-Fleming analog beta spending function).\n",
      "Primary outcome group confidence interval percentage value=>95\n",
      "Primary outcome group confidence interval lower limit=>1.072\n",
      "Primary outcome group confidence interval upper limit=>2.233\n",
      "Primary outcome group estimate comment=>95% Confidence Interval (CI) for the odds ratio adjusted for sokal risk group and region are based on Mantel-Haenszel confidence limits.\n",
      "===========================\n",
      "Content: \n",
      "\"The study will be open for enrollment until the planned number of approximately 500 Philadelphia Chromosome Positive (Ph+) patients have been randomized (approximately 250 Ph+ patients in each treatment arm; a total of approximately 530 Ph+ and Ph- patients). All patients will be treated and/or followed for approximately 5 years (240 weeks) after randomization until the study has closed. Patients who discontinue study therapy early due to disease progression or intolerance to study medication will continue to be followed yearly for survival for up to approximately 5 years (240 weeks) after randomization.\"\n",
      "\n",
      "Metadata:\n",
      "National Clinical Identification NCT ID=>NCT02367456\n",
      "Brief title=>\"A Combination Study of PF-04449913 (Glasdegib) and Azacitidine In Untreated MDS, AML and CMML Patients\"\n",
      "Lead sponsor=>Pfizer\n",
      "Enrollment count=>73\n",
      "Arms group 0 intervention names=>['Drug: PF-04449913 (Glasdegib)', 'Drug: Azacitidine']\n",
      "===========================\n",
      "Content: \n",
      "null\n",
      "---------------------\n",
      "Given the context information and not prior knowledge, answer the query.\n",
      "Query: How many NCT ID related to Leukemia? Which are they?\n",
      "Answer: \n"
     ]
    }
   ],
   "source": [
    "# helper function\n",
    "def print_in_out(in_out):\n",
    "\tprint(in_out[0][0].payload['messages'][0])\n",
    "\tprint(\"\\n\\n\")\n",
    "\tprint(in_out[0][0].payload['messages'][1])\n",
    "\n",
    "# whenever query_engine.query() is called\n",
    "query_engine = index.as_query_engine()\n",
    "query = \"How many NCT ID related to Leukemia? Which are they?\"\n",
    "response = query_engine.query(query)\n",
    "print(response)\n",
    "\n",
    "# print LLM debug info \n",
    "in_out = llm_debug.get_llm_inputs_outputs()\n",
    "print_in_out(in_out)"
   ]
  },
  {
   "cell_type": "code",
   "execution_count": null,
   "id": "bf86d35e",
   "metadata": {},
   "outputs": [],
   "source": []
  }
 ],
 "metadata": {
  "kernelspec": {
   "display_name": "Python [conda env:cap_h] *",
   "language": "python",
   "name": "conda-env-cap_h-py"
  },
  "language_info": {
   "codemirror_mode": {
    "name": "ipython",
    "version": 3
   },
   "file_extension": ".py",
   "mimetype": "text/x-python",
   "name": "python",
   "nbconvert_exporter": "python",
   "pygments_lexer": "ipython3",
   "version": "3.11.7"
  },
  "toc": {
   "base_numbering": 1,
   "nav_menu": {},
   "number_sections": true,
   "sideBar": true,
   "skip_h1_title": false,
   "title_cell": "Table of Contents",
   "title_sidebar": "Contents",
   "toc_cell": false,
   "toc_position": {},
   "toc_section_display": true,
   "toc_window_display": false
  }
 },
 "nbformat": 4,
 "nbformat_minor": 5
}
