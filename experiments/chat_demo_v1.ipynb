{
 "cells": [
  {
   "cell_type": "code",
   "execution_count": 66,
   "metadata": {},
   "outputs": [
    {
     "name": "stdout",
     "output_type": "stream",
     "text": [
      "Collecting ipywidgets\n",
      "  Downloading ipywidgets-8.1.2-py3-none-any.whl.metadata (2.4 kB)\n",
      "Requirement already satisfied: comm>=0.1.3 in /home/parkermoe/anaconda3/envs/capstone/lib/python3.11/site-packages (from ipywidgets) (0.2.1)\n",
      "Requirement already satisfied: ipython>=6.1.0 in /home/parkermoe/anaconda3/envs/capstone/lib/python3.11/site-packages (from ipywidgets) (8.22.1)\n",
      "Requirement already satisfied: traitlets>=4.3.1 in /home/parkermoe/anaconda3/envs/capstone/lib/python3.11/site-packages (from ipywidgets) (5.14.1)\n",
      "Collecting widgetsnbextension~=4.0.10 (from ipywidgets)\n",
      "  Downloading widgetsnbextension-4.0.10-py3-none-any.whl.metadata (1.6 kB)\n",
      "Collecting jupyterlab-widgets~=3.0.10 (from ipywidgets)\n",
      "  Downloading jupyterlab_widgets-3.0.10-py3-none-any.whl.metadata (4.1 kB)\n",
      "Requirement already satisfied: decorator in /home/parkermoe/anaconda3/envs/capstone/lib/python3.11/site-packages (from ipython>=6.1.0->ipywidgets) (5.1.1)\n",
      "Requirement already satisfied: jedi>=0.16 in /home/parkermoe/anaconda3/envs/capstone/lib/python3.11/site-packages (from ipython>=6.1.0->ipywidgets) (0.19.1)\n",
      "Requirement already satisfied: matplotlib-inline in /home/parkermoe/anaconda3/envs/capstone/lib/python3.11/site-packages (from ipython>=6.1.0->ipywidgets) (0.1.6)\n",
      "Requirement already satisfied: prompt-toolkit<3.1.0,>=3.0.41 in /home/parkermoe/anaconda3/envs/capstone/lib/python3.11/site-packages (from ipython>=6.1.0->ipywidgets) (3.0.42)\n",
      "Requirement already satisfied: pygments>=2.4.0 in /home/parkermoe/anaconda3/envs/capstone/lib/python3.11/site-packages (from ipython>=6.1.0->ipywidgets) (2.17.2)\n",
      "Requirement already satisfied: stack-data in /home/parkermoe/anaconda3/envs/capstone/lib/python3.11/site-packages (from ipython>=6.1.0->ipywidgets) (0.6.2)\n",
      "Requirement already satisfied: pexpect>4.3 in /home/parkermoe/anaconda3/envs/capstone/lib/python3.11/site-packages (from ipython>=6.1.0->ipywidgets) (4.9.0)\n",
      "Requirement already satisfied: parso<0.9.0,>=0.8.3 in /home/parkermoe/anaconda3/envs/capstone/lib/python3.11/site-packages (from jedi>=0.16->ipython>=6.1.0->ipywidgets) (0.8.3)\n",
      "Requirement already satisfied: ptyprocess>=0.5 in /home/parkermoe/anaconda3/envs/capstone/lib/python3.11/site-packages (from pexpect>4.3->ipython>=6.1.0->ipywidgets) (0.7.0)\n",
      "Requirement already satisfied: wcwidth in /home/parkermoe/anaconda3/envs/capstone/lib/python3.11/site-packages (from prompt-toolkit<3.1.0,>=3.0.41->ipython>=6.1.0->ipywidgets) (0.2.13)\n",
      "Requirement already satisfied: executing>=1.2.0 in /home/parkermoe/anaconda3/envs/capstone/lib/python3.11/site-packages (from stack-data->ipython>=6.1.0->ipywidgets) (2.0.1)\n",
      "Requirement already satisfied: asttokens>=2.1.0 in /home/parkermoe/anaconda3/envs/capstone/lib/python3.11/site-packages (from stack-data->ipython>=6.1.0->ipywidgets) (2.4.1)\n",
      "Requirement already satisfied: pure-eval in /home/parkermoe/anaconda3/envs/capstone/lib/python3.11/site-packages (from stack-data->ipython>=6.1.0->ipywidgets) (0.2.2)\n",
      "Requirement already satisfied: six>=1.12.0 in /home/parkermoe/anaconda3/envs/capstone/lib/python3.11/site-packages (from asttokens>=2.1.0->stack-data->ipython>=6.1.0->ipywidgets) (1.16.0)\n",
      "Downloading ipywidgets-8.1.2-py3-none-any.whl (139 kB)\n",
      "\u001b[2K   \u001b[90m━━━━━━━━━━━━━━━━━━━━━━━━━━━━━━━━━━━━━━━━\u001b[0m \u001b[32m139.4/139.4 kB\u001b[0m \u001b[31m3.0 MB/s\u001b[0m eta \u001b[36m0:00:00\u001b[0ma \u001b[36m0:00:01\u001b[0m\n",
      "\u001b[?25hDownloading jupyterlab_widgets-3.0.10-py3-none-any.whl (215 kB)\n",
      "\u001b[2K   \u001b[90m━━━━━━━━━━━━━━━━━━━━━━━━━━━━━━━━━━━━━━━━\u001b[0m \u001b[32m215.0/215.0 kB\u001b[0m \u001b[31m7.6 MB/s\u001b[0m eta \u001b[36m0:00:00\u001b[0m\n",
      "\u001b[?25hDownloading widgetsnbextension-4.0.10-py3-none-any.whl (2.3 MB)\n",
      "\u001b[2K   \u001b[90m━━━━━━━━━━━━━━━━━━━━━━━━━━━━━━━━━━━━━━━━\u001b[0m \u001b[32m2.3/2.3 MB\u001b[0m \u001b[31m16.5 MB/s\u001b[0m eta \u001b[36m0:00:00\u001b[0ma \u001b[36m0:00:01\u001b[0m\n",
      "\u001b[?25hInstalling collected packages: widgetsnbextension, jupyterlab-widgets, ipywidgets\n",
      "Successfully installed ipywidgets-8.1.2 jupyterlab-widgets-3.0.10 widgetsnbextension-4.0.10\n",
      "Note: you may need to restart the kernel to use updated packages.\n"
     ]
    }
   ],
   "source": [
    "pip install ipywidgets"
   ]
  },
  {
   "cell_type": "code",
   "execution_count": 4,
   "metadata": {},
   "outputs": [],
   "source": [
    "%%bash\n",
    "find ./ -type f -name \"*.json\" -delete"
   ]
  },
  {
   "cell_type": "code",
   "execution_count": 1,
   "metadata": {},
   "outputs": [],
   "source": [
    "from dotenv import load_dotenv\n",
    "import json\n",
    "import os\n",
    "import pandas as pd\n",
    "import pprint\n",
    "import requests as req\n",
    "import urllib.request\n",
    "\n",
    "import chromadb\n",
    "\n",
    "from llama_index.core import Document, Settings, StorageContext, VectorStoreIndex\n",
    "from llama_index.core.node_parser import SentenceSplitter\n",
    "from llama_index.core.response.notebook_utils import display_response\n",
    "from llama_index.core.schema import MetadataMode\n",
    "#from llama_index.embeddings.nomic import NomicEmbedding\n",
    "from llama_index.embeddings.openai import OpenAIEmbedding\n",
    "from llama_index.llms.openai import OpenAI\n",
    "from llama_index.vector_stores.chroma import ChromaVectorStore\n",
    "import requests as req\n",
    "\n",
    "from utils_15B import extract_from_json\n",
    "\n",
    "load_dotenv()  # This loads the variables from .envz\n",
    "nomic_api_key = os.getenv(\"NOMIC_API_KEY\")\n",
    "# print(nomic_api_key)"
   ]
  },
  {
   "cell_type": "code",
   "execution_count": 2,
   "metadata": {},
   "outputs": [],
   "source": [
    "import requests as req\n",
    "\n",
    "def get_trial(nct_id=None, query_cond=None):\n",
    "    if nct_id:\n",
    "        trial = req.get(f\"https://clinicaltrials.gov/api/v2/studies/{nct_id}\")\n",
    "        trial_json = trial.json()\n",
    "        return trial_json\n",
    "    elif query_cond:\n",
    "        trials = req.get(f\"https://clinicaltrials.gov/api/v2/studies?query.cond={query_cond}\")\n",
    "        trials_json = trials.json()\n",
    "        return trials_json\n",
    "    else:\n",
    "        return None"
   ]
  },
  {
   "cell_type": "code",
   "execution_count": 3,
   "metadata": {},
   "outputs": [],
   "source": [
    "list_of_nct_id = [\n",
    "    \"NCT01720524\",\n",
    "    \"NCT01942135\",\n",
    "    \"NCT01945775\",\n",
    "    \"NCT01964716\",\n",
    "    \"NCT02130557\",\n",
    "    \"NCT02187744\",\n",
    "    \"NCT02367456\",\n",
    "    \"NCT02603432\",\n",
    "    \"NCT03090191\",\n",
    "]\n",
    "\n",
    "def get_downloaded_json(list_of_nct_id):\n",
    "    downloaded_json = []\n",
    "    for nct_id in list_of_nct_id:\n",
    "        trial = get_trial(nct_id)\n",
    "        downloaded_json.append(trial)\n",
    "        # save locally for reference\n",
    "        with open(f\"{nct_id}.json\", \"w\") as f:\n",
    "            json.dump(trial, f, indent=4)\n",
    "    return downloaded_json\n",
    "\n",
    "downloaded_json = get_downloaded_json(list_of_nct_id)\n",
    "# downloaded_json[3]"
   ]
  },
  {
   "cell_type": "code",
   "execution_count": 4,
   "metadata": {},
   "outputs": [],
   "source": [
    "def get_downloaded_json(list_of_nct_id=None, query_cond=None):\n",
    "    downloaded_json = []\n",
    "    if list_of_nct_id:\n",
    "        for nct_id in list_of_nct_id:\n",
    "            trial = get_trial(nct_id=nct_id)\n",
    "            downloaded_json.append(trial)\n",
    "            # save locally for reference\n",
    "            with open(f\"{nct_id}.json\", \"w\") as f:\n",
    "                json.dump(trial, f, indent=4)\n",
    "    elif query_cond:\n",
    "        trials = get_trial(query_cond=query_cond)\n",
    "        for trial in trials:\n",
    "            nct_id = trial['NCTId']  # assuming the NCTId is available in the trial data\n",
    "            downloaded_json.append(trial)\n",
    "            # save locally for reference\n",
    "            with open(f\"{nct_id}.json\", \"w\") as f:\n",
    "                json.dump(trial, f, indent=4)\n",
    "    return downloaded_json"
   ]
  },
  {
   "cell_type": "code",
   "execution_count": 5,
   "metadata": {},
   "outputs": [],
   "source": [
    "def list_from_extracted_json(downloaded_json):    \n",
    "    documents_list  = []\n",
    "    for json_file in downloaded_json:\n",
    "        extracted_json = extract_from_json(json_file)\n",
    "        nct_id = json_file['protocolSection']['identificationModule']['nctId']\n",
    "        # save manipulated JSON file to disk for review\n",
    "        save_path = f\"{nct_id}_extracted.json\"\n",
    "        with open(save_path, \"w\") as f:\n",
    "            json.dump(extracted_json, f, indent=4)\n",
    "        # prepare for indexing\n",
    "        documents_list.append(extracted_json)\n",
    "    return documents_list\n",
    "    \n",
    "documents_list = list_from_extracted_json(downloaded_json)\n",
    "# len(documents_list)"
   ]
  },
  {
   "cell_type": "code",
   "execution_count": 6,
   "metadata": {},
   "outputs": [],
   "source": [
    "# all the keys (for metadata)\n",
    "all_keys = list(documents_list[0].keys())\n",
    "#all_keys"
   ]
  },
  {
   "cell_type": "code",
   "execution_count": 7,
   "metadata": {},
   "outputs": [],
   "source": [
    "# to adjust the metadata keys used\n",
    "llm_keys_to_incude = [\n",
    "    \"Brief title\",\n",
    "    \"National Clinical Identification NCT ID\",\n",
    "    \"Lead sponsor\",\n",
    "    \"Arms group 0 intervention names\",\n",
    "    \"Enrollment count\",\n",
    "]\n",
    "\n",
    "llm_keys_to_exclude = [key for key in all_keys if key not in llm_keys_to_incude]\n",
    "\n",
    "# for simplicity, do the same for embedding_keys_to_exclude (in this example)\n",
    "embedding_keys_to_exclude = llm_keys_to_exclude"
   ]
  },
  {
   "cell_type": "code",
   "execution_count": 8,
   "metadata": {},
   "outputs": [],
   "source": [
    "# using this as baseline standard\n",
    "embed_model = OpenAIEmbedding(model=\"text-embedding-ada-002\")"
   ]
  },
  {
   "cell_type": "code",
   "execution_count": 9,
   "metadata": {},
   "outputs": [],
   "source": [
    "llm = OpenAI(temperature=0.1, model=\"gpt-3.5-turbo\", max_tokens=512)"
   ]
  },
  {
   "cell_type": "code",
   "execution_count": 10,
   "metadata": {},
   "outputs": [],
   "source": [
    "# NOTE:  metata data must be one of (str, int, float, None)\n",
    "# use json.dumps() to convert lists and dictionaries into strings\n",
    "\n",
    "def create_llama_docs(documents_list):\n",
    "    llama_documents = []\n",
    "\n",
    "    for trial in documents_list:\n",
    "        trial[\"Brief title\"] = json.dumps(trial[\"Brief title\"])\n",
    "        trial[\"Official title\"] = json.dumps(trial[\"Official title\"])\n",
    "        trial[\"Brief summary\"] = json.dumps(trial[\"Brief summary\"])\n",
    "        trial[\"Detailed description\"] = json.dumps(trial[\"Detailed description\"])\n",
    "        trial[\"Arms group 0 intervention name\"] = json.dumps(trial[\"Arms group 0 intervention name\"])\n",
    "        trial[\"Arms group 1 intervention name\"] = json.dumps(trial[\"Arms group 1 intervention name\"])\n",
    "        trial[\"Eligibility minimum age\"] = json.dumps(trial[\"Eligibility minimum age\"])\n",
    "        trial[\"Organization\"] = json.dumps(trial[\"Organization\"])\n",
    "\n",
    "        # create a Llama Document object \n",
    "        # with text and excluded meta data for llm and embedding model\n",
    "        llama_document = Document(\n",
    "            text=trial[\"Detailed description\"],\n",
    "#             text=json.dumps(trial), #<== testing\n",
    "            metadata=trial,\n",
    "            excluded_llm_metadata_keys=llm_keys_to_exclude,\n",
    "            excluded_embed_metadata_keys=embedding_keys_to_exclude ,\n",
    "            metadata_template=\"{key}=>{value}\",\n",
    "            text_template=\"Metadata:\\n{metadata_str}\\n===========================\\nContent: \\n{content}\"\n",
    "        )\n",
    "        llama_documents.append(llama_document)\n",
    "    \n",
    "    return llama_documents\n",
    "\n",
    "llama_documents = create_llama_docs(documents_list)"
   ]
  },
  {
   "cell_type": "code",
   "execution_count": 11,
   "metadata": {},
   "outputs": [],
   "source": [
    "# Example —LLM sees this:\n",
    "#print(llama_documents[4].get_content(metadata_mode=MetadataMode.LLM))"
   ]
  },
  {
   "cell_type": "code",
   "execution_count": 12,
   "metadata": {},
   "outputs": [],
   "source": [
    "# Example — Embedding model sees this:\n",
    "#print(llama_documents[4].get_content(metadata_mode=MetadataMode.EMBED))"
   ]
  },
  {
   "cell_type": "code",
   "execution_count": 13,
   "metadata": {},
   "outputs": [],
   "source": [
    "def create_nodes(llama_documents):\n",
    "#     parser = SentenceSplitter(chunk_size=2560,chunk_overlap=32) # <== adjust\n",
    "    parser = SentenceSplitter(chunk_size=512,chunk_overlap=20) # <== adjust\n",
    "    nodes = parser.get_nodes_from_documents(llama_documents)\n",
    "\n",
    "    for node in nodes:\n",
    "        node_embedding = embed_model.get_text_embedding(\n",
    "            node.get_content(metadata_mode=MetadataMode.EMBED)\n",
    "        )\n",
    "        node.embedding = node_embedding\n",
    "\n",
    "    return nodes\n",
    "\n",
    "nodes = create_nodes(llama_documents)"
   ]
  },
  {
   "cell_type": "code",
   "execution_count": 14,
   "metadata": {},
   "outputs": [
    {
     "name": "stdout",
     "output_type": "stream",
     "text": [
      "Looking for the CLINICAL_RAG collection in the database...\n",
      "CLINICAL_RAG collection WAS FOUND in Chroma DB\n",
      "Restoring vector store index from the collection...\n",
      "record count: 9\n"
     ]
    }
   ],
   "source": [
    "# Chroma DB collection name\n",
    "COLLECTION_NAME = \"CLINICAL_RAG\"\n",
    "\n",
    "db = chromadb.PersistentClient(path=\"chroma_db\")\n",
    "print(f\"Looking for the {COLLECTION_NAME} collection in the database...\" )\n",
    "if COLLECTION_NAME not in [col.name for col in db.list_collections()]:\n",
    "    print(f\"{COLLECTION_NAME} collection WAS NOT FOUND in Chroma DB, creating...\")\n",
    "    chroma_collection = db.create_collection(COLLECTION_NAME)\n",
    "    print(\"Creating vector store...\")\n",
    "    vector_store = ChromaVectorStore(chroma_collection=chroma_collection)\n",
    "    storage_context = StorageContext.from_defaults(vector_store=vector_store)\n",
    "    print(\"Creating vector store index\")\n",
    "    VectorStoreIndex(\n",
    "        nodes=nodes,\n",
    "        storage_context=storage_context,\n",
    "        store_nodes_override=True\n",
    "    )\n",
    "    record_count = chroma_collection.count()\n",
    "    print(f\"record count: {record_count}\")   \n",
    "    \n",
    "else:\n",
    "    print(f\"{COLLECTION_NAME} collection WAS FOUND in Chroma DB\")\n",
    "    COLLECTION_NAME = db.get_collection(COLLECTION_NAME)\n",
    "    vector_store = ChromaVectorStore(chroma_collection=COLLECTION_NAME)\n",
    "    print(\"Restoring vector store index from the collection...\")\n",
    "    index = VectorStoreIndex.from_vector_store(\n",
    "        vector_store=vector_store,\n",
    "        embed_model=embed_model,\n",
    "        store_nodes_override=True\n",
    "    )\n",
    "    record_count = COLLECTION_NAME.count()\n",
    "    print(f\"record count: {record_count}\")"
   ]
  },
  {
   "cell_type": "code",
   "execution_count": 15,
   "metadata": {},
   "outputs": [],
   "source": [
    "index = VectorStoreIndex.from_vector_store(vector_store)  "
   ]
  },
  {
   "cell_type": "code",
   "execution_count": 26,
   "metadata": {},
   "outputs": [
    {
     "data": {
      "text/markdown": [
       "**`Final Response:`** NCT01720524, NCT01942135, NCT01945775, NCT01964716, NCT02130557, NCT02187744, NCT02367456, NCT02603432, NCT03090191. There are 9 different NCT IDs in total."
      ],
      "text/plain": [
       "<IPython.core.display.Markdown object>"
      ]
     },
     "metadata": {},
     "output_type": "display_data"
    }
   ],
   "source": [
    "query_engine = index.as_query_engine(similarity_top_k=record_count) # <== set k=total number of records\n",
    "\n",
    "query = \"List the different NCT ID in ascending order. How many is that?\"\n",
    "response = query_engine.query(query)\n",
    "display_response(response)"
   ]
  },
  {
   "cell_type": "markdown",
   "metadata": {},
   "source": [
    "# Going to try chat engine"
   ]
  },
  {
   "cell_type": "code",
   "execution_count": 16,
   "metadata": {},
   "outputs": [],
   "source": [
    "from llama_index.llms.openai import OpenAI\n",
    "from llama_index.core.memory import ChatMemoryBuffer"
   ]
  },
  {
   "cell_type": "code",
   "execution_count": 40,
   "metadata": {},
   "outputs": [],
   "source": [
    "chat_engine = index.as_chat_engine(\n",
    "    chat_mode = 'context',\n",
    "    memory = memory,\n",
    "    system_prompt =(\n",
    "        \"You are a chatbot, who is an expert in clinical trials and translating clinical trial informaiton into layman's terms.\"\n",
    "    )\n",
    ")"
   ]
  },
  {
   "cell_type": "code",
   "execution_count": 18,
   "metadata": {},
   "outputs": [],
   "source": [
    "chat_engine.reset()"
   ]
  },
  {
   "cell_type": "code",
   "execution_count": 49,
   "metadata": {},
   "outputs": [
    {
     "name": "stdout",
     "output_type": "stream",
     "text": [
      "Hello! How can I assist you today?\n"
     ]
    }
   ],
   "source": [
    "response = chat_engine.chat(\"Hello!\")\n",
    "print(response)"
   ]
  },
  {
   "cell_type": "code",
   "execution_count": 50,
   "metadata": {},
   "outputs": [
    {
     "name": "stdout",
     "output_type": "stream",
     "text": [
      "The NCT ID for the first clinical trial is NCT01964716.\n"
     ]
    }
   ],
   "source": [
    "response = chat_engine.chat(\"What is the NCT ID for the first clinical trial?\")\n",
    "print(response)"
   ]
  },
  {
   "cell_type": "code",
   "execution_count": 51,
   "metadata": {},
   "outputs": [
    {
     "name": "stdout",
     "output_type": "stream",
     "text": [
      "Certainly! Here is a Plain Language Summary of the clinical trial with NCT ID NCT01964716:\n",
      "\n",
      "Title: \"A Study Of PF-05280014 Or Trastuzumab Plus Taxotere and Carboplatin In HER2 Positive Breast Cancer In The Neoadjuvant Setting\"\n",
      "\n",
      "This study is looking at a new drug called PF-05280014 compared to the standard treatment for HER2 positive breast cancer. Patients with this type of breast cancer will receive either PF-05280014 or the standard treatment which includes Trastuzumab, Taxotere, and Carboplatin before their main treatment (neoadjuvant setting).\n",
      "\n",
      "The study aims to see if PF-05280014 is as effective as the standard treatment in treating HER2 positive breast cancer. The researchers will enroll 226 patients in the study.\n",
      "\n",
      "The results of the study will help doctors understand if PF-05280014 can be a good alternative to the standard treatment for HER2 positive breast cancer in the neoadjuvant setting.\n",
      "\n",
      "If you have any more questions or need further information, feel free to ask!\n"
     ]
    }
   ],
   "source": [
    "response = chat_engine.chat(\"Can you write me a Plain Language Summary of this trial?\")\n",
    "print(response)"
   ]
  },
  {
   "cell_type": "code",
   "execution_count": 52,
   "metadata": {},
   "outputs": [
    {
     "name": "stdout",
     "output_type": "stream",
     "text": [
      "There are 226 patients enrolled in the clinical trial with NCT ID NCT01964716.\n"
     ]
    }
   ],
   "source": [
    "response = chat_engine.chat(\"Okay thanks, how many people are enrolled in this trial?\")\n",
    "print(response)"
   ]
  },
  {
   "cell_type": "code",
   "execution_count": 47,
   "metadata": {},
   "outputs": [
    {
     "name": "stdout",
     "output_type": "stream",
     "text": [
      "The trial NCT01964716 has 240 participants enrolled.\n"
     ]
    }
   ],
   "source": [
    "print(reponse)"
   ]
  },
  {
   "cell_type": "markdown",
   "metadata": {},
   "source": [
    "# Trying chat w/ context and condense"
   ]
  },
  {
   "cell_type": "code",
   "execution_count": 17,
   "metadata": {},
   "outputs": [],
   "source": [
    "memory = ChatMemoryBuffer.from_defaults(token_limit=3900)\n",
    "\n",
    "chat_engine = index.as_chat_engine(\n",
    "    chat_mode=\"condense_plus_context\",\n",
    "    memory=memory,\n",
    "    llm=llm,\n",
    "    context_prompt=(\n",
    "        \"You are a chatbot, who is an expert in clinical trials and translating clinical trial informaiton into layman's terms.\"\n",
    "        \"Here are the relevant documents for the context:\\n\"\n",
    "        \"{context_str}\"\n",
    "        \"\\nInstruction: Use the previous chat history, or the context above, to interact and help the user.\"\n",
    "    ),\n",
    "    verbose=False,\n",
    ")"
   ]
  },
  {
   "cell_type": "code",
   "execution_count": 18,
   "metadata": {},
   "outputs": [
    {
     "name": "stdout",
     "output_type": "stream",
     "text": [
      "I don't have specific information on COVID trials in the provided context. However, I can help you find information on COVID trials. ClinicalTrials.gov is a good resource to search for clinical trials related to COVID-19. You can visit the website and use keywords like \"COVID-19\" or \"coronavirus\" to find relevant trials. If you have any specific questions or need assistance with understanding a particular COVID trial, feel free to ask!\n"
     ]
    }
   ],
   "source": [
    "response = chat_engine.chat(\"What trials are about covid?\")\n",
    "print(response)"
   ]
  },
  {
   "cell_type": "code",
   "execution_count": 19,
   "metadata": {},
   "outputs": [
    {
     "name": "stdout",
     "output_type": "stream",
     "text": [
      "I have information on two clinical trials related to breast cancer:\n",
      "\n",
      "1. **Trial 1:**\n",
      "   - **NCT ID:** NCT02187744\n",
      "   - **Brief Title:** \"A Study Of PF-05280014 Or Trastuzumab Plus Taxotere® And Carboplatin In HER2 Positive Breast Cancer In The Neoadjuvant Setting (REFLECTIONS B327-04)\"\n",
      "   - **Lead Sponsor:** Pfizer\n",
      "   - **Enrollment Count:** 226\n",
      "   - **Interventions:** Biological: PF-05280014, Drug: Taxotere®, Drug: Paraplatin®\n",
      "   - **Primary Outcome:** The primary outcome group estimate comment mentions that the stratified analysis was based on the normal approximation to the binomial distribution, adjusting for the randomization strata of primary tumor size, estrogen receptor status, and progesterone receptor status.\n",
      "\n",
      "2. **Trial 2:**\n",
      "   - **NCT ID:** NCT01945775\n",
      "   - **Brief Title:** \"A Study Evaluating Talazoparib (BMN 673), a PARP Inhibitor, in Advanced and/or Metastatic Breast Cancer Patients With BRCA Mutation (EMBRACA Study)\"\n",
      "   - **Lead Sponsor:** Pfizer\n",
      "   - **Enrollment Count:** 431\n",
      "   - **Interventions:** Drug: talazoparib\n",
      "   - **Primary Outcome:** The primary outcome group description mentions that the hazard ratio was based on a stratified Cox regression model with treatment as the only covariate, with stratification factors including the number of prior cytotoxic chemotherapy regimens, triple-negative status, and history of central nervous system metastasis status.\n",
      "\n",
      "If you have any specific questions about these trials or need more information, feel free to ask!\n"
     ]
    }
   ],
   "source": [
    "response = chat_engine.chat(\"What trials are about breat cancer?\")\n",
    "print(response)"
   ]
  },
  {
   "cell_type": "code",
   "execution_count": 20,
   "metadata": {},
   "outputs": [
    {
     "name": "stdout",
     "output_type": "stream",
     "text": [
      "Certainly! Here is a Plain Language Summary of the NCT01945775 trial:\n",
      "\n",
      "Title: A Study Evaluating Talazoparib (BMN 673), a PARP Inhibitor, in Advanced and/or Metastatic Breast Cancer Patients With BRCA Mutation (EMBRACA Study)\n",
      "\n",
      "This study, known as the EMBRACA Study, is looking at a drug called talazoparib (also known as BMN 673) in patients with advanced and/or metastatic breast cancer who have a specific genetic mutation called BRCA. Talazoparib is a type of drug known as a PARP inhibitor, which works by targeting specific weaknesses in cancer cells.\n",
      "\n",
      "The main goal of this study is to see how effective talazoparib is in treating advanced and/or metastatic breast cancer in patients with BRCA mutations. The study will also look at the safety of talazoparib and how well patients tolerate the treatment.\n",
      "\n",
      "Patients participating in this study will receive talazoparib as the main treatment. The study will measure how long it takes for the cancer to progress while on talazoparib treatment and will also assess overall survival rates. The study will also monitor any side effects or adverse reactions to the drug.\n",
      "\n",
      "The researchers hope that talazoparib will prove to be an effective treatment option for patients with advanced and/or metastatic breast cancer who have BRCA mutations, potentially improving outcomes and quality of life for these patients.\n",
      "\n",
      "If you have any more questions or need further clarification, feel free to ask!\n"
     ]
    }
   ],
   "source": [
    "response = chat_engine.chat(\"Can you write me a Plain Language Summary of the NCT01945775 trial?\")\n",
    "print(response)"
   ]
  },
  {
   "cell_type": "code",
   "execution_count": 21,
   "metadata": {},
   "outputs": [
    {
     "name": "stdout",
     "output_type": "stream",
     "text": [
      "Certainly! Here is a Plain Language Summary of the NCT02187744 trial:\n",
      "\n",
      "Title: A Study Of PF-05280014 Or Trastuzumab Plus Taxotere® And Carboplatin In HER2 Positive Breast Cancer In The Neoadjuvant Setting (REFLECTIONS B327-04)\n",
      "\n",
      "This study, known as REFLECTIONS B327-04, is investigating the effectiveness of a drug called PF-05280014 compared to the standard treatment of trastuzumab plus Taxotere® and carboplatin in patients with HER2 positive breast cancer in the neoadjuvant setting. HER2 positive breast cancer is a type of breast cancer that has a higher amount of a protein called HER2, which can promote the growth of cancer cells.\n",
      "\n",
      "PF-05280014 is being studied to see if it is as effective as the standard treatment in shrinking tumors before surgery (neoadjuvant setting). The study aims to determine the response rate of tumors to PF-05280014 compared to trastuzumab plus Taxotere® and carboplatin. The study will also evaluate the safety and tolerability of PF-05280014 in these patients.\n",
      "\n",
      "Patients enrolled in this study will receive either PF-05280014 or the standard treatment of trastuzumab plus Taxotere® and carboplatin. The study will measure how well the tumors respond to treatment and will also monitor any side effects or adverse events associated with PF-05280014.\n",
      "\n",
      "The researchers hope that PF-05280014 may offer a new treatment option for patients with HER2 positive breast cancer in the neoadjuvant setting, potentially providing improved outcomes and quality of life for these patients.\n",
      "\n",
      "If you have any more questions or need further information, feel free to ask!\n"
     ]
    }
   ],
   "source": [
    "response = chat_engine.chat(\"Okay thanks, can you give me a summary of the NCT0218774 trail?\")\n",
    "print(response)"
   ]
  },
  {
   "cell_type": "code",
   "execution_count": 58,
   "metadata": {},
   "outputs": [
    {
     "name": "stdout",
     "output_type": "stream",
     "text": [
      "In the NCT02187744 trial, researchers are conducting a study to investigate the use of PF-05280014 (a biosimilar to Trastuzumab) or Trastuzumab in combination with Taxotere and Carboplatin in patients with HER2-positive breast cancer in the neoadjuvant setting. This study, known as the REFLECTIONS B327-04 study and sponsored by Pfizer, aims to enroll 226 participants.\n",
      "\n",
      "HER2-positive breast cancer is a specific type of breast cancer that overexpresses a protein called HER2, which can promote the growth of cancer cells. Trastuzumab is a targeted therapy that specifically targets HER2-positive breast cancer cells.\n",
      "\n",
      "The goal of this trial is to evaluate the effectiveness and safety of PF-05280014 (a biosimilar to Trastuzumab) compared to Trastuzumab when used in combination with Taxotere and Carboplatin as neoadjuvant treatment for HER2-positive breast cancer. Neoadjuvant treatment is given before surgery to shrink the tumor and improve surgical outcomes.\n",
      "\n",
      "Participants in the study will receive either PF-05280014 or Trastuzumab in combination with Taxotere and Carboplatin, and their response to treatment will be closely monitored. The researchers aim to assess the efficacy of PF-05280014 compared to Trastuzumab in this treatment regimen and to evaluate any potential side effects.\n",
      "\n",
      "Overall, the NCT02187744 trial seeks to provide valuable insights into the use of PF-05280014 and Trastuzumab in combination with Taxotere and Carboplatin as neoadjuvant therapy for HER2-positive breast cancer patients.\n"
     ]
    }
   ],
   "source": [
    "response = chat_engine.chat(\"Sorry, I meant can you give me a summary of the NCT02187744 trail?\")\n",
    "print(response)"
   ]
  },
  {
   "cell_type": "code",
   "execution_count": 22,
   "metadata": {},
   "outputs": [
    {
     "name": "stdout",
     "output_type": "stream",
     "text": [
      "Certainly! Here are some major differences between the two clinical trials, NCT01945775 and NCT02187744:\n",
      "\n",
      "1. **Disease Focus:**\n",
      "   - NCT01945775 focuses on advanced and/or metastatic breast cancer patients with BRCA mutation.\n",
      "   - NCT02187744 focuses on HER2 positive breast cancer patients in the neoadjuvant setting.\n",
      "\n",
      "2. **Interventions:**\n",
      "   - NCT01945775 involves the drug talazoparib, a PARP inhibitor.\n",
      "   - NCT02187744 compares the effectiveness of PF-05280014 to the standard treatment of trastuzumab plus Taxotere® and carboplatin.\n",
      "\n",
      "3. **Study Design:**\n",
      "   - NCT01945775 is evaluating the efficacy and safety of talazoparib in a specific genetic subgroup of breast cancer patients.\n",
      "   - NCT02187744 is comparing the response rate of tumors to PF-05280014 versus the standard treatment in a specific subtype of breast cancer patients.\n",
      "\n",
      "4. **Patient Population:**\n",
      "   - NCT01945775 includes patients with BRCA mutations and advanced/metastatic breast cancer.\n",
      "   - NCT02187744 includes patients with HER2 positive breast cancer in the neoadjuvant setting.\n",
      "\n",
      "5. **Primary Outcome Measures:**\n",
      "   - NCT01945775 focuses on assessing the effectiveness of talazoparib in treating advanced/metastatic breast cancer.\n",
      "   - NCT02187744 aims to determine the response rate of tumors to PF-05280014 compared to the standard treatment.\n",
      "\n",
      "These differences highlight the unique aspects of each trial, including the specific patient populations, interventions being studied, and primary outcomes being measured. If you have any more questions or need further clarification, feel free to ask!\n"
     ]
    }
   ],
   "source": [
    "response = chat_engine.chat(\"Okay, can you tell me the major differences between these two trials?\")\n",
    "print(response)"
   ]
  },
  {
   "cell_type": "code",
   "execution_count": 23,
   "metadata": {},
   "outputs": [
    {
     "name": "stdout",
     "output_type": "stream",
     "text": [
      "PARP inhibitors are a class of drugs that have shown promise in the treatment of certain types of cancer, particularly in patients with BRCA mutations. Here are some key points about PARP inhibitors:\n",
      "\n",
      "1. **Mechanism of Action:** PARP (poly ADP-ribose polymerase) is a protein involved in DNA repair. PARP inhibitors work by blocking the activity of PARP enzymes, which prevents cancer cells from repairing damaged DNA. This can lead to the accumulation of DNA damage in cancer cells, ultimately causing their death.\n",
      "\n",
      "2. **BRCA Mutations:** PARP inhibitors are particularly effective in cancer cells that have mutations in the BRCA genes. BRCA genes are involved in DNA repair, and when these genes are mutated, cancer cells become more reliant on alternative DNA repair pathways, such as PARP-mediated repair. By inhibiting PARP, the cancer cells with BRCA mutations are unable to repair their DNA effectively, leading to cell death.\n",
      "\n",
      "3. **Indications:** PARP inhibitors have been approved for the treatment of certain types of ovarian cancer, breast cancer, and prostate cancer. They are often used in patients with specific genetic mutations, such as BRCA mutations or other DNA repair gene mutations.\n",
      "\n",
      "4. **Side Effects:** Common side effects of PARP inhibitors may include nausea, fatigue, anemia, and gastrointestinal issues. Some patients may also experience more serious side effects, such as low blood cell counts or increased risk of developing certain types of leukemia.\n",
      "\n",
      "5. **Research:** Ongoing research is exploring the use of PARP inhibitors in other types of cancer and in combination with other treatments, such as chemotherapy or immunotherapy. Clinical trials, like the one mentioned earlier (NCT01945775), are evaluating the efficacy and safety of PARP inhibitors in different patient populations.\n",
      "\n",
      "Overall, PARP inhibitors represent a promising targeted therapy for certain types of cancer, particularly in patients with specific genetic mutations. If you have any more questions or need further information about PARP inhibitors, feel free to ask!\n"
     ]
    }
   ],
   "source": [
    "response = chat_engine.chat(\"Okay, can you tell me more about the PARP inhibitor?\")\n",
    "print(response)"
   ]
  },
  {
   "cell_type": "markdown",
   "metadata": {},
   "source": [
    "# Working on building lightwieght chat bot"
   ]
  },
  {
   "cell_type": "code",
   "execution_count": 63,
   "metadata": {},
   "outputs": [],
   "source": [
    "from IPython.display import clear_output\n",
    "\n",
    "def chat_with_bot(chat_engine):\n",
    "    \"\"\"\n",
    "    Starts an interactive chat session in the Jupyter Notebook with a continuously growing output.\n",
    "    \n",
    "    Args:\n",
    "    - chat_engine: The chat engine initialized with LLamaIndex and other configurations.\n",
    "    \"\"\"\n",
    "    chat_history = [] \n",
    "    \n",
    "    print(\"Chatbot is ready to chat! Type 'quit' to end the session.\")\n",
    "    \n",
    "    while True:\n",
    "        user_input = input(\"You: \")\n",
    "        if user_input.lower() == 'quit':\n",
    "            print(\"Chat session ended.\")\n",
    "            break\n",
    "        \n",
    "        chat_history.append(f\"You: {user_input}\")\n",
    "        \n",
    "        response = chat_engine.chat(user_input)\n",
    "        \n",
    "        chat_history.append(f\"Bot: {response}\")\n",
    "        \n",
    "        for line in chat_history:\n",
    "            print(line)\n"
   ]
  },
  {
   "cell_type": "code",
   "execution_count": 64,
   "metadata": {},
   "outputs": [
    {
     "name": "stdout",
     "output_type": "stream",
     "text": [
      "Chatbot is ready to chat! Type 'quit' to end the session.\n",
      "You: Hey, which trials are about Breat cancer?\n",
      "Bot: In the provided context, the two clinical trials related to breast cancer are:\n",
      "\n",
      "1. NCT01945775: A Study Evaluating Talazoparib (BMN 673), a PARP Inhibitor, in Advanced and/or Metastatic Breast Cancer Patients With BRCA Mutation (EMBRACA Study)\n",
      "- This study focuses on patients with advanced and/or metastatic breast cancer who have a specific genetic mutation called BRCA. It is evaluating the effectiveness and safety of Talazoparib in this patient population.\n",
      "\n",
      "2. NCT02187744: A Study Of PF-05280014 Or Trastuzumab Plus Taxotere and Carboplatin In HER2 Positive Breast Cancer In The Neoadjuvant Setting (REFLECTIONS B327-04)\n",
      "- This study is investigating the use of PF-05280014 (a biosimilar to Trastuzumab) or Trastuzumab in combination with Taxotere and Carboplatin in patients with HER2-positive breast cancer in the neoadjuvant setting.\n",
      "\n",
      "If you have any specific questions about these trials or need more information, feel free to ask!\n",
      "You: Hey, which trials are about Breat cancer?\n",
      "Bot: In the provided context, the two clinical trials related to breast cancer are:\n",
      "\n",
      "1. NCT01945775: A Study Evaluating Talazoparib (BMN 673), a PARP Inhibitor, in Advanced and/or Metastatic Breast Cancer Patients With BRCA Mutation (EMBRACA Study)\n",
      "- This study focuses on patients with advanced and/or metastatic breast cancer who have a specific genetic mutation called BRCA. It is evaluating the effectiveness and safety of Talazoparib in this patient population.\n",
      "\n",
      "2. NCT02187744: A Study Of PF-05280014 Or Trastuzumab Plus Taxotere and Carboplatin In HER2 Positive Breast Cancer In The Neoadjuvant Setting (REFLECTIONS B327-04)\n",
      "- This study is investigating the use of PF-05280014 (a biosimilar to Trastuzumab) or Trastuzumab in combination with Taxotere and Carboplatin in patients with HER2-positive breast cancer in the neoadjuvant setting.\n",
      "\n",
      "If you have any specific questions about these trials or need more information, feel free to ask!\n",
      "You: \n",
      "Bot: If you have any more questions in the future or need assistance, feel free to ask. Have a great day! Goodbye!\n",
      "Chat session ended.\n"
     ]
    }
   ],
   "source": [
    "chat_with_bot(chat_engine)\n"
   ]
  },
  {
   "cell_type": "code",
   "execution_count": null,
   "metadata": {},
   "outputs": [],
   "source": []
  },
  {
   "cell_type": "code",
   "execution_count": 24,
   "metadata": {},
   "outputs": [
    {
     "data": {
      "application/vnd.jupyter.widget-view+json": {
       "model_id": "6812f4faec7a48dcacedd88cf02daa8c",
       "version_major": 2,
       "version_minor": 0
      },
      "text/plain": [
       "VBox(children=(Text(value='', description='You:'), Button(description='Send', style=ButtonStyle()), Output(lay…"
      ]
     },
     "metadata": {},
     "output_type": "display_data"
    }
   ],
   "source": [
    "import ipywidgets as widgets\n",
    "from IPython.display import display\n",
    "\n",
    "text_input = widgets.Text(description=\"You:\", width=300)\n",
    "send_button = widgets.Button(description=\"Send\")\n",
    "output_area = widgets.Output(layout={'height': '300px', 'overflow_y': 'scroll'})\n",
    "\n",
    "# initialize a list to keep track of the chat history\n",
    "chat_history = []\n",
    "\n",
    "def send_chat(button):\n",
    "    user_input = text_input.value\n",
    "    global chat_history  \n",
    "    \n",
    "    if user_input.lower() == 'quit':\n",
    "        with output_area:\n",
    "            display(widgets.HTML(value=\"<b>Chat session ended.</b>\"))\n",
    "        \n",
    "        # reset the chat engine to clear the chat history / state\n",
    "        chat_engine.reset()\n",
    "        \n",
    "        # clear the chat history and output area for a new session\n",
    "        chat_history = []\n",
    "        output_area.clear_output()\n",
    "        display(widgets.HTML(value=\"<b>Chatbot reset! Type anything to start a new chat session.</b>\"))\n",
    "        return\n",
    "    \n",
    "    chat_history.append(f\"You: {user_input}\")\n",
    "    \n",
    "    response = chat_engine.chat(user_input)  \n",
    "    chat_history.append(f\"Bot: {response}\")\n",
    "    \n",
    "    # display chat history without clearing previous messages\n",
    "    with output_area:\n",
    "        output_area.clear_output()  \n",
    "        for message in chat_history:\n",
    "            display(widgets.HTML(value=message.replace(\"\\n\", \"<br>\")))  \n",
    "    text_input.value = ''\n",
    "\n",
    "send_button.on_click(send_chat)\n",
    "\n",
    "chat_box = widgets.VBox([text_input, send_button, output_area])\n",
    "display(chat_box)\n"
   ]
  },
  {
   "cell_type": "markdown",
   "metadata": {},
   "source": [
    "## Print out from a conversation I had with the bot"
   ]
  },
  {
   "cell_type": "markdown",
   "metadata": {},
   "source": [
    "You: What studies are about breast cancer?\n",
    "Bot: Two studies related to breast cancer are:\n",
    "\n",
    "1. Study NCT01945775 titled \"A Study Evaluating Talazoparib (BMN 673), a PARP Inhibitor, in Advanced and/or Metastatic Breast Cancer Patients With BRCA Mutation (EMBRACA Study)\" sponsored by Pfizer. This study aims to evaluate the effectiveness of talazoparib in patients with advanced and/or metastatic breast cancer who have a BRCA mutation. The study has 431 participants enrolled.\n",
    "\n",
    "2. Study NCT02187744 titled \"A Study Of PF-05280014 Or Trastuzumab Plus Taxotere and Carboplatin In HER2 Positive Breast Cancer In The Neoadjuvant Setting (REFLECTIONS B327-04)\" also sponsored by Pfizer. This study focuses on HER2 positive breast cancer in the neoadjuvant setting and involves the use of PF-05280014, Taxotere, and Carboplatin. The study has 226 participants enrolled.\n",
    "You: Can you give me a plain language summary of trial NCT02187744?\n",
    "Bot: Certainly! Trial NCT02187744, also known as the \"REFLECTIONS B327-04\" study, is looking at a treatment for a specific type of breast cancer called HER2 positive breast cancer. The study is being conducted in the neoadjuvant setting, which means the treatment is given before surgery to shrink the tumor.\n",
    "\n",
    "In this study, researchers are comparing the effectiveness of a drug called PF-05280014 with the standard treatment of Trastuzumab plus Taxotere and Carboplatin in patients with HER2 positive breast cancer. The goal is to see which treatment works better in reducing the size of the tumor before surgery.\n",
    "\n",
    "The study involves 226 participants and is sponsored by Pfizer. The results of this study will help doctors and patients better understand the benefits of different treatment options for HER2 positive breast cancer in the neoadjuvant setting.\n",
    "You: Alright, can you give me a study about the NCT01945775 trial please?\n",
    "Bot: Certainly! Study NCT01945775 is titled \"A Study Evaluating Talazoparib (BMN 673), a PARP Inhibitor, in Advanced and/or Metastatic Breast Cancer Patients With BRCA Mutation (EMBRACA Study)\" sponsored by Pfizer.\n",
    "\n",
    "This study is focused on evaluating the effectiveness of a drug called talazoparib, which is a PARP inhibitor, in patients with advanced and/or metastatic breast cancer who have a specific genetic mutation called BRCA. The study aims to assess how well talazoparib works in treating this type of breast cancer and to determine its safety profile.\n",
    "\n",
    "The study has 431 participants enrolled, and the results will provide valuable information on the potential benefits of talazoparib as a treatment option for patients with advanced and/or metastatic breast cancer and BRCA mutations.\n",
    "You: Can you compare the two studies now and exlpain the key differences please?\n",
    "Bot: Certainly! Here is a comparison of the two studies, NCT02187744 and NCT01945775:\n",
    "\n",
    "1. NCT02187744 (REFLECTIONS B327-04):\n",
    "- Title: A Study Of PF-05280014 Or Trastuzumab Plus Taxotere and Carboplatin In HER2 Positive Breast Cancer In The Neoadjuvant Setting\n",
    "- Sponsor: Pfizer\n",
    "- Enrollment: 226 participants\n",
    "- Focus: HER2 positive breast cancer in the neoadjuvant setting\n",
    "- Interventions: PF-05280014, Trastuzumab, Taxotere, Carboplatin\n",
    "- Goal: Comparing the effectiveness of PF-05280014 with standard treatment in reducing tumor size before surgery\n",
    "\n",
    "2. NCT01945775 (EMBRACA Study):\n",
    "- Title: A Study Evaluating Talazoparib (BMN 673), a PARP Inhibitor, in Advanced and/or Metastatic Breast Cancer Patients With BRCA Mutation\n",
    "- Sponsor: Pfizer\n",
    "- Enrollment: 431 participants\n",
    "- Focus: Advanced and/or metastatic breast cancer with BRCA mutation\n",
    "- Intervention: Talazoparib (PARP inhibitor)\n",
    "- Goal: Evaluating the effectiveness and safety of talazoparib in treating breast cancer with BRCA mutation\n",
    "\n",
    "Key Differences:\n",
    "- NCT02187744 focuses on HER2 positive breast cancer in the neoadjuvant setting, while NCT01945775 focuses on advanced and/or metastatic breast cancer with BRCA mutation.\n",
    "- The interventions in the two studies are different, with NCT02187744 using PF-05280014, Trastuzumab, Taxotere, and Carboplatin, and NCT01945775 using Talazoparib.\n",
    "- The enrollment counts are also different, with NCT01945775 having a larger number of participants (431) compared to NCT02187744 (226).\n",
    "\n",
    "These key differences highlight the specific populations being studied and the different treatment approaches being evaluated in each trial.\n",
    "You: Can you tell me more about the PARP inhibitor?\n",
    "Bot: PARP inhibitors are a class of drugs that are used in cancer treatment, particularly in the treatment of certain types of breast and ovarian cancers. PARP stands for poly (ADP-ribose) polymerase, which is a protein involved in DNA repair within cells.\n",
    "\n",
    "When PARP inhibitors are used in cancer treatment, they work by blocking the PARP enzyme, which prevents cancer cells from repairing their damaged DNA. This leads to the accumulation of DNA damage in the cancer cells, ultimately causing them to die.\n",
    "\n",
    "PARP inhibitors are particularly effective in cancers that have defects in other DNA repair pathways, such as cancers with BRCA mutations. These mutations make the cancer cells more reliant on the PARP pathway for DNA repair, making them more vulnerable to PARP inhibition.\n",
    "\n",
    "Talazoparib, which is the PARP inhibitor being studied in the NCT01945775 trial, is one such drug that has shown promise in treating breast cancer with BRCA mutations. By targeting the DNA repair mechanisms in cancer cells, PARP inhibitors like talazoparib offer a targeted and effective treatment option for certain types of cancer."
   ]
  },
  {
   "cell_type": "markdown",
   "metadata": {},
   "source": [
    "You: What studies are about covid?\n",
    "Bot: I can provide you with information on clinical trials related to COVID-19. However, based on the context provided, the studies mentioned are not specifically related to COVID-19. Would you like me to search for COVID-19 related clinical trials for you?"
   ]
  },
  {
   "cell_type": "code",
   "execution_count": 15,
   "metadata": {},
   "outputs": [
    {
     "data": {
      "application/vnd.jupyter.widget-view+json": {
       "model_id": "e7650d5a01b1456f9dc586f0b178a6a2",
       "version_major": 2,
       "version_minor": 0
      },
      "text/plain": [
       "VBox(children=(Text(value='', description='You:'), Button(description='Send', style=ButtonStyle()), Output(lay…"
      ]
     },
     "metadata": {},
     "output_type": "display_data"
    }
   ],
   "source": [
    "display(chat_box)"
   ]
  },
  {
   "cell_type": "code",
   "execution_count": 16,
   "metadata": {},
   "outputs": [
    {
     "data": {
      "application/vnd.jupyter.widget-view+json": {
       "model_id": "e7650d5a01b1456f9dc586f0b178a6a2",
       "version_major": 2,
       "version_minor": 0
      },
      "text/plain": [
       "VBox(children=(Text(value='', description='You:'), Button(description='Send', style=ButtonStyle()), Output(lay…"
      ]
     },
     "metadata": {},
     "output_type": "display_data"
    }
   ],
   "source": [
    "display(chat_box)"
   ]
  },
  {
   "cell_type": "markdown",
   "metadata": {},
   "source": [
    "# Working on fetching additional information"
   ]
  },
  {
   "cell_type": "code",
   "execution_count": 21,
   "metadata": {},
   "outputs": [],
   "source": [
    "import re\n",
    "\n",
    "def extract_query_details(user_query, bot_response):\n",
    "    # Regex pattern for NCT_ID\n",
    "    nct_id_pattern = r\"NCT[0-9]+\"\n",
    "    \n",
    "    # check if bot's response indicates a lack of specific information\n",
    "    if \"I don't have information\" in bot_response or \"I don't have specific details\" in bot_response:\n",
    "        # Try to extract NCT_ID\n",
    "        nct_id_match = re.search(nct_id_pattern, user_query)\n",
    "        if nct_id_match:\n",
    "            return (\"NCT_ID\", nct_id_match.group(0))\n",
    "        \n",
    "        # If no NCT_ID, treat the user query as a topic\n",
    "        return (\"topic\", user_query.split(\"about\")[-1].strip())\n",
    "    \n",
    "    # Rrturn None if bot's response does not indicate a lack of information\n",
    "    return (None, None)\n",
    "\n",
    "\n",
    "user_query = \"Can you list clinical trials about covid?\"\n",
    "bot_response = \"I can provide you with information about clinical trials related to COVID-19. However, ...\"\n",
    "\n",
    "query_type, query_value = extract_query_details(user_query, bot_response)\n",
    "\n",
    "if query_type == \"NCT_ID\":\n",
    "    # Fetch and process data for the NCT_ID\n",
    "    print(f\"Fetching information for clinical trial {query_value}...\")\n",
    "elif query_type == \"topic\":\n",
    "    # Fetch and process data for the topic\n",
    "    print(f\"Searching for clinical trials about {query_value}...\")\n"
   ]
  },
  {
   "cell_type": "code",
   "execution_count": 22,
   "metadata": {},
   "outputs": [
    {
     "name": "stdout",
     "output_type": "stream",
     "text": [
      "None None\n"
     ]
    }
   ],
   "source": [
    "query_type, query_value = extract_query_details(user_query, bot_response)\n",
    "print(query_type, query_value)"
   ]
  },
  {
   "cell_type": "code",
   "execution_count": null,
   "metadata": {},
   "outputs": [],
   "source": []
  }
 ],
 "metadata": {
  "kernelspec": {
   "display_name": "capstone",
   "language": "python",
   "name": "python3"
  },
  "language_info": {
   "codemirror_mode": {
    "name": "ipython",
    "version": 3
   },
   "file_extension": ".py",
   "mimetype": "text/x-python",
   "name": "python",
   "nbconvert_exporter": "python",
   "pygments_lexer": "ipython3",
   "version": "3.11.7"
  }
 },
 "nbformat": 4,
 "nbformat_minor": 2
}
