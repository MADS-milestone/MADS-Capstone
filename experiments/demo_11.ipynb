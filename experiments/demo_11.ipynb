{
 "cells": [
  {
   "cell_type": "markdown",
   "id": "10f05e17",
   "metadata": {},
   "source": [
    "## Imports"
   ]
  },
  {
   "cell_type": "code",
   "execution_count": 1,
   "id": "f12f7579",
   "metadata": {
    "ExecuteTime": {
     "end_time": "2024-02-22T15:27:22.940156Z",
     "start_time": "2024-02-22T15:27:19.221106200Z"
    }
   },
   "outputs": [],
   "source": [
    "from dotenv import load_dotenv \n",
    "\n",
    "#import evaluate # for ROUGE metric\n",
    "import json\n",
    "import os\n",
    "import requests as req\n",
    "import time\n",
    "\n",
    "from llama_index.core import Document, Settings, VectorStoreIndex\n",
    "from llama_index.embeddings.nomic import NomicEmbedding\n",
    "\n",
    "from utils_3 import safe_get, extract_from_json, flatten_data"
   ]
  },
  {
   "cell_type": "markdown",
   "id": "2c6d7610",
   "metadata": {},
   "source": [
    "## bioBert (?)"
   ]
  },
  {
   "cell_type": "code",
   "execution_count": 2,
   "id": "4ccfb853",
   "metadata": {
    "ExecuteTime": {
     "end_time": "2024-02-22T15:27:26.227184500Z",
     "start_time": "2024-02-22T15:27:22.942154600Z"
    }
   },
   "outputs": [],
   "source": [
    "from transformers import AutoTokenizer, AutoModel\n",
    "\n",
    "# reference:  https://huggingface.co/bvanaken/CORe-clinical-outcome-biobert-v1\n",
    "tokenizer = AutoTokenizer.from_pretrained(\"bvanaken/CORe-clinical-outcome-biobert-v1\")\n",
    "model = AutoModel.from_pretrained(\"bvanaken/CORe-clinical-outcome-biobert-v1\")"
   ]
  },
  {
   "cell_type": "markdown",
   "id": "c1b27c92",
   "metadata": {},
   "source": [
    "## Verify API tokens are available"
   ]
  },
  {
   "cell_type": "code",
   "execution_count": 3,
   "id": "c44ccd20",
   "metadata": {
    "ExecuteTime": {
     "end_time": "2024-02-22T15:27:26.245184400Z",
     "start_time": "2024-02-22T15:27:26.230187Z"
    }
   },
   "outputs": [],
   "source": [
    "load_dotenv()  # This loads the variables from .envz\n",
    "nomic_api_key = os.getenv(\"NOMIC_API_KEY\")"
   ]
  },
  {
   "cell_type": "code",
   "execution_count": 4,
   "id": "4d56da3d",
   "metadata": {
    "ExecuteTime": {
     "end_time": "2024-02-22T15:27:27.429174200Z",
     "start_time": "2024-02-22T15:27:26.242184100Z"
    }
   },
   "outputs": [],
   "source": [
    "embed_model = NomicEmbedding(\n",
    "    api_key=nomic_api_key,\n",
    "    dimensionality=128,\n",
    "    model_name=\"nomic-embed-text-v1.5\",\n",
    ")\n",
    "\n",
    "embedding = embed_model.get_text_embedding(\"Nomic Embeddings\")\n",
    "\n",
    "llm = model\n",
    "\n",
    "#ettings.llm = llm\n",
    "Settings.embed_model = embed_model"
   ]
  },
  {
   "cell_type": "markdown",
   "id": "7e8f4eb4",
   "metadata": {},
   "source": [
    "## Fetch data from \"specific\" clinicaltrials.gov\n",
    "<span style=\"color: darkred; font-size: 18px;\"> source: https://drive.google.com/file/d/1HOsN3v8DLzwoMOXOr_Mfb1Hn6XNwlZ72/view?usp=sharing"
   ]
  },
  {
   "cell_type": "code",
   "execution_count": 5,
   "id": "231c678c",
   "metadata": {
    "ExecuteTime": {
     "end_time": "2024-02-22T15:27:27.632177500Z",
     "start_time": "2024-02-22T15:27:27.430175800Z"
    }
   },
   "outputs": [],
   "source": [
    "# specify the clinical trial \n",
    "# nct_id = \"NCT00094887\"\n",
    "nct_id = \"NCT00108953\"\n",
    "# nct_id = \"NCT00177671\" \n",
    "# nct_id = \"NCT00281918\"\n",
    "# nct_id = \"NCT00404079\"\n",
    "# nct_id = \"NCT00426751\"\n",
    "# nct_id = \"NCT01865747\" #<== good one \n",
    "\n",
    "# name the downloaded JSON \"clinical_study\"\n",
    "response = req.get(f\"https://clinicaltrials.gov/api/v2/studies/{nct_id}\")\n",
    "clinical_study = response.json()\n",
    "# clinical_study\n",
    "\n",
    "# save the full JSON locally for review (e.g., jsonhero.io)\n",
    "with open(f\"{nct_id}.json\", \"w\") as f:\n",
    "    json.dump(clinical_study, f, indent=4)"
   ]
  },
  {
   "cell_type": "markdown",
   "id": "8c098cf2",
   "metadata": {},
   "source": [
    "## Extract a  subset of the data"
   ]
  },
  {
   "cell_type": "code",
   "execution_count": 6,
   "id": "868c123c",
   "metadata": {
    "ExecuteTime": {
     "end_time": "2024-02-22T15:27:27.647174700Z",
     "start_time": "2024-02-22T15:27:27.632177500Z"
    }
   },
   "outputs": [],
   "source": [
    "extracted_json = extract_from_json(clinical_study)"
   ]
  },
  {
   "cell_type": "code",
   "execution_count": 7,
   "id": "a9106880",
   "metadata": {
    "ExecuteTime": {
     "end_time": "2024-02-22T15:27:27.670172700Z",
     "start_time": "2024-02-22T15:27:27.649174300Z"
    }
   },
   "outputs": [],
   "source": [
    "# save a JSON file to disk for review\n",
    "save_path = f\"{nct_id}_extracted.json\"\n",
    "with open(save_path, \"w\") as f:\n",
    "    json.dump(extracted_json, f, indent=4)"
   ]
  },
  {
   "cell_type": "code",
   "execution_count": 8,
   "id": "73bbda22",
   "metadata": {
    "ExecuteTime": {
     "end_time": "2024-02-22T15:27:27.679176600Z",
     "start_time": "2024-02-22T15:27:27.666174100Z"
    }
   },
   "outputs": [],
   "source": [
    "# prepare for indexing\n",
    "trial_info =  flatten_data(extracted_json, path=\"\")\n",
    "# trial_info"
   ]
  },
  {
   "cell_type": "code",
   "execution_count": 9,
   "id": "657b1108",
   "metadata": {
    "ExecuteTime": {
     "end_time": "2024-02-22T15:27:27.705696600Z",
     "start_time": "2024-02-22T15:27:27.680176800Z"
    }
   },
   "outputs": [],
   "source": [
    "# save text file for disk for review\n",
    "with open(\"trial_info.txt\", \"w\") as file:\n",
    "  for item in trial_info:\n",
    "    file.write(item + \"\\n\")"
   ]
  },
  {
   "cell_type": "markdown",
   "id": "99facd42",
   "metadata": {},
   "source": [
    "## LlamaIndex RAG "
   ]
  },
  {
   "cell_type": "code",
   "execution_count": 10,
   "id": "a8553527",
   "metadata": {
    "ExecuteTime": {
     "end_time": "2024-02-22T15:27:30.243181700Z",
     "start_time": "2024-02-22T15:27:30.219184600Z"
    }
   },
   "outputs": [],
   "source": [
    "documents =[Document(text=t)for t in trial_info]"
   ]
  },
  {
   "cell_type": "code",
   "execution_count": 11,
   "id": "5aafbb26",
   "metadata": {
    "ExecuteTime": {
     "end_time": "2024-02-22T15:27:32.872485900Z",
     "start_time": "2024-02-22T15:27:30.778717900Z"
    }
   },
   "outputs": [],
   "source": [
    "# Create the vector store that we use find relevant documents\n",
    "index = VectorStoreIndex.from_documents(documents)"
   ]
  },
  {
   "cell_type": "code",
   "execution_count": 12,
   "id": "768b3f85",
   "metadata": {
    "ExecuteTime": {
     "end_time": "2024-02-22T15:27:32.935481800Z",
     "start_time": "2024-02-22T15:27:32.875484100Z"
    }
   },
   "outputs": [],
   "source": [
    "# A query engine \n",
    "# query_engine = index.as_query_engine()\n",
    "query_engine = index.as_query_engine(similarity_top_k=5)# <== adjusted this"
   ]
  },
  {
   "cell_type": "markdown",
   "id": "fd62bea3",
   "metadata": {},
   "source": [
    "### quick test"
   ]
  },
  {
   "cell_type": "code",
   "execution_count": 13,
   "id": "12cdeefd",
   "metadata": {
    "ExecuteTime": {
     "end_time": "2024-02-22T15:27:37.964849800Z",
     "start_time": "2024-02-22T15:27:37.953847200Z"
    }
   },
   "outputs": [],
   "source": [
    "def get_response(query, prompt_1, prompt_2):\n",
    "    response = query_engine.query(query)\n",
    "    print(f\"Original response:\\n{response}\")\n",
    " \n",
    "    query_2 = prompt_1 + response.response\n",
    "    response_2 = query_engine.query(query_2)\n",
    "    print(f\"\\nPlain Language Summary:\\n{response_2}\")\n",
    "    \n",
    "    query_2 = prompt_2 + response.response\n",
    "    response_2 = query_engine.query(query_2)\n",
    "    print(f\"\\nExpert Analysis:\\n{response_2}\")\n"
   ]
  },
  {
   "cell_type": "markdown",
   "id": "050be449",
   "metadata": {},
   "source": [
    "#### enhanced prompts"
   ]
  },
  {
   "cell_type": "code",
   "execution_count": 14,
   "id": "8e55ea72",
   "metadata": {
    "ExecuteTime": {
     "end_time": "2024-02-22T15:27:39.612860900Z",
     "start_time": "2024-02-22T15:27:39.599865700Z"
    }
   },
   "outputs": [],
   "source": [
    "PLS_prompt = \"\"\"Using everyday language to make the clinical results of a study meaningful and understandable to a lay person, rephrase this: \"\"\"\n",
    "expert_prompt = \"\"\"Emulate a PhD scientist and expert statistician to elaborate on the following: \"\"\""
   ]
  },
  {
   "cell_type": "markdown",
   "id": "29010249",
   "metadata": {},
   "source": [
    "#### example 1"
   ]
  },
  {
   "cell_type": "code",
   "execution_count": 15,
   "id": "50ba2b26",
   "metadata": {
    "ExecuteTime": {
     "end_time": "2024-02-22T15:27:47.576325600Z",
     "start_time": "2024-02-22T15:27:40.623035200Z"
    }
   },
   "outputs": [
    {
     "name": "stdout",
     "output_type": "stream",
     "text": [
      "Original response:\n",
      "The study was conducted for patients with advanced hepatocellular carcinoma (HCC) and the treatment involved evaluating the safety and efficacy of doxorubicin plus sorafenib versus doxorubicin plus placebo.\n",
      "\n",
      "Plain Language Summary:\n",
      "The research aimed to see how safe and effective it is to use a combination of doxorubicin and sorafenib compared to using doxorubicin with a placebo in patients with advanced liver cancer.\n",
      "\n",
      "Expert Analysis:\n",
      "In the study conducted for patients with advanced hepatocellular carcinoma (HCC), the treatment comparison focused on assessing the safety and efficacy of combining doxorubicin with sorafenib versus doxorubicin with a placebo. The aim was to investigate the potential benefits of adding sorafenib to the standard treatment regimen involving doxorubicin in this patient population. By comparing the outcomes between these two groups, the researchers aimed to determine if the addition of sorafenib could lead to improved clinical outcomes in terms of response rate, time to progression, time to symptomatic progression, and overall survival. Additionally, the study explored the correlation between baseline characteristics and key clinical endpoints to identify potential predictive markers of clinical benefit. The safety and tolerability of the treatment regimens were also carefully evaluated, with a specific focus on assessing adverse events related to doxorubicin, such as cardiotoxicity. Through rigorous statistical analysis and interpretation of the data collected, the study aimed to provide valuable insights into the efficacy and safety profile of the combination therapy in patients with advanced HCC.\n"
     ]
    }
   ],
   "source": [
    "query_1 = \"For which medical condition and treatment was this study done?\"\n",
    "get_response(query_1, PLS_prompt, expert_prompt)"
   ]
  },
  {
   "cell_type": "markdown",
   "id": "21998e95",
   "metadata": {},
   "source": [
    "#### example 2"
   ]
  },
  {
   "cell_type": "code",
   "execution_count": 16,
   "id": "4016264f",
   "metadata": {
    "ExecuteTime": {
     "end_time": "2024-02-22T15:28:05.115210700Z",
     "start_time": "2024-02-22T15:27:59.618981700Z"
    }
   },
   "outputs": [
    {
     "name": "stdout",
     "output_type": "stream",
     "text": [
      "Original response:\n",
      "Yes, the p-value was reported. The p-value is 0.016.\n",
      "\n",
      "Plain Language Summary:\n",
      "Yes, the study found a significant difference between the two groups with a p-value of 0.016.\n",
      "\n",
      "Expert Analysis:\n",
      "The reported p-value of 0.016 indicates that there is statistically significant evidence to reject the null hypothesis that the time to progression (TTP) is the same in both treatment groups. In other words, the probability of observing the data, or more extreme data, if the null hypothesis were true is 0.016. This suggests that there is a significant difference in TTP between the group receiving nexavar+doxorubicin and the group receiving placebo+doxorubicin.\n"
     ]
    }
   ],
   "source": [
    "query_2 = \"\"\"Yes or no, was p-value reported?. What is the p-value?\"\"\"\n",
    "get_response(query_2, PLS_prompt, expert_prompt)"
   ]
  },
  {
   "cell_type": "markdown",
   "id": "029b9829",
   "metadata": {},
   "source": [
    "#### example 3 "
   ]
  },
  {
   "cell_type": "code",
   "execution_count": 17,
   "id": "0fb45964",
   "metadata": {
    "ExecuteTime": {
     "end_time": "2024-02-22T15:28:11.292411700Z",
     "start_time": "2024-02-22T15:28:05.118210600Z"
    }
   },
   "outputs": [
    {
     "name": "stdout",
     "output_type": "stream",
     "text": [
      "Original response:\n",
      "Yes, a hazard ratio was reported. The hazard ratio value was for nexavar+doxorubicin over placebo+doxorubicin.\n",
      "\n",
      "Plain Language Summary:\n",
      "Yes, the study showed that the combination of nexavar and doxorubicin had a certain advantage over using placebo and doxorubicin, as indicated by the hazard ratio.\n",
      "\n",
      "Expert Analysis:\n",
      "The hazard ratio value comparing the treatment group receiving nexavar and doxorubicin to the group receiving placebo and doxorubicin provides valuable insight into the relative risk of an event occurring between the two groups. A hazard ratio above 1 indicates a higher risk of the event in the nexavar and doxorubicin group compared to the placebo and doxorubicin group, while a hazard ratio below 1 suggests a lower risk in the nexavar and doxorubicin group. This statistical measure is crucial in assessing the efficacy and potential benefits of the treatment combination in patients with advanced hepatocellular carcinoma.\n"
     ]
    }
   ],
   "source": [
    "query_3 = \"\"\"Yes or no, was a hazard ratio reported? If a hazard ratio was reported, what was its value?\"\"\"\n",
    "get_response(query_3, PLS_prompt, expert_prompt)"
   ]
  },
  {
   "cell_type": "markdown",
   "id": "1ea16faf",
   "metadata": {},
   "source": [
    "6.1.4  example 4"
   ]
  },
  {
   "cell_type": "code",
   "execution_count": 18,
   "id": "15c0d105",
   "metadata": {
    "ExecuteTime": {
     "end_time": "2024-02-22T15:28:19.247337700Z",
     "start_time": "2024-02-22T15:28:11.294415400Z"
    }
   },
   "outputs": [
    {
     "name": "stdout",
     "output_type": "stream",
     "text": [
      "Original response:\n",
      "Hepatocellular carcinoma (HCC) is the condition mentioned in this trial.\n",
      "\n",
      "Plain Language Summary:\n",
      "This study is looking at a type of liver cancer called hepatocellular carcinoma (HCC).\n",
      "\n",
      "Expert Analysis:\n",
      "Hepatocellular carcinoma (HCC) is a primary malignancy of the liver that arises from hepatocytes. It is a significant global health issue, particularly in regions where chronic hepatitis B or C infections are prevalent. HCC typically presents at an advanced stage, making treatment challenging. In the context of the clinical trial mentioned, the focus is on evaluating the safety and efficacy of different treatment regimens for patients with advanced HCC. The study aims to assess key secondary outcome parameters such as time to progression, response rate, and overall survival, which are crucial in determining the effectiveness of the treatments being compared. Additionally, exploring potential predictive assays of clinical benefit based on baseline characteristics can provide valuable insights into patient stratification and personalized treatment approaches. Evaluating the safety and tolerability of the treatment regimens is essential for understanding the overall risk-benefit profile for patients with advanced HCC. Furthermore, investigating the pharmacokinetics of doxorubicin in combination with sorafenib versus placebo can offer insights into potential drug interactions and adverse events, particularly cardiotoxicity, which is a known concern with doxorubicin therapy.\n"
     ]
    }
   ],
   "source": [
    "query_4 = \"\"\"What condition is mentioned in this trial?\"\"\"\n",
    "get_response(query_4, PLS_prompt, expert_prompt)"
   ]
  },
  {
   "cell_type": "code",
   "execution_count": null,
   "id": "a452db6b",
   "metadata": {},
   "outputs": [],
   "source": []
  }
 ],
 "metadata": {
  "kernelspec": {
   "display_name": "Python 3 (ipykernel)",
   "language": "python",
   "name": "python3"
  },
  "language_info": {
   "codemirror_mode": {
    "name": "ipython",
    "version": 3
   },
   "file_extension": ".py",
   "mimetype": "text/x-python",
   "name": "python",
   "nbconvert_exporter": "python",
   "pygments_lexer": "ipython3",
   "version": "3.11.7"
  },
  "toc": {
   "base_numbering": 1,
   "nav_menu": {},
   "number_sections": true,
   "sideBar": true,
   "skip_h1_title": false,
   "title_cell": "Table of Contents",
   "title_sidebar": "Contents",
   "toc_cell": false,
   "toc_position": {},
   "toc_section_display": true,
   "toc_window_display": false
  }
 },
 "nbformat": 4,
 "nbformat_minor": 5
}
