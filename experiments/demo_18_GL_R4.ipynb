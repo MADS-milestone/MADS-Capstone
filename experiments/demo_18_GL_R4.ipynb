{
 "cells": [
  {
   "cell_type": "markdown",
   "id": "10f05e17",
   "metadata": {},
   "source": [
    "## Importing Libraries"
   ]
  },
  {
   "cell_type": "code",
   "execution_count": 1,
   "id": "529a1393",
   "metadata": {},
   "outputs": [],
   "source": [
    "import time"
   ]
  },
  {
   "cell_type": "code",
   "execution_count": 2,
   "id": "a510213f",
   "metadata": {},
   "outputs": [],
   "source": [
    "import json\n",
    "import os\n",
    "import re\n",
    "import requests as req\n",
    "import urllib.request\n",
    "from dotenv import load_dotenv\n",
    "from IPython.display import display, Markdown\n",
    "\n",
    "import chromadb\n",
    "\n",
    "from llama_index.core import Document, Settings, StorageContext, VectorStoreIndex\n",
    "from llama_index.core.memory import ChatMemoryBuffer\n",
    "from llama_index.core.node_parser import SentenceSplitter\n",
    "from llama_index.core.response.notebook_utils import display_response\n",
    "from llama_index.core.schema import MetadataMode\n",
    "# from llama_index.embeddings.nomic import NomicEmbedding\n",
    "from llama_index.embeddings.openai import OpenAIEmbedding\n",
    "from llama_index.llms.openai import OpenAI\n",
    "from llama_index.vector_stores.chroma import ChromaVectorStore\n",
    "\n",
    "import openai\n",
    "\n",
    "from utils_18 import extract_from_json, flatten_dict, replace_double_newline, format_flattened_dict, pfizer_ncts"
   ]
  },
  {
   "cell_type": "markdown",
   "id": "e87ef9f1",
   "metadata": {},
   "source": [
    "### Environment"
   ]
  },
  {
   "cell_type": "code",
   "execution_count": 3,
   "id": "87579f3a",
   "metadata": {},
   "outputs": [],
   "source": [
    "# %reload_ext watermark\n",
    "# %watermark -v -p llama_index.core\n",
    "# Python implementation: CPython\n",
    "# Python version       : 3.11.7\n",
    "# IPython version      : 8.20.0\n",
    "# llama_index.core: 0.10.12"
   ]
  },
  {
   "cell_type": "code",
   "execution_count": 4,
   "id": "2fe35c13",
   "metadata": {},
   "outputs": [
    {
     "name": "stdout",
     "output_type": "stream",
     "text": [
      "chromadb                                 0.4.24\n",
      "llama_cpp_python                         0.2.56\n",
      "llama-index                              0.10.20\n",
      "llama-index-agent-openai                 0.1.5\n",
      "llama-index-cli                          0.1.9\n",
      "llama-index-core                         0.10.21.post1\n",
      "llama-index-embeddings-huggingface       0.1.4\n",
      "llama-index-embeddings-openai            0.1.6\n",
      "llama-index-indices-managed-llama-cloud  0.1.4\n",
      "llama-index-legacy                       0.9.48\n",
      "llama-index-llms-llama-cpp               0.1.3\n",
      "llama-index-llms-openai                  0.1.9\n",
      "llama-index-multi-modal-llms-openai      0.1.4\n",
      "llama-index-program-openai               0.1.4\n",
      "llama-index-question-gen-openai          0.1.3\n",
      "llama-index-readers-file                 0.1.11\n",
      "llama-index-readers-llama-parse          0.1.3\n",
      "llama-index-vector-stores-chroma         0.1.6\n",
      "llama-parse                              0.3.9\n",
      "llamaindex-py-client                     0.1.13\n"
     ]
    }
   ],
   "source": [
    "# Versions:  chromadb and llama-index \n",
    "!pip list | grep chromadb\n",
    "!pip list | grep llama\n",
    "# chromadb                                 0.4.23\n",
    "# llama_cpp_python                         0.2.53\n",
    "# llama-index                              0.10.20\n",
    "# llama-index-agent-openai                 0.1.5\n",
    "# llama-index-cli                          0.1.8\n",
    "# llama-index-core                         0.10.21.post1\n",
    "# llama-index-embeddings-huggingface       0.1.4\n",
    "# llama-index-embeddings-nomic             0.1.6\n",
    "# llama-index-embeddings-openai            0.1.6\n",
    "# llama-index-indices-managed-llama-cloud  0.1.3\n",
    "# llama-index-legacy                       0.9.48\n",
    "# llama-index-llms-huggingface             0.1.3\n",
    "# llama-index-llms-llama-cpp               0.1.3\n",
    "# llama-index-llms-ollama                  0.1.2\n",
    "# llama-index-llms-openai                  0.1.12\n",
    "# llama-index-multi-modal-llms-openai      0.1.4\n",
    "# llama-index-program-openai               0.1.4\n",
    "# llama-index-question-gen-openai          0.1.3\n",
    "# llama-index-readers-file                 0.1.9\n",
    "# llama-index-readers-llama-parse          0.1.3\n",
    "# llama-index-vector-stores-chroma         0.1.6\n",
    "# llama-index-vector-stores-elasticsearch  0.1.5\n",
    "# llama-parse                              0.3.8\n",
    "# llamaindex-py-client                     0.1.13"
   ]
  },
  {
   "cell_type": "markdown",
   "id": "c1b27c92",
   "metadata": {},
   "source": [
    "### Verify API tokens are available"
   ]
  },
  {
   "cell_type": "code",
   "execution_count": 5,
   "id": "c44ccd20",
   "metadata": {
    "ExecuteTime": {
     "end_time": "2024-02-22T15:27:26.245184400Z",
     "start_time": "2024-02-22T15:27:26.230187Z"
    }
   },
   "outputs": [],
   "source": [
    "# load_dotenv() \n",
    "# # nomic_api_key = os.getenv(\"NOMIC_API_KEY\")\n",
    "# openai_api_key = os.getenv(\"OPENAI_API_KEY\")"
   ]
  },
  {
   "cell_type": "markdown",
   "id": "ae92d38b",
   "metadata": {},
   "source": [
    "### (Optional) Remove previous JSON files and Chroma DB before starting\n",
    "using macOS/Linux %%bash"
   ]
  },
  {
   "cell_type": "code",
   "execution_count": 6,
   "id": "f6cfd0db",
   "metadata": {},
   "outputs": [],
   "source": [
    "%%bash\n",
    "# find ./ -type f -name \"*.json\" -delete"
   ]
  },
  {
   "cell_type": "code",
   "execution_count": 7,
   "id": "d09f62c0",
   "metadata": {},
   "outputs": [],
   "source": [
    "%%bash\n",
    "# rm -rf chroma_db"
   ]
  },
  {
   "cell_type": "markdown",
   "id": "10b17b1a",
   "metadata": {},
   "source": [
    "<span style=\"color: blue; font-size: 30px;\">Data Collection"
   ]
  },
  {
   "cell_type": "markdown",
   "id": "7e8f4eb4",
   "metadata": {},
   "source": [
    "##### Fetch data corresponding to Pfizer PLS<br>source:  https://www.pfizer.com/science/clinical-trials/plain-language-study-results-summaries/"
   ]
  },
  {
   "cell_type": "code",
   "execution_count": 8,
   "id": "3b83137c",
   "metadata": {},
   "outputs": [],
   "source": [
    "def get_trial(nct_id):\n",
    "    \"\"\"\n",
    "    Return: the JSON data for a clinical trial given its NCT ID.\n",
    "    \"\"\"\n",
    "    trial = req.get(f\"https://clinicaltrials.gov/api/v2/studies/{nct_id}\")\n",
    "    trial_json = trial.json()\n",
    "    return trial_json"
   ]
  },
  {
   "cell_type": "code",
   "execution_count": 9,
   "id": "caef252e",
   "metadata": {},
   "outputs": [],
   "source": [
    "def get_downloaded_json(list_of_nct_id):\n",
    "    \"\"\"\n",
    "    Downloads and saves JSON file(s) locally for reference.\n",
    "    \"\"\"\n",
    "    downloaded_json = []\n",
    "    for nct_id in list_of_nct_id:\n",
    "        trial = get_trial(nct_id)\n",
    "        downloaded_json.append(trial)\n",
    "        with open(f\"{nct_id}.json\", \"w\") as f:\n",
    "            json.dump(trial, f, indent=4)\n",
    "    return downloaded_json"
   ]
  },
  {
   "cell_type": "markdown",
   "id": "3e05ec90",
   "metadata": {},
   "source": [
    "##### Trials to consider (Pfizer, phase 3, with p-value)"
   ]
  },
  {
   "cell_type": "code",
   "execution_count": 10,
   "id": "41db59df",
   "metadata": {},
   "outputs": [],
   "source": [
    "# list of NCT IDs for the trials\n",
    "list_of_nct_id = pfizer_ncts"
   ]
  },
  {
   "cell_type": "code",
   "execution_count": 11,
   "id": "4ea87d94",
   "metadata": {},
   "outputs": [
    {
     "data": {
      "text/plain": [
       "247"
      ]
     },
     "execution_count": 11,
     "metadata": {},
     "output_type": "execute_result"
    }
   ],
   "source": [
    "# fetch the JSON data for the trials\n",
    "downloaded_json = get_downloaded_json(list_of_nct_id)\n",
    "# downloaded_json[0] # check\n",
    "len(downloaded_json) # check"
   ]
  },
  {
   "cell_type": "markdown",
   "id": "bda439dd",
   "metadata": {},
   "source": [
    "<span style=\"color: blue; font-size: 30px;\">Data Exploration and Cleaning"
   ]
  },
  {
   "cell_type": "markdown",
   "id": "8c098cf2",
   "metadata": {},
   "source": [
    "## Data Cleaning\n",
    "For each trial, extract a  subset of the data, save to a list<br>the **extract_from_json()** function is found in imported utils **(this function is WIP and can be improved)**"
   ]
  },
  {
   "cell_type": "code",
   "execution_count": 12,
   "id": "9e526ce2",
   "metadata": {},
   "outputs": [],
   "source": [
    "def list_from_extracted_json(downloaded_json): \n",
    "    \"\"\"\n",
    "    Processes and saves extracted JSON file(s) locally for review\n",
    "    Return: a list of documents.\n",
    "    \"\"\"\n",
    "    documents_list  = []\n",
    "    for json_file in downloaded_json:\n",
    "        extracted_json = extract_from_json(json_file)\n",
    "        nct_id = json_file['protocolSection']['identificationModule']['nctId']\n",
    "        save_path = f\"{nct_id}_extracted.json\"\n",
    "        with open(save_path, \"w\") as f:\n",
    "            json.dump(extracted_json, f, indent=4)\n",
    "        documents_list.append(extracted_json)\n",
    "    return documents_list"
   ]
  },
  {
   "cell_type": "code",
   "execution_count": 13,
   "id": "6e06d1b1",
   "metadata": {},
   "outputs": [
    {
     "data": {
      "text/plain": [
       "247"
      ]
     },
     "execution_count": 13,
     "metadata": {},
     "output_type": "execute_result"
    }
   ],
   "source": [
    "# create a list of documents from the extracted JSON data \n",
    "documents_list = list_from_extracted_json(downloaded_json)\n",
    "len(documents_list) # check"
   ]
  },
  {
   "cell_type": "markdown",
   "id": "3e02a575",
   "metadata": {},
   "source": [
    "### Metadata\n",
    "Note: JSON files clinicaltrials.gov are heterogenous and each may contain different number of fields."
   ]
  },
  {
   "cell_type": "code",
   "execution_count": 14,
   "id": "69a1403d",
   "metadata": {},
   "outputs": [],
   "source": [
    "def max_keys(documents_list):\n",
    "    \"\"\"\n",
    "    Identifies the document with the maximum number of keys in a list of dictionaries.\n",
    "    Return: a list of keys from the document with the maximum number of keys. \n",
    "    \"\"\"\n",
    "    max_index, _ = max(enumerate(documents_list), key=lambda x: len(x[1].keys()))\n",
    "    all_keys = list(documents_list[max_index].keys())\n",
    "    return all_keys"
   ]
  },
  {
   "cell_type": "code",
   "execution_count": 15,
   "id": "c06cfaa4",
   "metadata": {},
   "outputs": [
    {
     "data": {
      "text/plain": [
       "68"
      ]
     },
     "execution_count": 15,
     "metadata": {},
     "output_type": "execute_result"
    }
   ],
   "source": [
    "# get the keys from the document that has the most keys\n",
    "# use \"all_keys\" during creation Llama Documents\n",
    "all_keys = max_keys(documents_list)\n",
    "len(all_keys) # check\n",
    "# all_keys # check"
   ]
  },
  {
   "cell_type": "code",
   "execution_count": 16,
   "id": "ce5a4a88",
   "metadata": {},
   "outputs": [],
   "source": [
    "# all_keys"
   ]
  },
  {
   "cell_type": "code",
   "execution_count": 17,
   "id": "6bdaf308",
   "metadata": {},
   "outputs": [],
   "source": [
    "def adjust_metadata_keys(all_keys, keys_to_include):\n",
    "    \"\"\"\n",
    "    To adjust the metadata keys used.\n",
    "    Return: keys to exclude from list of all_keys not in list of keys_to_include.\n",
    "    \"\"\"\n",
    "    keys_to_exclude = [key for key in all_keys if key not in keys_to_include]\n",
    "    return keys_to_exclude"
   ]
  },
  {
   "cell_type": "markdown",
   "id": "0802b631",
   "metadata": {},
   "source": [
    "##### Select metadata for LLM"
   ]
  },
  {
   "cell_type": "code",
   "execution_count": 18,
   "id": "8db6943e",
   "metadata": {},
   "outputs": [
    {
     "data": {
      "text/plain": [
       "62"
      ]
     },
     "execution_count": 18,
     "metadata": {},
     "output_type": "execute_result"
    }
   ],
   "source": [
    "# WIP — need to explore the how these affect RAG Retrieval\n",
    "llm_keys_to_incude = [\n",
    "    \"National Clinical Identification NCT ID\",\n",
    "    \"Brief title\",\n",
    "    \"Condition\",\n",
    "    \"Conditions keywords\",\n",
    "    \"Lead sponsor\",\n",
    "    \"Arms group 0 intervention names\",\n",
    "]\n",
    "\n",
    "# to exclude the keys not used by LLM\n",
    "llm_keys_to_exclude = adjust_metadata_keys(all_keys, llm_keys_to_incude)\n",
    "len(llm_keys_to_exclude) # check"
   ]
  },
  {
   "cell_type": "markdown",
   "id": "6756f79e",
   "metadata": {},
   "source": [
    "##### Select metadata for Embedding"
   ]
  },
  {
   "cell_type": "code",
   "execution_count": 19,
   "id": "1b43a67d",
   "metadata": {},
   "outputs": [
    {
     "data": {
      "text/plain": [
       "62"
      ]
     },
     "execution_count": 19,
     "metadata": {},
     "output_type": "execute_result"
    }
   ],
   "source": [
    "# WIP — need to explore the how these affect RAG Retrieval \n",
    "# for simplicity, this is the same as llm_keys_to_exclude (in this example)\n",
    "embedding_keys_to_incude = [\n",
    "    \"National Clinical Identification NCT ID\",\n",
    "    \"Brief title\",\n",
    "    \"Condition\",\n",
    "    \"Conditions keywords\",\n",
    "    \"Lead sponsor\",\n",
    "    \"Arms group 0 intervention names\",\n",
    "]\n",
    "\n",
    "# to exclude the keys not used by embedding\n",
    "embedding_keys_to_exclude = adjust_metadata_keys(all_keys, llm_keys_to_incude)\n",
    "len(embedding_keys_to_exclude) # check"
   ]
  },
  {
   "cell_type": "markdown",
   "id": "78a5d6ba",
   "metadata": {},
   "source": [
    "<span style=\"color: blue; font-size: 30px;\">LlamaIndex"
   ]
  },
  {
   "cell_type": "markdown",
   "id": "35fc22cd",
   "metadata": {},
   "source": [
    "##### Select Embedding type"
   ]
  },
  {
   "cell_type": "code",
   "execution_count": 20,
   "id": "fb9ce292",
   "metadata": {},
   "outputs": [],
   "source": [
    "# using this as baseline standard\n",
    "# embed_model = OpenAIEmbedding(model=\"text-embedding-ada-002\")\n",
    "embed_model = OpenAIEmbedding(model=\"text-embedding-ada-002\", api_key=\"sk-???\")\n",
    "# embed_model = OpenAIEmbedding(model=\"text-embedding-3-large\", api_key=\"sk-???\")\n",
    "\n",
    "# # Possible alternative (TBD)\n",
    "# embed_model = NomicEmbedding(\n",
    "#     api_key=nomic_api_key,\n",
    "#     dimensionality=128,\n",
    "#     model_name=\"nomic-embed-text-v1.5\",\n",
    "# )\n",
    "# embedding = embed_model.get_text_embedding(\"Nomic Embeddings\")"
   ]
  },
  {
   "cell_type": "markdown",
   "id": "c46ae093",
   "metadata": {},
   "source": [
    "##### Select LLM  type"
   ]
  },
  {
   "cell_type": "code",
   "execution_count": 21,
   "id": "50892a9e",
   "metadata": {},
   "outputs": [],
   "source": [
    "# using this as baseline standard\n",
    "# llm = OpenAI(temperature=0.001, model=\"gpt-3.5-turbo\", max_tokens=512)\n",
    "llm = OpenAI(temperature=0.0, model=\"gpt-3.5-turbo-0125\", max_tokens=512, api_key=\"sk-???\")"
   ]
  },
  {
   "cell_type": "markdown",
   "id": "3b498df7",
   "metadata": {},
   "source": [
    "##### Global settings (Embedding & LLM)"
   ]
  },
  {
   "cell_type": "code",
   "execution_count": 22,
   "id": "7000306d",
   "metadata": {},
   "outputs": [],
   "source": [
    "Settings.llm = llm\n",
    "Settings.embed_model = embed_model"
   ]
  },
  {
   "cell_type": "markdown",
   "id": "145c0507",
   "metadata": {},
   "source": [
    "### **Creating & Loading LlamaIndex Documents**"
   ]
  },
  {
   "cell_type": "code",
   "execution_count": 23,
   "id": "53a2bac7",
   "metadata": {},
   "outputs": [],
   "source": [
    "# the functions below appear in utils_16F"
   ]
  },
  {
   "cell_type": "code",
   "execution_count": 24,
   "id": "864ccbe3",
   "metadata": {},
   "outputs": [],
   "source": [
    "# def flatten_dict(data, parent_key='', sep=' '):\n",
    "#     \"\"\"\n",
    "#     Flattens a nested dictionary, including dictionaries nested within lists,\n",
    "#     into a flat dictionary with concatenated keys.\n",
    "\n",
    "#     Args:\n",
    "#         data: The nested dictionary to flatten.\n",
    "#         parent_key: The base key to use for the current level of recursion (default '').\n",
    "#         sep: The separator between parent and child keys (default ' ').\n",
    "\n",
    "#     Returns:\n",
    "#         A flat dictionary with concatenated keys representing the structure of the nested input.\n",
    "#     \"\"\"\n",
    "#     items = []\n",
    "#     if isinstance(data, list):\n",
    "#         # Handle lists by merging them into their parent key without indexing\n",
    "#         for i, element in enumerate(data):\n",
    "#             new_key = f\"{parent_key}{sep if parent_key else ''}{i}\"\n",
    "#             items.extend(flatten_dict(element, new_key, sep=sep).items())\n",
    "#     elif isinstance(data, dict):\n",
    "#         for key, value in data.items():\n",
    "#             new_key = f\"{parent_key}{sep}{key}\" if parent_key else key\n",
    "#             if isinstance(value, (dict, list)):\n",
    "#                 items.extend(flatten_dict(value, new_key, sep=sep).items())\n",
    "#             else:\n",
    "#                 items.append((new_key, value))\n",
    "#     else:\n",
    "#         items.append((parent_key, data))\n",
    "\n",
    "#     return dict(items)\n",
    "\n",
    "\n",
    "# def replace_double_newline(text):\n",
    "#     \"\"\"Replaces all occurrences of two or more \\n with a single \\n, \n",
    "#     including when preceded or followed by other characters.\"\"\"\n",
    "#     text = re.sub(r\"\\n{2,}\", \"\\n\", text)\n",
    "#     text = text.replace(\";\", \"&\")\n",
    "#     return text\n",
    "\n",
    "\n",
    "# def format_flattened_dict(flat_dict):\n",
    "#     \"\"\"\n",
    "#     Formats a flattened dictionary into a string representation where each key-value pair is on its own line.\n",
    "\n",
    "#     Args:\n",
    "#         flat_dict: The flat dictionary to format.\n",
    "\n",
    "#     Returns:\n",
    "#         A string representation of the flat dictionary.\n",
    "#     \"\"\"\n",
    "#     lines = []\n",
    "#     for key, value in flat_dict.items():\n",
    "#         # For list elements, remove the numerical index from the key\n",
    "#         formatted_key = key.rsplit(' ', 1)[0] if key[-1].isdigit() else key\n",
    "#         line = f'\"{formatted_key}\": \"{value}\"' if isinstance(value, str) else f'\"{formatted_key}\": {value}'\n",
    "#         line = replace_double_newline(line)\n",
    "#         lines.append(line)\n",
    "#     return \",\\n\".join(lines)"
   ]
  },
  {
   "cell_type": "markdown",
   "id": "692c79cb",
   "metadata": {},
   "source": [
    "##### Example of format to load into LlamaIndex"
   ]
  },
  {
   "cell_type": "code",
   "execution_count": 25,
   "id": "b44c334f",
   "metadata": {},
   "outputs": [],
   "source": [
    "# example = documents_list[0]\n",
    "# # apply functions from utils\n",
    "# processed_example = format_flattened_dict(flatten_dict(example))\n",
    "# display(Markdown(processed_example)) # check"
   ]
  },
  {
   "cell_type": "code",
   "execution_count": 26,
   "id": "25fa6631",
   "metadata": {},
   "outputs": [],
   "source": [
    "# example # check"
   ]
  },
  {
   "cell_type": "code",
   "execution_count": 27,
   "id": "511943a0",
   "metadata": {},
   "outputs": [],
   "source": [
    "# NOTE:  metata data must be one of (str, int, float, None)\n",
    "def create_llama_docs(documents_list):\n",
    "    \"\"\"\n",
    "    Converts a list of trial documents into LlamaIndex Document objects.\n",
    "    \"\"\"\n",
    "    \n",
    "    llama_documents = []  \n",
    "    for trial in documents_list:\n",
    "        # apply functions from utils to flatten JSON and create content similar to the example above\n",
    "        content_text = format_flattened_dict(flatten_dict(trial))\n",
    "\n",
    "        llama_document = Document(\n",
    "            text=content_text, \n",
    "            metadata=trial, \n",
    "            excluded_llm_metadata_keys=llm_keys_to_exclude, #<== adjust?, TBD\n",
    "            excluded_embed_metadata_keys=embedding_keys_to_exclude , #<== adjust?, TBD\n",
    "            metadata_template=\"{key}=>{value}\",\n",
    "            text_template=\"Metadata:\\n{metadata_str}\\n===========================\\nContent: \\n{content}\"\n",
    "        )\n",
    "        llama_documents.append(llama_document)  \n",
    "    return llama_documents"
   ]
  },
  {
   "cell_type": "code",
   "execution_count": 28,
   "id": "9024a007",
   "metadata": {},
   "outputs": [
    {
     "data": {
      "text/plain": [
       "247"
      ]
     },
     "execution_count": 28,
     "metadata": {},
     "output_type": "execute_result"
    }
   ],
   "source": [
    "# Create LlamaIndex Document objects\n",
    "llama_documents = create_llama_docs(documents_list)\n",
    "len(llama_documents) # check"
   ]
  },
  {
   "cell_type": "code",
   "execution_count": 29,
   "id": "adf15760",
   "metadata": {},
   "outputs": [
    {
     "name": "stdout",
     "output_type": "stream",
     "text": [
      "Metadata:\n",
      "National Clinical Identification NCT ID=>NCT00036270\n",
      "Brief title=>Randomized Phase III Study Of Exemestane (Aromasin) For 5 Years Versus Tamoxifen for 2.5 to 3 Years Followed By Exemestane\n",
      "Lead sponsor=>Pfizer\n",
      "Condition=>['Breast Neoplasms']\n",
      "Conditions keywords=>oof, this data not available\n",
      "Arms group 0 intervention names=>['Drug: exemestane (Aromasin)']\n",
      "===========================\n",
      "Content: \n",
      "\"National Clinical Identification NCT ID\": \"NCT00036270\",\n",
      "\"Organization study identification\": \"971-ONC-0028-081\",\n",
      "\"EudraCT number\": \"A5991026\",\n",
      "\"Organization\": \"Pfizer\",\n",
      "\"Organization class\": \"INDUSTRY\",\n",
      "\"Brief title\": \"Randomized Phase III Study Of Exemestane (Aromasin) For 5 Years Versus Tamoxifen for 2.5 to 3 Years Followed By Exemestane\",\n",
      "\"Official title\": \"Randomized Phase III Study Of Exemestane (Aromasin) For 5 Years Versus Tamoxifen For 2.5- 3 Years Followed By Exemestane (Aromasin) For A Total Of 5 Years As Adjuvant Therapy For Postmenopausal, Receptor Positive, Node Negative or Node Positive Breast Cancer Patients\",\n",
      "\"Overall status\": \"COMPLETED\",\n",
      "\"Start date\": \"2001-08\",\n",
      "\"Primary completion date\": \"2008-10\",\n",
      "\"Completion date\": \"2011-02\",\n",
      "\"Verification date\": \"2015-10\",\n",
      "\"Study first submitted date\": \"2002-05-08\",\n",
      "\"Results first submitted date\": \"2009-10-30\",\n",
      "\"Last update submitted date\": \"2015-10-06\",\n",
      "\"Last update posted date\": \"2015-10-28\",\n",
      "\"Lead sponsor\": \"Pfizer\",\n",
      "\"Lead sponsor class\": \"INDUSTRY\",\n",
      "\"Brief summary\": \"To compare the effects of exemestane for 5 years versus tamoxifen and exemestane given sequentially over 5 years in the adjuvant treatment of postmenopausal women with early breast cancer.\n",
      "This Pfizer sponsored trial is part of an international collaboration of investigators conducting 7 similar yet independent studies in 9 countries. This study is designed to be part of the larger TEAM trial where the data from these 7 studies will be combined. A pre-specified analysis of the pooled data will be conducted.\",\n",
      "\"Detailed description\": \"oof, this data not available\",\n",
      "\"Condition\": \"['Breast Neoplasms']\",\n",
      "\"Conditions keywords\": \"oof, this data not available\",\n",
      "\"Study type\": \"INTERVENTIONAL\",\n",
      "\"Phases\": \"['PHASE3']\",\n",
      "\"Allocation\": \"RANDOMIZED\",\n",
      "\"Intervention model\": \"PARALLEL\",\n",
      "\"Primary purpose\": \"TREATMENT\",\n",
      "\"Masking\": \"NONE\",\n",
      "\"Who is masked\": \"oof, this data not available\",\n",
      "\"Enrollment count\": \"9779\",\n",
      "\"Enrollment type\": \"ACTUAL\",\n",
      "\"Arms group 0 label\": \"exemestane\",\n",
      "\"Arms group 0 type\": \"EXPERIMENTAL\",\n",
      "\"Arms group 0 description\": \"\",\n",
      "\"Arms group 0 intervention names\": \"['Drug: exemestane (Aromasin)']\",\n",
      "\"Arms group 1 label\": \"tamoxifen + exemestane\",\n",
      "\"Arms group 1 type\": \"EXPERIMENTAL\",\n",
      "\"Arms group 1 description\": \"\",\n",
      "\"Arms group 1 intervention names\": \"['Drug: tamoxifen + exemestane']\",\n",
      "\"Arms group 0 intervention type\": \"DRUG\",\n",
      "\"Arms group 0 intervention name\": \"exemestane (Aromasin)\",\n",
      "\"Arms group 0 intervention description\": \"exemestane, orally, 25 mg, for 5 years\",\n",
      "\"Arms group 0 intervention labels\": \"['exemestane']\",\n",
      "\"Arms group 1 intervention type\": \"DRUG\",\n",
      "\"Arms group 1 intervention name\": \"tamoxifen + exemestane\",\n",
      "\"Arms group 1 intervention description\": \"tamoxifen, 20 mg, orally, daily, 2-3 years& followed by exemestane, orally, 25 mg, for a total of 5 years of therapy\",\n",
      "\"Arms group 1 intervention labels\": \"['tamoxifen + exemestane']\",\n",
      "\"Primary outcome\": \"Disease Free Survival (DFS): Number of Events (Disease Relapse or Death) From Baseline up to 2.75 Years\",\n",
      "\"Primary outcome description\": \"Number of events (disease relapse or death) to time of observation for DFS. DFS defined as time from randomization to earliest documentation of disease relapse or death from any cause in postmenopausal, receptor positive, node negative or node positive breast cancer patients for adjuvant treatment with exemestane compared with adjuvant tamoxifen therapy at 2.75 years. Disease relapse: primary tumor recurrence (locoregional or distant) and ipsilateral or contralateral breast cancer (CBC). Intercurrent death: death without disease relapse.\",\n",
      "\"Primary outcome time frame\": \"Baseline (Month 0) up to 2.75 years\",\n",
      "\"Eligibility criteria\": \"Inclusion Criteria:\n",
      "* Histologically/cytologically confirmed adenocarcinoma of the breast, followed by adequate surgical resection and/or radiotherapy, and/or adjuvant chemotherapy, if indicated.\n",
      "* Stage T1-3 N0-2 Mo, Any TNM stage BC for whom adjuvant hormonal therapy is being considered.\n",
      "Exclusion Criteria:\n",
      "* Those patients not deemed to have had potentially curative primary surgical treatment or one of the following criteria:\n",
      "* Inflammatory breast cancer\n",
      "* Histologically positive supraclavicular nodes\n",
      "* Ulceration/infiltration of local skin metastasis\n",
      "* Neoadjuvant chemotherapy\n",
      "* Ductal carcinoma in situ (DCIS) or lobular carcinoma in situ (LCIS) without invasion\n",
      "* ER and PR negative primary tumor or ER/PR unknown status.\",\n",
      "\"Eligibility of healthy volunteer\": \"False\",\n",
      "\"Eligibility sex\": \"FEMALE\",\n",
      "\"Eligibility minimum age\": \"50 Years\",\n",
      "\"Eligibility standard age\": \"['ADULT', 'OLDER_ADULT']\",\n",
      "\"Pre-assignment details\": \"oof, this data not available\",\n",
      "\"Recruitment details\": \"oof, this data not available\",\n",
      "\"Recruitment group 0 id\": \"FG000\",\n",
      "\"Recruitment group 0 title\": \"Exemestane\",\n",
      "\"Recruitment group 0 description\": \"Exemestane (Aromasin®) 25 milligram (mg) once daily (QD) for 5 years.\",\n",
      "\"Recruitment group 1 id\": \"FG001\",\n",
      "\"Recruitment group 1 title\": \"Tamoxifen Followed by Exemestane\",\n",
      "\"Recruitment group 1 description\": \"Tamoxifen 20 mg QD& upon completing 2.5 years to 3 years of tamoxifen, participants were to be switched to exemestane 25 mg QD and then were to complete a total of 5 years endocrine therapy.\",\n",
      "\"Group IDs\": \"[{'groupIds': ['OG000', 'OG001'], 'groupDescription': 'Analysis at 2.75 years post-randomization. Null hypothesis: no difference in DFS between the two treatments for the first 2.75 years.\\n\\nTo maintain overall alpha of 0.05, 2 adjustments made: first, a nominal alpha of 0.0302 was used for the primary endpoint. Second, level of significant was 0.0012 for interim analysis.', 'testedNonInferiority': False, 'nonInferiorityType': 'SUPERIORITY_OR_OTHER', 'pValue': '0.118', 'statisticalMethod': 'Log Rank', 'statisticalComment': 'Log rank (Mantel-Cox). Adjusted for overall stratification factor& 1 degree of freedom.', 'paramType': 'Hazard Ratio (HR)', 'paramValue': '0.89', 'ciPctValue': '95', 'ciNumSides': 'TWO_SIDED', 'ciLowerLimit': '0.77', 'ciUpperLimit': '1.03', 'estimateComment': 'A hazard ratio less than 1 favors the test treatment (exemestane only arm).'}]\",\n",
      "\"p-value\": \"0.118\",\n",
      "\"Statistical Method\": \"Log Rank\",\n",
      "\"Limitations and caveats\": \"Overall Survival was reported as number of events which otherwise reported as time.\",\n",
      "\"Has results\": \"True\"\n"
     ]
    }
   ],
   "source": [
    "# Example — LLM sees this:\n",
    "print(llama_documents[0].get_content(metadata_mode=MetadataMode.LLM))"
   ]
  },
  {
   "cell_type": "code",
   "execution_count": 30,
   "id": "ab6baf3c",
   "metadata": {},
   "outputs": [
    {
     "name": "stdout",
     "output_type": "stream",
     "text": [
      "Metadata:\n",
      "National Clinical Identification NCT ID=>NCT00036270\n",
      "Brief title=>Randomized Phase III Study Of Exemestane (Aromasin) For 5 Years Versus Tamoxifen for 2.5 to 3 Years Followed By Exemestane\n",
      "Lead sponsor=>Pfizer\n",
      "Condition=>['Breast Neoplasms']\n",
      "Conditions keywords=>oof, this data not available\n",
      "Arms group 0 intervention names=>['Drug: exemestane (Aromasin)']\n",
      "===========================\n",
      "Content: \n",
      "\"National Clinical Identification NCT ID\": \"NCT00036270\",\n",
      "\"Organization study identification\": \"971-ONC-0028-081\",\n",
      "\"EudraCT number\": \"A5991026\",\n",
      "\"Organization\": \"Pfizer\",\n",
      "\"Organization class\": \"INDUSTRY\",\n",
      "\"Brief title\": \"Randomized Phase III Study Of Exemestane (Aromasin) For 5 Years Versus Tamoxifen for 2.5 to 3 Years Followed By Exemestane\",\n",
      "\"Official title\": \"Randomized Phase III Study Of Exemestane (Aromasin) For 5 Years Versus Tamoxifen For 2.5- 3 Years Followed By Exemestane (Aromasin) For A Total Of 5 Years As Adjuvant Therapy For Postmenopausal, Receptor Positive, Node Negative or Node Positive Breast Cancer Patients\",\n",
      "\"Overall status\": \"COMPLETED\",\n",
      "\"Start date\": \"2001-08\",\n",
      "\"Primary completion date\": \"2008-10\",\n",
      "\"Completion date\": \"2011-02\",\n",
      "\"Verification date\": \"2015-10\",\n",
      "\"Study first submitted date\": \"2002-05-08\",\n",
      "\"Results first submitted date\": \"2009-10-30\",\n",
      "\"Last update submitted date\": \"2015-10-06\",\n",
      "\"Last update posted date\": \"2015-10-28\",\n",
      "\"Lead sponsor\": \"Pfizer\",\n",
      "\"Lead sponsor class\": \"INDUSTRY\",\n",
      "\"Brief summary\": \"To compare the effects of exemestane for 5 years versus tamoxifen and exemestane given sequentially over 5 years in the adjuvant treatment of postmenopausal women with early breast cancer.\n",
      "This Pfizer sponsored trial is part of an international collaboration of investigators conducting 7 similar yet independent studies in 9 countries. This study is designed to be part of the larger TEAM trial where the data from these 7 studies will be combined. A pre-specified analysis of the pooled data will be conducted.\",\n",
      "\"Detailed description\": \"oof, this data not available\",\n",
      "\"Condition\": \"['Breast Neoplasms']\",\n",
      "\"Conditions keywords\": \"oof, this data not available\",\n",
      "\"Study type\": \"INTERVENTIONAL\",\n",
      "\"Phases\": \"['PHASE3']\",\n",
      "\"Allocation\": \"RANDOMIZED\",\n",
      "\"Intervention model\": \"PARALLEL\",\n",
      "\"Primary purpose\": \"TREATMENT\",\n",
      "\"Masking\": \"NONE\",\n",
      "\"Who is masked\": \"oof, this data not available\",\n",
      "\"Enrollment count\": \"9779\",\n",
      "\"Enrollment type\": \"ACTUAL\",\n",
      "\"Arms group 0 label\": \"exemestane\",\n",
      "\"Arms group 0 type\": \"EXPERIMENTAL\",\n",
      "\"Arms group 0 description\": \"\",\n",
      "\"Arms group 0 intervention names\": \"['Drug: exemestane (Aromasin)']\",\n",
      "\"Arms group 1 label\": \"tamoxifen + exemestane\",\n",
      "\"Arms group 1 type\": \"EXPERIMENTAL\",\n",
      "\"Arms group 1 description\": \"\",\n",
      "\"Arms group 1 intervention names\": \"['Drug: tamoxifen + exemestane']\",\n",
      "\"Arms group 0 intervention type\": \"DRUG\",\n",
      "\"Arms group 0 intervention name\": \"exemestane (Aromasin)\",\n",
      "\"Arms group 0 intervention description\": \"exemestane, orally, 25 mg, for 5 years\",\n",
      "\"Arms group 0 intervention labels\": \"['exemestane']\",\n",
      "\"Arms group 1 intervention type\": \"DRUG\",\n",
      "\"Arms group 1 intervention name\": \"tamoxifen + exemestane\",\n",
      "\"Arms group 1 intervention description\": \"tamoxifen, 20 mg, orally, daily, 2-3 years& followed by exemestane, orally, 25 mg, for a total of 5 years of therapy\",\n",
      "\"Arms group 1 intervention labels\": \"['tamoxifen + exemestane']\",\n",
      "\"Primary outcome\": \"Disease Free Survival (DFS): Number of Events (Disease Relapse or Death) From Baseline up to 2.75 Years\",\n",
      "\"Primary outcome description\": \"Number of events (disease relapse or death) to time of observation for DFS. DFS defined as time from randomization to earliest documentation of disease relapse or death from any cause in postmenopausal, receptor positive, node negative or node positive breast cancer patients for adjuvant treatment with exemestane compared with adjuvant tamoxifen therapy at 2.75 years. Disease relapse: primary tumor recurrence (locoregional or distant) and ipsilateral or contralateral breast cancer (CBC). Intercurrent death: death without disease relapse.\",\n",
      "\"Primary outcome time frame\": \"Baseline (Month 0) up to 2.75 years\",\n",
      "\"Eligibility criteria\": \"Inclusion Criteria:\n",
      "* Histologically/cytologically confirmed adenocarcinoma of the breast, followed by adequate surgical resection and/or radiotherapy, and/or adjuvant chemotherapy, if indicated.\n",
      "* Stage T1-3 N0-2 Mo, Any TNM stage BC for whom adjuvant hormonal therapy is being considered.\n",
      "Exclusion Criteria:\n",
      "* Those patients not deemed to have had potentially curative primary surgical treatment or one of the following criteria:\n",
      "* Inflammatory breast cancer\n",
      "* Histologically positive supraclavicular nodes\n",
      "* Ulceration/infiltration of local skin metastasis\n",
      "* Neoadjuvant chemotherapy\n",
      "* Ductal carcinoma in situ (DCIS) or lobular carcinoma in situ (LCIS) without invasion\n",
      "* ER and PR negative primary tumor or ER/PR unknown status.\",\n",
      "\"Eligibility of healthy volunteer\": \"False\",\n",
      "\"Eligibility sex\": \"FEMALE\",\n",
      "\"Eligibility minimum age\": \"50 Years\",\n",
      "\"Eligibility standard age\": \"['ADULT', 'OLDER_ADULT']\",\n",
      "\"Pre-assignment details\": \"oof, this data not available\",\n",
      "\"Recruitment details\": \"oof, this data not available\",\n",
      "\"Recruitment group 0 id\": \"FG000\",\n",
      "\"Recruitment group 0 title\": \"Exemestane\",\n",
      "\"Recruitment group 0 description\": \"Exemestane (Aromasin®) 25 milligram (mg) once daily (QD) for 5 years.\",\n",
      "\"Recruitment group 1 id\": \"FG001\",\n",
      "\"Recruitment group 1 title\": \"Tamoxifen Followed by Exemestane\",\n",
      "\"Recruitment group 1 description\": \"Tamoxifen 20 mg QD& upon completing 2.5 years to 3 years of tamoxifen, participants were to be switched to exemestane 25 mg QD and then were to complete a total of 5 years endocrine therapy.\",\n",
      "\"Group IDs\": \"[{'groupIds': ['OG000', 'OG001'], 'groupDescription': 'Analysis at 2.75 years post-randomization. Null hypothesis: no difference in DFS between the two treatments for the first 2.75 years.\\n\\nTo maintain overall alpha of 0.05, 2 adjustments made: first, a nominal alpha of 0.0302 was used for the primary endpoint. Second, level of significant was 0.0012 for interim analysis.', 'testedNonInferiority': False, 'nonInferiorityType': 'SUPERIORITY_OR_OTHER', 'pValue': '0.118', 'statisticalMethod': 'Log Rank', 'statisticalComment': 'Log rank (Mantel-Cox). Adjusted for overall stratification factor& 1 degree of freedom.', 'paramType': 'Hazard Ratio (HR)', 'paramValue': '0.89', 'ciPctValue': '95', 'ciNumSides': 'TWO_SIDED', 'ciLowerLimit': '0.77', 'ciUpperLimit': '1.03', 'estimateComment': 'A hazard ratio less than 1 favors the test treatment (exemestane only arm).'}]\",\n",
      "\"p-value\": \"0.118\",\n",
      "\"Statistical Method\": \"Log Rank\",\n",
      "\"Limitations and caveats\": \"Overall Survival was reported as number of events which otherwise reported as time.\",\n",
      "\"Has results\": \"True\"\n"
     ]
    }
   ],
   "source": [
    "# Example — Embedding sees this:\n",
    "print(llama_documents[0].get_content(metadata_mode=MetadataMode.EMBED))"
   ]
  },
  {
   "cell_type": "markdown",
   "id": "b6c5ad18",
   "metadata": {},
   "source": [
    "### **Chunking** — creating LlamaIndex *Nodes*"
   ]
  },
  {
   "cell_type": "code",
   "execution_count": 31,
   "id": "13c22a1a",
   "metadata": {},
   "outputs": [],
   "source": [
    "def create_nodes(llama_documents):\n",
    "    \"\"\"\n",
    "    Generates and embeds nodes from Llama documents.\n",
    "    \"\"\"\n",
    "    parser = SentenceSplitter(chunk_size=8190,chunk_overlap=0) # <== adjust from default\n",
    "    nodes = parser.get_nodes_from_documents(llama_documents)\n",
    "    for node in nodes:\n",
    "        node_embedding = embed_model.get_text_embedding(\n",
    "            node.get_content(metadata_mode=MetadataMode.EMBED)\n",
    "        )\n",
    "        node.embedding = node_embedding\n",
    "    return nodes"
   ]
  },
  {
   "cell_type": "code",
   "execution_count": 32,
   "id": "ea3a7934",
   "metadata": {},
   "outputs": [],
   "source": [
    "# create nodes from Llama documents\n",
    "nodes = create_nodes(llama_documents)"
   ]
  },
  {
   "cell_type": "markdown",
   "id": "1bf0e579",
   "metadata": {},
   "source": [
    "### **Storing** Nodes — example with **Chroma Vector Database**"
   ]
  },
  {
   "cell_type": "code",
   "execution_count": 33,
   "id": "c8c6826f",
   "metadata": {},
   "outputs": [
    {
     "name": "stdout",
     "output_type": "stream",
     "text": [
      "Looking for the RAG_OPENAI collection in the database...\n",
      "RAG_OPENAI collection WAS NOT FOUND in Chroma DB, creating...\n",
      "Creating vector store...\n",
      "Creating vector store index\n",
      "record count: 248\n"
     ]
    }
   ],
   "source": [
    "# Chroma DB collection name\n",
    "COLLECTION_NAME = \"RAG_OPENAI\"\n",
    "\n",
    "db = chromadb.PersistentClient(path=\"chroma_db\")\n",
    "print(f\"Looking for the {COLLECTION_NAME} collection in the database...\" )\n",
    "if COLLECTION_NAME not in [col.name for col in db.list_collections()]:\n",
    "    print(f\"{COLLECTION_NAME} collection WAS NOT FOUND in Chroma DB, creating...\")\n",
    "    chroma_collection = db.create_collection(COLLECTION_NAME)\n",
    "    print(\"Creating vector store...\")\n",
    "    vector_store = ChromaVectorStore(chroma_collection=chroma_collection)\n",
    "    storage_context = StorageContext.from_defaults(vector_store=vector_store)\n",
    "    print(\"Creating vector store index\")\n",
    "    VectorStoreIndex(\n",
    "        nodes=nodes,\n",
    "        storage_context=storage_context,\n",
    "        store_nodes_override=True\n",
    "    )\n",
    "    record_count = chroma_collection.count()\n",
    "    print(f\"record count: {record_count}\")   \n",
    "    \n",
    "else:\n",
    "    print(f\"{COLLECTION_NAME} collection WAS FOUND in Chroma DB\")\n",
    "    COLLECTION_NAME = db.get_collection(COLLECTION_NAME)\n",
    "    vector_store = ChromaVectorStore(chroma_collection=COLLECTION_NAME)\n",
    "    print(\"Restoring vector store index from the collection...\")\n",
    "    index = VectorStoreIndex.from_vector_store(\n",
    "        vector_store=vector_store,\n",
    "        embed_model=embed_model,\n",
    "        store_nodes_override=True\n",
    "    )\n",
    "    record_count = COLLECTION_NAME.count()\n",
    "    print(f\"record count: {record_count}\")"
   ]
  },
  {
   "cell_type": "markdown",
   "id": "0cce45d1",
   "metadata": {},
   "source": [
    "###  **Creating Index** from stored Nodes"
   ]
  },
  {
   "cell_type": "code",
   "execution_count": 34,
   "id": "e732d908",
   "metadata": {},
   "outputs": [],
   "source": [
    "index = VectorStoreIndex.from_vector_store(vector_store)  "
   ]
  },
  {
   "cell_type": "markdown",
   "id": "01642d58",
   "metadata": {},
   "source": [
    "### (optional) add record(s)\n",
    "no error thrown if records are dupes"
   ]
  },
  {
   "cell_type": "code",
   "execution_count": 35,
   "id": "17f80839",
   "metadata": {},
   "outputs": [
    {
     "name": "stdout",
     "output_type": "stream",
     "text": [
      "record_count as is: 248\n"
     ]
    }
   ],
   "source": [
    "print(f\"record_count as is: {record_count}\")"
   ]
  },
  {
   "cell_type": "code",
   "execution_count": 36,
   "id": "be5828ab",
   "metadata": {},
   "outputs": [],
   "source": [
    "# new unrelateds trial\n",
    "list_of_nct_id = [\n",
    "    \"NCT00108953\", # Carcinoma, Hepatocellular\n",
    "    \"NCT02883049\", # Acute Lymphoblastic Leukemia and Ph-Like TKI Sensitive Mutations (large JSON)\n",
    "]\n",
    "\n",
    "downloaded_json = get_downloaded_json(list_of_nct_id)\n",
    "documents_list = list_from_extracted_json(downloaded_json)"
   ]
  },
  {
   "cell_type": "code",
   "execution_count": 37,
   "id": "4d37991a",
   "metadata": {},
   "outputs": [],
   "source": [
    "# using previous functions \n",
    "llama_documents = create_llama_docs(documents_list)\n",
    "nodes = create_nodes(llama_documents)\n",
    "index.insert_nodes(nodes)"
   ]
  },
  {
   "cell_type": "code",
   "execution_count": 38,
   "id": "9ecaf53b",
   "metadata": {},
   "outputs": [
    {
     "name": "stdout",
     "output_type": "stream",
     "text": [
      "new DB record count: 251\n"
     ]
    }
   ],
   "source": [
    "try:\n",
    "    print(f\"new DB record count: {chroma_collection.count()}\")\n",
    "    record_count = chroma_collection.count()\n",
    "except:\n",
    "    print(f\"established DB record count: {COLLECTION_NAME.count()}\")\n",
    "    record_count = COLLECTION_NAME.count()"
   ]
  },
  {
   "cell_type": "markdown",
   "id": "4ba4248e",
   "metadata": {},
   "source": [
    "### **Querying** — example with ChatBot"
   ]
  },
  {
   "cell_type": "code",
   "execution_count": 39,
   "id": "d5bd18d8",
   "metadata": {},
   "outputs": [],
   "source": [
    "memory = ChatMemoryBuffer.from_defaults(token_limit=50_000) #<== adjust\n",
    "# chat_engine.reset() \n",
    "\n",
    "chat_engine = index.as_chat_engine(\n",
    "    similarity_top_k=3, #<== adjust\n",
    "    # chat_mode=\"condense_plus_context\", \n",
    "    chat_mode=\"condense_question\",\n",
    "\n",
    "    memory=memory,\n",
    "    llm=llm,\n",
    "    context_prompt=(\n",
    "        \"\"\"\n",
    "        You are a chatbot which is expert in parsing information.\n",
    "        When asked a question, provide a complete response, concisely.\n",
    "        \"\"\"\n",
    "        \"Here are the relevant documents for the context:\\n\"\n",
    "        \"{context_str}\"\n",
    "        \"\\nInstruction: Use only the context above or this chat history to respond.\"\n",
    "    ),\n",
    "    verbose=False,\n",
    ")"
   ]
  },
  {
   "cell_type": "code",
   "execution_count": 40,
   "id": "3eab1a6b",
   "metadata": {},
   "outputs": [],
   "source": [
    "chat_engine.reset() "
   ]
  },
  {
   "cell_type": "code",
   "execution_count": 41,
   "id": "2ce1ddfd",
   "metadata": {},
   "outputs": [],
   "source": [
    "def ask_chatbot(query):\n",
    "    response = chat_engine.chat(query)\n",
    "    display(Markdown(chat_engine.chat(query).response))\n",
    "    # return response"
   ]
  },
  {
   "cell_type": "code",
   "execution_count": 42,
   "id": "4607af23",
   "metadata": {},
   "outputs": [],
   "source": [
    "start_time = time.time()"
   ]
  },
  {
   "cell_type": "code",
   "execution_count": 43,
   "id": "85612c77",
   "metadata": {},
   "outputs": [
    {
     "data": {
      "text/markdown": [
       "A MULTI-CENTRE, RANDOMIZED, PLACEBO-CONTROLLED, DOUBLE-BLIND, TWO-ARMED, PARALLEL GROUP STUDY TO EVALUATE EFFICACY AND SAFETY OF IV SILDENAFIL IN THE TREATMENT OF NEONATES WITH PERSISTENT PULMONARY HYPERTENSION OF THE NEWBORN (PPHN) OR HYPOXIC RESPIRATORY FAILURE AND AT RISK FOR PPHN, WITH A LONG TERM FOLLOW-UP INVESTIGATION OF DEVELOPMENTAL PROGRESS 12 AND 24 MONTHS AFTER COMPLETION OF STUDY TREATMENT"
      ],
      "text/plain": [
       "<IPython.core.display.Markdown object>"
      ]
     },
     "metadata": {},
     "output_type": "display_data"
    }
   ],
   "source": [
    "query = \"Provide brief title(s) for studies involving newborn babies and Sildenafil?\"\n",
    "ask_chatbot(query)\n",
    "# True answer: A Study To Evaluate Safety And Efficacy Of IV Sildenafil In The Treatment Of Neonates With Persistent Pulmonary Hypertension Of The Newborn"
   ]
  },
  {
   "cell_type": "code",
   "execution_count": 44,
   "id": "dcac5c3d",
   "metadata": {},
   "outputs": [
    {
     "data": {
      "text/markdown": [
       "NCT ID for the study involving newborn babies and Sildenafil that is a multi-centre, randomized, placebo-controlled, double-blind, two-armed, parallel group study to evaluate efficacy and safety in the treatment of neonates with persistent pulmonary hypertension of the newborn (PPHN) or hypoxic respiratory failure and at risk for PPHN, with a long term follow-up investigation of developmental progress 12 and 24 months after completion of study treatment is NCT01720524."
      ],
      "text/plain": [
       "<IPython.core.display.Markdown object>"
      ]
     },
     "metadata": {},
     "output_type": "display_data"
    }
   ],
   "source": [
    "query = \"Provide the NCT ID for this study involving infants.\"\n",
    "ask_chatbot(query)\n",
    "# True answer: NCT01720524"
   ]
  },
  {
   "cell_type": "code",
   "execution_count": 45,
   "id": "9d6212a4",
   "metadata": {},
   "outputs": [
    {
     "data": {
      "text/markdown": [
       "The study aimed to see if giving intravenous Sildenafil to newborns with persistent pulmonary hypertension of the newborn or hypoxic respiratory failure could reduce the time they needed inhaled nitric oxide treatment and lower the failure rate of available treatments for these conditions."
      ],
      "text/plain": [
       "<IPython.core.display.Markdown object>"
      ]
     },
     "metadata": {},
     "output_type": "display_data"
    }
   ],
   "source": [
    "query = \"Provide a plain language summary of this study?\"\n",
    "ask_chatbot(query)"
   ]
  },
  {
   "cell_type": "code",
   "execution_count": 46,
   "id": "ef29ab05",
   "metadata": {},
   "outputs": [
    {
     "data": {
      "text/markdown": [
       "The enrollment count for the multi-centre, randomized, placebo-controlled study evaluating the safety and efficacy of IV Sildenafil in treating newborns with persistent pulmonary hypertension of the newborn (PPHN) or hypoxic respiratory failure, with a long term follow-up investigation of developmental progress was 59."
      ],
      "text/plain": [
       "<IPython.core.display.Markdown object>"
      ]
     },
     "metadata": {},
     "output_type": "display_data"
    }
   ],
   "source": [
    "query = \"What was the enrollment count for this trial?\"\n",
    "# query = \"What was the enrollment count of the trial with Sildenafil involving newborn babies?\"\n",
    "ask_chatbot(query)\n",
    "# True answer: 59"
   ]
  },
  {
   "cell_type": "code",
   "execution_count": 47,
   "id": "b0535f40",
   "metadata": {},
   "outputs": [
    {
     "data": {
      "text/markdown": [
       "The time frame for the primary outcome of the study evaluating the safety and efficacy of IV Sildenafil in treating newborns with persistent pulmonary hypertension of the newborn (PPHN) or hypoxic respiratory failure, with a long term follow-up investigation of developmental progress was 14 days from the initiation of IV study drug or hospital discharge, whichever occurred first, with a maximum of 14 days."
      ],
      "text/plain": [
       "<IPython.core.display.Markdown object>"
      ]
     },
     "metadata": {},
     "output_type": "display_data"
    }
   ],
   "source": [
    "query = \"What was the time frame for the primary oucome of this trial?\"\n",
    "ask_chatbot(query)\n",
    "# True answer: \n",
    "# Time in days, on iNO treatment, for participants without iNO treatment failure, was calculated 14 days from the initiation of IV study drug or hospital discharge, whichever occurred first. \n",
    "# iNO treatment failure was defined as need for additional treatment targeting PPHN, need for extra corporeal membrane oxygenation (ECMO), or death during the study."
   ]
  },
  {
   "cell_type": "code",
   "execution_count": 48,
   "id": "999ba435",
   "metadata": {},
   "outputs": [
    {
     "data": {
      "text/markdown": [
       "The EudraCT number of the multi-centre, randomized, placebo-controlled study evaluating the safety and efficacy of IV Sildenafil in treating newborns with persistent pulmonary hypertension of the newborn (PPHN) or hypoxic respiratory failure, with a long term follow-up investigation of developmental progress was \"2012-002619-24\"."
      ],
      "text/plain": [
       "<IPython.core.display.Markdown object>"
      ]
     },
     "metadata": {},
     "output_type": "display_data"
    }
   ],
   "source": [
    "query = \"What was EudraCT number of this trial?\"\n",
    "ask_chatbot(query)\n",
    "# True answer: \"2012-002619-24\""
   ]
  },
  {
   "cell_type": "code",
   "execution_count": 49,
   "id": "dabf168c",
   "metadata": {},
   "outputs": [
    {
     "data": {
      "text/markdown": [
       "The conditions mentioned in the trial involving Sildenafil for newborns with persistent pulmonary hypertension of the newborn (PPHN) or hypoxic respiratory failure are \"persistent pulmonary hypertension of the newborn\" and \"hypoxic respiratory failure and at risk of persistent pulmonary hypertension of the newborn.\""
      ],
      "text/plain": [
       "<IPython.core.display.Markdown object>"
      ]
     },
     "metadata": {},
     "output_type": "display_data"
    }
   ],
   "source": [
    "query = \"Briefly, what conditions are mentioned in this trial involving Sildenafil?\"\n",
    "ask_chatbot(query)\n",
    "# True answer: \t\"Pulmonary Hypertension, Familial Persistent, of the Newborn\"\n",
    "# ???"
   ]
  },
  {
   "cell_type": "code",
   "execution_count": 50,
   "id": "40cbc68e",
   "metadata": {},
   "outputs": [
    {
     "data": {
      "text/markdown": [
       "Participants in the study involving newborn babies and Sildenafil received the treatment intravenously. The treatment involved a loading dose of Sildenafil based on their body weight over a specific duration, followed by a maintenance dose administered continuously for a minimum of 48 hours and a maximum of 14 days."
      ],
      "text/plain": [
       "<IPython.core.display.Markdown object>"
      ]
     },
     "metadata": {},
     "output_type": "display_data"
    }
   ],
   "source": [
    "query = \"How did participants receive the treatment?\"\n",
    "ask_chatbot(query)\n",
    "# True answer: \t\"Part A: Participants received sildenafil intravenously based on their body weight at a loading dose of 0.1 milligrams per kg (mg/kg) for 30 minutes on Day 1 \n",
    "# followed by a maintenance dose of 0.03 milligrams per kg per hour (mg/kg/hr), for a minimum of 2 days and maximum of 14 days. \n",
    "# Infusion continuation was upon investigator discretion in view of participants' safety and well-being. \n",
    "# Part B: Participants who started Part A (not necessarily completed Part A) and who were eligible and consented, continued to be followed up in part B of the study.\""
   ]
  },
  {
   "cell_type": "code",
   "execution_count": 51,
   "id": "81bc582d",
   "metadata": {},
   "outputs": [
    {
     "data": {
      "text/markdown": [
       "ANCOVA was the statistical method used in the multi-centre, randomized, placebo-controlled study evaluating the safety and efficacy of IV Sildenafil in treating newborns with persistent pulmonary hypertension of the newborn (PPHN) or hypoxic respiratory failure, with a long term follow-up investigation of developmental progress."
      ],
      "text/plain": [
       "<IPython.core.display.Markdown object>"
      ]
     },
     "metadata": {},
     "output_type": "display_data"
    }
   ],
   "source": [
    "query = \"What statistical method used this trial?\"\n",
    "# query = \"What statistical method used this trial involving  Sildenafil involving newborn babies??\"\n",
    "ask_chatbot(query)\n",
    "# True answer: \"ANCOVA\""
   ]
  },
  {
   "cell_type": "code",
   "execution_count": 52,
   "id": "d464c76c",
   "metadata": {},
   "outputs": [
    {
     "data": {
      "text/markdown": [
       "0.9850"
      ],
      "text/plain": [
       "<IPython.core.display.Markdown object>"
      ]
     },
     "metadata": {},
     "output_type": "display_data"
    }
   ],
   "source": [
    "# query = \"What p-value was reported for this statistical method?\"\n",
    "query = \"What p-value was reported for this trial with Sildenafil for newborn babies?\"\n",
    "ask_chatbot(query)\n",
    "# True answer: \t0.9850\n",
    "# ???"
   ]
  },
  {
   "cell_type": "code",
   "execution_count": 53,
   "id": "1f0b4095",
   "metadata": {},
   "outputs": [
    {
     "data": {
      "text/markdown": [
       "The p-value of 0.9850 suggests that in the study involving newborn babies and Sildenafil, there was no statistically significant difference found between the groups being compared. Researchers typically use p-values to determine the statistical significance of their findings. A p-value below a certain threshold (often 0.05) indicates that the results are unlikely to have occurred by chance, leading researchers to reject the null hypothesis in favor of the alternative hypothesis. Conversely, a p-value above the threshold suggests that the results are not statistically significant, and the null hypothesis cannot be rejected."
      ],
      "text/plain": [
       "<IPython.core.display.Markdown object>"
      ]
     },
     "metadata": {},
     "output_type": "display_data"
    }
   ],
   "source": [
    "query = \"What does this p-value suggest about the study in question? Provide an overview of how researchers use p-value in such studies.\"\n",
    "ask_chatbot(query)"
   ]
  },
  {
   "cell_type": "code",
   "execution_count": 54,
   "id": "2bf15881",
   "metadata": {},
   "outputs": [
    {
     "data": {
      "text/markdown": [
       "The treatment involving intravenous Sildenafil for newborn babies with persistent pulmonary hypertension of the newborn or hypoxic respiratory failure was not considered successful based on the reported p-value of 0.9850 in the study."
      ],
      "text/plain": [
       "<IPython.core.display.Markdown object>"
      ]
     },
     "metadata": {},
     "output_type": "display_data"
    }
   ],
   "source": [
    "query = \"Based on the p-value, would you say this treatment was successful?\"\n",
    "ask_chatbot(query)"
   ]
  },
  {
   "cell_type": "code",
   "execution_count": 55,
   "id": "0588936d",
   "metadata": {},
   "outputs": [
    {
     "name": "stdout",
     "output_type": "stream",
     "text": [
      "runtime: 86 seconds\n"
     ]
    }
   ],
   "source": [
    "end_time = time.time()\n",
    "print(f\"runtime: {end_time - start_time:.0f} seconds\")"
   ]
  },
  {
   "cell_type": "markdown",
   "id": "1a89d5a0",
   "metadata": {},
   "source": [
    "##### Reset the ChatBot"
   ]
  },
  {
   "cell_type": "code",
   "execution_count": 56,
   "id": "2f64e505",
   "metadata": {},
   "outputs": [],
   "source": [
    "chat_engine.reset() "
   ]
  },
  {
   "cell_type": "code",
   "execution_count": 57,
   "id": "d19939da",
   "metadata": {},
   "outputs": [
    {
     "data": {
      "text/markdown": [
       "NCT IDs of trials mentioning Chronic Myelogenous Leukemia, like NCT02130557 are NCT02130557."
      ],
      "text/plain": [
       "<IPython.core.display.Markdown object>"
      ]
     },
     "metadata": {},
     "output_type": "display_data"
    }
   ],
   "source": [
    "query = \"What are some NCT IDs of trials mentioning Chronic Myelogenous Leukemia?\"\n",
    "ask_chatbot(query)\n",
    "# True answer: \"NCT02130557\""
   ]
  },
  {
   "cell_type": "code",
   "execution_count": 58,
   "id": "b13ad21d",
   "metadata": {},
   "outputs": [
    {
     "data": {
      "text/markdown": [
       "The trial NCT02130557 is a Phase 3, 2-arm, randomized, open-label study comparing Bosutinib versus Imatinib in adult patients with newly diagnosed Chronic Phase Chronic Myelogenous Leukemia. Patients in this study were randomized to receive either Bosutinib or Imatinib for the duration of the trial. Bosutinib is an orally bioavailable, potent, multi-targeted, dual Src-Abl tyrosine kinase inhibitor approved for the treatment of adult patients with Philadelphia positive chronic myelogenous leukemia. Imatinib, on the other hand, is an inhibitor of the BCR-ABL kinase and has been the standard first-line therapy for patients with chronic-phase CML. The study aimed to enroll approximately 500 Philadelphia Chromosome Positive patients and follow them for approximately 5 years after randomization. Patients who discontinued study therapy early due to disease progression or intolerance were to be followed yearly for survival for up to approximately 5 years after randomization."
      ],
      "text/plain": [
       "<IPython.core.display.Markdown object>"
      ]
     },
     "metadata": {},
     "output_type": "display_data"
    }
   ],
   "source": [
    "query = \"Provide a detailed description of trial NCT02130557\"\n",
    "ask_chatbot(query)\n",
    "# True answer: comparing Bosutinib to Imatinib "
   ]
  },
  {
   "cell_type": "code",
   "execution_count": 59,
   "id": "9f52217d",
   "metadata": {},
   "outputs": [
    {
     "data": {
      "text/markdown": [
       "Pfizer"
      ],
      "text/plain": [
       "<IPython.core.display.Markdown object>"
      ]
     },
     "metadata": {},
     "output_type": "display_data"
    }
   ],
   "source": [
    "query = \"Who was the lead sponsor of NCT02130557?\"\n",
    "ask_chatbot(query)\n",
    "# True answer: Pfizer"
   ]
  },
  {
   "cell_type": "code",
   "execution_count": 60,
   "id": "9d965db2",
   "metadata": {},
   "outputs": [
    {
     "data": {
      "text/markdown": [
       "The intervention studied in trial NCT02130557 sponsored by Pfizer was \"A Randomized, Double-Blind, Placebo-Controlled Study of Sildenafil in Children With Pulmonary Arterial Hypertension.\""
      ],
      "text/plain": [
       "<IPython.core.display.Markdown object>"
      ]
     },
     "metadata": {},
     "output_type": "display_data"
    }
   ],
   "source": [
    "query = \"What intervention was studied in NCT02130557?\"\n",
    "ask_chatbot(query)\n",
    "# True answer: Bosutinib"
   ]
  },
  {
   "cell_type": "code",
   "execution_count": 61,
   "id": "49e412dd",
   "metadata": {},
   "outputs": [
    {
     "data": {
      "text/markdown": [
       "536"
      ],
      "text/plain": [
       "<IPython.core.display.Markdown object>"
      ]
     },
     "metadata": {},
     "output_type": "display_data"
    }
   ],
   "source": [
    "query = \"What was the enrollment count this trial with Bosutinib?\"\n",
    "ask_chatbot(query)\n",
    "# True answer: 536"
   ]
  },
  {
   "cell_type": "markdown",
   "id": "3f9ba02e",
   "metadata": {},
   "source": [
    "##### Reset the ChatBot"
   ]
  },
  {
   "cell_type": "code",
   "execution_count": 62,
   "id": "13ea83db",
   "metadata": {},
   "outputs": [],
   "source": [
    "chat_engine.reset() "
   ]
  },
  {
   "cell_type": "code",
   "execution_count": 63,
   "id": "8d1bf889",
   "metadata": {},
   "outputs": [
    {
     "data": {
      "text/markdown": [
       "The information provided does not mention any details about Japanese participants being involved in the trial with the National Clinical Identification NCT ID NCT00445770."
      ],
      "text/plain": [
       "<IPython.core.display.Markdown object>"
      ]
     },
     "metadata": {},
     "output_type": "display_data"
    }
   ],
   "source": [
    "query = \"Were Japanese participants involved in any trial? If, so please provide the NCT ID.\"\n",
    "ask_chatbot(query)\n",
    "# True answer: Yes, Japanese participants were involved in the trial with the National Clinical Identification NCT00445770."
   ]
  },
  {
   "cell_type": "code",
   "execution_count": 64,
   "id": "20b3d7c4",
   "metadata": {},
   "outputs": [
    {
     "data": {
      "text/markdown": [
       "The p-value of the trial with Japanese participants involved in the National Clinical Identification NCT ID NCT00445770 was 0.1933."
      ],
      "text/plain": [
       "<IPython.core.display.Markdown object>"
      ]
     },
     "metadata": {},
     "output_type": "display_data"
    }
   ],
   "source": [
    "query = \"What was the p-value of the trial with Japanese participants?\"\n",
    "ask_chatbot(query)\n",
    "# True answer: The p-value for the trial with Japanese participants (National Clinical Identification NCT ID NCT04350606) is not available in the provided information."
   ]
  },
  {
   "cell_type": "code",
   "execution_count": 65,
   "id": "ae3bdc67",
   "metadata": {},
   "outputs": [
    {
     "data": {
      "text/markdown": [
       "The p-value of 0.1933 in a trial with Japanese participants (NCT ID NCT00445770) suggests that there is no statistically significant difference between the treatment groups. This value indicates that the observed results are likely to have occurred due to random chance."
      ],
      "text/plain": [
       "<IPython.core.display.Markdown object>"
      ]
     },
     "metadata": {},
     "output_type": "display_data"
    }
   ],
   "source": [
    "query = \"What does this p-value suggest about this trial? Phrase your explanation of p-value very clearly, so that anyone can understand it.\"\n",
    "ask_chatbot(query)\n",
    "# True answer: results show strong statistical significance "
   ]
  },
  {
   "cell_type": "code",
   "execution_count": 66,
   "id": "bfa4d84e",
   "metadata": {},
   "outputs": [
    {
     "data": {
      "text/markdown": [
       "The treatment was not successful based on the p-value of 0.1933 in the trial with Japanese participants (NCT ID NCT00445770)."
      ],
      "text/plain": [
       "<IPython.core.display.Markdown object>"
      ]
     },
     "metadata": {},
     "output_type": "display_data"
    }
   ],
   "source": [
    "query = \"Based on the p-value, would you say this treatment was successful?\"\n",
    "ask_chatbot(query)\n"
   ]
  },
  {
   "cell_type": "markdown",
   "id": "0daef695",
   "metadata": {},
   "source": [
    "##### Reset the ChatBot"
   ]
  },
  {
   "cell_type": "code",
   "execution_count": 67,
   "id": "baa7d31a",
   "metadata": {},
   "outputs": [],
   "source": [
    "chat_engine.reset() "
   ]
  },
  {
   "cell_type": "code",
   "execution_count": 68,
   "id": "ec87b422",
   "metadata": {},
   "outputs": [
    {
     "data": {
      "text/markdown": [
       "Yes, there is a trial currently being conducted to investigate the effectiveness of Rimegepant treatment for migraine headaches."
      ],
      "text/plain": [
       "<IPython.core.display.Markdown object>"
      ]
     },
     "metadata": {},
     "output_type": "display_data"
    }
   ],
   "source": [
    "query = \"Is there a trial investingating Rimegepant treatment for migraine headaches?\"\n",
    "ask_chatbot(query)"
   ]
  },
  {
   "cell_type": "code",
   "execution_count": 69,
   "id": "21e34a57",
   "metadata": {},
   "outputs": [
    {
     "data": {
      "text/markdown": [
       "NCT IDs for the three trials investigating Rimegepant treatment for migraine headaches are NCT03461757, NCT04574362, and NCT03235479."
      ],
      "text/plain": [
       "<IPython.core.display.Markdown object>"
      ]
     },
     "metadata": {},
     "output_type": "display_data"
    }
   ],
   "source": [
    "query = \"Please provide the NCT ID for three such trials.\"\n",
    "ask_chatbot(query)"
   ]
  },
  {
   "cell_type": "code",
   "execution_count": 70,
   "id": "1fabb01b",
   "metadata": {},
   "outputs": [
    {
     "data": {
      "text/markdown": [
       "The trial with NCT ID NCT04574362 was a Phase 3, double-blind, randomized, placebo-controlled study sponsored by Pfizer. It aimed to assess the safety and efficacy of BHV3000 (Rimegepant) 75 mg for the acute treatment of migraine. The trial enrolled 1648 participants with acute migraine and had a primary outcome measure of the percentage of participants who experienced freedom from pain at 2 hours post-dose. The trial was completed, with the primary completion date on November 24, 2021, and the results were first submitted on March 8, 2023."
      ],
      "text/plain": [
       "<IPython.core.display.Markdown object>"
      ]
     },
     "metadata": {},
     "output_type": "display_data"
    }
   ],
   "source": [
    "query = \"I'm interested in NCT04574362, please give me a brief overview of that trail.\"\n",
    "ask_chatbot(query)"
   ]
  },
  {
   "cell_type": "code",
   "execution_count": 71,
   "id": "800aa74c",
   "metadata": {},
   "outputs": [
    {
     "data": {
      "text/markdown": [
       "Cochran-Mantel-Haenszel"
      ],
      "text/plain": [
       "<IPython.core.display.Markdown object>"
      ]
     },
     "metadata": {},
     "output_type": "display_data"
    }
   ],
   "source": [
    "query = \"What statistical method was used in evaluating the results?\"\n",
    "ask_chatbot(query)"
   ]
  },
  {
   "cell_type": "code",
   "execution_count": 72,
   "id": "b89f6697",
   "metadata": {},
   "outputs": [
    {
     "data": {
      "text/markdown": [
       "The statistical results of the trial investigating Rimegepant treatment for migraine headaches with NCT ID NCT04574362 showed a statistically significant difference in the percentage of participants who had freedom from pain at 2 hours post-dose between the group receiving Rimegepant 75mg and the placebo group. The p-value was less than 0.0001, indicating a significant outcome in favor of Rimegepant treatment."
      ],
      "text/plain": [
       "<IPython.core.display.Markdown object>"
      ]
     },
     "metadata": {},
     "output_type": "display_data"
    }
   ],
   "source": [
    "query = \"Thanks. And what were the statistical results?\"\n",
    "ask_chatbot(query)"
   ]
  },
  {
   "cell_type": "code",
   "execution_count": 73,
   "id": "af02e197",
   "metadata": {},
   "outputs": [
    {
     "data": {
      "text/markdown": [
       "P-values are a way to measure the strength of evidence in a study. They help researchers determine if the results they see are likely due to the treatment being studied or just random chance. A p-value below a certain threshold (usually 0.05) suggests that the results are statistically significant, meaning the treatment likely had a real effect. On the other hand, a p-value above 0.05 indicates that the results could have occurred by chance, and the treatment may not have had a significant impact. In simpler terms, a low p-value suggests that the study results are more reliable and not just a coincidence."
      ],
      "text/plain": [
       "<IPython.core.display.Markdown object>"
      ]
     },
     "metadata": {},
     "output_type": "display_data"
    }
   ],
   "source": [
    "query = \"I don't know much about p-values. Please tell me how they work in plain language, something a high-school student might understand.\"\n",
    "ask_chatbot(query)"
   ]
  },
  {
   "cell_type": "code",
   "execution_count": null,
   "id": "38080c32",
   "metadata": {},
   "outputs": [],
   "source": []
  },
  {
   "cell_type": "code",
   "execution_count": null,
   "id": "ff4b3803",
   "metadata": {},
   "outputs": [],
   "source": []
  },
  {
   "cell_type": "code",
   "execution_count": null,
   "id": "bb75b53e",
   "metadata": {},
   "outputs": [],
   "source": []
  },
  {
   "cell_type": "code",
   "execution_count": null,
   "id": "cec67635",
   "metadata": {},
   "outputs": [],
   "source": []
  },
  {
   "cell_type": "markdown",
   "id": "58e06616",
   "metadata": {},
   "source": [
    "<span style=\"color: blue; font-size: 30px;\">Evaluation"
   ]
  },
  {
   "cell_type": "code",
   "execution_count": null,
   "id": "4f10b3d9",
   "metadata": {},
   "outputs": [],
   "source": []
  },
  {
   "cell_type": "code",
   "execution_count": null,
   "id": "3ec99889",
   "metadata": {},
   "outputs": [],
   "source": []
  },
  {
   "cell_type": "code",
   "execution_count": null,
   "id": "c6de89bf",
   "metadata": {},
   "outputs": [],
   "source": []
  },
  {
   "cell_type": "markdown",
   "id": "72a589fb",
   "metadata": {},
   "source": [
    "### Using **CallbackManager & LlamaDebugHandler**"
   ]
  },
  {
   "cell_type": "code",
   "execution_count": 74,
   "id": "ee952762",
   "metadata": {},
   "outputs": [
    {
     "ename": "SyntaxError",
     "evalue": "invalid syntax (141466560.py, line 1)",
     "output_type": "error",
     "traceback": [
      "\u001b[0;36m  Cell \u001b[0;32mIn[74], line 1\u001b[0;36m\u001b[0m\n\u001b[0;31m    STOPPING HERE\u001b[0m\n\u001b[0m             ^\u001b[0m\n\u001b[0;31mSyntaxError\u001b[0m\u001b[0;31m:\u001b[0m invalid syntax\n"
     ]
    }
   ],
   "source": [
    "STOPPING HERE "
   ]
  },
  {
   "cell_type": "code",
   "execution_count": null,
   "id": "eee22690",
   "metadata": {},
   "outputs": [],
   "source": [
    "from llama_index.core.callbacks import CallbackManager, LlamaDebugHandler\n",
    "\n",
    "# initiaalize debug handler and save to Settings\n",
    "llm_debug = LlamaDebugHandler()\n",
    "callback_manager = CallbackManager([llm_debug])\n",
    "Settings.callback_manager = callback_manager"
   ]
  },
  {
   "cell_type": "code",
   "execution_count": null,
   "id": "3888db9b",
   "metadata": {},
   "outputs": [],
   "source": [
    "# helper function\n",
    "def print_in_out(in_out):\n",
    "\tprint(in_out[0][0].payload['messages'][0])\n",
    "\tprint(\"\\n\\n\")\n",
    "\tprint(in_out[0][0].payload['messages'][1])\n",
    "\n",
    "# whenever query_engine.query() is called\n",
    "query_engine = index.as_query_engine()\n",
    "query = \"How many NCT ID related to Leukemia? Which are they?\"\n",
    "response = query_engine.query(query)\n",
    "print(response)\n",
    "\n",
    "# print LLM debug info \n",
    "in_out = llm_debug.get_llm_inputs_outputs()\n",
    "print_in_out(in_out)"
   ]
  },
  {
   "cell_type": "code",
   "execution_count": null,
   "id": "367a8ae6",
   "metadata": {},
   "outputs": [],
   "source": []
  },
  {
   "cell_type": "code",
   "execution_count": null,
   "id": "10344450",
   "metadata": {},
   "outputs": [],
   "source": []
  }
 ],
 "metadata": {
  "kernelspec": {
   "display_name": "Python 3 (ipykernel)",
   "language": "python",
   "name": "python3"
  },
  "language_info": {
   "codemirror_mode": {
    "name": "ipython",
    "version": 3
   },
   "file_extension": ".py",
   "mimetype": "text/x-python",
   "name": "python",
   "nbconvert_exporter": "python",
   "pygments_lexer": "ipython3",
   "version": "3.10.9"
  },
  "toc": {
   "base_numbering": 1,
   "nav_menu": {},
   "number_sections": true,
   "sideBar": true,
   "skip_h1_title": false,
   "title_cell": "Table of Contents",
   "title_sidebar": "Contents",
   "toc_cell": false,
   "toc_position": {},
   "toc_section_display": true,
   "toc_window_display": false
  }
 },
 "nbformat": 4,
 "nbformat_minor": 5
}
