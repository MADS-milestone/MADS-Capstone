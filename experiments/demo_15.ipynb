{
 "cells": [
  {
   "cell_type": "markdown",
   "id": "10f05e17",
   "metadata": {},
   "source": [
    "## Imports"
   ]
  },
  {
   "cell_type": "code",
   "execution_count": 1,
   "id": "a510213f",
   "metadata": {},
   "outputs": [],
   "source": [
    "from dotenv import load_dotenv\n",
    "import json\n",
    "import os\n",
    "import pandas as pd\n",
    "import pprint\n",
    "import requests as req\n",
    "\n",
    "import chromadb\n",
    "\n",
    "from llama_index.core import Document, Settings, StorageContext, VectorStoreIndex\n",
    "from llama_index.core.node_parser import SentenceSplitter\n",
    "from llama_index.core.response.notebook_utils import display_response\n",
    "from llama_index.core.schema import MetadataMode\n",
    "from llama_index.embeddings.openai import OpenAIEmbedding\n",
    "from llama_index.llms.openai import OpenAI\n",
    "from llama_index.vector_stores.chroma import ChromaVectorStore\n",
    "\n",
    "from utils_4 import extract_from_json"
   ]
  },
  {
   "cell_type": "code",
   "execution_count": 2,
   "id": "87579f3a",
   "metadata": {},
   "outputs": [
    {
     "name": "stdout",
     "output_type": "stream",
     "text": [
      "Python implementation: CPython\n",
      "Python version       : 3.11.7\n",
      "IPython version      : 8.20.0\n",
      "\n",
      "llama_index.core: 0.10.12\n",
      "\n"
     ]
    }
   ],
   "source": [
    "%reload_ext watermark\n",
    "%watermark -v -p llama_index.core\n",
    "\n",
    "# Python implementation: CPython\n",
    "# Python version       : 3.11.7\n",
    "# IPython version      : 8.20.0\n",
    "\n",
    "# llama_index.core: 0.10.12"
   ]
  },
  {
   "cell_type": "markdown",
   "id": "c1b27c92",
   "metadata": {},
   "source": [
    "## Verify API tokens are available"
   ]
  },
  {
   "cell_type": "code",
   "execution_count": 3,
   "id": "c44ccd20",
   "metadata": {
    "ExecuteTime": {
     "end_time": "2024-02-22T15:27:26.245184400Z",
     "start_time": "2024-02-22T15:27:26.230187Z"
    }
   },
   "outputs": [
    {
     "data": {
      "text/plain": [
       "True"
      ]
     },
     "execution_count": 3,
     "metadata": {},
     "output_type": "execute_result"
    }
   ],
   "source": [
    "load_dotenv()  # This loads the variables from .envz"
   ]
  },
  {
   "cell_type": "markdown",
   "id": "7e8f4eb4",
   "metadata": {},
   "source": [
    "## Fetch data from \"specific\" clinicaltrials.gov\n",
    "<span style=\"color: darkred; font-size: 18px;\"> source: https://drive.google.com/file/d/1HOsN3v8DLzwoMOXOr_Mfb1Hn6XNwlZ72/view?usp=sharing"
   ]
  },
  {
   "cell_type": "code",
   "execution_count": 4,
   "id": "231c678c",
   "metadata": {
    "ExecuteTime": {
     "end_time": "2024-02-22T15:27:27.632177500Z",
     "start_time": "2024-02-22T15:27:27.430175800Z"
    }
   },
   "outputs": [],
   "source": [
    "# Some trials to consider (interventional, completed):\n",
    "# nct_id = \"NCT00094887\"\n",
    "# nct_id = \"NCT00108953\"\n",
    "# nct_id = \"NCT00177671\" \n",
    "# nct_id = \"NCT00281918\"\n",
    "# nct_id = \"NCT00404079\"\n",
    "# nct_id = \"NCT00426751\"\n",
    "# nct_id = \"NCT01865747\" #<== good one \n"
   ]
  },
  {
   "cell_type": "code",
   "execution_count": 5,
   "id": "3b83137c",
   "metadata": {},
   "outputs": [],
   "source": [
    "def get_trial(nct_id):\n",
    "    trial = req.get(f\"https://clinicaltrials.gov/api/v2/studies/{nct_id}\")\n",
    "    trial_json = trial.json()\n",
    "    return trial_json"
   ]
  },
  {
   "cell_type": "code",
   "execution_count": 6,
   "id": "caef252e",
   "metadata": {},
   "outputs": [],
   "source": [
    "list_of_nct_id = [\n",
    "    \"NCT00094887\",\n",
    "    \"NCT00108953\",\n",
    "    \"NCT00177671\",\n",
    "    \"NCT00281918\",\n",
    "    \"NCT00404079\",\n",
    "    \"NCT00426751\",\n",
    "    \"NCT01865747\",\n",
    "]\n",
    "\n",
    "downloaded_json = []\n",
    "for nct_id in list_of_nct_id:\n",
    "    trial = get_trial(nct_id)\n",
    "    downloaded_json.append(trial)\n",
    "    # save locally for reference\n",
    "    with open(f\"{nct_id}.json\", \"w\") as f:\n",
    "        json.dump(trial, f, indent=4)\n",
    "\n",
    "# downloaded_json[1]"
   ]
  },
  {
   "cell_type": "markdown",
   "id": "8c098cf2",
   "metadata": {},
   "source": [
    "## Extract a  subset of the data"
   ]
  },
  {
   "cell_type": "code",
   "execution_count": 7,
   "id": "6e06d1b1",
   "metadata": {},
   "outputs": [],
   "source": [
    "documents_list  = []\n",
    "for json_file in downloaded_json:\n",
    "    extracted_json = extract_from_json(json_file)\n",
    "    nct_id = json_file['protocolSection']['identificationModule']['nctId']\n",
    "    # save manipulated JSON file to disk for review\n",
    "    save_path = f\"{nct_id}_extracted.json\"\n",
    "    with open(save_path, \"w\") as f:\n",
    "        json.dump(extracted_json, f, indent=4)\n",
    "    # prepare for indexing\n",
    "    documents_list.append(extracted_json)"
   ]
  },
  {
   "cell_type": "code",
   "execution_count": 8,
   "id": "9f63e03b",
   "metadata": {},
   "outputs": [],
   "source": [
    "# documents_list[0]"
   ]
  },
  {
   "cell_type": "markdown",
   "id": "78a5d6ba",
   "metadata": {},
   "source": [
    "## Llama index"
   ]
  },
  {
   "cell_type": "code",
   "execution_count": 9,
   "id": "fb9ce292",
   "metadata": {},
   "outputs": [],
   "source": [
    "embed_model = OpenAIEmbedding(model=\"text-embedding-3-small\", dimensions=256)\n",
    "\n",
    "llm = OpenAI()\n",
    "\n",
    "Settings.llm = llm\n",
    "Settings.embed_model = embed_model"
   ]
  },
  {
   "cell_type": "markdown",
   "id": "145c0507",
   "metadata": {},
   "source": [
    "### add metadata\n",
    "first try"
   ]
  },
  {
   "cell_type": "code",
   "execution_count": 10,
   "id": "511943a0",
   "metadata": {},
   "outputs": [],
   "source": [
    "# NOTE: now \"metadata\" for nations is a string, where countries was an actual list\n",
    "# NOTE:  metat data must be one of (str, int, float, None)\n",
    "# use json.dumps() to convert lists and dictionaries into strings\n",
    "\n",
    "def create_llama_docs(documents_list):\n",
    "    llama_documents = []\n",
    "\n",
    "    for trial in documents_list:\n",
    "        trial[\"Brief title\"] = json.dumps(trial[\"Brief title\"])\n",
    "        trial[\"Official title\"] = json.dumps(trial[\"Official title\"])\n",
    "        trial[\"Brief summary\"] = json.dumps(trial[\"Brief summary\"])\n",
    "        trial[\"Detailed description\"] = json.dumps(trial[\"Detailed description\"])\n",
    "        trial[\"Arms group 0 intervention name\"] = json.dumps(trial[\"Arms group 0 intervention name\"])\n",
    "        trial[\"Arms group 1 intervention name\"] = json.dumps(trial[\"Arms group 1 intervention name\"])\n",
    "        trial[\"Eligibility minimum age\"] = json.dumps(trial[\"Eligibility minimum age\"])\n",
    "        trial[\"Organization\"] = json.dumps(trial[\"Organization\"])\n",
    "\n",
    "        # create a Llama Document object \n",
    "        # with text and excluded meta data for llm and embedding model\n",
    "        llama_document = Document(\n",
    "            text=trial[\"Brief title\"],\n",
    "            metadata=trial,\n",
    "            excluded_llm_metadata_keys= [\"Brief title\", \"Detailed description\",\"Eligibility criteria: Inclusion Criteria\"],\n",
    "            excluded_embed_metadata_keys=[\"Brief title\", \"Detailed description\", \"Eligibility criteria: Inclusion Criteria\"],\n",
    "            metadata_template=\"{key}=>{value}\",\n",
    "            text_template=\"Metadata: {metadata_str}\\n-----\\nContent: {content}\"\n",
    "        )\n",
    "\n",
    "        llama_documents.append(llama_document)\n",
    "    \n",
    "    return llama_documents\n",
    "\n",
    "llama_documents = create_llama_docs(documents_list)"
   ]
  },
  {
   "cell_type": "code",
   "execution_count": 11,
   "id": "adf15760",
   "metadata": {},
   "outputs": [
    {
     "name": "stdout",
     "output_type": "stream",
     "text": [
      "Metadata: National Clinical Identification NCT ID=>NCT00094887\n",
      "Organization study identification=>INOT 36\n",
      "EudraCT number=>None\n",
      "Organization=>\"Mallinckrodt\"\n",
      "Organization class=>INDUSTRY\n",
      "Official title=>\"A Prospective, Multicenter, Double-Blind, Randomized, Placebo-Controlled Study of Nitric Oxide for Inhalation in the Acute Treatment of Sickle Cell Pain Crisis\"\n",
      "Overall status=>COMPLETED\n",
      "Start date=>2004-10\n",
      "Primary completion date=>2008-12\n",
      "Completion date=>2008-12\n",
      "Verification date=>2017-10\n",
      "Study first submitted date=>2004-10-28\n",
      "Results first submitted date=>2009-12-04\n",
      "Last update submitted date=>2020-01-17\n",
      "Last update posted date=>2020-02-05\n",
      "Lead sponsor=>Mallinckrodt\n",
      "Lead sponsor class=>INDUSTRY\n",
      "Brief summary=>\"This study will examine whether nitric oxide (NO) gas can reduce the time it takes for pain to go away in patients who are in sickle cell crisis. NO is important in regulating blood vessel dilation, and consequently, blood flow. The gas is continuously produced by cells that line the blood vessels. It is also transported from the lungs by hemoglobin in red blood cells.\\n\\nPatients 10 years of age or older with sickle cell disease (known SS, S-beta-thalassemia or other blood problems causing sickle cell disease) may be eligible for this study. Patients whose disease is due to hemoglobin (Hgb) SC are excluded. Candidates are screened with blood tests and a chest x-ray to look at the lungs and heart.\\n\\nParticipants are admitted to the hospital in a pain crisis. They are evaluated and then randomly assigned to receive one of two treatments: 1) standard treatment plus NO, or 2) standard treatment plus placebo. The placebo used in this study is nitrogen, a gas that makes up most of the air we breathe and is not known to help in sickle cell disease.\\n\\nFor the first 8 hours of the study, patients receive placebo or NO through a facemask. The mask may be taken off for 5 minutes every hour and for not more than 20 minutes to eat a meal. After the first 8 hours, the gas is delivered through a nasal cannula (small plastic tubing that rests under the nose) that may be taken off only while showering or using the restroom. Patients are questioned about the severity of their pain when they start the study and then every few hours while they are in the hospital. Their vital signs (temperature, breathing rate, and blood pressure) and medicines are checked. Patients will breathe the gas for a maximum of 3 days, but will stay hospitalized until the patient feels well enough to go home. Patients are followed up about 1 month after starting the study by a return visit to the hospital or by a phone call.\"\n",
      "Condition=>['Anemia, Sickle Cell']\n",
      "Conditions keywords=>['Blood Flow', 'Nitric Oxide', 'Pain Crisis', 'Sickle Cell Anemia', 'Vaso-Occlusive Crisis', 'Sickle Cell Disease', 'SCD']\n",
      "Study type=>INTERVENTIONAL\n",
      "Phases=>['PHASE2']\n",
      "Allocation=>RANDOMIZED\n",
      "Intervention model=>PARALLEL\n",
      "Primary purpose=>TREATMENT\n",
      "Masking=>TRIPLE\n",
      "Who is masked=>['PARTICIPANT', 'CARE_PROVIDER', 'INVESTIGATOR']\n",
      "Enrollment count=>150\n",
      "Enrollment type=>ACTUAL\n",
      "Arms group 0 label=>Inhaled Nitric Oxide\n",
      "Arms group 0 type=>EXPERIMENTAL\n",
      "Arms group 0 intervention names=>['Drug: Nitric Oxide']\n",
      "Arms group 1 label=>Placebo\n",
      "Arms group 1 type=>PLACEBO_COMPARATOR\n",
      "Arms group 1 intervention names=>['Drug: Placebo']\n",
      "Arms group 0 intervention type=>DRUG\n",
      "Arms group 0 intervention name=>\"Nitric Oxide\"\n",
      "Arms group 0 intervention labels=>['Inhaled Nitric Oxide']\n",
      "Arms group 1 intervention type=>DRUG\n",
      "Arms group 1 intervention name=>\"Placebo\"\n",
      "Arms group 1 intervention labels=>['Placebo']\n",
      "Primary outcome=>Time to Vaso-occlusive Pain Crisis (VOC) Resolution\n",
      "Primary outcome time frame=>within 30 days\n",
      "Secondary outcome 0 measure=>Length of Hospitalization\n",
      "Secondary outcome 0 time frame=>within 40 days\n",
      "Secondary outcome 1 measure=>Number of Participants Discharged to Home Within the First 24 Hours\n",
      "Secondary outcome 1 time frame=>within 24 hours\n",
      "Secondary outcome 2 measure=>Total Dose of Opioids Received\n",
      "Secondary outcome 2 time frame=>within 8 hours and within 40 days\n",
      "Secondary outcome 3 measure=>Number of Participants With Acute Chest Syndrome/Pneumonia Requiring Blood Transfusion\n",
      "Secondary outcome 3 time frame=>within 40 days\n",
      "Secondary outcome 4 measure=>Number of Participants Readmitted to Hospital Within 30 Days After Discharge\n",
      "Secondary outcome 4 time frame=>during first 24 hours and during 30 day follow-up\n",
      "Eligibility criteria=>Inclusion Criteria:\n",
      "\n",
      "Each subject must meet all of the following inclusion criteria during the screening process in order to participate in the study:\n",
      "\n",
      "* Patient must have a diagnosis of SCD (known SS, S-Beta-thalassemia or other hemoglobinopathies causing sickle cell disease). Patients with disease due to Hgb SC are not permitted.\n",
      "* Must present to the ED/EC or other appropriate unit in VOC.\n",
      "* Greater than or equal to 10 years old.\n",
      "* Written informed consent/assent has been obtained.\n",
      "\n",
      "Exclusion Criteria:\n",
      "\n",
      "Subjects meeting any of the following criteria during baseline evaluation will be excluded from entry into the study:\n",
      "\n",
      "* Exposure to therapeutic nitric oxide within the past 12 hours.\n",
      "* Patient has received sildenafil or other phosphodiesterase 5 inhibitors, therapeutic L-arginine, nitroprusside or nitroglycerine within the past 12 hours.\n",
      "* Patient has received previous ED/EC or other appropriate unit treatment for a vaso-occlusive crisis less than 48 hours or hospitalization less than 14 days ago (patients transferred directly from another ED or clinic may be enrolled).\n",
      "* Patient has visited the ED/EC or other appropriate unit greater than 10 times in the past year having a vaso-occlusive crisis.\n",
      "* Patients presenting with clinically diagnosed bacterial infection (e.g., osteomyelitis, pneumonia, sepsis or meningitis).\n",
      "* Patients who are currently enrolled in any other investigational drug study except for hydroxyurea studies.\n",
      "* Pregnant women (urine HCG + )/ nursing mothers.\n",
      "* Patients who have received an exchange transfusion (not simple transfusion) in the last 30 days or are on a chronic simple or exchange transfusion program.\n",
      "* Suspected splenic sequestration.\n",
      "* Acute chest syndrome or pneumonia: Abnormal new pulmonary infiltrate (alveolar infiltration and not atelectasis) and one or more pulmonary signs and/or symptoms (fever, rales, wheezing, cough, shortness of breath, retractions).\n",
      "* Previous participation in this study.\n",
      "Eligibility of healthy volunteer=>False\n",
      "Eligibility sex=>ALL\n",
      "Eligibility minimum age=>\"10 Years\"\n",
      "Eligibility standard age=>['CHILD', 'ADULT', 'OLDER_ADULT']\n",
      "Pre-assignment details=>Of the 150 participants recruited, 150 were randomized (1:1) into treatment groups.\n",
      "Recruitment details=>Participants were recruited from 11 study centers in the United States\n",
      "Recruitment group 0 id=>FG000\n",
      "Recruitment group 0 title=>Inhaled Nitric Oxide\n",
      "Recruitment group 0 description=>Participants receive Inhaled Nitric Oxide (INO)\n",
      "Recruitment group 1 id=>FG001\n",
      "Recruitment group 1 title=>Placebo\n",
      "Recruitment group 1 description=>Participants receive Nitrogen gas\n",
      "Limitations and caveats=>None\n",
      "Has results=>True\n",
      "-----\n",
      "Content: \"Nitric Oxide Inhalation to Treat Sickle Cell Pain Crises\"\n"
     ]
    }
   ],
   "source": [
    "# Example —LLM sees this:\n",
    "print(llama_documents[0].get_content(metadata_mode=MetadataMode.LLM))"
   ]
  },
  {
   "cell_type": "code",
   "execution_count": 12,
   "id": "ab6baf3c",
   "metadata": {},
   "outputs": [
    {
     "name": "stdout",
     "output_type": "stream",
     "text": [
      "Metadata: National Clinical Identification NCT ID=>NCT00094887\n",
      "Organization study identification=>INOT 36\n",
      "EudraCT number=>None\n",
      "Organization=>\"Mallinckrodt\"\n",
      "Organization class=>INDUSTRY\n",
      "Official title=>\"A Prospective, Multicenter, Double-Blind, Randomized, Placebo-Controlled Study of Nitric Oxide for Inhalation in the Acute Treatment of Sickle Cell Pain Crisis\"\n",
      "Overall status=>COMPLETED\n",
      "Start date=>2004-10\n",
      "Primary completion date=>2008-12\n",
      "Completion date=>2008-12\n",
      "Verification date=>2017-10\n",
      "Study first submitted date=>2004-10-28\n",
      "Results first submitted date=>2009-12-04\n",
      "Last update submitted date=>2020-01-17\n",
      "Last update posted date=>2020-02-05\n",
      "Lead sponsor=>Mallinckrodt\n",
      "Lead sponsor class=>INDUSTRY\n",
      "Brief summary=>\"This study will examine whether nitric oxide (NO) gas can reduce the time it takes for pain to go away in patients who are in sickle cell crisis. NO is important in regulating blood vessel dilation, and consequently, blood flow. The gas is continuously produced by cells that line the blood vessels. It is also transported from the lungs by hemoglobin in red blood cells.\\n\\nPatients 10 years of age or older with sickle cell disease (known SS, S-beta-thalassemia or other blood problems causing sickle cell disease) may be eligible for this study. Patients whose disease is due to hemoglobin (Hgb) SC are excluded. Candidates are screened with blood tests and a chest x-ray to look at the lungs and heart.\\n\\nParticipants are admitted to the hospital in a pain crisis. They are evaluated and then randomly assigned to receive one of two treatments: 1) standard treatment plus NO, or 2) standard treatment plus placebo. The placebo used in this study is nitrogen, a gas that makes up most of the air we breathe and is not known to help in sickle cell disease.\\n\\nFor the first 8 hours of the study, patients receive placebo or NO through a facemask. The mask may be taken off for 5 minutes every hour and for not more than 20 minutes to eat a meal. After the first 8 hours, the gas is delivered through a nasal cannula (small plastic tubing that rests under the nose) that may be taken off only while showering or using the restroom. Patients are questioned about the severity of their pain when they start the study and then every few hours while they are in the hospital. Their vital signs (temperature, breathing rate, and blood pressure) and medicines are checked. Patients will breathe the gas for a maximum of 3 days, but will stay hospitalized until the patient feels well enough to go home. Patients are followed up about 1 month after starting the study by a return visit to the hospital or by a phone call.\"\n",
      "Condition=>['Anemia, Sickle Cell']\n",
      "Conditions keywords=>['Blood Flow', 'Nitric Oxide', 'Pain Crisis', 'Sickle Cell Anemia', 'Vaso-Occlusive Crisis', 'Sickle Cell Disease', 'SCD']\n",
      "Study type=>INTERVENTIONAL\n",
      "Phases=>['PHASE2']\n",
      "Allocation=>RANDOMIZED\n",
      "Intervention model=>PARALLEL\n",
      "Primary purpose=>TREATMENT\n",
      "Masking=>TRIPLE\n",
      "Who is masked=>['PARTICIPANT', 'CARE_PROVIDER', 'INVESTIGATOR']\n",
      "Enrollment count=>150\n",
      "Enrollment type=>ACTUAL\n",
      "Arms group 0 label=>Inhaled Nitric Oxide\n",
      "Arms group 0 type=>EXPERIMENTAL\n",
      "Arms group 0 intervention names=>['Drug: Nitric Oxide']\n",
      "Arms group 1 label=>Placebo\n",
      "Arms group 1 type=>PLACEBO_COMPARATOR\n",
      "Arms group 1 intervention names=>['Drug: Placebo']\n",
      "Arms group 0 intervention type=>DRUG\n",
      "Arms group 0 intervention name=>\"Nitric Oxide\"\n",
      "Arms group 0 intervention labels=>['Inhaled Nitric Oxide']\n",
      "Arms group 1 intervention type=>DRUG\n",
      "Arms group 1 intervention name=>\"Placebo\"\n",
      "Arms group 1 intervention labels=>['Placebo']\n",
      "Primary outcome=>Time to Vaso-occlusive Pain Crisis (VOC) Resolution\n",
      "Primary outcome time frame=>within 30 days\n",
      "Secondary outcome 0 measure=>Length of Hospitalization\n",
      "Secondary outcome 0 time frame=>within 40 days\n",
      "Secondary outcome 1 measure=>Number of Participants Discharged to Home Within the First 24 Hours\n",
      "Secondary outcome 1 time frame=>within 24 hours\n",
      "Secondary outcome 2 measure=>Total Dose of Opioids Received\n",
      "Secondary outcome 2 time frame=>within 8 hours and within 40 days\n",
      "Secondary outcome 3 measure=>Number of Participants With Acute Chest Syndrome/Pneumonia Requiring Blood Transfusion\n",
      "Secondary outcome 3 time frame=>within 40 days\n",
      "Secondary outcome 4 measure=>Number of Participants Readmitted to Hospital Within 30 Days After Discharge\n",
      "Secondary outcome 4 time frame=>during first 24 hours and during 30 day follow-up\n",
      "Eligibility criteria=>Inclusion Criteria:\n",
      "\n",
      "Each subject must meet all of the following inclusion criteria during the screening process in order to participate in the study:\n",
      "\n",
      "* Patient must have a diagnosis of SCD (known SS, S-Beta-thalassemia or other hemoglobinopathies causing sickle cell disease). Patients with disease due to Hgb SC are not permitted.\n",
      "* Must present to the ED/EC or other appropriate unit in VOC.\n",
      "* Greater than or equal to 10 years old.\n",
      "* Written informed consent/assent has been obtained.\n",
      "\n",
      "Exclusion Criteria:\n",
      "\n",
      "Subjects meeting any of the following criteria during baseline evaluation will be excluded from entry into the study:\n",
      "\n",
      "* Exposure to therapeutic nitric oxide within the past 12 hours.\n",
      "* Patient has received sildenafil or other phosphodiesterase 5 inhibitors, therapeutic L-arginine, nitroprusside or nitroglycerine within the past 12 hours.\n",
      "* Patient has received previous ED/EC or other appropriate unit treatment for a vaso-occlusive crisis less than 48 hours or hospitalization less than 14 days ago (patients transferred directly from another ED or clinic may be enrolled).\n",
      "* Patient has visited the ED/EC or other appropriate unit greater than 10 times in the past year having a vaso-occlusive crisis.\n",
      "* Patients presenting with clinically diagnosed bacterial infection (e.g., osteomyelitis, pneumonia, sepsis or meningitis).\n",
      "* Patients who are currently enrolled in any other investigational drug study except for hydroxyurea studies.\n",
      "* Pregnant women (urine HCG + )/ nursing mothers.\n",
      "* Patients who have received an exchange transfusion (not simple transfusion) in the last 30 days or are on a chronic simple or exchange transfusion program.\n",
      "* Suspected splenic sequestration.\n",
      "* Acute chest syndrome or pneumonia: Abnormal new pulmonary infiltrate (alveolar infiltration and not atelectasis) and one or more pulmonary signs and/or symptoms (fever, rales, wheezing, cough, shortness of breath, retractions).\n",
      "* Previous participation in this study.\n",
      "Eligibility of healthy volunteer=>False\n",
      "Eligibility sex=>ALL\n",
      "Eligibility minimum age=>\"10 Years\"\n",
      "Eligibility standard age=>['CHILD', 'ADULT', 'OLDER_ADULT']\n",
      "Pre-assignment details=>Of the 150 participants recruited, 150 were randomized (1:1) into treatment groups.\n",
      "Recruitment details=>Participants were recruited from 11 study centers in the United States\n",
      "Recruitment group 0 id=>FG000\n",
      "Recruitment group 0 title=>Inhaled Nitric Oxide\n",
      "Recruitment group 0 description=>Participants receive Inhaled Nitric Oxide (INO)\n",
      "Recruitment group 1 id=>FG001\n",
      "Recruitment group 1 title=>Placebo\n",
      "Recruitment group 1 description=>Participants receive Nitrogen gas\n",
      "Limitations and caveats=>None\n",
      "Has results=>True\n",
      "-----\n",
      "Content: \"Nitric Oxide Inhalation to Treat Sickle Cell Pain Crises\"\n"
     ]
    }
   ],
   "source": [
    "# Example — Embedding model sees this:\n",
    "print(llama_documents[0].get_content(metadata_mode=MetadataMode.EMBED))"
   ]
  },
  {
   "cell_type": "markdown",
   "id": "b6c5ad18",
   "metadata": {},
   "source": [
    "## Embedding"
   ]
  },
  {
   "cell_type": "code",
   "execution_count": 13,
   "id": "13c22a1a",
   "metadata": {},
   "outputs": [],
   "source": [
    " def create_nodes(llama_documents):\n",
    "    parser = SentenceSplitter(chunk_size=2560,chunk_overlap=32) # <== adjust\n",
    "    nodes = parser.get_nodes_from_documents(llama_documents)\n",
    "\n",
    "    for node in nodes:\n",
    "        node_embedding = embed_model.get_text_embedding(\n",
    "            node.get_content(metadata_mode=MetadataMode.EMBED)\n",
    "        )\n",
    "        node.embedding = node_embedding\n",
    "        \n",
    "    return nodes\n",
    "\n",
    "nodes = create_nodes(llama_documents)"
   ]
  },
  {
   "cell_type": "markdown",
   "id": "1bf0e579",
   "metadata": {},
   "source": [
    "## Chroma"
   ]
  },
  {
   "cell_type": "code",
   "execution_count": 14,
   "id": "c8c6826f",
   "metadata": {},
   "outputs": [
    {
     "name": "stdout",
     "output_type": "stream",
     "text": [
      "Looking for the CLINICAL_RAG collection in the database...\n",
      "CLINICAL_RAG collection WAS FOUND in Chroma DB\n",
      "Restoring vector store index from the collection...\n",
      "record count: 7\n"
     ]
    }
   ],
   "source": [
    "# Chroma DB collection name\n",
    "COLLECTION_NAME = \"CLINICAL_RAG\"\n",
    "\n",
    "db = chromadb.PersistentClient(path=\"chroma_db\")\n",
    "print(f\"Looking for the {COLLECTION_NAME} collection in the database...\" )\n",
    "if COLLECTION_NAME not in [col.name for col in db.list_collections()]:\n",
    "    print(f\"{COLLECTION_NAME} collection WAS NOT FOUND in Chroma DB, creating...\")\n",
    "    chroma_collection = db.create_collection(COLLECTION_NAME)\n",
    "    print(\"Creating vector store...\")\n",
    "    vector_store = ChromaVectorStore(chroma_collection=chroma_collection)\n",
    "    storage_context = StorageContext.from_defaults(vector_store=vector_store)\n",
    "    Settings.embed_model = embed_model\n",
    "    Settings.llm = OpenAI()\n",
    "    print(\"Creating vector store index\")\n",
    "    VectorStoreIndex(\n",
    "        nodes=nodes,\n",
    "        storage_context=storage_context,\n",
    "        store_nodes_override=True\n",
    "    )\n",
    "    print(f\"record count: {chroma_collection.count()}\"     \n",
    "    )\n",
    "    \n",
    "else:\n",
    "    print(f\"{COLLECTION_NAME} collection WAS FOUND in Chroma DB\")\n",
    "    COLLECTION_NAME = db.get_collection(COLLECTION_NAME)\n",
    "    vector_store = ChromaVectorStore(chroma_collection=COLLECTION_NAME)\n",
    "    print(\"Restoring vector store index from the collection...\")\n",
    "    index = VectorStoreIndex.from_vector_store(\n",
    "        vector_store=vector_store,\n",
    "        embed_model=embed_model,\n",
    "        store_nodes_override=True\n",
    "    )\n",
    "\n",
    "    print(f\"record count: {COLLECTION_NAME.count()}\")"
   ]
  },
  {
   "cell_type": "markdown",
   "id": "0cce45d1",
   "metadata": {},
   "source": [
    "###  retrieve from Chroma DB and Query"
   ]
  },
  {
   "cell_type": "code",
   "execution_count": 15,
   "id": "e732d908",
   "metadata": {},
   "outputs": [],
   "source": [
    "index = VectorStoreIndex.from_vector_store(vector_store)  "
   ]
  },
  {
   "cell_type": "code",
   "execution_count": 16,
   "id": "a452db6b",
   "metadata": {},
   "outputs": [
    {
     "data": {
      "text/markdown": [
       "**`Final Response:`** The trial that studied liver disease is the one titled \"A Randomized Controlled Study of BAY43-9006 in Combination With Doxorubicin Versus Doxorubicin in Patients With Advanced Hepatocellular Carcinoma.\""
      ],
      "text/plain": [
       "<IPython.core.display.Markdown object>"
      ]
     },
     "metadata": {},
     "output_type": "display_data"
    }
   ],
   "source": [
    "query_engine = index.as_query_engine(similarity_top_k=3) # <== adjust\n",
    "\n",
    "query = \"\"\"Which trial studied liver disease?\"\"\"\n",
    "response = query_engine.query(query)\n",
    "display_response(response)\n"
   ]
  },
  {
   "cell_type": "code",
   "execution_count": 17,
   "id": "03d38d6f",
   "metadata": {},
   "outputs": [
    {
     "data": {
      "text/markdown": [
       "**`Final Response:`** NCT ID: NCT00108953"
      ],
      "text/plain": [
       "<IPython.core.display.Markdown object>"
      ]
     },
     "metadata": {},
     "output_type": "display_data"
    }
   ],
   "source": [
    "query = \"\"\"What was the NCT ID of tha trial which studied liver disease?\"\"\"\n",
    "response = query_engine.query(query)\n",
    "display_response(response)\n"
   ]
  },
  {
   "cell_type": "code",
   "execution_count": 18,
   "id": "9f52217d",
   "metadata": {},
   "outputs": [
    {
     "data": {
      "text/markdown": [
       "**`Final Response:`** The trial that studied anemia is the one titled \"A Prospective, Multicenter, Double-Blind, Randomized, Placebo-Controlled Study of Nitric Oxide for Inhalation in the Acute Treatment of Sickle Cell Pain Crisis\" with the ID NCT00094887."
      ],
      "text/plain": [
       "<IPython.core.display.Markdown object>"
      ]
     },
     "metadata": {},
     "output_type": "display_data"
    }
   ],
   "source": [
    "query_engine = index.as_query_engine(similarity_top_k=3)\n",
    "\n",
    "query = \"\"\"Which trial studied anemia? What is the ID?\"\"\"\n",
    "response = query_engine.query(query)\n",
    "display_response(response)"
   ]
  },
  {
   "cell_type": "code",
   "execution_count": 24,
   "id": "25be0f8a",
   "metadata": {},
   "outputs": [
    {
     "data": {
      "text/markdown": [
       "**`Final Response:`** I'm sorry, but I cannot provide the NCT ID and a detailed description of a trial that studied depression."
      ],
      "text/plain": [
       "<IPython.core.display.Markdown object>"
      ]
     },
     "metadata": {},
     "output_type": "display_data"
    }
   ],
   "source": [
    "query_engine = index.as_query_engine(similarity_top_k=3)\n",
    "\n",
    "# NOTE: first time cell was run ==> poor response\n",
    "#       second time cell was run ==> better response, sometimes — not consistent\n",
    "query = \"\"\"Provide the NCT ID and a detailed description of a trial that studied depression?\"\"\"\n",
    "\n",
    "response = query_engine.query(query)\n",
    "display_response(response)"
   ]
  },
  {
   "cell_type": "markdown",
   "id": "189e9f97",
   "metadata": {},
   "source": [
    "## Enhanced Prompts"
   ]
  },
  {
   "cell_type": "code",
   "execution_count": 20,
   "id": "4f905120",
   "metadata": {},
   "outputs": [],
   "source": [
    "PLS_prompt = \"\"\"Using everyday language to make the clinical results of a study meaningful and understandable to a lay person, rephrase this: \"\"\"\n",
    "expert_prompt = \"\"\"Emulate a PhD scientist and expert statistician to elaborate on the following: \"\"\""
   ]
  },
  {
   "cell_type": "code",
   "execution_count": 21,
   "id": "379608e7",
   "metadata": {},
   "outputs": [],
   "source": [
    "def get_response(query, prompt_1, prompt_2):\n",
    "    response = query_engine.query(query)\n",
    "    print(f\"Original response:\\n{response}\")\n",
    " \n",
    "    query_2 = prompt_1 + response.response\n",
    "    response_2 = query_engine.query(query_2)\n",
    "    print(f\"\\nPlain Language Summary:\\n{response_2}\")\n",
    "    \n",
    "    query_2 = prompt_2 + response.response\n",
    "    response_2 = query_engine.query(query_2)\n",
    "    print(f\"\\nExpert Analysis:\\n{response_2}\")\n"
   ]
  },
  {
   "cell_type": "code",
   "execution_count": 22,
   "id": "aae7d0ef",
   "metadata": {},
   "outputs": [
    {
     "name": "stdout",
     "output_type": "stream",
     "text": [
      "Original response:\n",
      "NCT ID: NCT00108953\n",
      "Summary: The trial focused on assessing the safety and efficacy of combining BAY43-9006 with doxorubicin versus using doxorubicin alone in patients with advanced hepatocellular carcinoma, aiming to evaluate Time to Progression (TTP), Overall Survival, Progression Free Survival (PFS), and other relevant outcomes in individuals with advanced liver cancer.\n",
      "\n",
      "Plain Language Summary:\n",
      "The trial examined the effectiveness of combining BAY43-9006 with doxorubicin compared to using doxorubicin alone in individuals with advanced liver cancer. The focus was on evaluating Time to Progression (TTP), Overall Survival, Progression Free Survival (PFS), and other key outcomes in patients with advanced hepatocellular carcinoma.\n",
      "\n",
      "Expert Analysis:\n",
      "The study with NCT ID NCT00108953 aimed to assess the safety and effectiveness of combining BAY43-9006 with doxorubicin versus using doxorubicin alone in patients with advanced hepatocellular carcinoma. The primary focus was on evaluating Time to Progression (TTP), Overall Survival, Progression Free Survival (PFS), and other relevant outcomes in individuals with advanced liver cancer. The trial enrolled 96 participants and employed a randomized allocation with a double masking approach involving both participants and investigators, providing valuable insights into the potential benefits of combination therapy for treating advanced hepatocellular carcinoma.\n"
     ]
    }
   ],
   "source": [
    "query_1 = \"Provide the NCT ID and a summary of a trial on the liver.\"\n",
    "get_response(query_1, PLS_prompt, expert_prompt)"
   ]
  },
  {
   "cell_type": "code",
   "execution_count": null,
   "id": "a296baee",
   "metadata": {},
   "outputs": [],
   "source": []
  }
 ],
 "metadata": {
  "kernelspec": {
   "display_name": "Python [conda env:cap_c] *",
   "language": "python",
   "name": "conda-env-cap_c-py"
  },
  "language_info": {
   "codemirror_mode": {
    "name": "ipython",
    "version": 3
   },
   "file_extension": ".py",
   "mimetype": "text/x-python",
   "name": "python",
   "nbconvert_exporter": "python",
   "pygments_lexer": "ipython3",
   "version": "3.11.7"
  },
  "toc": {
   "base_numbering": 1,
   "nav_menu": {},
   "number_sections": true,
   "sideBar": true,
   "skip_h1_title": false,
   "title_cell": "Table of Contents",
   "title_sidebar": "Contents",
   "toc_cell": false,
   "toc_position": {},
   "toc_section_display": true,
   "toc_window_display": false
  }
 },
 "nbformat": 4,
 "nbformat_minor": 5
}
