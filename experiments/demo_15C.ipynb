{
 "cells": [
  {
   "cell_type": "markdown",
   "id": "10f05e17",
   "metadata": {},
   "source": [
    "## Imports"
   ]
  },
  {
   "cell_type": "code",
   "execution_count": 1,
   "id": "a510213f",
   "metadata": {},
   "outputs": [],
   "source": [
    "from dotenv import load_dotenv\n",
    "import json\n",
    "import os\n",
    "import pandas as pd\n",
    "import pprint\n",
    "import requests as req\n",
    "import urllib.request\n",
    "\n",
    "import chromadb\n",
    "\n",
    "from llama_index.core import Document, Settings, StorageContext, VectorStoreIndex\n",
    "from llama_index.core.node_parser import SentenceSplitter\n",
    "from llama_index.core.response.notebook_utils import display_response\n",
    "from llama_index.core.schema import MetadataMode\n",
    "from llama_index.embeddings.nomic import NomicEmbedding\n",
    "from llama_index.embeddings.openai import OpenAIEmbedding\n",
    "from llama_index.llms.openai import OpenAI\n",
    "from llama_index.vector_stores.chroma import ChromaVectorStore\n",
    "\n",
    "import openai\n",
    "\n",
    "from utils_15C import extract_from_json"
   ]
  },
  {
   "cell_type": "code",
   "execution_count": 2,
   "id": "87579f3a",
   "metadata": {},
   "outputs": [
    {
     "name": "stdout",
     "output_type": "stream",
     "text": [
      "Python implementation: CPython\n",
      "Python version       : 3.11.7\n",
      "IPython version      : 8.20.0\n",
      "\n",
      "llama_index.core: 0.10.12\n",
      "\n"
     ]
    }
   ],
   "source": [
    "%reload_ext watermark\n",
    "%watermark -v -p llama_index.core\n",
    "# Python implementation: CPython\n",
    "# Python version       : 3.11.7\n",
    "# IPython version      : 8.20.0\n",
    "# llama_index.core: 0.10.12"
   ]
  },
  {
   "cell_type": "code",
   "execution_count": 3,
   "id": "2fe35c13",
   "metadata": {},
   "outputs": [
    {
     "name": "stdout",
     "output_type": "stream",
     "text": [
      "chromadb                                 0.4.23\n",
      "llama_cpp_python                         0.2.53\n",
      "llama-index-core                         0.10.12\n",
      "llama-index-embeddings-huggingface       0.1.4\n",
      "llama-index-embeddings-nomic             0.1.6\n",
      "llama-index-embeddings-openai            0.1.6\n",
      "llama-index-llms-huggingface             0.1.3\n",
      "llama-index-llms-llama-cpp               0.1.3\n",
      "llama-index-llms-openai                  0.1.6\n",
      "llama-index-vector-stores-chroma         0.0.1\n",
      "llamaindex-py-client                     0.1.13\n"
     ]
    }
   ],
   "source": [
    "# Versions:  chromadb and llama-index \n",
    "!pip list | grep chromadb\n",
    "!pip list | grep llama\n",
    "# chromadb                                 0.4.23\n",
    "# llama_cpp_python                         0.2.53\n",
    "# llama-index-core                         0.10.12\n",
    "# llama-index-embeddings-huggingface       0.1.4\n",
    "# llama-index-embeddings-nomic             0.1.6\n",
    "# llama-index-embeddings-openai            0.1.6\n",
    "# llama-index-llms-huggingface             0.1.3\n",
    "# llama-index-llms-llama-cpp               0.1.3\n",
    "# llama-index-llms-openai                  0.1.6\n",
    "# llama-index-vector-stores-chroma         0.0.1\n",
    "# llamaindex-py-client                     0.1.13"
   ]
  },
  {
   "cell_type": "markdown",
   "id": "c1b27c92",
   "metadata": {},
   "source": [
    "## Verify API tokens are available"
   ]
  },
  {
   "cell_type": "code",
   "execution_count": 4,
   "id": "c44ccd20",
   "metadata": {
    "ExecuteTime": {
     "end_time": "2024-02-22T15:27:26.245184400Z",
     "start_time": "2024-02-22T15:27:26.230187Z"
    }
   },
   "outputs": [],
   "source": [
    "load_dotenv() \n",
    "# nomic_api_key = os.getenv(\"NOMIC_API_KEY\")\n",
    "\n",
    "openai_api_key = os.getenv(\"OPENAI_API_KEY\")"
   ]
  },
  {
   "cell_type": "markdown",
   "id": "ae92d38b",
   "metadata": {},
   "source": [
    "## (Optional) Remove previous JSON files and Chroma DB before starting\n",
    "<span style=\"color: darkred; font-size: 18px;\">using macOS/Linux %%bash"
   ]
  },
  {
   "cell_type": "code",
   "execution_count": 5,
   "id": "f6cfd0db",
   "metadata": {},
   "outputs": [],
   "source": [
    "%%bash\n",
    "find ./ -type f -name \"*.json\" -delete"
   ]
  },
  {
   "cell_type": "code",
   "execution_count": 6,
   "id": "d09f62c0",
   "metadata": {},
   "outputs": [],
   "source": [
    "%%bash\n",
    "rm -rf chroma_db"
   ]
  },
  {
   "cell_type": "markdown",
   "id": "7e8f4eb4",
   "metadata": {},
   "source": [
    "## Fetch data corresponding to Pfizer PLS\n",
    "source:  https://www.pfizer.com/science/clinical-trials/plain-language-study-results-summaries/"
   ]
  },
  {
   "cell_type": "code",
   "execution_count": 7,
   "id": "3b83137c",
   "metadata": {},
   "outputs": [],
   "source": [
    "def get_trial(nct_id):\n",
    "    \"\"\"\n",
    "    Return: the JSON data for a clinical trial given its NCT ID.\n",
    "    \"\"\"\n",
    "    trial = req.get(f\"https://clinicaltrials.gov/api/v2/studies/{nct_id}\")\n",
    "    trial_json = trial.json()\n",
    "    return trial_json"
   ]
  },
  {
   "cell_type": "code",
   "execution_count": 8,
   "id": "caef252e",
   "metadata": {},
   "outputs": [],
   "source": [
    "def get_downloaded_json(list_of_nct_id):\n",
    "    \"\"\"\n",
    "    Downloads and saves JSON file(s) locally for reference.\n",
    "    \"\"\"\n",
    "    downloaded_json = []\n",
    "    for nct_id in list_of_nct_id:\n",
    "        trial = get_trial(nct_id)\n",
    "        downloaded_json.append(trial)\n",
    "        with open(f\"{nct_id}.json\", \"w\") as f:\n",
    "            json.dump(trial, f, indent=4)\n",
    "    return downloaded_json"
   ]
  },
  {
   "cell_type": "markdown",
   "id": "3e05ec90",
   "metadata": {},
   "source": [
    "### Nine trials to consider (has Pfizer PLS, phase 3, completed with results, 2 arms):"
   ]
  },
  {
   "cell_type": "code",
   "execution_count": 9,
   "id": "a7c3a08f",
   "metadata": {
    "ExecuteTime": {
     "end_time": "2024-02-22T15:27:27.632177500Z",
     "start_time": "2024-02-22T15:27:27.430175800Z"
    }
   },
   "outputs": [],
   "source": [
    "# \"NCT01720524\" A Study To Evaluate Safety And Efficacy Of IV Sildenafil In The Treatment Of Neonates With Persistent Pulmonary Hypertension Of The Newborn\n",
    "# \"NCT01942135\" Palbociclib (PD-0332991) Combined With Fulvestrant In Hormone Receptor+ HER2-Negative Metastatic Breast Cancer After Endocrine Failure (PALOMA-3)\n",
    "# \"NCT01945775\" A Study Evaluating Talazoparib (BMN 673), a PARP Inhibitor, in Advanced and/​or Metastatic Breast Cancer Patients With BRCA Mutation (EMBRACA Study) (EMBRACA)\n",
    "# \"NCT01964716\" 13vPnC Multidose Vial Safety, Tolerability and Immunogenicity Study in Healthy Infants.\n",
    "# \"NCT02130557\" A Multicenter Phase 3, Open-Label Study of Bosutinib Versus Imatinib in Adult Patients With Newly Diagnosed Chronic Phase Chronic Myelogenous Leukemia\n",
    "# \"NCT02187744\" A Study Of PF-05280014 Or Trastuzumab Plus Taxotere® And Carboplatin In HER2 Positive Breast Cancer In The Neoadjuvant Setting (REFLECTIONS B327-04)\n",
    "# \"NCT02367456\" A Combination Study of PF-04449913 (Glasdegib) and Azacitidine In Untreated MDS, AML and CMML Patients (BRIGHT 1012)\n",
    "# \"NCT02603432\" A Study Of Avelumab In Patients With Locally Advanced Or Metastatic Urothelial Cancer (JAVELIN Bladder 100)\n",
    "# \"NCT03090191\" Clostridium Difficile Vaccine Efficacy Trial (Clover)"
   ]
  },
  {
   "cell_type": "code",
   "execution_count": 10,
   "id": "41db59df",
   "metadata": {},
   "outputs": [],
   "source": [
    "# list of NCT IDs for the trials\n",
    "list_of_nct_id = [\n",
    "    \"NCT01720524\",\n",
    "    \"NCT01942135\",\n",
    "    \"NCT01945775\",\n",
    "    \"NCT01964716\",\n",
    "    \"NCT02130557\",\n",
    "    \"NCT02187744\",\n",
    "    \"NCT02367456\",\n",
    "    \"NCT02603432\",\n",
    "    \"NCT03090191\",\n",
    "]"
   ]
  },
  {
   "cell_type": "code",
   "execution_count": 11,
   "id": "4ea87d94",
   "metadata": {},
   "outputs": [],
   "source": [
    "# fetch the JSON data for the trials\n",
    "downloaded_json = get_downloaded_json(list_of_nct_id)\n",
    "# downloaded_json[0] # check\n",
    "# len(downloaded_json) # check"
   ]
  },
  {
   "cell_type": "markdown",
   "id": "8c098cf2",
   "metadata": {},
   "source": [
    "## For each trial, extract a  subset of the data, save to a list\n",
    "the **extract_from_json()** function is found in imported utils (this function is WIP and can be improved)"
   ]
  },
  {
   "cell_type": "code",
   "execution_count": 12,
   "id": "9e526ce2",
   "metadata": {},
   "outputs": [],
   "source": [
    "def list_from_extracted_json(downloaded_json): \n",
    "    \"\"\"\n",
    "    Processes and saves extracted JSON file(s) locally for review\n",
    "    Return: a list of documents.\n",
    "    \"\"\"\n",
    "    documents_list  = []\n",
    "    for json_file in downloaded_json:\n",
    "        extracted_json = extract_from_json(json_file)\n",
    "        nct_id = json_file['protocolSection']['identificationModule']['nctId']\n",
    "        save_path = f\"{nct_id}_extracted.json\"\n",
    "        with open(save_path, \"w\") as f:\n",
    "            json.dump(extracted_json, f, indent=4)\n",
    "        documents_list.append(extracted_json)\n",
    "    return documents_list"
   ]
  },
  {
   "cell_type": "code",
   "execution_count": 13,
   "id": "6e06d1b1",
   "metadata": {},
   "outputs": [
    {
     "data": {
      "text/plain": [
       "9"
      ]
     },
     "execution_count": 13,
     "metadata": {},
     "output_type": "execute_result"
    }
   ],
   "source": [
    "# create a list of documents from the extracted JSON data \n",
    "documents_list = list_from_extracted_json(downloaded_json)\n",
    "len(documents_list) # check"
   ]
  },
  {
   "cell_type": "markdown",
   "id": "3e02a575",
   "metadata": {},
   "source": [
    "### Metadata fields\n",
    "Note: JSON files clinicaltrials.gov are heterogenous and each may contain different number of fields."
   ]
  },
  {
   "cell_type": "code",
   "execution_count": 14,
   "id": "69a1403d",
   "metadata": {},
   "outputs": [],
   "source": [
    "def max_keys(documents_list):\n",
    "    \"\"\"\n",
    "    Identifies the document with the maximum number of keys in a list of dictionaries.\n",
    "    Return: a list of keys from the document with the maximum number of keys. \n",
    "    \"\"\"\n",
    "    max_index, _ = max(enumerate(documents_list), key=lambda x: len(x[1].keys()))\n",
    "    all_keys = list(documents_list[max_index].keys())\n",
    "    return all_keys"
   ]
  },
  {
   "cell_type": "code",
   "execution_count": 15,
   "id": "c06cfaa4",
   "metadata": {},
   "outputs": [
    {
     "data": {
      "text/plain": [
       "124"
      ]
     },
     "execution_count": 15,
     "metadata": {},
     "output_type": "execute_result"
    }
   ],
   "source": [
    "# get the keys from the document that has the most keys\n",
    "all_keys = max_keys(documents_list)\n",
    "len(all_keys) # check\n",
    "# all_keys # check"
   ]
  },
  {
   "cell_type": "markdown",
   "id": "51009150",
   "metadata": {},
   "source": [
    "#### Select metadata to index"
   ]
  },
  {
   "cell_type": "code",
   "execution_count": 16,
   "id": "6bdaf308",
   "metadata": {},
   "outputs": [],
   "source": [
    "def adjust_metadata_keys(all_keys, keys_to_include):\n",
    "    \"\"\"\n",
    "    To adjust the metadata keys used.\n",
    "    Return: keys to exclude from list of all_keys not in list of keys_to_include.\n",
    "    \"\"\"\n",
    "    keys_to_exclude = [key for key in all_keys if key not in keys_to_include]\n",
    "    return keys_to_exclude"
   ]
  },
  {
   "cell_type": "code",
   "execution_count": 17,
   "id": "8db6943e",
   "metadata": {},
   "outputs": [
    {
     "data": {
      "text/plain": [
       "119"
      ]
     },
     "execution_count": 17,
     "metadata": {},
     "output_type": "execute_result"
    }
   ],
   "source": [
    "# WIP — need to explore the how these affect RAG Retrieval \n",
    "llm_keys_to_incude = [\n",
    "    \"Brief title\",\n",
    "    \"National Clinical Identification NCT ID\",\n",
    "    \"Lead sponsor\",\n",
    "    \"Arms group 0 intervention names\",\n",
    "    \"Enrollment count\",\n",
    "    \"\"\n",
    "]\n",
    "\n",
    "# to exclude the keys not used by LLM\n",
    "llm_keys_to_exclude = adjust_metadata_keys(all_keys, llm_keys_to_incude)\n",
    "len(llm_keys_to_exclude) # check"
   ]
  },
  {
   "cell_type": "code",
   "execution_count": 18,
   "id": "1b43a67d",
   "metadata": {},
   "outputs": [
    {
     "data": {
      "text/plain": [
       "119"
      ]
     },
     "execution_count": 18,
     "metadata": {},
     "output_type": "execute_result"
    }
   ],
   "source": [
    "# WIP — need to explore the how these affect RAG Retrieval \n",
    "# for simplicity, this is the same as llm_keys_to_exclude (in this example)\n",
    "embedding_keys_to_incude = [\n",
    "    \"Brief title\",\n",
    "    \"National Clinical Identification NCT ID\",\n",
    "    \"Lead sponsor\",\n",
    "    \"Arms group 0 intervention names\",\n",
    "    \"Enrollment count\",\n",
    "    \"\"\n",
    "]\n",
    "\n",
    "# to exclude the keys not used by embedding\n",
    "embedding_keys_to_exclude = adjust_metadata_keys(all_keys, llm_keys_to_incude)\n",
    "len(embedding_keys_to_exclude) # check"
   ]
  },
  {
   "cell_type": "markdown",
   "id": "78a5d6ba",
   "metadata": {},
   "source": [
    "## Llama index"
   ]
  },
  {
   "cell_type": "markdown",
   "id": "35fc22cd",
   "metadata": {},
   "source": [
    "### embedding type"
   ]
  },
  {
   "cell_type": "code",
   "execution_count": 19,
   "id": "fb9ce292",
   "metadata": {},
   "outputs": [],
   "source": [
    "# using this as baseline standard\n",
    "embed_model = OpenAIEmbedding(model=\"text-embedding-ada-002\")\n",
    "\n",
    "# Possible alternative (TBD)\n",
    "# embed_model = NomicEmbedding(\n",
    "#     api_key=nomic_api_key,\n",
    "#     dimensionality=128,\n",
    "#     model_name=\"nomic-embed-text-v1.5\",\n",
    "# )\n",
    "# embedding = embed_model.get_text_embedding(\"Nomic Embeddings\")"
   ]
  },
  {
   "cell_type": "markdown",
   "id": "c46ae093",
   "metadata": {},
   "source": [
    "### model type"
   ]
  },
  {
   "cell_type": "code",
   "execution_count": 20,
   "id": "50892a9e",
   "metadata": {},
   "outputs": [],
   "source": [
    "# using this as baseline standard\n",
    "llm = OpenAI(temperature=0.001, model=\"gpt-3.5-turbo\", max_tokens=512)"
   ]
  },
  {
   "cell_type": "markdown",
   "id": "3b498df7",
   "metadata": {},
   "source": [
    "### global settings"
   ]
  },
  {
   "cell_type": "code",
   "execution_count": 21,
   "id": "7000306d",
   "metadata": {},
   "outputs": [],
   "source": [
    "Settings.llm = llm\n",
    "Settings.embed_model = embed_model"
   ]
  },
  {
   "cell_type": "markdown",
   "id": "145c0507",
   "metadata": {},
   "source": [
    "### add metadata"
   ]
  },
  {
   "cell_type": "code",
   "execution_count": 22,
   "id": "511943a0",
   "metadata": {},
   "outputs": [],
   "source": [
    "# NOTE:  metata data must be one of (str, int, float, None)\n",
    "def create_llama_docs(documents_list):\n",
    "    \"\"\"\n",
    "    Converts a list of trial documents into LlamaIndex Document objects.\n",
    "    \"\"\"\n",
    "    llama_documents = []  \n",
    "    for trial in documents_list:\n",
    "        keys = [\n",
    "            \"National Clinical Identification NCT ID\",\n",
    "            \"Organization\",\n",
    "            \"Official title\",\n",
    "            \"Brief summary\",\n",
    "            \"Detailed description\",\n",
    "            \"Condition\",\n",
    "            \"Arms group 0 intervention name\",\n",
    "            \"Arms group 1 intervention name\",\n",
    "            \"Primary outcome\",\n",
    "        ]\n",
    "        content_text = \" \".join(trial[key].strip('\"') for key in keys)\n",
    "\n",
    "        llama_document = Document(\n",
    "            text=content_text, \n",
    "            metadata=trial,\n",
    "            excluded_llm_metadata_keys=llm_keys_to_exclude, #<== adjust?, TBD\n",
    "            excluded_embed_metadata_keys=embedding_keys_to_exclude , #<== adjust?, TBD\n",
    "            metadata_template=\"{key}=>{value}\",\n",
    "            text_template=\"Metadata:\\n{metadata_str}\\n===========================\\nContent: \\n{content}\"\n",
    "        )\n",
    "        llama_documents.append(llama_document)  \n",
    "    return llama_documents"
   ]
  },
  {
   "cell_type": "code",
   "execution_count": 23,
   "id": "9024a007",
   "metadata": {},
   "outputs": [],
   "source": [
    "# Create LlamaIndex Document objects\n",
    "llama_documents = create_llama_docs(documents_list)\n",
    "# len(llama_documents) # check"
   ]
  },
  {
   "cell_type": "code",
   "execution_count": 24,
   "id": "adf15760",
   "metadata": {},
   "outputs": [
    {
     "name": "stdout",
     "output_type": "stream",
     "text": [
      "Metadata:\n",
      "National Clinical Identification NCT ID=>NCT01720524\n",
      "Brief title=>A Study To Evaluate Safety And Efficacy Of IV Sildenafil In The Treatment Of Neonates With Persistent Pulmonary Hypertension Of The Newborn\n",
      "Lead sponsor=>Pfizer's Upjohn has merged with Mylan to form Viatris Inc.\n",
      "Enrollment count=>59\n",
      "Arms group 0 intervention names=>['Drug: placebo']\n",
      "===========================\n",
      "Content: \n",
      "NCT01720524 Pfizer A MULTI-CENTRE, RANDOMIZED, PLACEBO-CONTROLLED, DOUBLE-BLIND, TWO-ARMED, PARALLEL GROUP STUDY TO EVALUATE EFFICACY AND SAFETY OF IV SILDENAFIL IN THE TREATMENT OF NEONATES WITH PERSISTENT PULMONARY HYPERTENSION OF THE NEWBORN (PPHN) OR HYPOXIC RESPIRATORY FAILURE AND AT RISK FOR PPHN, WITH A LONG TERM FOLLOW-UP INVESTIGATION OF DEVELOPMENTAL PROGRESS 12 AND 24 MONTHS AFTER COMPLETION OF STUDY TREATMENT This study will evaluate whether IV sildenafil can reduce the time on inhaled nitric oxide treatment and reduce the failure rate of available treatments for persistent pulmonary hypertension of the newborn.  ['Pulmonary Hypertension, Familial Persistent, of the Newborn'] placebo iv sildenafil Time on Inhaled Nitric Oxide (iNO) Treatment After Initiation of Intravenous (IV) Study Drug For Participants Without Treatment Failure\n"
     ]
    }
   ],
   "source": [
    "# Example — LLM sees this:\n",
    "print(llama_documents[0].get_content(metadata_mode=MetadataMode.LLM))"
   ]
  },
  {
   "cell_type": "code",
   "execution_count": 25,
   "id": "ab6baf3c",
   "metadata": {},
   "outputs": [
    {
     "name": "stdout",
     "output_type": "stream",
     "text": [
      "Metadata:\n",
      "National Clinical Identification NCT ID=>NCT01720524\n",
      "Brief title=>A Study To Evaluate Safety And Efficacy Of IV Sildenafil In The Treatment Of Neonates With Persistent Pulmonary Hypertension Of The Newborn\n",
      "Lead sponsor=>Pfizer's Upjohn has merged with Mylan to form Viatris Inc.\n",
      "Enrollment count=>59\n",
      "Arms group 0 intervention names=>['Drug: placebo']\n",
      "===========================\n",
      "Content: \n",
      "NCT01720524 Pfizer A MULTI-CENTRE, RANDOMIZED, PLACEBO-CONTROLLED, DOUBLE-BLIND, TWO-ARMED, PARALLEL GROUP STUDY TO EVALUATE EFFICACY AND SAFETY OF IV SILDENAFIL IN THE TREATMENT OF NEONATES WITH PERSISTENT PULMONARY HYPERTENSION OF THE NEWBORN (PPHN) OR HYPOXIC RESPIRATORY FAILURE AND AT RISK FOR PPHN, WITH A LONG TERM FOLLOW-UP INVESTIGATION OF DEVELOPMENTAL PROGRESS 12 AND 24 MONTHS AFTER COMPLETION OF STUDY TREATMENT This study will evaluate whether IV sildenafil can reduce the time on inhaled nitric oxide treatment and reduce the failure rate of available treatments for persistent pulmonary hypertension of the newborn.  ['Pulmonary Hypertension, Familial Persistent, of the Newborn'] placebo iv sildenafil Time on Inhaled Nitric Oxide (iNO) Treatment After Initiation of Intravenous (IV) Study Drug For Participants Without Treatment Failure\n"
     ]
    }
   ],
   "source": [
    "# Example — Embedding sees this:\n",
    "print(llama_documents[0].get_content(metadata_mode=MetadataMode.EMBED))"
   ]
  },
  {
   "cell_type": "markdown",
   "id": "b6c5ad18",
   "metadata": {},
   "source": [
    "## Create LlamaIndex RAG Nodes"
   ]
  },
  {
   "cell_type": "code",
   "execution_count": 26,
   "id": "13c22a1a",
   "metadata": {},
   "outputs": [],
   "source": [
    "def create_nodes(llama_documents):\n",
    "    \"\"\"\n",
    "    Generates and embeds nodes from Llama documents.\n",
    "    \"\"\"\n",
    "    parser = SentenceSplitter(chunk_size=1024,chunk_overlap=100) # <== adjust\n",
    "    nodes = parser.get_nodes_from_documents(llama_documents)\n",
    "    for node in nodes:\n",
    "        node_embedding = embed_model.get_text_embedding(\n",
    "            node.get_content(metadata_mode=MetadataMode.EMBED)\n",
    "        )\n",
    "        node.embedding = node_embedding\n",
    "    return nodes"
   ]
  },
  {
   "cell_type": "code",
   "execution_count": 27,
   "id": "ea3a7934",
   "metadata": {},
   "outputs": [],
   "source": [
    "# create nodes from Llama documents\n",
    "nodes = create_nodes(llama_documents)"
   ]
  },
  {
   "cell_type": "markdown",
   "id": "1bf0e579",
   "metadata": {},
   "source": [
    "## Chroma"
   ]
  },
  {
   "cell_type": "code",
   "execution_count": 28,
   "id": "c8c6826f",
   "metadata": {},
   "outputs": [
    {
     "name": "stdout",
     "output_type": "stream",
     "text": [
      "Looking for the CLINICAL_RAG collection in the database...\n",
      "CLINICAL_RAG collection WAS NOT FOUND in Chroma DB, creating...\n",
      "Creating vector store...\n",
      "Creating vector store index\n",
      "record count: 9\n"
     ]
    }
   ],
   "source": [
    "# Chroma DB collection name\n",
    "COLLECTION_NAME = \"CLINICAL_RAG\"\n",
    "\n",
    "db = chromadb.PersistentClient(path=\"chroma_db\")\n",
    "print(f\"Looking for the {COLLECTION_NAME} collection in the database...\" )\n",
    "if COLLECTION_NAME not in [col.name for col in db.list_collections()]:\n",
    "    print(f\"{COLLECTION_NAME} collection WAS NOT FOUND in Chroma DB, creating...\")\n",
    "    chroma_collection = db.create_collection(COLLECTION_NAME)\n",
    "    print(\"Creating vector store...\")\n",
    "    vector_store = ChromaVectorStore(chroma_collection=chroma_collection)\n",
    "    storage_context = StorageContext.from_defaults(vector_store=vector_store)\n",
    "    print(\"Creating vector store index\")\n",
    "    VectorStoreIndex(\n",
    "        nodes=nodes,\n",
    "        storage_context=storage_context,\n",
    "        store_nodes_override=True\n",
    "    )\n",
    "    record_count = chroma_collection.count()\n",
    "    print(f\"record count: {record_count}\")   \n",
    "    \n",
    "else:\n",
    "    print(f\"{COLLECTION_NAME} collection WAS FOUND in Chroma DB\")\n",
    "    COLLECTION_NAME = db.get_collection(COLLECTION_NAME)\n",
    "    vector_store = ChromaVectorStore(chroma_collection=COLLECTION_NAME)\n",
    "    print(\"Restoring vector store index from the collection...\")\n",
    "    index = VectorStoreIndex.from_vector_store(\n",
    "        vector_store=vector_store,\n",
    "        embed_model=embed_model,\n",
    "        store_nodes_override=True\n",
    "    )\n",
    "    record_count = COLLECTION_NAME.count()\n",
    "    print(f\"record count: {record_count}\")"
   ]
  },
  {
   "cell_type": "markdown",
   "id": "0cce45d1",
   "metadata": {},
   "source": [
    "###  retrieve from Chroma DB and Query"
   ]
  },
  {
   "cell_type": "code",
   "execution_count": 29,
   "id": "e732d908",
   "metadata": {},
   "outputs": [],
   "source": [
    "index = VectorStoreIndex.from_vector_store(vector_store)  "
   ]
  },
  {
   "cell_type": "markdown",
   "id": "f89dad8d",
   "metadata": {},
   "source": [
    "#### Q1"
   ]
  },
  {
   "cell_type": "code",
   "execution_count": 30,
   "id": "a452db6b",
   "metadata": {},
   "outputs": [
    {
     "data": {
      "text/markdown": [
       "**`Final Response:`** NCT01720524, NCT01942135, NCT01945775, NCT01964716, NCT02130557, NCT02187744, NCT02367456, NCT02603432, NCT03090191. There are 9 different NCT IDs in total."
      ],
      "text/plain": [
       "<IPython.core.display.Markdown object>"
      ]
     },
     "metadata": {},
     "output_type": "display_data"
    }
   ],
   "source": [
    "query_engine = index.as_query_engine(similarity_top_k=record_count) # <== set k=total number of records\n",
    "\n",
    "query = \"List the different NCT ID in ascending order. How many is that?\"\n",
    "response = query_engine.query(query)\n",
    "display_response(response)\n"
   ]
  },
  {
   "cell_type": "code",
   "execution_count": 31,
   "id": "ec9b93c5",
   "metadata": {},
   "outputs": [],
   "source": [
    "# True answer\n",
    "list_of_nct_id = [\n",
    "    \"NCT01720524\",\n",
    "    \"NCT01942135\",\n",
    "    \"NCT01945775\",\n",
    "    \"NCT01964716\",\n",
    "    \"NCT02130557\",\n",
    "    \"NCT02187744\",\n",
    "    \"NCT02367456\",\n",
    "    \"NCT02603432\",\n",
    "    \"NCT03090191\",\n",
    "]\n",
    "# response: High Precision - all correct, High Recall - all retrieved"
   ]
  },
  {
   "cell_type": "markdown",
   "id": "dcb55a2c",
   "metadata": {},
   "source": [
    "#### Q2"
   ]
  },
  {
   "cell_type": "code",
   "execution_count": 32,
   "id": "03d38d6f",
   "metadata": {},
   "outputs": [
    {
     "data": {
      "text/markdown": [
       "**`Final Response:`** There are two NCT IDs related to Leukemia. They are NCT02130557 and NCT02367456."
      ],
      "text/plain": [
       "<IPython.core.display.Markdown object>"
      ]
     },
     "metadata": {},
     "output_type": "display_data"
    }
   ],
   "source": [
    "query_engine = index.as_query_engine(similarity_top_k=3) \n",
    "query = \"How many NCT ID related to Leukemia? Which are they?\"\n",
    "response = query_engine.query(query)\n",
    "display_response(response)\n"
   ]
  },
  {
   "cell_type": "code",
   "execution_count": 33,
   "id": "d2e8f421",
   "metadata": {},
   "outputs": [],
   "source": [
    "# True answer\n",
    "# \"NCT02130557\",  \"NCT02367456\",\n",
    "# response: correct"
   ]
  },
  {
   "cell_type": "markdown",
   "id": "000a74a0",
   "metadata": {},
   "source": [
    "### Focus on one study"
   ]
  },
  {
   "cell_type": "markdown",
   "id": "41f4fb82",
   "metadata": {},
   "source": [
    "#### Q3"
   ]
  },
  {
   "cell_type": "code",
   "execution_count": 34,
   "id": "9f52217d",
   "metadata": {},
   "outputs": [
    {
     "data": {
      "text/markdown": [
       "**`Final Response:`** The lead sponsor of NCT02130557 was Pfizer."
      ],
      "text/plain": [
       "<IPython.core.display.Markdown object>"
      ]
     },
     "metadata": {},
     "output_type": "display_data"
    }
   ],
   "source": [
    "query_engine = index.as_query_engine(similarity_top_k=3)\n",
    "\n",
    "query = \"Who was the lead sponsor of NCT02130557?\"\n",
    "response = query_engine.query(query)\n",
    "display_response(response)"
   ]
  },
  {
   "cell_type": "code",
   "execution_count": 35,
   "id": "543a03e4",
   "metadata": {},
   "outputs": [],
   "source": [
    "# Correct, but too easy, right?"
   ]
  },
  {
   "cell_type": "markdown",
   "id": "b854af06",
   "metadata": {},
   "source": [
    "#### Q4"
   ]
  },
  {
   "cell_type": "code",
   "execution_count": 36,
   "id": "9d965db2",
   "metadata": {},
   "outputs": [
    {
     "data": {
      "text/markdown": [
       "**`Final Response:`** Bosutinib"
      ],
      "text/plain": [
       "<IPython.core.display.Markdown object>"
      ]
     },
     "metadata": {},
     "output_type": "display_data"
    }
   ],
   "source": [
    "query_engine = index.as_query_engine(similarity_top_k=6) # <==note k\n",
    "\n",
    "query = \"What intervention was studied in NCT02130557?\"\n",
    "response = query_engine.query(query)\n",
    "display_response(response)"
   ]
  },
  {
   "cell_type": "code",
   "execution_count": 37,
   "id": "fc6f6aa9",
   "metadata": {},
   "outputs": [],
   "source": [
    "# True answer: Bosutinib\n",
    "# response:  correct\n",
    "# in a previous iteration, wrong answers with these embeddings:</span><br>\n",
    "# (\"text-embedding-3-small\", dimensions=256)<br>\n",
    "# (\"Nomic Embeddings\")"
   ]
  },
  {
   "cell_type": "markdown",
   "id": "98f269b1",
   "metadata": {},
   "source": [
    "#### Q5"
   ]
  },
  {
   "cell_type": "code",
   "execution_count": 38,
   "id": "49e412dd",
   "metadata": {},
   "outputs": [
    {
     "data": {
      "text/markdown": [
       "**`Final Response:`** 536"
      ],
      "text/plain": [
       "<IPython.core.display.Markdown object>"
      ]
     },
     "metadata": {},
     "output_type": "display_data"
    }
   ],
   "source": [
    "query_engine = index.as_query_engine(similarity_top_k=7) # <==note k\n",
    "\n",
    "query = \"What was the enrollment count for NCT02130557?\"\n",
    "response = query_engine.query(query)\n",
    "display_response(response)"
   ]
  },
  {
   "cell_type": "code",
   "execution_count": 39,
   "id": "850f26bc",
   "metadata": {},
   "outputs": [],
   "source": [
    "# True answer: 536\n",
    "# response:  correct"
   ]
  },
  {
   "cell_type": "markdown",
   "id": "189e9f97",
   "metadata": {},
   "source": [
    "## Enhanced Prompts"
   ]
  },
  {
   "cell_type": "code",
   "execution_count": 40,
   "id": "4f905120",
   "metadata": {},
   "outputs": [],
   "source": [
    "PLS_prompt = \"Using everyday language to make the clinical results of a study meaningful and understandable to a lay person, rephrase this: \"\n",
    "expert_prompt = \"Emulate a PhD scientist and expert statistician to elaborate on the following: \""
   ]
  },
  {
   "cell_type": "code",
   "execution_count": 41,
   "id": "a296baee",
   "metadata": {},
   "outputs": [],
   "source": [
    "def get_response(query, prompt_1, prompt_2):\n",
    "    \"\"\"\n",
    "    Queries an index and prints responses to two prompts.\n",
    "    \"\"\"\n",
    "    query_engine = index.as_query_engine(similarity_top_k=7) # <==note k\n",
    "\n",
    "    response = query_engine.query(query)\n",
    "    print(f\"Original response:\\n{response}\")\n",
    " \n",
    "    query_2 = prompt_1 + response.response\n",
    "    response_2 = query_engine.query(query_2)\n",
    "    print(f\"\\nPlain Language Summary:\\n{response_2}\")\n",
    "    \n",
    "    query_2 = prompt_2 + response.response\n",
    "    response_2 = query_engine.query(query_2)\n",
    "    print(f\"\\nExpert Analysis:\\n{response_2}\")"
   ]
  },
  {
   "cell_type": "code",
   "execution_count": 42,
   "id": "7bcad147",
   "metadata": {},
   "outputs": [
    {
     "name": "stdout",
     "output_type": "stream",
     "text": [
      "Original response:\n",
      "The purpose of study NCT02130557 was to compare the efficacy of Bosutinib versus Imatinib in adult patients with newly diagnosed Chronic Phase Chronic Myelogenous Leukemia.\n",
      "\n",
      "Plain Language Summary:\n",
      "The study NCT02130557 aimed to see if Bosutinib works better than Imatinib in adults who were recently diagnosed with Chronic Phase Chronic Myelogenous Leukemia.\n",
      "\n",
      "Expert Analysis:\n",
      "The study NCT02130557 aimed to assess the effectiveness of Bosutinib compared to Imatinib in adult patients diagnosed with newly diagnosed Chronic Phase Chronic Myelogenous Leukemia. The primary focus was to investigate the impact of these two treatments on the percentage of participants achieving Major Molecular Response (MMR) at Month 12. The study design involved a Phase 3, open-label trial where patients were randomized to receive either Bosutinib or Imatinib for the duration of the study. The study's primary outcome group descriptions emphasized the importance of achieving a total sample size of 500 Ph+ participants to ensure statistical power in detecting a significant difference in MMR rates between the two treatment arms. Additionally, the study incorporated interim futility analyses to assess the efficacy of the treatments at different stages of patient enrollment. Overall, the study was structured to provide valuable insights into the comparative efficacy of Bosutinib and Imatinib in the treatment of Chronic Phase Chronic Myelogenous Leukemia.\n"
     ]
    }
   ],
   "source": [
    "query = \"What was the purpose of study NCT02130557?\"\n",
    "get_response(query, PLS_prompt, expert_prompt)"
   ]
  },
  {
   "cell_type": "markdown",
   "id": "01642d58",
   "metadata": {},
   "source": [
    "## add record(s)\n",
    "no error thrown if records are dupes"
   ]
  },
  {
   "cell_type": "code",
   "execution_count": 43,
   "id": "17f80839",
   "metadata": {},
   "outputs": [
    {
     "name": "stdout",
     "output_type": "stream",
     "text": [
      "record_count as is: 9\n"
     ]
    }
   ],
   "source": [
    "print(f\"record_count as is: {record_count}\")"
   ]
  },
  {
   "cell_type": "code",
   "execution_count": 44,
   "id": "be5828ab",
   "metadata": {},
   "outputs": [],
   "source": [
    "# new unrelateds trial\n",
    "list_of_nct_id = [\n",
    "    \"NCT00094887\", # Anemia, Sickle Cell\n",
    "    \"NCT00108953\", # Carcinoma, Hepatocellular\n",
    "]\n",
    "\n",
    "downloaded_json = get_downloaded_json(list_of_nct_id)\n",
    "documents_list = list_from_extracted_json(downloaded_json)"
   ]
  },
  {
   "cell_type": "code",
   "execution_count": 45,
   "id": "4d37991a",
   "metadata": {},
   "outputs": [],
   "source": [
    "# using previous functions \n",
    "llama_documents = create_llama_docs(documents_list)\n",
    "nodes = create_nodes(llama_documents)\n",
    "index.insert_nodes(nodes)"
   ]
  },
  {
   "cell_type": "code",
   "execution_count": 46,
   "id": "9ecaf53b",
   "metadata": {},
   "outputs": [
    {
     "name": "stdout",
     "output_type": "stream",
     "text": [
      "new DB record count: 11\n",
      "11\n"
     ]
    }
   ],
   "source": [
    "try:\n",
    "    print(f\"new DB record count: {chroma_collection.count()}\")\n",
    "    record_count = chroma_collection.count()\n",
    "    print(record_count)\n",
    "except:\n",
    "    print(f\"established DB record count: {COLLECTION_NAME.count()}\")\n",
    "    record_count = COLLECTION_NAME.count()\n",
    "    print(record_count)"
   ]
  },
  {
   "cell_type": "code",
   "execution_count": 47,
   "id": "a836f7b9",
   "metadata": {},
   "outputs": [
    {
     "data": {
      "text/markdown": [
       "**`Final Response:`** NCT00094887, NCT01942135, NCT01945775. There are 3 different NCT IDs in total."
      ],
      "text/plain": [
       "<IPython.core.display.Markdown object>"
      ]
     },
     "metadata": {},
     "output_type": "display_data"
    }
   ],
   "source": [
    "query_engine = index.as_query_engine(similarity_top_k=11) # <== set k=total number of records\n",
    "\n",
    "query = \"List the different NCT ID in ascending order. How many is that?\"\n",
    "response = query_engine.query(query)\n",
    "display_response(response)\n"
   ]
  },
  {
   "cell_type": "markdown",
   "id": "f2b21ae8",
   "metadata": {},
   "source": [
    "## Testing RAG vs ChatGPT (GPT-4) and Google Gemini"
   ]
  },
  {
   "cell_type": "code",
   "execution_count": 49,
   "id": "308a8820",
   "metadata": {},
   "outputs": [
    {
     "data": {
      "text/markdown": [
       "**`Final Response:`** Urothelial Cancer"
      ],
      "text/plain": [
       "<IPython.core.display.Markdown object>"
      ]
     },
     "metadata": {},
     "output_type": "display_data"
    }
   ],
   "source": [
    "query_engine = index.as_query_engine(similarity_top_k=4) #<== sensitive, adjusted to get the right answer\n",
    "\n",
    "query = \"What disease was studied in trial NCT02603432?\"\n",
    "response = query_engine.query(query)\n",
    "display_response(response)"
   ]
  },
  {
   "cell_type": "code",
   "execution_count": 50,
   "id": "b63bb172",
   "metadata": {},
   "outputs": [],
   "source": [
    "# True answer: locally advanced or metastatic urothelial cancer \n",
    "# response:  correct"
   ]
  },
  {
   "cell_type": "markdown",
   "id": "a7ef3a54",
   "metadata": {},
   "source": [
    "ChatGPT (wrong)<br>\n",
    "As of my last update in April 2023, the clinical trial with the identifier NCT02603432 was focused on Duchenne Muscular Dystrophy (DMD). This trial, titled \"A Phase 3 Study to Evaluate the Efficacy and Safety of Eteplirsen in Duchenne Muscular Dystrophy,\" was designed to assess the efficacy and safety of eteplirsen in treating patients with DMD. Eteplirsen aims to increase dystrophin production by skipping exon 51 of the dystrophin gene, which can potentially provide a therapeutic benefit to DMD patients with a confirmed mutation amenable to exon 51 skipping. Duchenne Muscular Dystrophy is a severe type of muscular dystrophy that affects boys, leading to muscle degeneration and weakness."
   ]
  },
  {
   "cell_type": "markdown",
   "id": "3343762c",
   "metadata": {},
   "source": [
    "Gemini (correct and excellent)<br>\n",
    "The disease studied in trial NCT02603432 was urothelial carcinoma, which is a type of cancer that forms in the lining of the urinary tract. The urinary tract is the system that removes waste from the body. It includes the kidneys, ureters, bladder, and urethra. "
   ]
  },
  {
   "cell_type": "code",
   "execution_count": null,
   "id": "68c684fe",
   "metadata": {},
   "outputs": [],
   "source": []
  },
  {
   "cell_type": "code",
   "execution_count": null,
   "id": "8eb34f02",
   "metadata": {},
   "outputs": [],
   "source": [
    "STOP HERE"
   ]
  },
  {
   "cell_type": "markdown",
   "id": "72a589fb",
   "metadata": {},
   "source": [
    "## Using CallbackManager & LlamaDebugHandler"
   ]
  },
  {
   "cell_type": "code",
   "execution_count": null,
   "id": "eee22690",
   "metadata": {},
   "outputs": [],
   "source": [
    "from llama_index.core.callbacks import CallbackManager, LlamaDebugHandler\n",
    "\n",
    "# initiaalize debug handler and save to Settings\n",
    "llm_debug = LlamaDebugHandler()\n",
    "callback_manager = CallbackManager([llm_debug])\n",
    "Settings.callback_manager = callback_manager"
   ]
  },
  {
   "cell_type": "code",
   "execution_count": null,
   "id": "3888db9b",
   "metadata": {},
   "outputs": [],
   "source": [
    "# helper function\n",
    "def print_in_out(in_out):\n",
    "\tprint(in_out[0][0].payload['messages'][0])\n",
    "\tprint(\"\\n\\n\")\n",
    "\tprint(in_out[0][0].payload['messages'][1])\n",
    "\n",
    "# whenever query_engine.query() is called\n",
    "query_engine = index.as_query_engine()\n",
    "query = \"How many NCT ID related to Leukemia? Which are they?\"\n",
    "response = query_engine.query(query)\n",
    "print(response)\n",
    "\n",
    "# print LLM debug info \n",
    "in_out = llm_debug.get_llm_inputs_outputs()\n",
    "print_in_out(in_out)"
   ]
  },
  {
   "cell_type": "code",
   "execution_count": null,
   "id": "8897dc71",
   "metadata": {},
   "outputs": [],
   "source": []
  }
 ],
 "metadata": {
  "kernelspec": {
   "display_name": "Python [conda env:cap_h] *",
   "language": "python",
   "name": "conda-env-cap_h-py"
  },
  "language_info": {
   "codemirror_mode": {
    "name": "ipython",
    "version": 3
   },
   "file_extension": ".py",
   "mimetype": "text/x-python",
   "name": "python",
   "nbconvert_exporter": "python",
   "pygments_lexer": "ipython3",
   "version": "3.11.7"
  },
  "toc": {
   "base_numbering": 1,
   "nav_menu": {},
   "number_sections": true,
   "sideBar": true,
   "skip_h1_title": false,
   "title_cell": "Table of Contents",
   "title_sidebar": "Contents",
   "toc_cell": false,
   "toc_position": {},
   "toc_section_display": true,
   "toc_window_display": false
  }
 },
 "nbformat": 4,
 "nbformat_minor": 5
}
